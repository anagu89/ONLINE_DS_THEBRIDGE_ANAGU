{
 "cells": [
  {
   "cell_type": "code",
   "execution_count": null,
   "id": "33a3c6c5",
   "metadata": {},
   "outputs": [
    {
     "name": "stdout",
     "output_type": "stream",
     "text": [
      "Comienzo\n",
      "Después de 2 segundos\n",
      "Después de medio segundo\n"
     ]
    }
   ],
   "source": [
    "import time\n",
    "\n",
    "print(\"Comienzo\")\n",
    "\n",
    "time.sleep(0.8)  # Espera 2 segundos\n",
    "print(\"Después de 2 segundos\")\n",
    "\n",
    "time.sleep(0.8) # Espera medio segundo\n",
    "print(\"Después de medio segundo\")"
   ]
  }
 ],
 "metadata": {
  "kernelspec": {
   "display_name": "Python 3",
   "language": "python",
   "name": "python3"
  },
  "language_info": {
   "codemirror_mode": {
    "name": "ipython",
    "version": 3
   },
   "file_extension": ".py",
   "mimetype": "text/x-python",
   "name": "python",
   "nbconvert_exporter": "python",
   "pygments_lexer": "ipython3",
   "version": "3.13.3"
  }
 },
 "nbformat": 4,
 "nbformat_minor": 5
}

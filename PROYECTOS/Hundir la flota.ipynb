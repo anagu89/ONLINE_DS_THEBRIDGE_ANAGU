{
 "cells": [
  {
   "cell_type": "code",
   "execution_count": 50,
   "id": "e91ac9c2",
   "metadata": {},
   "outputs": [
    {
     "name": "stdout",
     "output_type": "stream",
     "text": [
      "======================================================================================================\n",
      "||                                                                                                  ||\n",
      "||   *   *  *   *  *   *  ****   *  *****      *       ***        ****  *      ***   *****   ***    ||\n",
      "||   *   *  *   *  **  *  *   *  *  *   *      *      *   *      *      *     *   *    *    *   *   ||\n",
      "||   *****  *   *  * * *  *   *  *  ****       *      *****      ****   *     *   *    *    *****   ||\n",
      "||   *   *  *   *  *  **  *   *  *  *  *       *      *   *      *      *     *   *    *    *   *   ||\n",
      "||   *   *   ***   *   *  *****  *  *   *      *****  *   *      *      *****  ***     *    *   *   ||\n",
      "||                                                                                                  ||\n",
      "======================================================================================================\n",
      "\n",
      "AUTORA: Ana Gutiérrez Méndez\n",
      "The Bridge, June 2025\n",
      "\n"
     ]
    }
   ],
   "source": [
    "# PASO 1: importar las librerías necesarias como numpy para los arrays del tablero\n",
    "# y poner una bonita cabecera de juego :)\n",
    "\n",
    "import numpy as np\n",
    "import random\n",
    "\n",
    "print(\"======================================================================================================\")\n",
    "print(\"||                                                                                                  ||\")      \n",
    "print(\"||   *   *  *   *  *   *  ****   *  *****      *       ***        ****  *      ***   *****   ***    ||\")\n",
    "print(\"||   *   *  *   *  **  *  *   *  *  *   *      *      *   *      *      *     *   *    *    *   *   ||\")\n",
    "print(\"||   *****  *   *  * * *  *   *  *  ****       *      *****      ****   *     *   *    *    *****   ||\")\n",
    "print(\"||   *   *  *   *  *  **  *   *  *  *  *       *      *   *      *      *     *   *    *    *   *   ||\")\n",
    "print(\"||   *   *   ***   *   *  *****  *  *   *      *****  *   *      *      *****  ***     *    *   *   ||\")\n",
    "print(\"||                                                                                                  ||\") \n",
    "print(\"======================================================================================================\")\n",
    "print(\"\\nAUTORA: Ana Gutiérrez Méndez\")\n",
    "print(\"The Bridge, June 2025\\n\")"
   ]
  },
  {
   "cell_type": "code",
   "execution_count": 57,
   "id": "cf357f1b",
   "metadata": {},
   "outputs": [
    {
     "name": "stdout",
     "output_type": "stream",
     "text": [
      "TABLERO DE JUEGO\n",
      "\n",
      "[[' ' ' ' ' ' ' ' ' ' ' ' ' ' ' ' ' ' ' ']\n",
      " [' ' ' ' ' ' ' ' ' ' ' ' ' ' ' ' ' ' ' ']\n",
      " [' ' ' ' ' ' ' ' ' ' ' ' ' ' ' ' ' ' ' ']\n",
      " [' ' ' ' ' ' ' ' ' ' ' ' ' ' ' ' ' ' ' ']\n",
      " [' ' ' ' ' ' ' ' ' ' ' ' ' ' ' ' ' ' ' ']\n",
      " [' ' ' ' ' ' ' ' ' ' ' ' ' ' ' ' ' ' ' ']\n",
      " [' ' ' ' ' ' ' ' ' ' ' ' ' ' ' ' ' ' ' ']\n",
      " [' ' ' ' ' ' ' ' ' ' ' ' ' ' ' ' ' ' ' ']\n",
      " [' ' ' ' ' ' ' ' ' ' ' ' ' ' ' ' ' ' ' ']\n",
      " [' ' ' ' ' ' ' ' ' ' ' ' ' ' ' ' ' ' ' ']]\n"
     ]
    }
   ],
   "source": [
    "# PASO 2: crear el tablero, ya sea fijo de 10x10 o como yo quiera de grande con def\n",
    "\n",
    "tablero = np.full((10,10),\" \")              # esto sería un tablero fijo de 10x10\n",
    "print(\"TABLERO DE JUEGO\\n\")\n",
    "print(tablero)\n",
    "\n",
    "def crea_tablero(lado):                     # por ejemplo, diciendo: tablero2 = crea_tablero(5)\n",
    "    tablero = np.full((lado,lado),\" \")      # y luego \"print(tablero2)\"\n",
    "    return tablero"
   ]
  },
  {
   "cell_type": "code",
   "execution_count": 58,
   "id": "82bc8d70",
   "metadata": {},
   "outputs": [
    {
     "name": "stdout",
     "output_type": "stream",
     "text": [
      "Coloco el barco 1 en posición: [(0, 1), (1, 1)] \n",
      "\n",
      "Coloco el barco 2 en posición: [(1, 3), (1, 4), (1, 5), (1, 6)] \n",
      "\n",
      "Coloco el barco 3 en posición: [(4, 5), (4, 6)] \n",
      "\n",
      "[[' ' 'O' ' ' ' ' ' ' ' ' ' ' ' ' ' ' ' ']\n",
      " [' ' 'O' ' ' 'O' 'O' 'O' 'O' ' ' ' ' ' ']\n",
      " [' ' ' ' ' ' ' ' ' ' ' ' ' ' ' ' ' ' ' ']\n",
      " [' ' ' ' ' ' ' ' ' ' ' ' ' ' ' ' ' ' ' ']\n",
      " [' ' ' ' ' ' ' ' ' ' 'O' 'O' ' ' ' ' ' ']\n",
      " [' ' ' ' ' ' ' ' ' ' ' ' ' ' ' ' ' ' ' ']\n",
      " [' ' ' ' ' ' ' ' ' ' ' ' ' ' ' ' ' ' ' ']\n",
      " [' ' ' ' ' ' ' ' ' ' ' ' ' ' ' ' ' ' ' ']\n",
      " [' ' ' ' ' ' ' ' ' ' ' ' ' ' ' ' ' ' ' ']\n",
      " [' ' ' ' ' ' ' ' ' ' ' ' ' ' ' ' ' ' ' ']]\n"
     ]
    }
   ],
   "source": [
    "# PASO 3: posiciona los barcos\n",
    "# por ejemplo, estos dos: [(0,1), (1,1)] y [(1,3), (1,4), (1,5), (1,6)]\n",
    "# meto los barcos dentro de una lista para colocarlos directamente\n",
    "\n",
    "barco1 = [(0,1),(1,1)]\n",
    "barco2 = [(1,3), (1,4), (1,5), (1,6)]\n",
    "barco3 = [(4,5),(4,6)]\n",
    "lista_barcos = [barco1, barco2,barco3]\n",
    "\n",
    "def coloca_barco(tablero, barco):\n",
    "    for pieza in barco:\n",
    "        tablero[pieza] = \"O\"\n",
    "    return tablero\n",
    "\n",
    "for barco in lista_barcos:\n",
    "    indice = lista_barcos.index(barco)\n",
    "    #print(\"\\n\", \"*\"*45, \"\\n\")\n",
    "    print(\"Coloco el barco\", indice + 1, \"en posición:\", barco, \"\\n\")\n",
    "    tablero = coloca_barco(tablero,barco)\n",
    "print(tablero)"
   ]
  },
  {
   "cell_type": "code",
   "execution_count": 59,
   "id": "48b6b945",
   "metadata": {},
   "outputs": [
    {
     "name": "stdout",
     "output_type": "stream",
     "text": [
      "\n",
      "Agua\n",
      "[[' ' 'O' ' ' ' ' ' ' ' ' ' ' ' ' ' ' ' ']\n",
      " [' ' 'O' ' ' 'O' 'O' 'O' 'O' ' ' ' ' ' ']\n",
      " [' ' ' ' ' ' ' ' ' ' ' ' ' ' ' ' ' ' ' ']\n",
      " [' ' ' ' ' ' ' ' ' ' ' ' ' ' ' ' ' ' ' ']\n",
      " [' ' ' ' ' ' ' ' ' ' 'O' 'O' ' ' ' ' ' ']\n",
      " [' ' ' ' ' ' ' ' ' ' ' ' '-' ' ' ' ' ' ']\n",
      " [' ' ' ' ' ' ' ' ' ' ' ' ' ' ' ' ' ' ' ']\n",
      " [' ' ' ' ' ' ' ' ' ' ' ' ' ' ' ' ' ' ' ']\n",
      " [' ' ' ' ' ' ' ' ' ' ' ' ' ' ' ' ' ' ' ']\n",
      " [' ' ' ' ' ' ' ' ' ' ' ' ' ' ' ' ' ' ' ']]\n",
      "\n",
      "Tocado\n",
      "[[' ' 'O' ' ' ' ' ' ' ' ' ' ' ' ' ' ' ' ']\n",
      " [' ' 'X' ' ' 'O' 'O' 'O' 'O' ' ' ' ' ' ']\n",
      " [' ' ' ' ' ' ' ' ' ' ' ' ' ' ' ' ' ' ' ']\n",
      " [' ' ' ' ' ' ' ' ' ' ' ' ' ' ' ' ' ' ' ']\n",
      " [' ' ' ' ' ' ' ' ' ' 'O' 'O' ' ' ' ' ' ']\n",
      " [' ' ' ' ' ' ' ' ' ' ' ' '-' ' ' ' ' ' ']\n",
      " [' ' ' ' ' ' ' ' ' ' ' ' ' ' ' ' ' ' ' ']\n",
      " [' ' ' ' ' ' ' ' ' ' ' ' ' ' ' ' ' ' ' ']\n",
      " [' ' ' ' ' ' ' ' ' ' ' ' ' ' ' ' ' ' ' ']\n",
      " [' ' ' ' ' ' ' ' ' ' ' ' ' ' ' ' ' ' ' ']]\n",
      "\n",
      "Dispara a otro sitio. El barco ya se hundió.\n",
      "[[' ' 'O' ' ' ' ' ' ' ' ' ' ' ' ' ' ' ' ']\n",
      " [' ' 'X' ' ' 'O' 'O' 'O' 'O' ' ' ' ' ' ']\n",
      " [' ' ' ' ' ' ' ' ' ' ' ' ' ' ' ' ' ' ' ']\n",
      " [' ' ' ' ' ' ' ' ' ' ' ' ' ' ' ' ' ' ' ']\n",
      " [' ' ' ' ' ' ' ' ' ' 'O' 'O' ' ' ' ' ' ']\n",
      " [' ' ' ' ' ' ' ' ' ' ' ' '-' ' ' ' ' ' ']\n",
      " [' ' ' ' ' ' ' ' ' ' ' ' ' ' ' ' ' ' ' ']\n",
      " [' ' ' ' ' ' ' ' ' ' ' ' ' ' ' ' ' ' ' ']\n",
      " [' ' ' ' ' ' ' ' ' ' ' ' ' ' ' ' ' ' ' ']\n",
      " [' ' ' ' ' ' ' ' ' ' ' ' ' ' ' ' ' ' ' ']]\n"
     ]
    }
   ],
   "source": [
    "# PASO 4: recibir un disparo\n",
    "# sustituyo O por X si acierto y O por - si cae en agua\n",
    "\n",
    "def recibir_disparo(tablero, coordenada):\n",
    "    if tablero[coordenada] == \"O\":\n",
    "        tablero[coordenada] = \"X\"\n",
    "        print(\"\\nTocado\")\n",
    "    elif tablero[coordenada] == \"X\":\n",
    "        print(\"\\nDispara a otro sitio. El barco ya se hundió.\")\n",
    "    else:\n",
    "        tablero[coordenada] = \"-\"\n",
    "        print(\"\\nAgua\")\n",
    "\n",
    "# si el disparo cae en el agua\n",
    "recibir_disparo(tablero,(5,6))\n",
    "print(tablero)\n",
    "\n",
    "# si el disparo cae en el barco\n",
    "recibir_disparo(tablero,(1,1))\n",
    "print(tablero)\n",
    "\n",
    "# si el disparo cae en un barco hundido\n",
    "recibir_disparo(tablero,(1,1))\n",
    "print(tablero)"
   ]
  },
  {
   "cell_type": "code",
   "execution_count": null,
   "id": "e7430711",
   "metadata": {},
   "outputs": [
    {
     "data": {
      "text/plain": [
       "array([[False, False, False, False, False, False, False, False, False,\n",
       "        False],\n",
       "       [False,  True, False, False, False, False, False, False, False,\n",
       "        False],\n",
       "       [False, False, False, False, False, False, False, False, False,\n",
       "        False],\n",
       "       [False, False, False, False, False, False, False, False, False,\n",
       "        False],\n",
       "       [False, False, False, False, False, False, False, False, False,\n",
       "        False],\n",
       "       [False, False, False, False, False, False, False, False, False,\n",
       "        False],\n",
       "       [False, False, False, False, False, False, False, False, False,\n",
       "        False],\n",
       "       [False, False, False, False, False, False, False, False, False,\n",
       "        False],\n",
       "       [False, False, False, False, False, False, False, False, False,\n",
       "        False],\n",
       "       [False, False, False, False, False, False, False, False, False,\n",
       "        False]])"
      ]
     },
     "execution_count": 60,
     "metadata": {},
     "output_type": "execute_result"
    }
   ],
   "source": [
    "# PASO 5: preguntar al tablero si tiene X (barcos) en alguna posición\n",
    "# retorna True cuando encuentre un barco y False cuando no haya o esté hundido\n",
    "\n",
    "tablero == \"X\" "
   ]
  },
  {
   "cell_type": "code",
   "execution_count": null,
   "id": "0f5ebf73",
   "metadata": {},
   "outputs": [
    {
     "name": "stdout",
     "output_type": "stream",
     "text": [
      "[[' ' 'O' ' ' ' ' ' ' ' ' ' ' ' ' ' ' ' ']\n",
      " [' ' 'O' ' ' 'O' 'O' 'O' 'O' ' ' ' ' ' ']\n",
      " [' ' ' ' ' ' ' ' ' ' ' ' ' ' ' ' ' ' ' ']\n",
      " [' ' ' ' ' ' ' ' ' ' ' ' ' ' ' ' ' ' ' ']\n",
      " [' ' ' ' ' ' ' ' ' ' 'O' 'O' ' ' ' ' ' ']\n",
      " [' ' ' ' ' ' ' ' ' ' ' ' ' ' ' ' ' ' ' ']\n",
      " [' ' ' ' ' ' ' ' ' ' ' ' ' ' ' ' ' ' ' ']\n",
      " [' ' ' ' ' ' ' ' ' ' ' ' ' ' ' ' ' ' ' ']\n",
      " [' ' ' ' ' ' ' ' ' ' ' ' ' ' ' ' ' ' ' ']\n",
      " [' ' ' ' ' ' ' ' ' ' ' ' ' ' ' ' ' ' ' ']]\n"
     ]
    }
   ],
   "source": [
    "# PASO 6: creo una fundión para reparar todos los buques\n",
    "# funciona buscando los barcos hundidos (X) y los sustituye por barcos (O)\n",
    "# hago lo mismo para los disparos al agua y quitar los (-)\n",
    "\n",
    "def arregla_barcos(tablero):\n",
    "    tablero[tablero == \"X\"] = \"O\"                   # así buscamos si hay X ó O\n",
    "    #tablero.where(tablero == \"X\",\"O\", tablero)     # esto es un método de numpy que se podría usar también\n",
    "    tablero[tablero == \"-\"] = \" \"\n",
    "    return tablero\n",
    "\n",
    "print(arregla_barcos(tablero))\n"
   ]
  }
 ],
 "metadata": {
  "kernelspec": {
   "display_name": "Python 3",
   "language": "python",
   "name": "python3"
  },
  "language_info": {
   "codemirror_mode": {
    "name": "ipython",
    "version": 3
   },
   "file_extension": ".py",
   "mimetype": "text/x-python",
   "name": "python",
   "nbconvert_exporter": "python",
   "pygments_lexer": "ipython3",
   "version": "3.13.3"
  }
 },
 "nbformat": 4,
 "nbformat_minor": 5
}

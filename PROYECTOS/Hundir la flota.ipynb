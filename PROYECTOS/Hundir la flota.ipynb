{
 "cells": [
  {
   "cell_type": "markdown",
   "id": "0a5b68ac",
   "metadata": {},
   "source": [
    "<h1 style=\"text-align: center;\">HUNDIR LA FLOTA</h1>\n",
    "\n",
    "<div style=\"text-align: center;\">\n",
    "<img src=\"https://darkstalker90gaming.wordpress.com/wp-content/uploads/2020/03/overboard-1.jpg?w=1100\" width=\"700\" height=\"400\"/>\n",
    "</div>\n",
    "\n",
    "### En clase\n",
    "1. Crea la función `crear_tablero(tamaño)`, un tablero por defecto de 10x10 relleno del carácter \"_\" con numpy.\n",
    "2. Crea la función `colocar_barco(barco, tablero)`, que recibirá la lista de casillas de un barco y el tablero donde colocarlo. Prueba primero a posicionar un par de barcos por ejemplo en [(0,1), (1,1)] y [(1,3), (1,4), (1,5), (1,6)]. Los barcos serán Os mayúsculas. Como ves, un barco de dos posiciones de eslora y otro de cuatro.\n",
    "3. Crea la función `disparar(casilla, tablero)`, si el disparo acierta en un barco sustituye la O por una X (tocado), si es agua, sustituye la _ por una A (Agua). Prueba primero a disparar el barco de 2 casillas.\n",
    "4. Crea la función `crear_barco(eslora)`, que deberá crear una lista de casillas de un barco en función a la eslora, de forma aleatoria.\n",
    "\n",
    "### Proyecto individual\n",
    "1. Crea la función `colocar_barcos(tablero)`, que deberá de colocar la lista de barcos generados de forma aleatoria (6 barcos en total (3 barcos de eslora 2, 2 de eslora 3 y 1 eslora 4)) ¡Mucho ojo con barcos que estén superpuestos (no pueden ocupar dos barcos la misma casilla) o barcos que se salgan del tablero!\n",
    "2. Escribe el flujo completo del programa, con la dinámica de turnos y funcionalidades necesarios para jugar contra la máquina (dispara a tu tablero de forma aleatoria). Crea todas las funciones que necesites y aplica todo lo aprendido que te sea útil.\n",
    "3. Encapsula todo en un `main.py` y un `utils.py` para ejecutarlo desde terminal.\n",
    "4. Sube tu proyecto a un repositorio de github y prepara una demo (solo se podrá enseñar desde terminal) para la presentación de tu proyecto.\n",
    "\n",
    "## Presentación\n",
    "Cada uno realizará una presentación el **lunes 16 de junio**, donde se contarán con **10 minutos máximo**, importante ceñirse al tiempo. Se tendrá que enseñar:\n",
    "1. El git clone del repositorio de github a tu ordenador y explicar las partes más relevantes del código.\n",
    "2. Una demo donde se muestre el correcto funcionamiento del código para jugar, ejecutándose desde terminal.\n",
    "3. Explicación de la lógica de las partes más relevantes del código desarrollado."
   ]
  },
  {
   "cell_type": "code",
   "execution_count": 71,
   "id": "e91ac9c2",
   "metadata": {},
   "outputs": [
    {
     "name": "stdout",
     "output_type": "stream",
     "text": [
      "======================================================================================================\n",
      "||                                                                                                  ||\n",
      "||   *   *  *   *  *   *  ****   *  *****      *       ***        ****  *      ***   *****   ***    ||\n",
      "||   *   *  *   *  **  *  *   *  *  *   *      *      *   *      *      *     *   *    *    *   *   ||\n",
      "||   *****  *   *  * * *  *   *  *  ****       *      *****      ****   *     *   *    *    *****   ||\n",
      "||   *   *  *   *  *  **  *   *  *  *  *       *      *   *      *      *     *   *    *    *   *   ||\n",
      "||   *   *   ***   *   *  *****  *  *   *      *****  *   *      *      *****  ***     *    *   *   ||\n",
      "||                                                                                                  ||\n",
      "======================================================================================================\n",
      "\n",
      "AUTORA: Ana Gutiérrez Méndez\n",
      "The Bridge, June 2025\n",
      "\n"
     ]
    }
   ],
   "source": [
    "# PASO 1: importar las librerías necesarias como numpy para los arrays del tablero\n",
    "# y poner una bonita cabecera de juego :)\n",
    "\n",
    "import numpy as np\n",
    "import random\n",
    "\n",
    "print(\"======================================================================================================\")\n",
    "print(\"||                                                                                                  ||\")      \n",
    "print(\"||   *   *  *   *  *   *  ****   *  *****      *       ***        ****  *      ***   *****   ***    ||\")\n",
    "print(\"||   *   *  *   *  **  *  *   *  *  *   *      *      *   *      *      *     *   *    *    *   *   ||\")\n",
    "print(\"||   *****  *   *  * * *  *   *  *  ****       *      *****      ****   *     *   *    *    *****   ||\")\n",
    "print(\"||   *   *  *   *  *  **  *   *  *  *  *       *      *   *      *      *     *   *    *    *   *   ||\")\n",
    "print(\"||   *   *   ***   *   *  *****  *  *   *      *****  *   *      *      *****  ***     *    *   *   ||\")\n",
    "print(\"||                                                                                                  ||\") \n",
    "print(\"======================================================================================================\")\n",
    "print(\"\\nAUTORA: Ana Gutiérrez Méndez\")\n",
    "print(\"The Bridge, June 2025\\n\")"
   ]
  },
  {
   "cell_type": "code",
   "execution_count": 72,
   "id": "cf357f1b",
   "metadata": {},
   "outputs": [
    {
     "name": "stdout",
     "output_type": "stream",
     "text": [
      "TABLERO DE JUEGO\n",
      "\n",
      "[[' ' ' ' ' ' ' ' ' ' ' ' ' ' ' ' ' ' ' ']\n",
      " [' ' ' ' ' ' ' ' ' ' ' ' ' ' ' ' ' ' ' ']\n",
      " [' ' ' ' ' ' ' ' ' ' ' ' ' ' ' ' ' ' ' ']\n",
      " [' ' ' ' ' ' ' ' ' ' ' ' ' ' ' ' ' ' ' ']\n",
      " [' ' ' ' ' ' ' ' ' ' ' ' ' ' ' ' ' ' ' ']\n",
      " [' ' ' ' ' ' ' ' ' ' ' ' ' ' ' ' ' ' ' ']\n",
      " [' ' ' ' ' ' ' ' ' ' ' ' ' ' ' ' ' ' ' ']\n",
      " [' ' ' ' ' ' ' ' ' ' ' ' ' ' ' ' ' ' ' ']\n",
      " [' ' ' ' ' ' ' ' ' ' ' ' ' ' ' ' ' ' ' ']\n",
      " [' ' ' ' ' ' ' ' ' ' ' ' ' ' ' ' ' ' ' ']]\n"
     ]
    }
   ],
   "source": [
    "# PASO 2: crear el tablero, ya sea fijo de 10x10 o como yo quiera de grande con def\n",
    "\n",
    "tablero = np.full((10,10),\" \")              # esto sería un tablero fijo de 10x10\n",
    "print(\"TABLERO DE JUEGO\\n\")\n",
    "print(tablero)\n",
    "\n",
    "def crea_tablero(lado):                     # por ejemplo, diciendo: tablero2 = crea_tablero(5)\n",
    "    tablero = np.full((lado,lado),\" \")      # y luego \"print(tablero2)\"\n",
    "    return tablero"
   ]
  },
  {
   "cell_type": "code",
   "execution_count": 73,
   "id": "82bc8d70",
   "metadata": {},
   "outputs": [
    {
     "name": "stdout",
     "output_type": "stream",
     "text": [
      "Coloco el barco 1 en posición: [(0, 1), (1, 1)] \n",
      "\n",
      "Coloco el barco 2 en posición: [(1, 3), (1, 4), (1, 5), (1, 6)] \n",
      "\n",
      "Coloco el barco 3 en posición: [(4, 5), (4, 6)] \n",
      "\n",
      "[[' ' 'O' ' ' ' ' ' ' ' ' ' ' ' ' ' ' ' ']\n",
      " [' ' 'O' ' ' 'O' 'O' 'O' 'O' ' ' ' ' ' ']\n",
      " [' ' ' ' ' ' ' ' ' ' ' ' ' ' ' ' ' ' ' ']\n",
      " [' ' ' ' ' ' ' ' ' ' ' ' ' ' ' ' ' ' ' ']\n",
      " [' ' ' ' ' ' ' ' ' ' 'O' 'O' ' ' ' ' ' ']\n",
      " [' ' ' ' ' ' ' ' ' ' ' ' ' ' ' ' ' ' ' ']\n",
      " [' ' ' ' ' ' ' ' ' ' ' ' ' ' ' ' ' ' ' ']\n",
      " [' ' ' ' ' ' ' ' ' ' ' ' ' ' ' ' ' ' ' ']\n",
      " [' ' ' ' ' ' ' ' ' ' ' ' ' ' ' ' ' ' ' ']\n",
      " [' ' ' ' ' ' ' ' ' ' ' ' ' ' ' ' ' ' ' ']]\n"
     ]
    }
   ],
   "source": [
    "# PASO 3: posiciona los barcos\n",
    "# por ejemplo, estos dos: [(0,1), (1,1)] y [(1,3), (1,4), (1,5), (1,6)]\n",
    "# meto los barcos dentro de una lista para colocarlos directamente\n",
    "\n",
    "barco1 = [(0,1),(1,1)]\n",
    "barco2 = [(1,3), (1,4), (1,5), (1,6)]\n",
    "barco3 = [(4,5),(4,6)]\n",
    "lista_barcos = [barco1, barco2,barco3]\n",
    "\n",
    "def coloca_barco(tablero, barco):\n",
    "    for pieza in barco:\n",
    "        tablero[pieza] = \"O\"\n",
    "    return tablero\n",
    "\n",
    "for barco in lista_barcos:\n",
    "    indice = lista_barcos.index(barco)\n",
    "    #print(\"\\n\", \"*\"*45, \"\\n\")\n",
    "    print(\"Coloco el barco\", indice + 1, \"en posición:\", barco, \"\\n\")\n",
    "    tablero = coloca_barco(tablero,barco)\n",
    "print(tablero)"
   ]
  },
  {
   "cell_type": "code",
   "execution_count": 74,
   "id": "48b6b945",
   "metadata": {},
   "outputs": [
    {
     "name": "stdout",
     "output_type": "stream",
     "text": [
      "\n",
      "Agua\n",
      "[[' ' 'O' ' ' ' ' ' ' ' ' ' ' ' ' ' ' ' ']\n",
      " [' ' 'O' ' ' 'O' 'O' 'O' 'O' ' ' ' ' ' ']\n",
      " [' ' ' ' ' ' ' ' ' ' ' ' ' ' ' ' ' ' ' ']\n",
      " [' ' ' ' ' ' ' ' ' ' ' ' ' ' ' ' ' ' ' ']\n",
      " [' ' ' ' ' ' ' ' ' ' 'O' 'O' ' ' ' ' ' ']\n",
      " [' ' ' ' ' ' ' ' ' ' ' ' '-' ' ' ' ' ' ']\n",
      " [' ' ' ' ' ' ' ' ' ' ' ' ' ' ' ' ' ' ' ']\n",
      " [' ' ' ' ' ' ' ' ' ' ' ' ' ' ' ' ' ' ' ']\n",
      " [' ' ' ' ' ' ' ' ' ' ' ' ' ' ' ' ' ' ' ']\n",
      " [' ' ' ' ' ' ' ' ' ' ' ' ' ' ' ' ' ' ' ']]\n",
      "\n",
      "Tocado\n",
      "[[' ' 'O' ' ' ' ' ' ' ' ' ' ' ' ' ' ' ' ']\n",
      " [' ' 'X' ' ' 'O' 'O' 'O' 'O' ' ' ' ' ' ']\n",
      " [' ' ' ' ' ' ' ' ' ' ' ' ' ' ' ' ' ' ' ']\n",
      " [' ' ' ' ' ' ' ' ' ' ' ' ' ' ' ' ' ' ' ']\n",
      " [' ' ' ' ' ' ' ' ' ' 'O' 'O' ' ' ' ' ' ']\n",
      " [' ' ' ' ' ' ' ' ' ' ' ' '-' ' ' ' ' ' ']\n",
      " [' ' ' ' ' ' ' ' ' ' ' ' ' ' ' ' ' ' ' ']\n",
      " [' ' ' ' ' ' ' ' ' ' ' ' ' ' ' ' ' ' ' ']\n",
      " [' ' ' ' ' ' ' ' ' ' ' ' ' ' ' ' ' ' ' ']\n",
      " [' ' ' ' ' ' ' ' ' ' ' ' ' ' ' ' ' ' ' ']]\n",
      "\n",
      "Dispara a otro sitio. El barco ya se hundió.\n",
      "[[' ' 'O' ' ' ' ' ' ' ' ' ' ' ' ' ' ' ' ']\n",
      " [' ' 'X' ' ' 'O' 'O' 'O' 'O' ' ' ' ' ' ']\n",
      " [' ' ' ' ' ' ' ' ' ' ' ' ' ' ' ' ' ' ' ']\n",
      " [' ' ' ' ' ' ' ' ' ' ' ' ' ' ' ' ' ' ' ']\n",
      " [' ' ' ' ' ' ' ' ' ' 'O' 'O' ' ' ' ' ' ']\n",
      " [' ' ' ' ' ' ' ' ' ' ' ' '-' ' ' ' ' ' ']\n",
      " [' ' ' ' ' ' ' ' ' ' ' ' ' ' ' ' ' ' ' ']\n",
      " [' ' ' ' ' ' ' ' ' ' ' ' ' ' ' ' ' ' ' ']\n",
      " [' ' ' ' ' ' ' ' ' ' ' ' ' ' ' ' ' ' ' ']\n",
      " [' ' ' ' ' ' ' ' ' ' ' ' ' ' ' ' ' ' ' ']]\n"
     ]
    }
   ],
   "source": [
    "# PASO 4: recibir un disparo\n",
    "# sustituyo O por X si acierto y O por - si cae en agua\n",
    "\n",
    "def recibir_disparo(tablero, coordenada):\n",
    "    if tablero[coordenada] == \"O\":\n",
    "        tablero[coordenada] = \"X\"\n",
    "        print(\"\\nTocado\")\n",
    "    elif tablero[coordenada] == \"X\":\n",
    "        print(\"\\nDispara a otro sitio. El barco ya se hundió.\")\n",
    "    else:\n",
    "        tablero[coordenada] = \"-\"\n",
    "        print(\"\\nAgua\")\n",
    "\n",
    "# si el disparo cae en el agua\n",
    "recibir_disparo(tablero,(5,6))\n",
    "print(tablero)\n",
    "\n",
    "# si el disparo cae en el barco\n",
    "recibir_disparo(tablero,(1,1))\n",
    "print(tablero)\n",
    "\n",
    "# si el disparo cae en un barco hundido\n",
    "recibir_disparo(tablero,(1,1))\n",
    "print(tablero)"
   ]
  },
  {
   "cell_type": "code",
   "execution_count": 75,
   "id": "e7430711",
   "metadata": {},
   "outputs": [
    {
     "data": {
      "text/plain": [
       "array([[False, False, False, False, False, False, False, False, False,\n",
       "        False],\n",
       "       [False,  True, False, False, False, False, False, False, False,\n",
       "        False],\n",
       "       [False, False, False, False, False, False, False, False, False,\n",
       "        False],\n",
       "       [False, False, False, False, False, False, False, False, False,\n",
       "        False],\n",
       "       [False, False, False, False, False, False, False, False, False,\n",
       "        False],\n",
       "       [False, False, False, False, False, False, False, False, False,\n",
       "        False],\n",
       "       [False, False, False, False, False, False, False, False, False,\n",
       "        False],\n",
       "       [False, False, False, False, False, False, False, False, False,\n",
       "        False],\n",
       "       [False, False, False, False, False, False, False, False, False,\n",
       "        False],\n",
       "       [False, False, False, False, False, False, False, False, False,\n",
       "        False]])"
      ]
     },
     "execution_count": 75,
     "metadata": {},
     "output_type": "execute_result"
    }
   ],
   "source": [
    "# PASO 5: preguntar al tablero si tiene X (barcos) en alguna posición\n",
    "# retorna True cuando encuentre un barco y False cuando no haya o esté hundido\n",
    "\n",
    "tablero == \"X\" "
   ]
  },
  {
   "cell_type": "code",
   "execution_count": 76,
   "id": "0f5ebf73",
   "metadata": {},
   "outputs": [
    {
     "name": "stdout",
     "output_type": "stream",
     "text": [
      "[[' ' 'O' ' ' ' ' ' ' ' ' ' ' ' ' ' ' ' ']\n",
      " [' ' 'O' ' ' 'O' 'O' 'O' 'O' ' ' ' ' ' ']\n",
      " [' ' ' ' ' ' ' ' ' ' ' ' ' ' ' ' ' ' ' ']\n",
      " [' ' ' ' ' ' ' ' ' ' ' ' ' ' ' ' ' ' ' ']\n",
      " [' ' ' ' ' ' ' ' ' ' 'O' 'O' ' ' ' ' ' ']\n",
      " [' ' ' ' ' ' ' ' ' ' ' ' ' ' ' ' ' ' ' ']\n",
      " [' ' ' ' ' ' ' ' ' ' ' ' ' ' ' ' ' ' ' ']\n",
      " [' ' ' ' ' ' ' ' ' ' ' ' ' ' ' ' ' ' ' ']\n",
      " [' ' ' ' ' ' ' ' ' ' ' ' ' ' ' ' ' ' ' ']\n",
      " [' ' ' ' ' ' ' ' ' ' ' ' ' ' ' ' ' ' ' ']]\n"
     ]
    }
   ],
   "source": [
    "# PASO 6: creo una fundión para reparar todos los buques\n",
    "# funciona buscando los barcos hundidos (X) y los sustituye por barcos (O)\n",
    "# hago lo mismo para los disparos al agua y quitar los (-)\n",
    "\n",
    "def arregla_barcos(tablero):\n",
    "    tablero[tablero == \"X\"] = \"O\"                   # así buscamos si hay X ó O\n",
    "    #tablero.where(tablero == \"X\",\"O\", tablero)     # esto es un método de numpy que se podría usar también\n",
    "    tablero[tablero == \"-\"] = \" \"\n",
    "    return tablero\n",
    "\n",
    "print(arregla_barcos(tablero))\n"
   ]
  },
  {
   "cell_type": "code",
   "execution_count": 78,
   "id": "d7906731",
   "metadata": {},
   "outputs": [
    {
     "name": "stdout",
     "output_type": "stream",
     "text": [
      "No puedo poner la pieza (12, 2) porque se sale del tablero.\n",
      "Lo siento, prueba otra casilla.\n",
      "\n",
      "[[' ' 'O' ' ' ' ' ' ' ' ' ' ' ' ' ' ' ' ']\n",
      " [' ' 'O' ' ' 'O' 'O' 'O' 'O' ' ' ' ' ' ']\n",
      " [' ' ' ' ' ' ' ' ' ' ' ' ' ' ' ' ' ' ' ']\n",
      " [' ' ' ' ' ' ' ' ' ' ' ' ' ' ' ' ' ' ' ']\n",
      " [' ' ' ' ' ' ' ' ' ' 'O' 'O' ' ' ' ' ' ']\n",
      " [' ' ' ' ' ' ' ' ' ' ' ' ' ' ' ' ' ' ' ']\n",
      " [' ' ' ' ' ' ' ' ' ' ' ' ' ' ' ' ' ' ' ']\n",
      " [' ' ' ' ' ' ' ' ' ' ' ' ' ' ' ' ' ' ' ']\n",
      " [' ' ' ' ' ' ' ' ' ' ' ' ' ' ' ' ' ' ' ']\n",
      " [' ' ' ' ' ' ' ' ' ' ' ' ' ' ' ' ' ' ' ']]\n"
     ]
    }
   ],
   "source": [
    "# PASO 7: creo la superfunción \"coloca_barco_plus\" para colocar barcos sólo en las posiciones\n",
    "# posibles del tablero, es decir, que estén libres y no estén fuera de él\n",
    "\n",
    "def coloca_barco_plus(tablero, barco):\n",
    "    # Nos devuelve el tablero si puede colocar el barco, si no devuelve False, y avise por pantalla\n",
    "    tablero_temp = tablero.copy()\n",
    "    num_max_filas = tablero.shape[0]        # el shape del tablero me devolvería una tupla de 10x10\n",
    "    num_max_columnas = tablero.shape[1]\n",
    "    \n",
    "    for pieza in barco:\n",
    "        fila = pieza[0]\n",
    "        columna = pieza[1]\n",
    "        if fila < 0  or fila >= num_max_filas:\n",
    "            print(f\"No puedo poner la pieza {pieza} porque se sale del tablero.\")\n",
    "            return False\n",
    "        if columna <0 or columna>= num_max_columnas:\n",
    "            print(f\"No puedo poner la pieza {pieza} porque se sale del tablero.\")\n",
    "            return False\n",
    "        if tablero[pieza] == \"O\" or tablero[pieza] == \"X\":\n",
    "            print(f\"No puedo poner la pieza {pieza} porque hay otro barco.\")\n",
    "            return False\n",
    "        tablero_temp[pieza] = \"O\"\n",
    "    return tablero_temp\n",
    "\n",
    "# este es un ejemplo de cómo no me dejaría colocar un barco erróneo\n",
    "barco_raro = [(1,2),(12,2)]\n",
    "tablero_temp = coloca_barco_plus(tablero,barco_raro)\n",
    "if type(tablero_temp) == np.ndarray:\n",
    "    print(tablero_temp)\n",
    "else:\n",
    "    print(\"Lo siento, prueba otra casilla.\\n\")\n",
    "\n",
    "print(tablero)"
   ]
  },
  {
   "cell_type": "code",
   "execution_count": null,
   "id": "81a289d9",
   "metadata": {},
   "outputs": [
    {
     "name": "stdout",
     "output_type": "stream",
     "text": [
      "Pieza original: (0, 1)\n",
      "Con orientacion S\n",
      "No puedo poner la pieza (0, 1) porque hay otro barco.\n",
      "Tengo que intentar colocar otro barco.\n",
      "Pieza original: (6, 7)\n",
      "Con orientacion N\n",
      "[[' ' 'O' ' ' ' ' ' ' ' ' ' ' ' ' ' ' ' ']\n",
      " [' ' 'O' ' ' 'O' 'O' 'O' 'O' ' ' ' ' ' ']\n",
      " [' ' ' ' ' ' ' ' ' ' ' ' ' ' ' ' ' ' ' ']\n",
      " [' ' ' ' ' ' ' ' ' ' ' ' ' ' ' ' ' ' ' ']\n",
      " [' ' ' ' ' ' ' ' ' ' 'O' 'O' ' ' ' ' ' ']\n",
      " [' ' ' ' ' ' ' ' ' ' ' ' ' ' 'O' ' ' ' ']\n",
      " [' ' ' ' ' ' ' ' ' ' ' ' ' ' 'O' ' ' ' ']\n",
      " [' ' ' ' ' ' ' ' ' ' 'O' 'O' ' ' ' ' ' ']\n",
      " [' ' ' ' ' ' ' ' ' ' ' ' 'O' 'O' ' ' ' ']\n",
      " [' ' ' ' ' ' ' ' ' ' ' ' ' ' ' ' ' ' ' ']]\n"
     ]
    }
   ],
   "source": [
    "# PASO 8: colocar un barco aleatoriamente en el tablero\n",
    "# ojo con las posiciones donde ya hay barco!\n",
    "\n",
    "import random\n",
    "\n",
    "def crea_barco_aleatorio(tablero,eslora = 4, num_intentos = 100):\n",
    "    num_max_filas = tablero.shape[0]\n",
    "    num_max_columnas = tablero.shape[1]\n",
    "    \n",
    "    while True:\n",
    "        barco = []          # Construimos el hipotetico barco\n",
    "        pieza_original = (random.randint(0,num_max_filas-1),random.randint(0, num_max_columnas -1))\n",
    "        print(\"Pieza original:\", pieza_original)\n",
    "        \n",
    "        barco.append(pieza_original)\n",
    "        orientacion = random.choice([\"N\",\"S\",\"O\",\"E\"])\n",
    "        print(\"Con orientacion\", orientacion)\n",
    "        \n",
    "        fila = pieza_original[0]\n",
    "        columna = pieza_original[1]\n",
    "        \n",
    "        for i in range(eslora -1):\n",
    "            if orientacion == \"N\":\n",
    "                fila -= 1\n",
    "            elif orientacion  == \"S\":\n",
    "                fila += 1\n",
    "            elif orientacion == \"E\":\n",
    "                columna += 1\n",
    "            else:\n",
    "                columna -= 1\n",
    "            pieza = (fila,columna)\n",
    "            barco.append(pieza)\n",
    "        \n",
    "        tablero_temp = coloca_barco_plus(tablero, barco)\n",
    "        \n",
    "        if type(tablero_temp) == np.ndarray:\n",
    "            return tablero_temp\n",
    "        \n",
    "        print(\"Tengo que intentar colocar otro barco.\")\n",
    "\n",
    "# supongamos que quiero colocar en el tablero un barco aleatoriamente de 6m de eslora\n",
    "tablero = crea_barco_aleatorio(tablero, eslora = 2)\n",
    "\n",
    "print(tablero)"
   ]
  },
  {
   "cell_type": "code",
   "execution_count": null,
   "id": "869b9506",
   "metadata": {},
   "outputs": [],
   "source": []
  }
 ],
 "metadata": {
  "kernelspec": {
   "display_name": "Python 3",
   "language": "python",
   "name": "python3"
  },
  "language_info": {
   "codemirror_mode": {
    "name": "ipython",
    "version": 3
   },
   "file_extension": ".py",
   "mimetype": "text/x-python",
   "name": "python",
   "nbconvert_exporter": "python",
   "pygments_lexer": "ipython3",
   "version": "3.13.3"
  }
 },
 "nbformat": 4,
 "nbformat_minor": 5
}

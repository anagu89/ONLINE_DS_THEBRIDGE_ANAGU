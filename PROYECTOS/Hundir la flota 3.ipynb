{
 "cells": [
  {
   "cell_type": "code",
   "execution_count": null,
   "id": "da2d5776",
   "metadata": {},
   "outputs": [
    {
     "ename": "ValueError",
     "evalue": "invalid literal for int() with base 10: ''",
     "output_type": "error",
     "traceback": [
      "\u001b[31m---------------------------------------------------------------------------\u001b[39m",
      "\u001b[31mValueError\u001b[39m                                Traceback (most recent call last)",
      "\u001b[36mCell\u001b[39m\u001b[36m \u001b[39m\u001b[32mIn[1]\u001b[39m\u001b[32m, line 40\u001b[39m\n\u001b[32m     38\u001b[39m \u001b[38;5;28;01mif\u001b[39;00m \u001b[34m__name__\u001b[39m == \u001b[33m'\u001b[39m\u001b[33m__main__\u001b[39m\u001b[33m'\u001b[39m:\n\u001b[32m     39\u001b[39m     respuestas = []\n\u001b[32m---> \u001b[39m\u001b[32m40\u001b[39m     numero_barcos = \u001b[38;5;28;43mint\u001b[39;49m\u001b[43m(\u001b[49m\u001b[38;5;28;43minput\u001b[39;49m\u001b[43m(\u001b[49m\u001b[43m)\u001b[49m\u001b[43m)\u001b[49m\n\u001b[32m     41\u001b[39m     \u001b[38;5;28;01mwhile\u001b[39;00m numero_barcos > \u001b[32m0\u001b[39m:\n\u001b[32m     42\u001b[39m         lista_barcos = [\u001b[38;5;28mint\u001b[39m(x) \u001b[38;5;28;01mfor\u001b[39;00m x \u001b[38;5;129;01min\u001b[39;00m \u001b[38;5;28minput\u001b[39m().split()]\n",
      "\u001b[31mValueError\u001b[39m: invalid literal for int() with base 10: ''"
     ]
    }
   ],
   "source": [
    "# https://israelem.github.io/aceptaelreto/flota/\n",
    "\n",
    "import numpy as np\n",
    "from collections import Counter\n",
    "\n",
    "\n",
    "def iguales(diccionario_1, diccionario_2):\n",
    "    return diccionario_1.__eq__(diccionario_2)\n",
    "\n",
    "\n",
    "def comprobar_barcos(oceano, cuenta_barcos):\n",
    "    barcos_oceano = {}\n",
    "    tamaño = 0\n",
    "    for fila in range(oceano.shape[0]):\n",
    "        for casilla in oceano[fila, :]:\n",
    "            if casilla == 0:\n",
    "                if tamaño > 1:\n",
    "                    if tamaño in barcos_oceano:\n",
    "                        barcos_oceano[tamaño] += 1\n",
    "                    else:\n",
    "                        barcos_oceano[tamaño] = 1\n",
    "                tamaño = 0\n",
    "            else:\n",
    "                tamaño += 1\n",
    "    for columna in range(oceano.shape[1]):\n",
    "        for casilla in oceano[:, columna]:\n",
    "            if casilla == 0:\n",
    "                if tamaño > 1:\n",
    "                    if tamaño in barcos_oceano:\n",
    "                        barcos_oceano[tamaño] += 1\n",
    "                    else:\n",
    "                        barcos_oceano[tamaño] = 1\n",
    "                tamaño = 0\n",
    "            else:\n",
    "                tamaño += 1\n",
    "\n",
    "    return iguales(barcos_oceano, cuenta_barcos)\n",
    "\n",
    "\n",
    "if __name__ == '__main__':\n",
    "    respuestas = []\n",
    "    numero_barcos = int(input())\n",
    "    while numero_barcos > 0:\n",
    "        lista_barcos = [int(x) for x in input().split()]\n",
    "        cuenta_barcos = Counter(lista_barcos)\n",
    "        tamaño_oceano = int(input())\n",
    "        oceano = []\n",
    "        for fila in range(tamaño_oceano):\n",
    "            oceano.append([int(x) for x in input().split()])\n",
    "        oceano = np.array(oceano)\n",
    "        if comprobar_barcos(oceano, cuenta_barcos):\n",
    "            respuestas.append('SI')\n",
    "        else:\n",
    "            respuestas.append('NO')\n",
    "        numero_barcos = int(input())\n",
    "    for respuesta in respuestas:\n",
    "        print(respuesta)"
   ]
  }
 ],
 "metadata": {
  "kernelspec": {
   "display_name": "Python 3",
   "language": "python",
   "name": "python3"
  },
  "language_info": {
   "codemirror_mode": {
    "name": "ipython",
    "version": 3
   },
   "file_extension": ".py",
   "mimetype": "text/x-python",
   "name": "python",
   "nbconvert_exporter": "python",
   "pygments_lexer": "ipython3",
   "version": "3.13.3"
  }
 },
 "nbformat": 4,
 "nbformat_minor": 5
}

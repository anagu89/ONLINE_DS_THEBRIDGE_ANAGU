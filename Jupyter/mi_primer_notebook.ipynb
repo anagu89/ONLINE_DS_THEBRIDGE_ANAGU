{
 "cells": [
  {
   "cell_type": "code",
   "execution_count": 3,
   "id": "9a27485b-8df1-416a-8165-b1070c22e924",
   "metadata": {},
   "outputs": [
    {
     "name": "stdout",
     "output_type": "stream",
     "text": [
      "hola mundo\n"
     ]
    }
   ],
   "source": [
    "print (\"hola mundo\")"
   ]
  },
  {
   "cell_type": "markdown",
   "id": "24433875-3c1d-447b-88d7-23ba1525dd11",
   "metadata": {},
   "source": [
    "Hola mundo"
   ]
  },
  {
   "cell_type": "code",
   "execution_count": 1,
   "id": "c85650b6-f8b7-470b-8c98-7896db65d81b",
   "metadata": {},
   "outputs": [
    {
     "name": "stdout",
     "output_type": "stream",
     "text": [
      "este es un ejemplo\n"
     ]
    }
   ],
   "source": [
    "print (\"este es un ejemplo\")"
   ]
  },
  {
   "cell_type": "code",
   "execution_count": 11,
   "id": "b9811751-6c0e-4e94-abee-241d091aede6",
   "metadata": {},
   "outputs": [
    {
     "name": "stdout",
     "output_type": "stream",
     "text": [
      "Introduce los lados de un triángulo:\n"
     ]
    },
    {
     "name": "stdin",
     "output_type": "stream",
     "text": [
      "a= 45.2\n",
      "b= 48.33\n",
      "c= 37.124\n"
     ]
    },
    {
     "name": "stdout",
     "output_type": "stream",
     "text": [
      "El área del triángulo es: 793.91\n"
     ]
    }
   ],
   "source": [
    "# Heron's formula\n",
    "\n",
    "print(\"Introduce los lados de un triángulo:\")\n",
    "a = float(input(\"a=\"))\n",
    "b = float(input(\"b=\"))\n",
    "c = float(input(\"c=\"))\n",
    "\n",
    "# un triángulo real cumple que sus lados sean: a+b>c, a+c>b, b+c>a (no haya valores negativos)\n",
    "\n",
    "if a + b > c and a + c > b and b + c > a:\n",
    "    import math\n",
    "    s = (a + b + c) / 2\n",
    "    area = s * (s - a) * (s - b) * (s - c)\n",
    "    area = math.sqrt(area)\n",
    "    area = round(area, 2)\n",
    "    print(\"El área del triángulo es:\", area)\n",
    "    \n",
    "else:\n",
    "    print(\"Los valores no son válidos.\")"
   ]
  },
  {
   "cell_type": "code",
   "execution_count": null,
   "id": "b51bc9a4-ec83-4760-819a-69ce06f67676",
   "metadata": {},
   "outputs": [],
   "source": []
  }
 ],
 "metadata": {
  "kernelspec": {
   "display_name": "Python 3 (ipykernel)",
   "language": "python",
   "name": "python3"
  },
  "language_info": {
   "codemirror_mode": {
    "name": "ipython",
    "version": 3
   },
   "file_extension": ".py",
   "mimetype": "text/x-python",
   "name": "python",
   "nbconvert_exporter": "python",
   "pygments_lexer": "ipython3",
   "version": "3.13.3"
  }
 },
 "nbformat": 4,
 "nbformat_minor": 5
}

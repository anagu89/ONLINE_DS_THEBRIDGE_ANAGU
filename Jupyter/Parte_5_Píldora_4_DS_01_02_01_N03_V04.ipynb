{
 "cells": [
  {
   "cell_type": "markdown",
   "metadata": {
    "id": "xH6iHu3hDtiD"
   },
   "source": [
    "![TheBridge_Python_v0.png](attachment:TheBridge_Python_v0.png)"
   ]
  },
  {
   "cell_type": "markdown",
   "metadata": {
    "id": "ZCfdPoZIDtiL"
   },
   "source": [
    "## Colecciones Python: Diccionarios\n"
   ]
  },
  {
   "cell_type": "markdown",
   "metadata": {
    "id": "0kKe99isDtiN"
   },
   "source": [
    "### Contenidos\n"
   ]
  },
  {
   "cell_type": "markdown",
   "metadata": {
    "id": "H5GJ4FlLDtiP"
   },
   "source": [
    "* [Introducción](#Introducción)\n",
    "\n",
    "* [Acceso, modificación, añadir, eliminar](#Acceso,-modificación,-añadir,-eliminar)\n",
    "\n",
    "* [Iterar](#Iterar)\n",
    "\n"
   ]
  },
  {
   "cell_type": "markdown",
   "metadata": {
    "id": "2hyoiwhaDtiS"
   },
   "source": [
    "### Introducción\n",
    "[al indice](#Contenidos)  \n",
    "\n",
    "En este tipo de colecciones no solo podemos agrupar datos, sino que tenemos la posibilidad de establecer una relación entre los mismos, con la forma **clave: valor**.\n",
    "\n",
    "La sintaxis  es mediante llaves `{}`\n",
    "\n",
    "> nombre_diccionario = {clave1: valor1, clave2: valor2, clave3: valor3}\n",
    "\n",
    "Si veíamos que las listas son elementos mutables y y ordenadas, y las tuplas inmutables y ordenadas, los diccionarios son:\n",
    "\n",
    "* **Mutables**: podemos modificar sus elementos\n",
    "* **Desordenado**: la potencia de acceso de los diccionarios es su formato clave-valor, no su orden. Aun así, el dicionario conserva el orden de los elemento según los vamos insertando.\n",
    "\n",
    "Vamos a declarar un diccionario en el que definiremos elementos de un coche"
   ]
  },
  {
   "cell_type": "code",
   "execution_count": 5,
   "metadata": {
    "id": "HUGWtA1yDtiU"
   },
   "outputs": [
    {
     "data": {
      "text/plain": [
       "{'color': 'blanco',\n",
       " 'marca': 'Toyota',\n",
       " 'modelo': 'Yaris',\n",
       " 'peso': 2000,\n",
       " 'automatico': True}"
      ]
     },
     "execution_count": 5,
     "metadata": {},
     "output_type": "execute_result"
    }
   ],
   "source": [
    "coche = {\n",
    "    \"color\": \"blanco\",\n",
    "    \"marca\": \"Toyota\",\n",
    "    \"modelo\": \"Yaris\",\n",
    "    \"peso\": 2000,\n",
    "    \"automatico\": True\n",
    "}\n",
    "\n",
    "coche\n",
    "\n",
    "# si lo imprimo como \"print(coche)\", me sale lineal"
   ]
  },
  {
   "cell_type": "markdown",
   "metadata": {
    "id": "igLyXrcEDtiV"
   },
   "source": [
    "Se puede almacenar todo tipo de datos: numero, cadena, booleano, listas, tuplas, diccionarios...\n",
    "\n",
    "Cuando declaremos el diccionario, lo podemos hacer en una sola linea `coche = {\"color\"=\"Gris\", \"marca\"...}`, aunque se recomienda por sencillez a la hora de leer el código, realizar esta acción en varias líneas. Si escribimos el primer elemento y presionamos enter, Jupyter introduce automáticamente la tabulación."
   ]
  },
  {
   "cell_type": "markdown",
   "metadata": {
    "id": "c5hcgT02DtiX"
   },
   "source": [
    "### Acceso, modificación, añadir, eliminar\n",
    "[al indice](#Contenidos)  \n",
    "\n"
   ]
  },
  {
   "cell_type": "code",
   "execution_count": 6,
   "metadata": {
    "id": "iyDHlbJSDtiZ",
    "scrolled": true
   },
   "outputs": [
    {
     "name": "stdout",
     "output_type": "stream",
     "text": [
      "blanco\n",
      "2000\n",
      "True\n"
     ]
    },
    {
     "ename": "KeyError",
     "evalue": "'puertas'",
     "output_type": "error",
     "traceback": [
      "\u001b[31m---------------------------------------------------------------------------\u001b[39m",
      "\u001b[31mKeyError\u001b[39m                                  Traceback (most recent call last)",
      "\u001b[36mCell\u001b[39m\u001b[36m \u001b[39m\u001b[32mIn[6]\u001b[39m\u001b[32m, line 7\u001b[39m\n\u001b[32m      4\u001b[39m \u001b[38;5;28mprint\u001b[39m(coche[\u001b[33m\"\u001b[39m\u001b[33mautomatico\u001b[39m\u001b[33m\"\u001b[39m])\n\u001b[32m      6\u001b[39m \u001b[38;5;66;03m# si intento acceder a una llave que no existe me da un key error\u001b[39;00m\n\u001b[32m----> \u001b[39m\u001b[32m7\u001b[39m \u001b[38;5;28mprint\u001b[39m(\u001b[43mcoche\u001b[49m\u001b[43m[\u001b[49m\u001b[33;43m\"\u001b[39;49m\u001b[33;43mpuertas\u001b[39;49m\u001b[33;43m\"\u001b[39;49m\u001b[43m]\u001b[49m)\n",
      "\u001b[31mKeyError\u001b[39m: 'puertas'"
     ]
    }
   ],
   "source": [
    "# Acceso\n",
    "print(coche[\"color\"])\n",
    "print(coche[\"peso\"])\n",
    "print(coche[\"automatico\"])\n",
    "\n",
    "# si intento acceder a una llave que no existe me da un key error\n",
    "print(coche[\"puertas\"])"
   ]
  },
  {
   "cell_type": "code",
   "execution_count": 10,
   "metadata": {
    "scrolled": true
   },
   "outputs": [
    {
     "data": {
      "text/plain": [
       "{'color': ['rojo', 'negro'],\n",
       " 'marca': 'Toyota',\n",
       " 'modelo': 'Yaris',\n",
       " 'peso': 2000,\n",
       " 'automatico': True,\n",
       " 'puertas': 5}"
      ]
     },
     "execution_count": 10,
     "metadata": {},
     "output_type": "execute_result"
    }
   ],
   "source": [
    "# cambio un elemento único por una lista\n",
    "coche[\"color\"] = [\"rojo\", \"negro\"]\n",
    "\n",
    "coche\n"
   ]
  },
  {
   "cell_type": "code",
   "execution_count": 12,
   "metadata": {},
   "outputs": [
    {
     "name": "stdout",
     "output_type": "stream",
     "text": [
      "5\n"
     ]
    },
    {
     "data": {
      "text/plain": [
       "{'color': ['rojo', 'negro'],\n",
       " 'marca': 'Toyota',\n",
       " 'modelo': 'Yaris',\n",
       " 'peso': 2000,\n",
       " 'automatico': True}"
      ]
     },
     "execution_count": 12,
     "metadata": {},
     "output_type": "execute_result"
    }
   ],
   "source": [
    "# para AÑADIR elementos\n",
    "coche[\"puertas\"] = 5\n",
    "print(coche[\"puertas\"])\n",
    "\n",
    "# para ELIMINAR elementos\n",
    "del coche[\"puertas\"]\n",
    "\n",
    "coche"
   ]
  },
  {
   "cell_type": "code",
   "execution_count": 15,
   "metadata": {},
   "outputs": [
    {
     "name": "stdout",
     "output_type": "stream",
     "text": [
      "dict_keys(['color', 'marca', 'modelo', 'peso', 'automatico'])\n",
      "dict_values([['rojo', 'negro'], 'Toyota', 'Yaris', 2000, True])\n"
     ]
    }
   ],
   "source": [
    "# para conocer las CLAVES/KEY del diccionario\n",
    "print(coche.keys())\n",
    "\n",
    "# para conocer los valores del diccionario\n",
    "print(coche.values())"
   ]
  },
  {
   "cell_type": "markdown",
   "metadata": {
    "id": "YC4wDGFKDtia"
   },
   "source": [
    "Para más detalle de los métodos de los diccionario puedes [consultar la documentación](https://www.w3schools.com/python/python_ref_dictionary.asp)"
   ]
  },
  {
   "cell_type": "code",
   "execution_count": 19,
   "metadata": {
    "id": "QfXJk2CBDtia"
   },
   "outputs": [
    {
     "name": "stdout",
     "output_type": "stream",
     "text": [
      "{'provincia': 'Granada', 'tamaño': 100}\n",
      "{'material': 'lapices', 'asignaturas': '7', 'bilingue': True}\n"
     ]
    }
   ],
   "source": [
    "# Podemos empezar tambien mediante un diccionario vacío. Hay dos formas:\n",
    "tienda = {} # la más utilizada\n",
    "colegio = dict()\n",
    "\n",
    "tienda[\"provincia\"] = \"Granada\"\n",
    "tienda[\"tamaño\"] = 100\n",
    "print(tienda)\n",
    "\n",
    "colegio = {\n",
    "    \"material\": \"lapices\",\n",
    "    \"asignaturas\": \"7\",\n",
    "    \"bilingue\": True\n",
    "}\n",
    "print(colegio)"
   ]
  },
  {
   "cell_type": "markdown",
   "metadata": {
    "id": "vVO4UchADtid"
   },
   "source": [
    "<table align=\"left\">\n",
    " <tr>\n",
    "     <td style=\"text-align:left\">\n",
    "         <h3>ERRORES en diccionarios</h3>\n",
    "         \n",
    " </td></tr>\n",
    "</table>"
   ]
  },
  {
   "cell_type": "markdown",
   "metadata": {
    "id": "qRThif2ADtie"
   },
   "source": [
    "Si hay una clave que no existe en el diccionario, saltará un error.\n",
    "\n",
    "En este caso, el error es bastante intuitivo: `KeyError`, no encuentra la clave"
   ]
  },
  {
   "cell_type": "code",
   "execution_count": 20,
   "metadata": {
    "id": "sftmvnojDtif"
   },
   "outputs": [
    {
     "ename": "NameError",
     "evalue": "name 'uso' is not defined",
     "output_type": "error",
     "traceback": [
      "\u001b[31m---------------------------------------------------------------------------\u001b[39m",
      "\u001b[31mNameError\u001b[39m                                 Traceback (most recent call last)",
      "\u001b[36mCell\u001b[39m\u001b[36m \u001b[39m\u001b[32mIn[20]\u001b[39m\u001b[32m, line 1\u001b[39m\n\u001b[32m----> \u001b[39m\u001b[32m1\u001b[39m tienda[\u001b[43muso\u001b[49m]\n",
      "\u001b[31mNameError\u001b[39m: name 'uso' is not defined"
     ]
    }
   ],
   "source": [
    "tienda[uso]"
   ]
  },
  {
   "cell_type": "markdown",
   "metadata": {
    "id": "U16P4i_dDtif"
   },
   "source": [
    "**¿Cómo solventar esto?** Sirmpre tienes la opción de usar el bloque `try/except`, pero en este caso, los diccionarios tienen una solución más elegante: `mi_diccionario.get(clave, valor si no existe)`"
   ]
  },
  {
   "cell_type": "code",
   "execution_count": 27,
   "metadata": {
    "id": "Ejd-XvtfDtif"
   },
   "outputs": [
    {
     "name": "stdout",
     "output_type": "stream",
     "text": [
      "comercial\n",
      "Granada\n"
     ]
    }
   ],
   "source": [
    "# cuando ese valor no existe, añado por defecto al tipo de uso \"comercial\"\n",
    "tipo_uso = tienda.get(\"uso\", \"comercial\")\n",
    "print(tipo_uso)\n",
    "\n",
    "# si el valor existe\n",
    "provincia = tienda.get(\"provincia\", \"desconocida\") \n",
    "print(provincia)\n",
    "# como la provincia existe como clave dentro del diccionario, no se pone \"desconocido\" sino \"Granada\"\n",
    "# devuelve el valor asociado a esa clase"
   ]
  },
  {
   "cell_type": "markdown",
   "metadata": {
    "id": "HBI1l4H1Dtig"
   },
   "source": [
    "### Iterar\n",
    "[al indice](#Contenidos)  \n",
    "\n",
    "Que el diccionario no esté ordenado, no quiere decir que no podamos iterar sus elementos, ya que también es un **interable**, como los son las listas o las tuplas."
   ]
  },
  {
   "cell_type": "code",
   "execution_count": 36,
   "metadata": {
    "id": "To5s0Q2bDtig"
   },
   "outputs": [
    {
     "name": "stdout",
     "output_type": "stream",
     "text": [
      "color\n",
      "marca\n",
      "modelo\n",
      "peso\n",
      "automatico\n",
      "\n",
      "\n",
      "color\n",
      "['rojo', 'negro']\n",
      "marca\n",
      "Toyota\n",
      "modelo\n",
      "Yaris\n",
      "peso\n",
      "2000\n",
      "automatico\n",
      "True\n",
      "\n",
      "\n",
      "color : ['rojo', 'negro']\n",
      "marca : Toyota\n",
      "modelo : Yaris\n",
      "peso : 2000\n",
      "automatico : True\n",
      "\n",
      "\n",
      "color : ['rojo', 'negro']\n",
      "marca : Toyota\n",
      "modelo : Yaris\n",
      "peso : 2000\n",
      "automatico : True\n"
     ]
    }
   ],
   "source": [
    "# para itinerar, lo normal es hacer un BUCLE FOR y ver todos los valores del diccionario\n",
    "for i in coche:\n",
    "    print(i)\n",
    "\n",
    "# si quiero saber qué hay dentro de cada clave, es decir, conocer los valores de las claves:\n",
    "print(\"\\n\")\n",
    "for i in coche:\n",
    "    print(i)\n",
    "    print(coche[i])\n",
    "\n",
    "# como queda muy desordenado a la vista, pongo:\n",
    "print(\"\\n\")\n",
    "for i in coche:\n",
    "    print(i, \":\", coche[i])\n",
    "\n",
    "# pero tenemos otra manera más elegante de acceder, mediante los métodos ITEMS\n",
    "coche.items()\n",
    "\n",
    "# obtengo una lista de tuplas pero puedo iterarlas a partir de un for\n",
    "print(\"\\n\")\n",
    "for key, value in coche.items():\n",
    "    print(key, \":\", value)\n",
    "    "
   ]
  },
  {
   "cell_type": "code",
   "execution_count": null,
   "metadata": {
    "id": "VsdSvax2Dtih"
   },
   "outputs": [],
   "source": []
  }
 ],
 "metadata": {
  "colab": {
   "provenance": []
  },
  "kernelspec": {
   "display_name": "Python 3 (ipykernel)",
   "language": "python",
   "name": "python3"
  },
  "language_info": {
   "codemirror_mode": {
    "name": "ipython",
    "version": 3
   },
   "file_extension": ".py",
   "mimetype": "text/x-python",
   "name": "python",
   "nbconvert_exporter": "python",
   "pygments_lexer": "ipython3",
   "version": "3.13.3"
  }
 },
 "nbformat": 4,
 "nbformat_minor": 4
}

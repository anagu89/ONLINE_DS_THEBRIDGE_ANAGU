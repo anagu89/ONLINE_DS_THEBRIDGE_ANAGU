{
 "cells": [
  {
   "cell_type": "markdown",
   "metadata": {
    "id": "0TWx1mQysz71"
   },
   "source": [
    "<img src=\"./img/TheBridge_logo_RGB_color.jpg\" width = 500>\n",
    "<img src=\"./img/python.jpg\" width = 500>"
   ]
  },
  {
   "cell_type": "markdown",
   "metadata": {
    "id": "SJZLx68ysz77"
   },
   "source": [
    "# Python Basics I: Print, Comentarios y otros aspectos básicos\n",
    "\n",
    "En este notebook vamos a profundizar un poquito más en el uso de la función print, además de ver cómo usar los comentarios, la importancia del flujo secuencial de ejecución de python y terminaremos con el uso del comando para liberar memoria, `del`."
   ]
  },
  {
   "cell_type": "markdown",
   "metadata": {
    "id": "yQBSE68Asz7_"
   },
   "source": [
    "## Contenidos"
   ]
  },
  {
   "cell_type": "markdown",
   "metadata": {
    "id": "Ri_YEvIFsz7_"
   },
   "source": [
    "* [Print](#Print)\n",
    "* [Comentarios](#Comentarios)\n",
    "* [Flujos de ejecución](#Flujos-de-ejecución)\n",
    "* [Del](#Del)\n"
   ]
  },
  {
   "cell_type": "markdown",
   "metadata": {
    "id": "Sq7AaR0Ksz8A"
   },
   "source": [
    "## Print[al indice](#Contenidos)\n"
   ]
  },
  {
   "cell_type": "markdown",
   "metadata": {
    "id": "VUDSdhRmsz8B"
   },
   "source": [
    "Hasta ahora hemos visto en Jupyter dos tipos de celdas:\n",
    "* **Markdown**: básicamente texto para las explicaciones\n",
    "* **Código**: donde insertamos el código Python y lo ejecutamos\n",
    "\n",
    "Las celdas de código, no solo corren el código y realizan todas las operaciones que le indiquemos, sino que también tienen un output, una salida de ese código. Tenemos dos opciones para ver el output del código, o bien mediante `print`, o poniendo una variable al final de la celda. En este último caso, veremos el valor de esa variable"
   ]
  },
  {
   "cell_type": "code",
   "execution_count": 1,
   "metadata": {
    "id": "bClFVzBrsz8F"
   },
   "outputs": [],
   "source": [
    "ingresos = 1000\n",
    "gastos = 100\n",
    "beneficios = ingresos - gastos"
   ]
  },
  {
   "cell_type": "code",
   "execution_count": 2,
   "metadata": {},
   "outputs": [
    {
     "name": "stdout",
     "output_type": "stream",
     "text": [
      "hola mundo\n"
     ]
    }
   ],
   "source": [
    "palabra1 = \"hola\"\n",
    "palabra2 = \"mundo\"\n",
    "imprimir = palabra1 + \" \" + palabra2\n",
    "print(imprimir)\n"
   ]
  },
  {
   "cell_type": "code",
   "execution_count": 3,
   "metadata": {
    "id": "h0oHArOUsz8G"
   },
   "outputs": [
    {
     "name": "stdout",
     "output_type": "stream",
     "text": [
      "1000\n",
      "100\n",
      "Los beneficios han sido de: \n",
      "900\n"
     ]
    }
   ],
   "source": [
    "print(ingresos)\n",
    "print(gastos)\n",
    "print(\"Los beneficios han sido de: \")\n",
    "print(beneficios)"
   ]
  },
  {
   "cell_type": "code",
   "execution_count": null,
   "metadata": {},
   "outputs": [
    {
     "data": {
      "text/plain": [
       "1900"
      ]
     },
     "execution_count": 3,
     "metadata": {},
     "output_type": "execute_result"
    }
   ],
   "source": [
    "ingresos.__add__(beneficios)"
   ]
  },
  {
   "cell_type": "code",
   "execution_count": 5,
   "metadata": {},
   "outputs": [
    {
     "name": "stdout",
     "output_type": "stream",
     "text": [
      "<built-in function print>\n"
     ]
    }
   ],
   "source": [
    "print(print)"
   ]
  },
  {
   "cell_type": "code",
   "execution_count": null,
   "metadata": {},
   "outputs": [
    {
     "data": {
      "text/plain": [
       "type"
      ]
     },
     "execution_count": 6,
     "metadata": {},
     "output_type": "execute_result"
    }
   ],
   "source": [
    "type(int)"
   ]
  },
  {
   "cell_type": "code",
   "execution_count": 7,
   "metadata": {},
   "outputs": [
    {
     "data": {
      "text/plain": [
       "['hola', 'hola', 'hola']"
      ]
     },
     "execution_count": 7,
     "metadata": {},
     "output_type": "execute_result"
    }
   ],
   "source": [
    "[\"hola\"] * 3"
   ]
  },
  {
   "cell_type": "code",
   "execution_count": 9,
   "metadata": {},
   "outputs": [
    {
     "data": {
      "text/plain": [
       "['hola', 'hola', 'hola']"
      ]
     },
     "execution_count": 9,
     "metadata": {},
     "output_type": "execute_result"
    }
   ],
   "source": [
    "a = [\"hola\"]\n",
    "b = 3\n",
    "\n",
    "a.__mul__(b) # es otra forma de expresar una multiplicación"
   ]
  },
  {
   "cell_type": "code",
   "execution_count": 14,
   "metadata": {},
   "outputs": [],
   "source": [
    "None"
   ]
  },
  {
   "cell_type": "code",
   "execution_count": 15,
   "metadata": {},
   "outputs": [
    {
     "data": {
      "text/plain": [
       "True"
      ]
     },
     "execution_count": 15,
     "metadata": {},
     "output_type": "execute_result"
    }
   ],
   "source": [
    "None is None"
   ]
  },
  {
   "cell_type": "code",
   "execution_count": 13,
   "metadata": {},
   "outputs": [
    {
     "name": "stdout",
     "output_type": "stream",
     "text": [
      "['False', 'None', 'True', 'and', 'as', 'assert', 'async', 'await', 'break', 'class', 'continue', 'def', 'del', 'elif', 'else', 'except', 'finally', 'for', 'from', 'global', 'if', 'import', 'in', 'is', 'lambda', 'nonlocal', 'not', 'or', 'pass', 'raise', 'return', 'try', 'while', 'with', 'yield']\n"
     ]
    }
   ],
   "source": [
    "import keyword\n",
    "print(keyword.kwlist)"
   ]
  },
  {
   "cell_type": "markdown",
   "metadata": {
    "id": "Ztq4hPUGsz8H"
   },
   "source": [
    "Si hacemos un print de un texto, podemos concatenar valores de variables mediante `%s`."
   ]
  },
  {
   "cell_type": "code",
   "execution_count": 16,
   "metadata": {
    "id": "9HtC_3Jasz8I"
   },
   "outputs": [
    {
     "name": "stdout",
     "output_type": "stream",
     "text": [
      "Los beneficios de junio han sido 900 millones\n"
     ]
    }
   ],
   "source": [
    "mes = \"junio\"\n",
    "print(\"Los beneficios de %s han sido %s millones\" %(mes, beneficios))"
   ]
  },
  {
   "cell_type": "code",
   "execution_count": 17,
   "metadata": {},
   "outputs": [
    {
     "data": {
      "text/plain": [
       "'Los beneficios de junio han sido 900 millones'"
      ]
     },
     "execution_count": 17,
     "metadata": {},
     "output_type": "execute_result"
    }
   ],
   "source": [
    "f\"Los beneficios de {mes} han sido {beneficios} millones\""
   ]
  },
  {
   "cell_type": "code",
   "execution_count": null,
   "metadata": {},
   "outputs": [
    {
     "data": {
      "text/plain": [
       "'Los beneficios de {mes} han sido {beneficios} millones'"
      ]
     },
     "execution_count": 20,
     "metadata": {},
     "output_type": "execute_result"
    }
   ],
   "source": [
    "f\"Los beneficios de {{mes}} han sido {{beneficios}} millones\""
   ]
  },
  {
   "cell_type": "code",
   "execution_count": 21,
   "metadata": {},
   "outputs": [
    {
     "data": {
      "text/plain": [
       "'Los beneficios junio han sido 900 millones'"
      ]
     },
     "execution_count": 21,
     "metadata": {},
     "output_type": "execute_result"
    }
   ],
   "source": [
    "\"Los beneficios {0} han sido {1} millones\".format(mes, beneficios)"
   ]
  },
  {
   "cell_type": "markdown",
   "metadata": {
    "id": "W_OVzYZpsz8J"
   },
   "source": [
    "Otra opcion si queremos imprimir por pantalla varios strings, es separandolos por comas en el `print`. Fíjate que le añade espacios en la salida cada vez que ponemos un valor nuevo entre comas."
   ]
  },
  {
   "cell_type": "code",
   "execution_count": 10,
   "metadata": {
    "id": "e7GTTG7Asz8K"
   },
   "outputs": [
    {
     "ename": "NameError",
     "evalue": "name 'mes' is not defined",
     "output_type": "error",
     "traceback": [
      "\u001b[31m---------------------------------------------------------------------------\u001b[39m",
      "\u001b[31mNameError\u001b[39m                                 Traceback (most recent call last)",
      "\u001b[36mCell\u001b[39m\u001b[36m \u001b[39m\u001b[32mIn[10]\u001b[39m\u001b[32m, line 1\u001b[39m\n\u001b[32m----> \u001b[39m\u001b[32m1\u001b[39m \u001b[38;5;28mprint\u001b[39m(\u001b[33m\"\u001b[39m\u001b[33mLos beneficios de \u001b[39m\u001b[38;5;132;01m%s\u001b[39;00m\u001b[33m han sido \u001b[39m\u001b[38;5;132;01m%s\u001b[39;00m\u001b[33m millones\u001b[39m\u001b[33m\"\u001b[39m %(beneficios, \u001b[43mmes\u001b[49m))\n",
      "\u001b[31mNameError\u001b[39m: name 'mes' is not defined"
     ]
    }
   ],
   "source": [
    "print(\"Los beneficios de %s han sido %s millones\" %(beneficios, mes))"
   ]
  },
  {
   "cell_type": "code",
   "execution_count": 29,
   "metadata": {},
   "outputs": [
    {
     "name": "stdout",
     "output_type": "stream",
     "text": [
      "Los beneficios de agosto han sido 900 millones\n"
     ]
    }
   ],
   "source": [
    "mes = \"agosto\"\n",
    "print(\"Los beneficios de\", mes , \"han sido\", beneficios, \"millones\")"
   ]
  },
  {
   "cell_type": "code",
   "execution_count": 40,
   "metadata": {},
   "outputs": [
    {
     "name": "stdout",
     "output_type": "stream",
     "text": [
      "hola___1___2___3\ttabulador\n",
      "finadios\n",
      "\"comillas\" 'comillas' \\\n"
     ]
    }
   ],
   "source": [
    "print(\"hola\", 1, 2, 3, sep=\"___\", end=\"\\ttabulador\\nfin\")\n",
    "print(\"adios\") # su sep = \" \" y su end = \"\\n\"\n",
    "print(\"\\\"comillas\\\" 'comillas' \\\\\")"
   ]
  },
  {
   "cell_type": "code",
   "execution_count": 42,
   "metadata": {},
   "outputs": [
    {
     "name": "stdout",
     "output_type": "stream",
     "text": [
      "esto es un\n",
      "comentario\n",
      "multilinea\n",
      "\n",
      "¿de acuerdo?\n"
     ]
    }
   ],
   "source": [
    "# esto es un comentario de una linea\n",
    "\n",
    "mensaje = '''esto es un\n",
    "comentario\n",
    "multilinea\n",
    "\n",
    "¿de acuerdo?'''\n",
    "\n",
    "print(mensaje)"
   ]
  },
  {
   "cell_type": "code",
   "execution_count": 45,
   "metadata": {},
   "outputs": [
    {
     "name": "stdout",
     "output_type": "stream",
     "text": [
      "3\n"
     ]
    }
   ],
   "source": [
    "x, y , z = 1, 2, 3 #es una tupla, es lo mismo que si lo pongo entre paréntesis\n",
    "(x, y , z) = (1, 2, 3)\n",
    "print(z)"
   ]
  },
  {
   "cell_type": "markdown",
   "metadata": {
    "id": "vdj2DkwVsz8K"
   },
   "source": [
    "## Comentarios\n",
    "[al indice](#Contenidos)\n",
    "Se trata de texto que va junto con el código, y que el intérprete de Python ignora por completo. Muy útil para documentar y explicar el código"
   ]
  },
  {
   "cell_type": "code",
   "execution_count": 8,
   "metadata": {
    "id": "tNN4NXBosz8L"
   },
   "outputs": [
    {
     "name": "stdout",
     "output_type": "stream",
     "text": [
      "Esto sí sale por pantalla\n"
     ]
    }
   ],
   "source": [
    "# comentario de línea\n",
    "# print (\"esto no se imprime por pantalla\")\n",
    "\n",
    "print(\"Esto sí sale por pantalla\")"
   ]
  },
  {
   "cell_type": "code",
   "execution_count": 9,
   "metadata": {
    "id": "xAMl3XMZsz8L"
   },
   "outputs": [
    {
     "name": "stdout",
     "output_type": "stream",
     "text": [
      "Fin del programa\n"
     ]
    }
   ],
   "source": [
    "print (\"Fin del programa\") # esta línea indica que hemos terminado"
   ]
  },
  {
   "cell_type": "code",
   "execution_count": 15,
   "metadata": {
    "id": "kLfdySz4sz8M"
   },
   "outputs": [
    {
     "ename": "SyntaxError",
     "evalue": "invalid syntax (1771733436.py, line 12)",
     "output_type": "error",
     "traceback": [
      "  \u001b[36mCell\u001b[39m\u001b[36m \u001b[39m\u001b[32mIn[15]\u001b[39m\u001b[32m, line 12\u001b[39m\n\u001b[31m    \u001b[39m\u001b[31mComentario multilínea\u001b[39m\n               ^\n\u001b[31mSyntaxError\u001b[39m\u001b[31m:\u001b[39m invalid syntax\n"
     ]
    }
   ],
   "source": [
    "'''\n",
    "Comentario multilínea\n",
    "Puedo usar varias líneas sin tener que repetir el #\n",
    "''' \n",
    "\n",
    "\"\"\"\n",
    "Comentario multilínea\n",
    "Puedo usar varias líneas sin tener que repetir el #\n",
    "\"\"\"\n",
    "\n",
    "/*\n",
    "Comentario multilínea no válido como en TIA Portal\n",
    "Puedo usar varias líneas sin tener que repetir el #\n",
    "*/\n",
    "\n",
    "Si pulsas control + / se comentará todo el texto que selecciones:\n",
    "\"\"\" Python\n",
    "    # Comentario multilínea\n",
    "    # Puedo usar varias líneas sin tener que repetir el #\n",
    "    # Comentario multilínea\n",
    "    # Puedo usar varias líneas sin tener que repetir el #\n",
    "    # Comentario multilínea\n",
    "    # Puedo usar varias líneas sin tener que repetir el #\n",
    "    # Comentario multilínea\n",
    "    # Puedo usar varias líneas sin tener que repetir el #\n",
    "\"\"\""
   ]
  },
  {
   "cell_type": "code",
   "execution_count": null,
   "metadata": {
    "id": "mKjNNl9usz8M"
   },
   "outputs": [],
   "source": []
  },
  {
   "cell_type": "markdown",
   "metadata": {
    "id": "YjKKvIcvsz8N"
   },
   "source": [
    "**IMPORTATE**. SIEMPRE comentar el código. Nunca sabes quén lo puede heredar. Te dejo en [este link](https://realpython.com/python-comments-guide/) una guía interesante sobre cómo comentar tu código."
   ]
  },
  {
   "cell_type": "markdown",
   "metadata": {
    "id": "DvY8MqBFsz8P"
   },
   "source": [
    "## Flujos de ejecución\n",
    "[al indice](#Contenidos)\n",
    "Los programas de Python se ejecutan secuencialmente, por lo que el orden en el que escribas las operaciones es determinante"
   ]
  },
  {
   "cell_type": "code",
   "execution_count": 16,
   "metadata": {
    "id": "fQLF5Hi9sz8Q"
   },
   "outputs": [
    {
     "ename": "NameError",
     "evalue": "name 'ventas_junio' is not defined",
     "output_type": "error",
     "traceback": [
      "\u001b[31m---------------------------------------------------------------------------\u001b[39m",
      "\u001b[31mNameError\u001b[39m                                 Traceback (most recent call last)",
      "\u001b[36mCell\u001b[39m\u001b[36m \u001b[39m\u001b[32mIn[16]\u001b[39m\u001b[32m, line 1\u001b[39m\n\u001b[32m----> \u001b[39m\u001b[32m1\u001b[39m ventas_jun_jul = \u001b[43mventas_junio\u001b[49m + ventas_julio\n\u001b[32m      3\u001b[39m ventas_junio = \u001b[32m100\u001b[39m\n\u001b[32m      4\u001b[39m ventas_julio = \u001b[32m150\u001b[39m\n",
      "\u001b[31mNameError\u001b[39m: name 'ventas_junio' is not defined"
     ]
    }
   ],
   "source": [
    "ventas_jun_jul = ventas_junio + ventas_julio\n",
    "\n",
    "ventas_junio = 100\n",
    "ventas_julio = 150"
   ]
  },
  {
   "cell_type": "markdown",
   "metadata": {
    "id": "AQad9bd5sz8R"
   },
   "source": [
    "**Da error**, primero tenemos que declarar las ventas, y luego sumarlas.\n"
   ]
  },
  {
   "cell_type": "code",
   "execution_count": 21,
   "metadata": {
    "id": "bHDb4Wu0sz8R"
   },
   "outputs": [
    {
     "name": "stdout",
     "output_type": "stream",
     "text": [
      "250\n",
      "Las ventas de junio a julio son 250\n"
     ]
    }
   ],
   "source": [
    "ventas_junio = 100\n",
    "ventas_julio = 150\n",
    "\n",
    "ventas_jun_jul = ventas_junio + ventas_julio\n",
    "print(ventas_jun_jul)\n",
    "print(\"Las ventas de junio a julio son\", ventas_jun_jul)"
   ]
  },
  {
   "cell_type": "markdown",
   "metadata": {
    "id": "RpiNY_DDsz8T"
   },
   "source": [
    "\n",
    "**¿Cuándo acaba una línea de código?**. El salto de línea lo interpreta Python como una nueva instrucción. En muchos lengujes, como Java hay que especificar el fin de la sentencia de código mediante `;`. En Python no es necesario, aunque se puede usar igualmente."
   ]
  },
  {
   "cell_type": "code",
   "execution_count": 24,
   "metadata": {
    "id": "1Y36Th3asz8U"
   },
   "outputs": [
    {
     "name": "stdout",
     "output_type": "stream",
     "text": [
      "1.8 75\n",
      "1.8 , 75\n"
     ]
    }
   ],
   "source": [
    "altura = 1.80; peso = 75\n",
    "print (altura, peso)\n",
    "print (altura, \",\", peso)"
   ]
  },
  {
   "cell_type": "code",
   "execution_count": 25,
   "metadata": {
    "id": "DeNp6TuOsz8V"
   },
   "outputs": [],
   "source": [
    "x, y, z = 12, 23, 45"
   ]
  },
  {
   "cell_type": "code",
   "execution_count": 26,
   "metadata": {},
   "outputs": [],
   "source": [
    "x = 12\n",
    "y = 23\n",
    "z = 45"
   ]
  },
  {
   "cell_type": "markdown",
   "metadata": {
    "id": "05D06kawsz8V"
   },
   "source": [
    "## Del\n",
    "[al indice](#Contenidos)\n",
    "Es la sentencia que usaremos para borrar una variable. La verdad, no se suelen borrar variables. Vamos desarrollando los programas de Python sin preocuparnos de limpiar aquellas variables que no usamos. Normalmente no borrarlas no suele ser un problema, pero cuando manejamos un gran volumen de datos, podemos sufrir problemas de rendimiento ya que **las variables ocupan memoria**.\n",
    "\n",
    "Cuando las variables son las que hemos visto hasta ahora, no pasa nada, pero si son más pesadas, como por ejemplo datasets de imágenes que ocupan mucho, sí va a venir bien eliminar aquellas que no usemos."
   ]
  },
  {
   "cell_type": "code",
   "execution_count": 27,
   "metadata": {
    "id": "iw3UNr4xsz8W"
   },
   "outputs": [
    {
     "name": "stdout",
     "output_type": "stream",
     "text": [
      "1.85\n"
     ]
    }
   ],
   "source": [
    "altura = 1.85\n",
    "print(altura)\n",
    "\n",
    "del altura"
   ]
  },
  {
   "cell_type": "code",
   "execution_count": 28,
   "metadata": {
    "id": "7GNp56rysz8Y"
   },
   "outputs": [
    {
     "ename": "NameError",
     "evalue": "name 'altura' is not defined",
     "output_type": "error",
     "traceback": [
      "\u001b[31m---------------------------------------------------------------------------\u001b[39m",
      "\u001b[31mNameError\u001b[39m                                 Traceback (most recent call last)",
      "\u001b[36mCell\u001b[39m\u001b[36m \u001b[39m\u001b[32mIn[28]\u001b[39m\u001b[32m, line 1\u001b[39m\n\u001b[32m----> \u001b[39m\u001b[32m1\u001b[39m \u001b[38;5;28mprint\u001b[39m(\u001b[43maltura\u001b[49m)\n",
      "\u001b[31mNameError\u001b[39m: name 'altura' is not defined"
     ]
    }
   ],
   "source": [
    "print(altura)"
   ]
  },
  {
   "cell_type": "code",
   "execution_count": null,
   "metadata": {},
   "outputs": [
    {
     "ename": "ValueError",
     "evalue": "invalid literal for int() with base 10: '98.25'",
     "output_type": "error",
     "traceback": [
      "\u001b[31m---------------------------------------------------------------------------\u001b[39m",
      "\u001b[31mValueError\u001b[39m                                Traceback (most recent call last)",
      "\u001b[36mCell\u001b[39m\u001b[36m \u001b[39m\u001b[32mIn[46]\u001b[39m\u001b[32m, line 1\u001b[39m\n\u001b[32m----> \u001b[39m\u001b[32m1\u001b[39m \u001b[38;5;28mprint\u001b[39m(\u001b[38;5;28;43mint\u001b[39;49m\u001b[43m(\u001b[49m\u001b[33;43m\"\u001b[39;49m\u001b[33;43m98.25\u001b[39;49m\u001b[33;43m\"\u001b[39;49m\u001b[43m)\u001b[49m)  \u001b[38;5;66;03m# Esto dará un error porque \"98.25\" no es un entero válido\u001b[39;00m\n",
      "\u001b[31mValueError\u001b[39m: invalid literal for int() with base 10: '98.25'"
     ]
    }
   ],
   "source": [
    "print(int(\"98.25\"))  # Esto dará un error porque \"98.25\" no es un entero válido\n",
    "\n",
    "# no se puede pasar directamente de str-->float ---> int"
   ]
  },
  {
   "cell_type": "code",
   "execution_count": 47,
   "metadata": {},
   "outputs": [
    {
     "name": "stdout",
     "output_type": "stream",
     "text": [
      "98.25\n",
      "98\n",
      "98\n"
     ]
    }
   ],
   "source": [
    "numero = \"98.25\"\n",
    "print(float(numero))  # Primero convierte a float\n",
    "print(int(float(numero)))  # Luego convierte a int\n",
    "print(int(float(\"98.25\")))  # Una sola línea para convertir de str a int\n"
   ]
  },
  {
   "cell_type": "code",
   "execution_count": 49,
   "metadata": {},
   "outputs": [
    {
     "name": "stdout",
     "output_type": "stream",
     "text": [
      "Hola, mundo!\n"
     ]
    }
   ],
   "source": [
    "print.__call__(\"Hola, mundo!\")  # Llamada directa a la función print usando __call__"
   ]
  },
  {
   "cell_type": "code",
   "execution_count": 50,
   "metadata": {},
   "outputs": [
    {
     "data": {
      "text/plain": [
       "<function print(*args, sep=' ', end='\\n', file=None, flush=False)>"
      ]
     },
     "execution_count": 50,
     "metadata": {},
     "output_type": "execute_result"
    }
   ],
   "source": [
    "print"
   ]
  },
  {
   "cell_type": "code",
   "execution_count": null,
   "metadata": {},
   "outputs": [
    {
     "data": {
      "text/plain": [
       "'hola'"
      ]
     },
     "execution_count": 53,
     "metadata": {},
     "output_type": "execute_result"
    }
   ],
   "source": [
    "nombre = input(\"Escribe tu nombre: \")\n",
    "primer_input = input(f\"Escribe lo que quieras, {nombre}, por favor: \")\n",
    "# no puedo hacer --> primer_input = input(\"Escribe lo que quieras\", nombre, \"por favor: \")\n",
    "primer_input"
   ]
  },
  {
   "cell_type": "code",
   "execution_count": 54,
   "metadata": {},
   "outputs": [
    {
     "name": "stdout",
     "output_type": "stream",
     "text": [
      "The Zen of Python, by Tim Peters\n",
      "\n",
      "Beautiful is better than ugly.\n",
      "Explicit is better than implicit.\n",
      "Simple is better than complex.\n",
      "Complex is better than complicated.\n",
      "Flat is better than nested.\n",
      "Sparse is better than dense.\n",
      "Readability counts.\n",
      "Special cases aren't special enough to break the rules.\n",
      "Although practicality beats purity.\n",
      "Errors should never pass silently.\n",
      "Unless explicitly silenced.\n",
      "In the face of ambiguity, refuse the temptation to guess.\n",
      "There should be one-- and preferably only one --obvious way to do it.\n",
      "Although that way may not be obvious at first unless you're Dutch.\n",
      "Now is better than never.\n",
      "Although never is often better than *right* now.\n",
      "If the implementation is hard to explain, it's a bad idea.\n",
      "If the implementation is easy to explain, it may be a good idea.\n",
      "Namespaces are one honking great idea -- let's do more of those!\n"
     ]
    }
   ],
   "source": [
    "import this"
   ]
  },
  {
   "cell_type": "code",
   "execution_count": null,
   "metadata": {},
   "outputs": [
    {
     "data": {
      "text/plain": [
       "5.0"
      ]
     },
     "execution_count": 56,
     "metadata": {},
     "output_type": "execute_result"
    }
   ],
   "source": [
    "import math #importo el módulo math AL COMPLETO\n",
    "\n",
    "# la raiz cuadrada de 25\n",
    "math.sqrt(25)  # Esto devuelve 5.0"
   ]
  },
  {
   "cell_type": "code",
   "execution_count": 57,
   "metadata": {},
   "outputs": [
    {
     "data": {
      "text/plain": [
       "5.0"
      ]
     },
     "execution_count": 57,
     "metadata": {},
     "output_type": "execute_result"
    }
   ],
   "source": [
    "from math import sqrt  # Importo solo la función sqrt del módulo math\n",
    "sqrt(25)  # Esto también devuelve 5.0"
   ]
  },
  {
   "cell_type": "code",
   "execution_count": 62,
   "metadata": {},
   "outputs": [
    {
     "data": {
      "text/plain": [
       "3"
      ]
     },
     "execution_count": 62,
     "metadata": {},
     "output_type": "execute_result"
    }
   ],
   "source": [
    "abs(-3)"
   ]
  },
  {
   "cell_type": "code",
   "execution_count": 67,
   "metadata": {},
   "outputs": [
    {
     "data": {
      "text/plain": [
       "3.0"
      ]
     },
     "execution_count": 67,
     "metadata": {},
     "output_type": "execute_result"
    }
   ],
   "source": [
    "from math import fabs  # Importo la función fabs del módulo math\n",
    "fabs(-3)  # Esto devuelve 3.0, pero en FLOAT porque le he puesto una f delante"
   ]
  },
  {
   "cell_type": "code",
   "execution_count": 68,
   "metadata": {},
   "outputs": [
    {
     "data": {
      "text/plain": [
       "3.141592653589793"
      ]
     },
     "execution_count": 68,
     "metadata": {},
     "output_type": "execute_result"
    }
   ],
   "source": [
    "from math import pi\n",
    "pi"
   ]
  },
  {
   "cell_type": "code",
   "execution_count": 72,
   "metadata": {},
   "outputs": [
    {
     "data": {
      "text/plain": [
       "True"
      ]
     },
     "execution_count": 72,
     "metadata": {},
     "output_type": "execute_result"
    }
   ],
   "source": [
    "True == 1 \n",
    "# Esto es True porque en Python, True es equivalente a 1 (booleano), Falso sería 0 o todo lo distinto de 1"
   ]
  },
  {
   "cell_type": "code",
   "execution_count": 73,
   "metadata": {},
   "outputs": [
    {
     "data": {
      "text/plain": [
       "True"
      ]
     },
     "execution_count": 73,
     "metadata": {},
     "output_type": "execute_result"
    }
   ],
   "source": [
    "# para comparar se usa objeti1.__eq__(objeto2)\n",
    "True.__eq__(1)  # Esto devuelve True"
   ]
  },
  {
   "cell_type": "code",
   "execution_count": 76,
   "metadata": {},
   "outputs": [
    {
     "ename": "TypeError",
     "evalue": "'>=' not supported between instances of 'str' and 'int'",
     "output_type": "error",
     "traceback": [
      "\u001b[31m---------------------------------------------------------------------------\u001b[39m",
      "\u001b[31mTypeError\u001b[39m                                 Traceback (most recent call last)",
      "\u001b[36mCell\u001b[39m\u001b[36m \u001b[39m\u001b[32mIn[76]\u001b[39m\u001b[32m, line 3\u001b[39m\n\u001b[32m      1\u001b[39m \u001b[38;5;66;03m#Puedo igualar y comparar números pero en el caso de str sólo puedo igualar, no comparar\u001b[39;00m\n\u001b[32m      2\u001b[39m \u001b[33m\"\u001b[39m\u001b[33mhola\u001b[39m\u001b[33m\"\u001b[39m == \u001b[33m\"\u001b[39m\u001b[33mhola\u001b[39m\u001b[33m\"\u001b[39m  \u001b[38;5;66;03m# Esto devuelve True  \u001b[39;00m\n\u001b[32m----> \u001b[39m\u001b[32m3\u001b[39m \u001b[33;43m\"\u001b[39;49m\u001b[33;43mhola\u001b[39;49m\u001b[33;43m\"\u001b[39;49m\u001b[43m \u001b[49m\u001b[43m>\u001b[49m\u001b[43m=\u001b[49m\u001b[43m \u001b[49m\u001b[32;43m8\u001b[39;49m  \u001b[38;5;66;03m# Esto no es posible, dará un error porque no se pueden comparar str con int\u001b[39;00m\n",
      "\u001b[31mTypeError\u001b[39m: '>=' not supported between instances of 'str' and 'int'"
     ]
    }
   ],
   "source": [
    "#Puedo igualar y comparar números pero en el caso de str sólo puedo igualar, no comparar\n",
    "\"hola\" == \"hola\"  # Esto devuelve True  \n",
    "\"hola\" >= 8  # Esto no es posible, dará un error porque no se pueden comparar str con int\n"
   ]
  },
  {
   "cell_type": "code",
   "execution_count": 79,
   "metadata": {},
   "outputs": [
    {
     "data": {
      "text/plain": [
       "[1, 2, 3, 4, 7]"
      ]
     },
     "execution_count": 79,
     "metadata": {},
     "output_type": "execute_result"
    }
   ],
   "source": [
    "sorted([3, 1, 2, 7, 4])  # Esto devuelve [1, 2, 3], ordena la lista de menor a mayor"
   ]
  },
  {
   "cell_type": "code",
   "execution_count": 86,
   "metadata": {},
   "outputs": [
    {
     "name": "stdout",
     "output_type": "stream",
     "text": [
      "[3, 1, 2, 7, 4]\n",
      "None\n",
      "[1, 2, 3, 4, 7]\n"
     ]
    }
   ],
   "source": [
    "lista = [3, 1, 2, 7, 4]\n",
    "print(lista) \n",
    "\n",
    "print(lista.sort())  # Esto imprime None porque sort() no devuelve una nueva lista, sino que modifica la original\n",
    "lista.sort()  # Esto ordena la lista en su lugar, modificando la lista original\n",
    "# sort devuelve None, porque no aparece la lista ya ordenada\n",
    "\n",
    "print(lista)  # Esto imprime la lista ya ordenada: [1, 2, 3, 4, 7]"
   ]
  },
  {
   "cell_type": "code",
   "execution_count": null,
   "metadata": {},
   "outputs": [],
   "source": [
    "'''\n",
    "El orden de las operaciones lógicas en Python es el siguiente:\n",
    "\n",
    "NOT\n",
    "AND\n",
    "OR\n",
    "'''"
   ]
  },
  {
   "cell_type": "code",
   "execution_count": null,
   "metadata": {},
   "outputs": [
    {
     "name": "stdout",
     "output_type": "stream",
     "text": [
      "ADIÓS\n",
      "adiós\n"
     ]
    }
   ],
   "source": [
    "'''\n",
    "Los int, float y str son INMUTABLES, no se pueden modificar una vez creados.\n",
    "Por ejemplo, si tengo una cadena en minúsculas y quiero convertirla a mayúsculas, \n",
    "no puedo cambiar la cadena original, sino que debo crear una nueva cadena.\n",
    "'''\n",
    "\n",
    "cadena = \"adiós\"\n",
    "print(cadena.upper())  # Esto devuelve \"ADIOS\", pero no modifica la cadena original\n",
    "print(cadena)  # Esto sigue imprimiendo \"adiós\", la cadena original permanece sin cambios"
   ]
  }
 ],
 "metadata": {
  "colab": {
   "provenance": []
  },
  "kernelspec": {
   "display_name": "Python 3",
   "language": "python",
   "name": "python3"
  },
  "language_info": {
   "codemirror_mode": {
    "name": "ipython",
    "version": 3
   },
   "file_extension": ".py",
   "mimetype": "text/x-python",
   "name": "python",
   "nbconvert_exporter": "python",
   "pygments_lexer": "ipython3",
   "version": "3.13.3"
  },
  "nbTranslate": {
   "displayLangs": [
    "*"
   ],
   "hotkey": "alt-t",
   "langInMainMenu": true,
   "sourceLang": "en",
   "targetLang": "fr",
   "useGoogleTranslate": true
  },
  "varInspector": {
   "cols": {
    "lenName": 16,
    "lenType": 16,
    "lenVar": 40
   },
   "kernels_config": {
    "python": {
     "delete_cmd_postfix": "",
     "delete_cmd_prefix": "del ",
     "library": "var_list.py",
     "varRefreshCmd": "print(var_dic_list())"
    },
    "r": {
     "delete_cmd_postfix": ") ",
     "delete_cmd_prefix": "rm(",
     "library": "var_list.r",
     "varRefreshCmd": "cat(var_dic_list()) "
    }
   },
   "types_to_exclude": [
    "module",
    "function",
    "builtin_function_or_method",
    "instance",
    "_Feature"
   ],
   "window_display": false
  }
 },
 "nbformat": 4,
 "nbformat_minor": 4
}

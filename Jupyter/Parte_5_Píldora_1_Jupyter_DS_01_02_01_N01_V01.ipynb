{
 "cells": [
  {
   "cell_type": "markdown",
   "metadata": {
    "id": "pGcm3_iWzOTv"
   },
   "source": [
    "![TheBridge_Python_v0.png](attachment:TheBridge_Python_v0.png)"
   ]
  },
  {
   "cell_type": "markdown",
   "metadata": {
    "id": "luysepyzzOTx"
   },
   "source": [
    "# Python Colecciones: Listas\n",
    "\n",
    "\n",
    "Las colecciones son una manera de agrupar varios elementos. En otros notebooks vimos cómo funcionan las listas, que es la colección más usada, pero se trata solo de la punta del iceberg. Con Python tenemos varias manera de almacenar conjuntos de datos, dependiendo del tipo de dato, finalidad, tipo de acceso y rendimiento.\n",
    "  \n",
    "En este primer notebook vamos a repasar las listas y luego continuaremos con los otros tipo de colecciones básicos que tenemos en Python."
   ]
  },
  {
   "cell_type": "markdown",
   "metadata": {
    "id": "4N8n7MHCzOTz"
   },
   "source": [
    "##  Listas\n"
   ]
  },
  {
   "cell_type": "markdown",
   "metadata": {
    "id": "n4u20Vr4zOT0"
   },
   "source": [
    "### Contenidos\n"
   ]
  },
  {
   "cell_type": "markdown",
   "metadata": {
    "id": "X2hDy3sbzOT0"
   },
   "source": [
    "* [Introducción](#Introducción)\n",
    "\n",
    "* [Acceso](#Acceso)\n",
    "\n",
    "* [Modificar elementos](#Modificar-elementos)\n",
    "\n",
    "* [Añadir elementos](#Añadir-elementos)\n",
    "\n",
    "* [Eliminar elementos](#Eliminar-elementos)\n",
    "\n",
    "* [Métodos: ordenar, tamaño, invertir orden, ocurrencia](#Métodos:-ordenar,-tamaño,-invertir-orden,-ocurrencia)\n",
    "\n"
   ]
  },
  {
   "cell_type": "markdown",
   "metadata": {
    "id": "BtxlRbTtzOT1"
   },
   "source": [
    "### Introducción\n",
    "[al indice](#Contenidos)  \n",
    "\n",
    "Ya conocemos bastante las listas. Veamos un repaso de lo que podemos hacer con ellas, así como algunas funcionalidades nuevas"
   ]
  },
  {
   "cell_type": "code",
   "execution_count": 1,
   "metadata": {
    "id": "2vtsWuDZzOT2"
   },
   "outputs": [],
   "source": [
    "# Listas de números, strings, booleanos, con elementos repetidos, listas anidadas...\n",
    "nums = [6, 2, 8, 3, 4, 5, 5]\n",
    "months = [\"Enero\", \"Febrero\", \"Marzo\"]\n",
    "mix = [5, 7, \"Abril\", True, None, [\"Blanco\", \"Negro\"]]"
   ]
  },
  {
   "cell_type": "markdown",
   "metadata": {
    "id": "GAzCSIOJzOT3"
   },
   "source": [
    "### Acceso\n",
    "[al indice](#Contenidos)  \n",
    "\n",
    "Entre corchetes introducimos el indice del elemento al que queremos acceder"
   ]
  },
  {
   "cell_type": "code",
   "execution_count": 3,
   "metadata": {
    "id": "uLVDzreRzOT4"
   },
   "outputs": [
    {
     "name": "stdout",
     "output_type": "stream",
     "text": [
      "Enero\n",
      "Marzo\n",
      "Febrero\n"
     ]
    }
   ],
   "source": [
    "months = [\"Enero\", \"Febrero\", \"Marzo\"]\n",
    "print(months[0])\n",
    "print(months[-1])\n",
    "print(months[-2])"
   ]
  },
  {
   "cell_type": "markdown",
   "metadata": {
    "id": "0OV5x_pTzOT4"
   },
   "source": [
    "Si planteamos el problema al revés. Tenemos los valores de la lista y lo que queremos es obtener el índice de esos valores dentro de la lista"
   ]
  },
  {
   "cell_type": "code",
   "execution_count": 8,
   "metadata": {
    "id": "h44JTyb6zOT5"
   },
   "outputs": [
    {
     "name": "stdout",
     "output_type": "stream",
     "text": [
      "1\n",
      "2\n"
     ]
    }
   ],
   "source": [
    "# IMPORTANTE!: el index sólo devuelve el primer elemento encontrado empezando a leer desde el principio, es decir,\n",
    "# en este caso sólo me va a devolver el index del primer \"Marzo\" que se ha encontrado, no de los demás.\n",
    "\n",
    "months = [\"Enero\", \"Febrero\", \"Marzo\", \"Marzo\", \"Marzo\", \"Marzo\"]\n",
    "print(months.index(\"Febrero\")) # nos da 1 porque está en la posición [1]\n",
    "print(months.index(\"Marzo\")) # nos da 2 porque el primero que se encuentra está en la posición [2]"
   ]
  },
  {
   "cell_type": "markdown",
   "metadata": {
    "id": "Or286OzgzOT5"
   },
   "source": [
    "**Slicing**: usamos slicing para acceder a varios elementos seguidos de la lista"
   ]
  },
  {
   "cell_type": "code",
   "execution_count": 20,
   "metadata": {
    "id": "1m8tOckszOT5"
   },
   "outputs": [
    {
     "name": "stdout",
     "output_type": "stream",
     "text": [
      "[34, 15]\n",
      "[34]\n",
      "[]\n",
      "34\n",
      "[34, 15, 26, 18, 22]\n",
      "[34, 15, 26, 18, 22]\n",
      "[34, 15, 26, 18, 22]\n"
     ]
    }
   ],
   "source": [
    "# IMPORTANTE!: si pongo [1:3] se tomarán sólamente los elementos [1] y [2]\n",
    "\n",
    "degrees = [22, 34, 15, 26, 18, 22]\n",
    "\n",
    "sub_degrees_1 = degrees [1:3]\n",
    "sub_degrees_2 = degrees [1:2]\n",
    "sub_degrees_3 = degrees [1:1]\n",
    "sub_degrees_4 = degrees [1]\n",
    "sub_degrees_5 = degrees [1:6] # si quiero tomar también el último valor en posición 5. \n",
    "sub_degrees_6 = degrees [1:len(degrees)] # Si no sé en qué posición está porque hay muchos, usaré len para saber la longitud de la cadena.\n",
    "sub_degrees_7 = degrees [1:] # o lo calculo sin indicar el número final\n",
    "\n",
    "print(sub_degrees_1)\n",
    "print(sub_degrees_2)\n",
    "print(sub_degrees_3)\n",
    "print(sub_degrees_4)\n",
    "print(sub_degrees_5)\n",
    "print(sub_degrees_6)\n",
    "print(sub_degrees_7)"
   ]
  },
  {
   "cell_type": "markdown",
   "metadata": {
    "id": "fBsrJOCZzOT5"
   },
   "source": [
    "### Modificar elementos\n",
    "[al indice](#Contenidos)  \n",
    "\n",
    "Las listas son mutables, por lo que podremos modificarlas"
   ]
  },
  {
   "cell_type": "code",
   "execution_count": 23,
   "metadata": {
    "id": "b7btmnw6zOT5"
   },
   "outputs": [
    {
     "name": "stdout",
     "output_type": "stream",
     "text": [
      "['Enero', 'Abril', 'Marzo']\n"
     ]
    }
   ],
   "source": [
    "# Accediendo mediante el indice cambio un elemento por otro (MUTAR)\n",
    "\n",
    "months = [\"Enero\", \"Febrero\", \"Marzo\"]\n",
    "months[1] = \"Abril\" # en la posición [1], que no es la primera\n",
    "print(months)"
   ]
  },
  {
   "cell_type": "markdown",
   "metadata": {
    "id": "cODEBby0zOT6"
   },
   "source": [
    "### Añadir elementos\n",
    "[al indice](#Contenidos)  \n",
    "\n",
    "Se añade al final de la lista si usamos `append`, o si queremos en un lugar concreto, mediante `insert`"
   ]
  },
  {
   "cell_type": "code",
   "execution_count": 24,
   "metadata": {
    "id": "Hwl0laEOzOT6"
   },
   "outputs": [
    {
     "name": "stdout",
     "output_type": "stream",
     "text": [
      "['honda', 'yamaha', 'suzuki', 'kawasaki']\n",
      "['honda', 'yamaha', 'suzuki', 'ducati', 'kawasaki']\n"
     ]
    }
   ],
   "source": [
    "# Con APPEND lo añadimos al final de la lista y MODIFICA la lista\n",
    "\n",
    "motorcycles = ['honda', 'yamaha', 'suzuki']\n",
    "motorcycles.append(\"kawasaki\") # siempre se unen AL FINAL, si quiero indicarlo usaré INSERT\n",
    "print(motorcycles)\n",
    "\n",
    "# Inserto una más a la lista creada anteriormente con el apéndice ya añadido\n",
    "motorcycles.insert(3,\"ducati\") # se inserta antes del elemento [3], por lo que queda en la posición [3]\n",
    "print(motorcycles)"
   ]
  },
  {
   "cell_type": "code",
   "execution_count": 33,
   "metadata": {
    "id": "n7FAOqKrzOT6"
   },
   "outputs": [
    {
     "name": "stdout",
     "output_type": "stream",
     "text": [
      "[]\n",
      "['primero']\n",
      "['segundo', 'primero']\n"
     ]
    }
   ],
   "source": [
    "# Es muy comun crear una lista vacia, y a lo largo del programa, ir añadiendo elementos\n",
    "\n",
    "lista_motos = []\n",
    "print(lista_motos)\n",
    "\n",
    "lista_motos.append(\"primero\")\n",
    "print(lista_motos)\n",
    "\n",
    "lista_motos.insert(0,\"segundo\")\n",
    "print(lista_motos)"
   ]
  },
  {
   "cell_type": "markdown",
   "metadata": {
    "id": "amqPCvW6zOT6"
   },
   "source": [
    "### Eliminar elementos\n",
    "[al indice](#Contenidos)  \n",
    "\n",
    "Para eliminar elementos se usar `remove`. Si no existe, da error, así que cuidado con esta sentencia.\n",
    "\n",
    "En ocasiones resulta útil quedarnos con el elemento eliminado. Para ello usamos `pop()`, que elimina el elemento que le indiquemos, y además devuelve ese elemento por lo que podremos guardarlo en una variable para usarlo después."
   ]
  },
  {
   "cell_type": "code",
   "execution_count": 34,
   "metadata": {
    "id": "RrLEVPRFzOT7"
   },
   "outputs": [
    {
     "name": "stdout",
     "output_type": "stream",
     "text": [
      "['Seat', 'BMW', 'VW', 'VW', 'VW']\n"
     ]
    }
   ],
   "source": [
    "cars = [\"VW\", \"Seat\", \"BMW\", \"VW\", \"VW\", \"VW\"]\n",
    "\n",
    "# IMPORTANTE!: sólo se elimina el primer elemento que se encuentra que se llame igual, lo demás no\n",
    "cars.remove(\"VW\")\n",
    "print(cars)"
   ]
  },
  {
   "cell_type": "code",
   "execution_count": 35,
   "metadata": {
    "id": "YyMn5muAzOT7"
   },
   "outputs": [
    {
     "name": "stdout",
     "output_type": "stream",
     "text": [
      "['VW', 'BMW', 'VW', 'VW', 'VW']\n",
      "Seat\n"
     ]
    }
   ],
   "source": [
    "# Eiminar elementos por indice, y guarda ese valor en una variable\n",
    "\n",
    "cars = [\"VW\", \"Seat\", \"BMW\", \"VW\", \"VW\", \"VW\"]\n",
    "eliminar = cars.pop(1) # elimino el que está en posición [1] que es SEAT y lo guardo en una variable \"eliminar\" por si lo necesitase después\n",
    "print(cars)\n",
    "print(eliminar) "
   ]
  },
  {
   "cell_type": "markdown",
   "metadata": {
    "id": "4EwTuQKTzOT7"
   },
   "source": [
    "<table align=\"left\">\n",
    " <tr>\n",
    "     <td style=\"text-align:left\">\n",
    "         <h3>ERRORES remove</h3>\n",
    "         \n",
    " </td></tr>\n",
    "</table>"
   ]
  },
  {
   "cell_type": "code",
   "execution_count": 36,
   "metadata": {
    "id": "OhWH60h_zOT7"
   },
   "outputs": [
    {
     "ename": "ValueError",
     "evalue": "list.remove(x): x not in list",
     "output_type": "error",
     "traceback": [
      "\u001b[31m---------------------------------------------------------------------------\u001b[39m",
      "\u001b[31mValueError\u001b[39m                                Traceback (most recent call last)",
      "\u001b[36mCell\u001b[39m\u001b[36m \u001b[39m\u001b[32mIn[36]\u001b[39m\u001b[32m, line 4\u001b[39m\n\u001b[32m      1\u001b[39m \u001b[38;5;66;03m# Si le digo que elimine algo que no está en la lista, nos da un ERROR\u001b[39;00m\n\u001b[32m      3\u001b[39m cars = [\u001b[33m\"\u001b[39m\u001b[33mVW\u001b[39m\u001b[33m\"\u001b[39m, \u001b[33m\"\u001b[39m\u001b[33mSeat\u001b[39m\u001b[33m\"\u001b[39m, \u001b[33m\"\u001b[39m\u001b[33mBMW\u001b[39m\u001b[33m\"\u001b[39m, \u001b[33m\"\u001b[39m\u001b[33mVW\u001b[39m\u001b[33m\"\u001b[39m, \u001b[33m\"\u001b[39m\u001b[33mVW\u001b[39m\u001b[33m\"\u001b[39m, \u001b[33m\"\u001b[39m\u001b[33mVW\u001b[39m\u001b[33m\"\u001b[39m]\n\u001b[32m----> \u001b[39m\u001b[32m4\u001b[39m \u001b[43mcars\u001b[49m\u001b[43m.\u001b[49m\u001b[43mremove\u001b[49m\u001b[43m(\u001b[49m\u001b[33;43m\"\u001b[39;49m\u001b[33;43mtesla\u001b[39;49m\u001b[33;43m\"\u001b[39;49m\u001b[43m)\u001b[49m\n",
      "\u001b[31mValueError\u001b[39m: list.remove(x): x not in list"
     ]
    }
   ],
   "source": [
    "# Si le digo que elimine algo que no está en la lista, nos da un ERROR\n",
    "\n",
    "cars = [\"VW\", \"Seat\", \"BMW\", \"VW\", \"VW\", \"VW\"]\n",
    "cars.remove(\"tesla\")"
   ]
  },
  {
   "cell_type": "markdown",
   "metadata": {
    "id": "7ioY_0HzzOT7"
   },
   "source": [
    "### Métodos: ordenar, tamaño, invertir orden, ocurrencia\n",
    "[al indice](#Contenidos)  \n",
    "\n",
    "En este apartado veremos los métodos más útiles, pero podrás consultar el resto en [este enlace](https://www.w3schools.com/python/python_ref_list.asp)"
   ]
  },
  {
   "cell_type": "code",
   "execution_count": 1,
   "metadata": {
    "id": "sRz1xc0kzOT8"
   },
   "outputs": [
    {
     "name": "stdout",
     "output_type": "stream",
     "text": [
      "['A', 'B', 'C', 'a', 'b', 'c']\n",
      "[15, 18, 22, 22, 26, 34]\n",
      "[34, 26, 22, 22, 18, 15]\n",
      "6\n",
      "[15, 18, 22, 22, 26, 34]\n",
      "2\n"
     ]
    }
   ],
   "source": [
    "# IMPORTANTE: tiene en cuenta el orden en mayúsculas y minúsculas\n",
    "letras = [\"B\", \"c\", \"a\", \"A\", \"C\", \"b\"]\n",
    "letras.sort()\n",
    "print(letras)\n",
    "\n",
    "# para ordenar de menor a mayor\n",
    "degrees = [22, 34, 15, 26, 18, 22]\n",
    "degrees.sort()\n",
    "print(degrees)\n",
    "\n",
    "# para ordenar de mayor a menor\n",
    "degrees.sort(reverse=True)\n",
    "print(degrees)\n",
    "\n",
    "# contar el número de elementos\n",
    "print(len(degrees))\n",
    "\n",
    "# volver a invertir la lista\n",
    "degrees.reverse()\n",
    "print(degrees)\n",
    "\n",
    "# CONTAR: el número de veces que aparece un elemento es la OCURRENCIA\n",
    "print(degrees.count(22)) # cuántas veces se repite el número 22"
   ]
  },
  {
   "cell_type": "markdown",
   "metadata": {
    "id": "4LllYkvpzOT8"
   },
   "source": [
    "<table align=\"left\">\n",
    " <tr>\n",
    "     <td style=\"text-align:left\">\n",
    "         <h3>ERRORES indice</h3>\n",
    "         \n",
    " </td></tr>\n",
    "</table>"
   ]
  },
  {
   "cell_type": "markdown",
   "metadata": {
    "id": "PtXAT0TjzOT8"
   },
   "source": [
    "Mucho cuidado cuando accedemos a los elementos de la lista. Es un error muy habitual acceder a un índice que no existe en la lista.\n",
    "\n",
    "Si estamos accediendo al ultimo elemento, en vez de poner el numero de su indice, poner mejor `-1`, y asi evitamos errores"
   ]
  },
  {
   "cell_type": "code",
   "execution_count": 43,
   "metadata": {
    "id": "kvXEjHhwzOT8"
   },
   "outputs": [
    {
     "ename": "IndexError",
     "evalue": "list index out of range",
     "output_type": "error",
     "traceback": [
      "\u001b[31m---------------------------------------------------------------------------\u001b[39m",
      "\u001b[31mIndexError\u001b[39m                                Traceback (most recent call last)",
      "\u001b[36mCell\u001b[39m\u001b[36m \u001b[39m\u001b[32mIn[43]\u001b[39m\u001b[32m, line 2\u001b[39m\n\u001b[32m      1\u001b[39m degrees = [\u001b[32m22\u001b[39m, \u001b[32m34\u001b[39m, \u001b[32m15\u001b[39m, \u001b[32m26\u001b[39m, \u001b[32m18\u001b[39m, \u001b[32m22\u001b[39m]\n\u001b[32m----> \u001b[39m\u001b[32m2\u001b[39m \u001b[38;5;28mprint\u001b[39m(\u001b[43mdegrees\u001b[49m\u001b[43m[\u001b[49m\u001b[32;43m123\u001b[39;49m\u001b[43m]\u001b[49m)\n\u001b[32m      4\u001b[39m \u001b[38;5;66;03m# nos da un error porque ese elemento no existe en la lista\u001b[39;00m\n",
      "\u001b[31mIndexError\u001b[39m: list index out of range"
     ]
    }
   ],
   "source": [
    "degrees = [22, 34, 15, 26, 18, 22]\n",
    "print(degrees[123])\n",
    "\n",
    "# nos da un error porque ese elemento no existe en la lista"
   ]
  },
  {
   "cell_type": "markdown",
   "metadata": {
    "id": "_2s7whKJzOT8"
   },
   "source": [
    "Si tenemos este tipo de errores y no sabemos resolverlos, lo mejor es imprimir la longitud de la lista, y todos los elementos."
   ]
  },
  {
   "cell_type": "code",
   "execution_count": 44,
   "metadata": {
    "id": "Xq3SxPP3zOT8"
   },
   "outputs": [
    {
     "name": "stdout",
     "output_type": "stream",
     "text": [
      "22\n"
     ]
    }
   ],
   "source": [
    "# lo mejor es hacerlo sabiendo el número de elementos de la lista\n",
    "\n",
    "ultimo = degrees[len(degrees) - 1] # IMPORTANTE: poner \"-1\" ya que aunque haya 6 elementos, el último es la posición [5] porque empieza en [0]\n",
    "print(ultimo)"
   ]
  }
 ],
 "metadata": {
  "colab": {
   "provenance": []
  },
  "kernelspec": {
   "display_name": "Python 3 (ipykernel)",
   "language": "python",
   "name": "python3"
  },
  "language_info": {
   "codemirror_mode": {
    "name": "ipython",
    "version": 3
   },
   "file_extension": ".py",
   "mimetype": "text/x-python",
   "name": "python",
   "nbconvert_exporter": "python",
   "pygments_lexer": "ipython3",
   "version": "3.13.3"
  }
 },
 "nbformat": 4,
 "nbformat_minor": 4
}

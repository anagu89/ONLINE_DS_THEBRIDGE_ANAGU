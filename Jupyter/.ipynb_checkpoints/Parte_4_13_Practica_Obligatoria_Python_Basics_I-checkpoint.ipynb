{
 "cells": [
  {
   "cell_type": "markdown",
   "metadata": {
    "id": "BNCAebJANPxq"
   },
   "source": [
    "![TheBridge_logo_RGB_color.jpg](attachment:TheBridge_logo_RGB_color.jpg)"
   ]
  },
  {
   "cell_type": "markdown",
   "metadata": {
    "id": "A9eDZvZaNPxs"
   },
   "source": [
    "![imagen](./img/ejercicios.png)"
   ]
  },
  {
   "cell_type": "markdown",
   "metadata": {
    "id": "59zPhBxXNPxs"
   },
   "source": [
    "## PRACTICA OBLIGATORIA: PYTHON"
   ]
  },
  {
   "cell_type": "markdown",
   "metadata": {
    "id": "mv2kb1GMNPxs"
   },
   "source": [
    "* La práctica obligatoria de esta unidad consiste en dos ejercicios de programación libre a completar.   \n",
    "* Recuerda que debes subirla a tu repositorio personal antes de la sesión en vivo para que puntúe adecuadamente.  \n",
    "* Recuerda también que no es necesario que esté perfecta, sólo es necesario que se vea el esfuerzo.\n",
    "* Esta práctica se resolverá en la sesión en vivo correspondiente y la solución se publicará en el repo del curso."
   ]
  },
  {
   "cell_type": "markdown",
   "metadata": {
    "id": "Kl9JzST2NPxt"
   },
   "source": [
    "![ejercicio.png](./img/ejercicio.png)\n",
    "## PARTE I\n",
    "\n",
    "En este ejercicio debes simular un chatbot al que le haremos pedidos de pizzas.\n",
    "\n",
    "1. El chatbot tiene que saludar con un: \"Buenas tardes, bienvenido al servicio de pedido online, el precio de nuestra pizzas es de 8,95 para la familiar o de 9,90 para la mediana ¿Cuántas pizzas  familiares desea?\"\n",
    "2. El ususario tiene que introducir un número de pizzas en una variable llamada 'pizz_familiar'\n",
    "3. El chatbot debe responder: \"Estupendo, ¿cuántas pizzas medianas desea?\" y guardar el número de pizzas medianas en otra variable 'pizz_mediana'\n",
    "4. Además debe responder del chatbot: \"Estupendo, se están preparando 'pizz' pizzas familiares y 'pizz_mediana' pizzas medianas. Digame su dirección\"\n",
    "5. El ususario tiene que introducir una direccion en formato String en otra variable llamada 'direcc'\n",
    "6. El programa debe calcular el monto total\n",
    "7. Respuesta final del chatbot: \"Le mandaremos las '(número total de pizzas)' pizzas a la dirección 'direcc'. Serán <precio total a pagar en euros>. Muchas gracias por su pedido.\"\n",
    "         \n"
   ]
  },
  {
   "cell_type": "code",
   "execution_count": 59,
   "metadata": {
    "id": "qkKibyt-NPxt",
    "jupyter": {
     "source_hidden": true
    }
   },
   "outputs": [
    {
     "name": "stdout",
     "output_type": "stream",
     "text": [
      "______________________________________________________________________________________________________\n",
      "|                                                                                                     |\n",
      "|   *************    *****   ***   ******   ******    *****   *****   ***     **      *************   |\n",
      "|    *  O   O  *     *   *    *        *        *     *       *   *    *     *  *      *  O   O  *    |\n",
      "|     *    O S*      *****    *      ***      **      ****    ***      *    ******      *    O S*     |\n",
      "|      * S   *       *        *     *        *        *       *  *     *    *    *       * S   *      |\n",
      "|       * O *        *       ***   ******   ******    *****   *   *   ***   *    *        * O *       |\n",
      "|         *                                                                                 *         |\n",
      "|                             TRATORIA CASA DI ANA: LA PIZZA IN SARTENNE                              |\n",
      "|_____________________________________________________________________________________________________|\n",
      "\n",
      "\n"
     ]
    },
    {
     "name": "stdin",
     "output_type": "stream",
     "text": [
      "Buenas tardes, dígame su nombre por favor: Ana\n"
     ]
    },
    {
     "name": "stdout",
     "output_type": "stream",
     "text": [
      "Bienvenido al servicio de pedido online Ana .\n",
      "\n",
      "1. Pizza familiar: 8.95€\n",
      "2. Pizza mediana: 9.90€\n"
     ]
    },
    {
     "name": "stdin",
     "output_type": "stream",
     "text": [
      "\n",
      "¿Qué tamaño desea? (1/2) 1\n",
      "\n",
      "¿Cuántas familiares quiere? 3\n"
     ]
    },
    {
     "name": "stdout",
     "output_type": "stream",
     "text": [
      "Ha elegido 3 familiares.\n",
      "En su carrito hay 3 familiares y 0 medianas.\n"
     ]
    },
    {
     "name": "stdin",
     "output_type": "stream",
     "text": [
      "¿Quieres más pizzas? si\n",
      "\n",
      "¿Qué tamaño desea? (1/2) 2\n",
      "\n",
      "¿Cuántas medianas quiere? 2\n"
     ]
    },
    {
     "name": "stdout",
     "output_type": "stream",
     "text": [
      "Ha elegido 2 medianas.\n",
      "En su carrito hay 3 familiares y 2 medianas.\n"
     ]
    },
    {
     "name": "stdin",
     "output_type": "stream",
     "text": [
      "¿Quieres más pizzas? no\n"
     ]
    },
    {
     "name": "stdout",
     "output_type": "stream",
     "text": [
      "\n",
      "Estupendo, las estamos preparando.\n"
     ]
    },
    {
     "name": "stdin",
     "output_type": "stream",
     "text": [
      "Dígame su dirección: C/ Chorrillo 2, Maracena.\n"
     ]
    },
    {
     "name": "stdout",
     "output_type": "stream",
     "text": [
      "Le mandaremos las 3 familiares y las 2 medianas a la dirección: C/ Chorrillo 2, Maracena.\n",
      "El importe total es de 46.65 €.\n",
      "Muchas gracias por su pedido Ana .\n"
     ]
    }
   ],
   "source": [
    "# El ejercicio lo he modificado a mi criterio para que se me sea más fácil identificar las variables.\n",
    "# Por tanto, en lugar de \"pizz_familiar\" y \"pizz_mediana\" serán \"familiares\" y \"medianas\".\n",
    "# Del mismo modo, el chatbot se presenta y se comunica con otras órdenes.\n",
    "# ---> No entiendo cómo una pizza mediana vale más que una familiar O__O\n",
    "\n",
    "# Pongamos una cabecera de bienvenida al servicio de pizzas online\n",
    "print(\"______________________________________________________________________________________________________\")\n",
    "print(\"|                                                                                                     |\")\n",
    "print(\"|   *************    *****   ***   ******   ******    *****   *****   ***     **      *************   |\")\n",
    "print(\"|    *  O   O  *     *   *    *        *        *     *       *   *    *     *  *      *  O   O  *    |\")\n",
    "print(\"|     *    O S*      *****    *      ***      **      ****    ***      *    ******      *    O S*     |\")\n",
    "print(\"|      * S   *       *        *     *        *        *       *  *     *    *    *       * S   *      |\")\n",
    "print(\"|       * O *        *       ***   ******   ******    *****   *   *   ***   *    *        * O *       |\")\n",
    "print(\"|         *                                                                                 *         |\")\n",
    "print(\"|                             TRATORIA CASA DI ANA: LA PIZZA IN SARTENNE                              |\") \n",
    "print(\"|_____________________________________________________________________________________________________|\\n\\n\");\n",
    "\n",
    "nombre = input(\"Buenas tardes, dígame su nombre por favor:\")\n",
    "\n",
    "print(\"Bienvenido al servicio de pedido online\", nombre, \".\\n\")\n",
    "print(\"1. Pizza familiar: 8.95€\")\n",
    "print(\"2. Pizza mediana: 9.90€\")\n",
    "\n",
    "# Seleccionamos qué pizzas queremos pero antes indicamos el número inicial del pedido\n",
    "familiares = 0\n",
    "medianas = 0\n",
    "familiares_seleccion = 0\n",
    "medianas_seleccion = 0\n",
    "\n",
    "# Hago un bucle while para preguntar varias haces hasta que no queramos más pizzas\n",
    "mas_pizzas = \"si\" #varible para indicar si quiero más pizzas en mi pedido o no\n",
    "\n",
    "while mas_pizzas == \"si\":\n",
    "    seleccion = int(input(\"\\n¿Qué tamaño desea? (1/2)\"))\n",
    "\n",
    "    if seleccion == 1:\n",
    "        familiares_seleccion = int(input(\"\\n¿Cuántas familiares quiere?\"))\n",
    "        familiares = familiares + familiares_seleccion\n",
    "        print(\"Ha elegido\", familiares, \"familiares.\")\n",
    "        print(\"En su carrito hay\", familiares, \"familiares y\", medianas, \"medianas.\")\n",
    "        mas_pizzas = input(\"¿Quieres más pizzas?\")\n",
    "        \n",
    "    elif seleccion == 2:\n",
    "       medianas_seleccion = int(input(\"\\n¿Cuántas medianas quiere?\"))\n",
    "       medianas = medianas + medianas_seleccion\n",
    "       print(\"Ha elegido\", medianas, \"medianas.\")\n",
    "       print(\"En su carrito hay\", familiares, \"familiares y\", medianas, \"medianas.\")\n",
    "       mas_pizzas = input(\"¿Quieres más pizzas?\")\n",
    "        \n",
    "    else:\n",
    "        print(\"No has seleccionado ningún tipo de pizza.\")\n",
    "\n",
    "print(\"\\nEstupendo, las estamos preparando.\")\n",
    "direccion = input(\"Dígame su dirección:\")\n",
    "precio = familiares*8.95 + medianas*9.90\n",
    "\n",
    "print(\"Le mandaremos las\", familiares, \"familiares y las\", medianas, \"medianas\", \"a la dirección:\", direccion)\n",
    "print(\"El importe total es de\", precio, \"€.\")\n",
    "print(\"Muchas gracias por su pedido\", nombre, \".\")"
   ]
  },
  {
   "cell_type": "markdown",
   "metadata": {
    "id": "f0oqoGDGNPxt"
   },
   "source": [
    "![ejercicio.png](./img/ejercicio.png)\n",
    "## Parte II\n",
    "\n",
    "Crea un programa que realice las siguientes acciones:\n",
    "\n",
    "1. Solicite al usuario que introduzca 3 números enteros separados por comas (por ejemplo: 1,2,3).\n",
    "2. Convierta esa entrada en una lista de números enteros.\n",
    "3. Utilizando funciones built-in, determine el número máximo, el número mínimo y la suma total de los números introducidos.\n",
    "4. Determine la verdad o falsedad de la siguiente afirmación: \"El número máximo menos el número mínimo es igual a la suma total dividida por 5\".\n",
    "5. Muestre los resultados utilizando print."
   ]
  },
  {
   "cell_type": "code",
   "execution_count": null,
   "metadata": {
    "id": "rAlpWiQ9NPxt"
   },
   "outputs": [],
   "source": []
  }
 ],
 "metadata": {
  "colab": {
   "provenance": []
  },
  "kernelspec": {
   "display_name": "Python 3 (ipykernel)",
   "language": "python",
   "name": "python3"
  },
  "language_info": {
   "codemirror_mode": {
    "name": "ipython",
    "version": 3
   },
   "file_extension": ".py",
   "mimetype": "text/x-python",
   "name": "python",
   "nbconvert_exporter": "python",
   "pygments_lexer": "ipython3",
   "version": "3.13.3"
  }
 },
 "nbformat": 4,
 "nbformat_minor": 4
}

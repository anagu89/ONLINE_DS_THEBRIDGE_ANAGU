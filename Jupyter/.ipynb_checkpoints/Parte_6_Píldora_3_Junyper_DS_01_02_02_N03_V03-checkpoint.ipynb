{
 "cells": [
  {
   "cell_type": "markdown",
   "metadata": {
    "id": "uPODHfnfCeq2"
   },
   "source": [
    "![TheBridge_Python_v0.png](attachment:TheBridge_Python_v0.png)"
   ]
  },
  {
   "cell_type": "markdown",
   "metadata": {
    "id": "0q48yD4ZCeq6"
   },
   "source": [
    "##  Atributos\n"
   ]
  },
  {
   "cell_type": "markdown",
   "metadata": {
    "id": "Bu8ihqbuCeq7"
   },
   "source": [
    "### Contenidos\n"
   ]
  },
  {
   "cell_type": "markdown",
   "metadata": {
    "id": "f5xM7vZTCeq8"
   },
   "source": [
    "* [Introducción  ](#Introducción--)\n"
   ]
  },
  {
   "cell_type": "markdown",
   "metadata": {
    "id": "qIU907cMCeq-"
   },
   "source": [
    "### Introducción  \n",
    "[al indice](#Contenidos)  \n",
    "Son las **características que definen a los objetos de una clase**. La marca, el color, potencia del coche. Estos son atributos, que se definen de manera genérica en la clase y luego cada objeto *Coche* tendrá un valor para cada uno de sus atributos.\n",
    "\n",
    "Los atributos los definimos tras la declaración de la clase. Y luego se accede a ellos mediante la sintaxis `objeto.atributo`\n",
    "\n",
    "Vamos a empezar a definir atributos en los coches."
   ]
  },
  {
   "cell_type": "code",
   "execution_count": 3,
   "metadata": {
    "id": "kMmA5J4ZCeq_"
   },
   "outputs": [],
   "source": [
    "class Coche:\n",
    "    puertas = 5\n",
    "    ruedas = 4\n",
    "\n",
    "# cada vez que instancie un elemento (en este caso, un coche) dentro de la clase \"Coche\", tendrá esos atributos"
   ]
  },
  {
   "cell_type": "markdown",
   "metadata": {
    "id": "1U7lMW-iCerB"
   },
   "source": [
    "Ahora todos los coches que creamos, tendrán 4 puertas y 4 ruedas."
   ]
  },
  {
   "cell_type": "code",
   "execution_count": 4,
   "metadata": {
    "id": "5Lyh5PuzCerC"
   },
   "outputs": [
    {
     "name": "stdout",
     "output_type": "stream",
     "text": [
      "5\n",
      "4\n"
     ]
    }
   ],
   "source": [
    "toyota = Coche\n",
    "print(toyota.puertas)\n",
    "print(toyota.ruedas)"
   ]
  },
  {
   "cell_type": "markdown",
   "metadata": {
    "id": "Mtcti_iECerD"
   },
   "source": [
    "También podemos modificar los atributos. Esto Python lo hace muy sencillo, los cambiamos directamente reasignando valores. En otros lenguajes de programación hay que implementar esto mediante métodos  denominados `getters` y `setters`."
   ]
  },
  {
   "cell_type": "code",
   "execution_count": 6,
   "metadata": {
    "id": "w3GQHOQ5CerE"
   },
   "outputs": [
    {
     "name": "stdout",
     "output_type": "stream",
     "text": [
      "3\n",
      "5\n",
      "5\n"
     ]
    }
   ],
   "source": [
    "# si queremos reasignar un atributo, en Python es más sencillo. Se le asignará SOLO a ese objeto nuevo.\n",
    "mercedes = Coche()\n",
    "mercedes.puertas = 3\n",
    "\n",
    "print(mercedes.puertas)\n",
    "print(toyota.puertas)\n",
    "\n",
    "seat = Coche()\n",
    "print(seat.puertas)"
   ]
  },
  {
   "cell_type": "markdown",
   "metadata": {
    "id": "qKcdVYSZCerE"
   },
   "source": [
    "<table align=\"left\">\n",
    " <tr><td width=\"80\"><img src=\"./img/error.png\" style=\"width:auto;height:auto\"></td>\n",
    "     <td style=\"text-align:left\">\n",
    "         <h3>ERRORES atributos que no existen</h3>\n",
    "         \n",
    " </td></tr>\n",
    "</table>"
   ]
  },
  {
   "cell_type": "code",
   "execution_count": 7,
   "metadata": {
    "id": "of0wj87yCerF"
   },
   "outputs": [
    {
     "ename": "AttributeError",
     "evalue": "type object 'Coche' has no attribute 'motor'",
     "output_type": "error",
     "traceback": [
      "\u001b[31m---------------------------------------------------------------------------\u001b[39m",
      "\u001b[31mAttributeError\u001b[39m                            Traceback (most recent call last)",
      "\u001b[36mCell\u001b[39m\u001b[36m \u001b[39m\u001b[32mIn[7]\u001b[39m\u001b[32m, line 3\u001b[39m\n\u001b[32m      1\u001b[39m \u001b[38;5;66;03m# el error es intentar acceder a un atributo que no existe, como intentar acceder al motor\u001b[39;00m\n\u001b[32m----> \u001b[39m\u001b[32m3\u001b[39m \u001b[38;5;28mprint\u001b[39m(\u001b[43mtoyota\u001b[49m\u001b[43m.\u001b[49m\u001b[43mmotor\u001b[49m)\n",
      "\u001b[31mAttributeError\u001b[39m: type object 'Coche' has no attribute 'motor'"
     ]
    }
   ],
   "source": [
    "# el error es intentar acceder a un atributo que no existe, como intentar acceder al motor\n",
    "\n",
    "print(toyota.motor)"
   ]
  },
  {
   "cell_type": "markdown",
   "metadata": {
    "id": "fEEOW_ZHCerG"
   },
   "source": [
    "Seguimos sin poder diferenciar claramente un coche de otro, pero ya vamos definiendo sus características, que será posible ir modificándolas tanto en la inicialización del objeto, como después. De momento, tenemos características comunes a todos los coches... o no, ¿todos los coches tienen 5 puertas?"
   ]
  },
  {
   "cell_type": "code",
   "execution_count": 9,
   "metadata": {},
   "outputs": [],
   "source": [
    "bmw = Coche\n",
    "bmw.puertas = 6\n",
    "bmw.ruedas = 8\n",
    "\n",
    "# es mejor usar CONSTRUCTORES que son métodos que nos permiten crear objetos de primeras con sus características particulares"
   ]
  }
 ],
 "metadata": {
  "colab": {
   "provenance": []
  },
  "kernelspec": {
   "display_name": "Python 3 (ipykernel)",
   "language": "python",
   "name": "python3"
  },
  "language_info": {
   "codemirror_mode": {
    "name": "ipython",
    "version": 3
   },
   "file_extension": ".py",
   "mimetype": "text/x-python",
   "name": "python",
   "nbconvert_exporter": "python",
   "pygments_lexer": "ipython3",
   "version": "3.13.3"
  }
 },
 "nbformat": 4,
 "nbformat_minor": 4
}

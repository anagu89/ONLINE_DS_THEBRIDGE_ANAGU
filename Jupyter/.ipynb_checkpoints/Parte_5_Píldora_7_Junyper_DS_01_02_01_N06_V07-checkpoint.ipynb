{
 "cells": [
  {
   "cell_type": "markdown",
   "metadata": {
    "id": "TWR6bqxYd9k9"
   },
   "source": [
    "![TheBridge_Python_v0.png](attachment:TheBridge_Python_v0.png)"
   ]
  },
  {
   "cell_type": "markdown",
   "metadata": {
    "id": "SsaMez4pd9lJ"
   },
   "source": [
    "##  Funciones de usuario II"
   ]
  },
  {
   "cell_type": "markdown",
   "metadata": {
    "id": "e99mve3zd9lL"
   },
   "source": [
    "### Contenidos"
   ]
  },
  {
   "cell_type": "markdown",
   "metadata": {
    "id": "BRFCU4uGd9lM"
   },
   "source": [
    "* [Return](#Return)\n",
    "\n",
    "* [Tipos de datos de los argumentos](#Tipos-de-datos-de-los-argumentos)\n",
    "\n",
    "* [Errores típicos con funciones](#Errores-típicos-con-funciones)\n",
    "\n"
   ]
  },
  {
   "cell_type": "markdown",
   "metadata": {
    "id": "81LMYA4hd9lP"
   },
   "source": [
    "### Return\n",
    "[al indice](#Contenidos)  \n",
    "\n",
    "\n",
    "Continuamos con las funciones definidas por el usuario. Recuerda que la sintaxis que vimos en el anterior notebook era:\n",
    "\n",
    "\n",
    "> ```Python\n",
    "> def nombre_funcion(entrada):\n",
    ">    operaciones varias\n",
    ">    return output\n",
    "> ```\n",
    "\n",
    "Hicimos un ejemplo de función que nos devolvía un resultado (output) que podíamos almacenar en una variable... pero las funciones **tampoco tienen por qué llevar un `return`**. No siempre es necesario un output. En tal caso, devuelve `None` que es el conjunto vacío, ya que siempre devuelve algo aunque no tenga valor."
   ]
  },
  {
   "cell_type": "code",
   "execution_count": 6,
   "metadata": {
    "id": "BR5Cgjwvd9lR",
    "scrolled": true
   },
   "outputs": [
    {
     "name": "stdout",
     "output_type": "stream",
     "text": [
      "17:39:19.695444\n",
      "None <class 'NoneType'>\n"
     ]
    }
   ],
   "source": [
    "# --> Lo normal para darnos la hora sería:\n",
    "\n",
    "# from datetime import datetime\n",
    "\n",
    "# def que_hora_es():\n",
    "#     now = datetime.now().time()\n",
    "#     return now\n",
    "\n",
    "# --> Vamos a quitar el \"return\" y poner print\n",
    "\n",
    "from datetime import datetime\n",
    "\n",
    "def que_hora_es():\n",
    "    now = datetime.now().time()\n",
    "    print (now)\n",
    "\n",
    "hora = que_hora_es()\n",
    "print(hora, type(hora))\n",
    "# Todas las funciones van a devolver algo y, si no tienen nada que devolver, devuelve \"None\"."
   ]
  },
  {
   "cell_type": "code",
   "execution_count": 4,
   "metadata": {},
   "outputs": [
    {
     "ename": "NameError",
     "evalue": "name 'now' is not defined",
     "output_type": "error",
     "traceback": [
      "\u001b[31m---------------------------------------------------------------------------\u001b[39m",
      "\u001b[31mNameError\u001b[39m                                 Traceback (most recent call last)",
      "\u001b[36mCell\u001b[39m\u001b[36m \u001b[39m\u001b[32mIn[4]\u001b[39m\u001b[32m, line 1\u001b[39m\n\u001b[32m----> \u001b[39m\u001b[32m1\u001b[39m \u001b[38;5;28mprint\u001b[39m(\u001b[43mnow\u001b[49m)\n\u001b[32m      2\u001b[39m \u001b[38;5;66;03m# me va a salir error porque no está declarado, ya que \"now\" sólo existe dentro de la función\u001b[39;00m\n",
      "\u001b[31mNameError\u001b[39m: name 'now' is not defined"
     ]
    }
   ],
   "source": [
    "print(now)\n",
    "# me va a salir error porque no está declarado, ya que \"now\" sólo existe dentro de la función"
   ]
  },
  {
   "cell_type": "markdown",
   "metadata": {
    "id": "ABRoz-srd9lU"
   },
   "source": [
    "También **puedes poner varias salidas en el return**. En ese caso, si no se especifica nada más la salida de la función será de tipo \"tupla\" (tuple). Pero generalmente los agrupamos en una colección."
   ]
  },
  {
   "cell_type": "code",
   "execution_count": 14,
   "metadata": {
    "id": "BDlZVI9yd9lX",
    "scrolled": true
   },
   "outputs": [
    {
     "name": "stdout",
     "output_type": "stream",
     "text": [
      "Convierte 2221:\n",
      "(1377.02, 1377.0, 2221000)\n",
      "<class 'tuple'>\n"
     ]
    }
   ],
   "source": [
    "# imaginemos que el jefe nos pide la función en metro y, despúes, los datos sin redondear\n",
    "\n",
    "# vamos a hacer primero los metros, sabiendo que si nos dan el dato en km lo multiplicamos x1000 para dar metros\n",
    "def conversor_km_millas(distancia):\n",
    "    millas = 0.62 * distancia\n",
    "    metros = 1000 * distancia\n",
    "    return millas, round(millas,1), metros\n",
    "    \n",
    "# esta función nos va a devolver tres valores (los tres del return)\n",
    "print(\"Convierte 2221:\")\n",
    "salida = conversor_km_millas(2221)\n",
    "print(salida)\n",
    "print(type(salida))\n",
    "\n",
    "# Los valores obtenidos son:\n",
    "# - los km en millas\n",
    "# - los km en millas redondeadas a un decimal\n",
    "# - los km en metros\n",
    "\n",
    "# El resultado es una TUPLA, porque sale entre paréntesis"
   ]
  },
  {
   "cell_type": "code",
   "execution_count": 15,
   "metadata": {
    "scrolled": true
   },
   "outputs": [
    {
     "name": "stdout",
     "output_type": "stream",
     "text": [
      "Convierte 2221:\n",
      "[1377.02, 1377.0, 2221000]\n",
      "<class 'list'>\n"
     ]
    }
   ],
   "source": [
    "# si quiero que el resultado no sea TUPLA sino una LISTA lo pongo entre corchetes\n",
    "def conversor_km_millas(distancia):\n",
    "    millas = 0.62 * distancia\n",
    "    metros = 1000 * distancia\n",
    "    return [millas, round(millas,1), metros]\n",
    "\n",
    "print(\"Convierte 2221:\")\n",
    "salida = conversor_km_millas(2221)\n",
    "print(salida)\n",
    "print(type(salida))"
   ]
  },
  {
   "cell_type": "markdown",
   "metadata": {
    "id": "_q5Crlz5d9lY"
   },
   "source": [
    "### Tipos de datos de los argumentos\n",
    "[al indice](#Contenidos)  \n",
    "\n",
    "Lo que quieras: numeros, texto, listas, tuplas, diccionarios, objetos de clases que hayas definido..."
   ]
  },
  {
   "cell_type": "code",
   "execution_count": 19,
   "metadata": {},
   "outputs": [],
   "source": [
    "def recibe_mix (tupla, lista, diccionario):\n",
    "    print(\"tupla contiene:\")\n",
    "    print(tupla)\n",
    "    print(\"y es de tipo:\", type(tupla))\n",
    "\n",
    "    print(\"\\nlista contiene:\")\n",
    "    print(lista)\n",
    "    print(\"y es de tipo:\", type(lista))\n",
    "\n",
    "    print(\"\\ndiccionario contiene:\")\n",
    "    print(diccionario)\n",
    "    print(\"y es de tipo:\", type(diccionario))\n",
    "\n",
    "    return [type(tupla), type(lista), type(diccionario)]"
   ]
  },
  {
   "cell_type": "code",
   "execution_count": 20,
   "metadata": {},
   "outputs": [
    {
     "name": "stdout",
     "output_type": "stream",
     "text": [
      "tupla contiene:\n",
      "(12, 34, 23)\n",
      "y es de tipo: <class 'tuple'>\n",
      "\n",
      "lista contiene:\n",
      "['Esto', 'es', 'una', 'lista']\n",
      "y es de tipo: <class 'list'>\n",
      "\n",
      "diccionario contiene:\n",
      "{'key1': 'valor1'}\n",
      "y es de tipo: <class 'dict'>\n"
     ]
    },
    {
     "data": {
      "text/plain": [
       "[tuple, list, dict]"
      ]
     },
     "execution_count": 20,
     "metadata": {},
     "output_type": "execute_result"
    }
   ],
   "source": [
    "recibe_mix((12,34,23), [\"Esto\", \"es\", \"una\", \"lista\"], {\"key1\": \"valor1\"}) # pongo una tupla, una lista y un diccionario"
   ]
  },
  {
   "cell_type": "code",
   "execution_count": 23,
   "metadata": {
    "id": "JdNKcSFbd9la"
   },
   "outputs": [
    {
     "name": "stdout",
     "output_type": "stream",
     "text": [
      "tupla contiene:\n",
      "1\n",
      "y es de tipo: <class 'int'>\n",
      "\n",
      "lista contiene:\n",
      "Hola\n",
      "y es de tipo: <class 'str'>\n",
      "\n",
      "diccionario contiene:\n",
      "True\n",
      "y es de tipo: <class 'bool'>\n"
     ]
    },
    {
     "data": {
      "text/plain": [
       "[int, str, bool]"
      ]
     },
     "execution_count": 23,
     "metadata": {},
     "output_type": "execute_result"
    }
   ],
   "source": [
    "recibe_mix(1, \"Hola\", True)\n",
    "\n",
    "# vemos que no he forzado los tipos (aunque podría). \n",
    "# Si te fijas, el primero se llama \"tupla\" pero es de clase INT porque puse 1\n",
    "# y el último se llama \"diccionario\" pero es un BOOL porque puse True"
   ]
  },
  {
   "cell_type": "markdown",
   "metadata": {
    "id": "tqlrDpbZd9lb"
   },
   "source": [
    "### Errores típicos con funciones\n",
    "[al indice](#Contenidos)  \n",
    "\n"
   ]
  },
  {
   "cell_type": "markdown",
   "metadata": {
    "id": "xsh_4EXfd9lc"
   },
   "source": [
    "<table align=\"left\">\n",
    " <tr>\n",
    "     <td style=\"text-align:left\">\n",
    "         <h3>ERRORES variables de la función</h3>\n",
    "         \n",
    " </td></tr>\n",
    "</table>"
   ]
  },
  {
   "cell_type": "code",
   "execution_count": 25,
   "metadata": {
    "id": "wn6QlWKKd9ld"
   },
   "outputs": [
    {
     "name": "stdout",
     "output_type": "stream",
     "text": [
      "<function km_millas at 0x000001E838978B80>\n"
     ]
    },
    {
     "ename": "NameError",
     "evalue": "name 'millas' is not defined",
     "output_type": "error",
     "traceback": [
      "\u001b[31m---------------------------------------------------------------------------\u001b[39m",
      "\u001b[31mNameError\u001b[39m                                 Traceback (most recent call last)",
      "\u001b[36mCell\u001b[39m\u001b[36m \u001b[39m\u001b[32mIn[25]\u001b[39m\u001b[32m, line 10\u001b[39m\n\u001b[32m      8\u001b[39m km_millas (\u001b[32m200\u001b[39m)\n\u001b[32m      9\u001b[39m \u001b[38;5;28mprint\u001b[39m(km_millas)\n\u001b[32m---> \u001b[39m\u001b[32m10\u001b[39m \u001b[38;5;28mprint\u001b[39m(\u001b[43mmillas\u001b[49m) \u001b[38;5;66;03m#nos da un error porque la variable \"millas\" SOLO existe dentro de la función, no fuera\u001b[39;00m\n",
      "\u001b[31mNameError\u001b[39m: name 'millas' is not defined"
     ]
    }
   ],
   "source": [
    "# Todo lo que declaremos dentro de la función se crea UNICAMENTE para la función\n",
    "# Fuera de la misma, esas variables no existen\n",
    "\n",
    "def km_millas(dist):\n",
    "    millas = dist * 0.62\n",
    "    return round(millas, 2)\n",
    "\n",
    "km_millas (200)\n",
    "print(km_millas)\n",
    "print(millas) #nos da un error porque la variable \"millas\" SOLO existe dentro de la función, no fuera"
   ]
  },
  {
   "cell_type": "markdown",
   "metadata": {
    "id": "6xSwM2_3d9le"
   },
   "source": [
    "Se crea un namespace interno dentro de las funciones, es decir, que lo que declaremos dentro, se queda dentro. No lo podremos usar fuera. Además, ten en cuenta que todo lo que introduzcamos dentro de flujos de control (`if/else`, bucles...), nos vale para el resto de la función"
   ]
  },
  {
   "cell_type": "code",
   "execution_count": 26,
   "metadata": {
    "id": "OZgPtrA2d9le"
   },
   "outputs": [
    {
     "data": {
      "text/plain": [
       "1"
      ]
     },
     "execution_count": 26,
     "metadata": {},
     "output_type": "execute_result"
    }
   ],
   "source": [
    "def numero_ifs(numero):\n",
    "    if numero == 1:\n",
    "        out = 1\n",
    "    return out\n",
    "\n",
    "numero_ifs(1)"
   ]
  },
  {
   "cell_type": "code",
   "execution_count": 27,
   "metadata": {
    "id": "mGKAb70Xd9lf"
   },
   "outputs": [
    {
     "ename": "UnboundLocalError",
     "evalue": "cannot access local variable 'out' where it is not associated with a value",
     "output_type": "error",
     "traceback": [
      "\u001b[31m---------------------------------------------------------------------------\u001b[39m",
      "\u001b[31mUnboundLocalError\u001b[39m                         Traceback (most recent call last)",
      "\u001b[36mCell\u001b[39m\u001b[36m \u001b[39m\u001b[32mIn[27]\u001b[39m\u001b[32m, line 1\u001b[39m\n\u001b[32m----> \u001b[39m\u001b[32m1\u001b[39m \u001b[43mnumero_ifs\u001b[49m\u001b[43m(\u001b[49m\u001b[32;43m2\u001b[39;49m\u001b[43m)\u001b[49m\n\u001b[32m      3\u001b[39m \u001b[38;5;66;03m# nos da un error porque dice que se ha referenciado out antes de darle ningún valor, nos dice que es una VARIABLE LOCAL a esa función descrita\u001b[39;00m\n",
      "\u001b[36mCell\u001b[39m\u001b[36m \u001b[39m\u001b[32mIn[26]\u001b[39m\u001b[32m, line 4\u001b[39m, in \u001b[36mnumero_ifs\u001b[39m\u001b[34m(numero)\u001b[39m\n\u001b[32m      2\u001b[39m \u001b[38;5;28;01mif\u001b[39;00m numero == \u001b[32m1\u001b[39m:\n\u001b[32m      3\u001b[39m     out = \u001b[32m1\u001b[39m\n\u001b[32m----> \u001b[39m\u001b[32m4\u001b[39m \u001b[38;5;28;01mreturn\u001b[39;00m \u001b[43mout\u001b[49m\n",
      "\u001b[31mUnboundLocalError\u001b[39m: cannot access local variable 'out' where it is not associated with a value"
     ]
    }
   ],
   "source": [
    "numero_ifs(2)\n",
    "\n",
    "# nos da un error porque dice que se ha referenciado out antes de darle ningún valor, nos dice que es una VARIABLE LOCAL a esa función descrita"
   ]
  },
  {
   "cell_type": "code",
   "execution_count": 30,
   "metadata": {
    "id": "jCGgVjCmd9lf"
   },
   "outputs": [
    {
     "ename": "TypeError",
     "evalue": "km_millas() missing 1 required positional argument: 'dist'",
     "output_type": "error",
     "traceback": [
      "\u001b[31m---------------------------------------------------------------------------\u001b[39m",
      "\u001b[31mTypeError\u001b[39m                                 Traceback (most recent call last)",
      "\u001b[36mCell\u001b[39m\u001b[36m \u001b[39m\u001b[32mIn[30]\u001b[39m\u001b[32m, line 4\u001b[39m\n\u001b[32m      1\u001b[39m \u001b[38;5;66;03m# Si no introducimos argumentos en una función que SI tiene argumentos, salta un error de este estilo\u001b[39;00m\n\u001b[32m      2\u001b[39m \u001b[38;5;66;03m# me dice que me falta un argumento posicional que se llama \"dist\"\u001b[39;00m\n\u001b[32m----> \u001b[39m\u001b[32m4\u001b[39m millas = \u001b[43mkm_millas\u001b[49m\u001b[43m \u001b[49m\u001b[43m(\u001b[49m\u001b[43m)\u001b[49m\n",
      "\u001b[31mTypeError\u001b[39m: km_millas() missing 1 required positional argument: 'dist'"
     ]
    }
   ],
   "source": [
    "# Si no introducimos argumentos en una función que SI tiene argumentos, salta un error de este estilo\n",
    "# me dice que me falta un argumento posicional que se llama \"dist\"\n",
    "\n",
    "millas = km_millas ()"
   ]
  },
  {
   "cell_type": "markdown",
   "metadata": {
    "id": "jOQEmCisd9lg"
   },
   "source": [
    "Cuidado también con la sintaxis de línea. Después de dos puntos `:`, viene todo el bloque de código tabulado, de la función"
   ]
  },
  {
   "cell_type": "code",
   "execution_count": 31,
   "metadata": {
    "id": "g3vW8YNPd9lg"
   },
   "outputs": [
    {
     "ename": "SyntaxError",
     "evalue": "unmatched ']' (2487990405.py, line 3)",
     "output_type": "error",
     "traceback": [
      "  \u001b[36mCell\u001b[39m\u001b[36m \u001b[39m\u001b[32mIn[31]\u001b[39m\u001b[32m, line 3\u001b[39m\n\u001b[31m    \u001b[39m\u001b[31mreturn[otr]o_argumento]\u001b[39m\n                          ^\n\u001b[31mSyntaxError\u001b[39m\u001b[31m:\u001b[39m unmatched ']'\n"
     ]
    }
   ],
   "source": [
    "def mala_funcion(otro_argumento):\n",
    "print(otro_argumento)\n",
    "return[otr]o_argumento]\n",
    "\n",
    "# me da un error porque no he tabulado las dos líneas bajo la función"
   ]
  }
 ],
 "metadata": {
  "colab": {
   "provenance": []
  },
  "kernelspec": {
   "display_name": "Python 3 (ipykernel)",
   "language": "python",
   "name": "python3"
  },
  "language_info": {
   "codemirror_mode": {
    "name": "ipython",
    "version": 3
   },
   "file_extension": ".py",
   "mimetype": "text/x-python",
   "name": "python",
   "nbconvert_exporter": "python",
   "pygments_lexer": "ipython3",
   "version": "3.13.3"
  }
 },
 "nbformat": 4,
 "nbformat_minor": 4
}

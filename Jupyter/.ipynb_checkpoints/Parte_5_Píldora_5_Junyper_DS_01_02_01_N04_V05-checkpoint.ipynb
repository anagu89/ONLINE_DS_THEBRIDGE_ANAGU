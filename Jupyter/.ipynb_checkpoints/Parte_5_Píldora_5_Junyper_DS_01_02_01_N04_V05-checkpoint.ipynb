{
 "cells": [
  {
   "cell_type": "markdown",
   "metadata": {
    "id": "Yz2Lq3r-XOOX"
   },
   "source": [
    "![TheBridge_Python_v0.png](attachment:TheBridge_Python_v0.png)"
   ]
  },
  {
   "cell_type": "markdown",
   "metadata": {
    "id": "NHd5FtIxXOOd"
   },
   "source": [
    "## Colecciones Python: Sets\n"
   ]
  },
  {
   "cell_type": "markdown",
   "metadata": {
    "id": "nBZh6V2-XOOe"
   },
   "source": [
    "### Contenidos\n"
   ]
  },
  {
   "cell_type": "markdown",
   "metadata": {
    "id": "Qh0TdDtYXOOf"
   },
   "source": [
    "* [Introducción](#Introducción)\n",
    "\n"
   ]
  },
  {
   "cell_type": "markdown",
   "metadata": {
    "id": "gi_7aX3mXOOf"
   },
   "source": [
    "### Introducción\n",
    "[al indice](#Contenidos)  \n",
    "\n",
    "Otra colección *bulit-in* de Python, compuesta por un conjunto de *valores*. Muy parecidos a las listas. Tienen las siguientes características:\n",
    "* **Mutables**: podemos modificarlos una vez se hayan creado\n",
    "* **No ordenado**\n",
    "* **Elementos unicos**: se compone de un conjunto de valores únicas\n",
    "\n",
    "**¿Cuándo usar sets?** Cuando estemos buscando unicidad en nuestros datos y no nos importe el orden.\n",
    "\n",
    "Te dejo por aquí [la documentación](https://docs.python.org/2/library/sets.html) para realizar consultas sobre los sets\n",
    "\n",
    "Si sintaxis es:\n",
    ">```Python\n",
    "> mi_set = {elemento1, elemento2, elemento3}\n",
    ">```\n",
    "\n",
    "Tiene una sintaxis muy parecida a la de las listas, pero en este caso no se utilizan los `{}`."
   ]
  },
  {
   "cell_type": "code",
   "execution_count": 6,
   "metadata": {
    "id": "BEYkVNhHXOOh"
   },
   "outputs": [
    {
     "name": "stdout",
     "output_type": "stream",
     "text": [
      "4\n",
      "{'rojo', 'azul', 'verde', 'naranja'}\n",
      "<class 'set'>\n",
      "4\n",
      "{'rojo', 'azul', 'verde', 'naranja'}\n",
      "<class 'set'>\n",
      "5\n",
      "{'rojo', 'verde', 'naranja', 'azul', 'blanco'}\n",
      "<class 'set'>\n",
      "7\n",
      "{'rojo', 'verde', 'naranja', 'azul', 'amarillo', 'negro', 'blanco'}\n",
      "<class 'set'>\n",
      "6\n",
      "{'rojo', 'verde', 'azul', 'amarillo', 'negro', 'blanco'}\n",
      "<class 'set'>\n"
     ]
    }
   ],
   "source": [
    "# vemos que se muestran por pantalla en un orden aleatorio\n",
    "colores = {\"azul\", \"rojo\", \"verde\", \"naranja\"}\n",
    "print(len(colores))\n",
    "print(colores)\n",
    "print(type(colores))\n",
    "\n",
    "# vemos que no se repiten por pantalla los elementos duplicados, y no los cuenta al contar su len\n",
    "colores = {\"azul\", \"rojo\", \"verde\", \"verde\", \"naranja\", \"naranja\"}\n",
    "print(len(colores))\n",
    "print(colores)\n",
    "print(type(colores))\n",
    "\n",
    "# para añadir valores, con ADD\n",
    "colores.add(\"blanco\")\n",
    "print(len(colores))\n",
    "print(colores)\n",
    "print(type(colores))\n",
    "\n",
    "# si quiero añadir una lista de colores, con UPDATE\n",
    "# no va añadir los ya existentes\n",
    "colores.update([\"negro\", \"amarillo\", \"azul\", \"azul\", \"azul\"])\n",
    "print(len(colores))\n",
    "print(colores)\n",
    "print(type(colores))\n",
    "\n",
    "# para quitar elementos de una lista\n",
    "colores.remove(\"naranja\")\n",
    "print(len(colores))\n",
    "print(colores)\n",
    "print(type(colores))"
   ]
  },
  {
   "cell_type": "code",
   "execution_count": 7,
   "metadata": {},
   "outputs": [
    {
     "name": "stdout",
     "output_type": "stream",
     "text": [
      "rojo\n",
      "verde\n",
      "azul\n",
      "amarillo\n",
      "negro\n",
      "blanco\n"
     ]
    }
   ],
   "source": [
    "# los podemos recorrer en las listas con un BUCLE FOR\n",
    "for color in colores:\n",
    "    print(color)"
   ]
  },
  {
   "cell_type": "markdown",
   "metadata": {
    "id": "WPz558IsXOOh"
   },
   "source": [
    "Los elementos del set son unicos, por lo que si en la declaración, o posteriormente añadiendo elementos hubiese algún duplicado, el set lo ignoraría. Es más, cuando aplicas el `len`, muestra la cantidad de valores únicos que tiene."
   ]
  },
  {
   "cell_type": "markdown",
   "metadata": {
    "id": "JGWhbBHvXOOj"
   },
   "source": [
    "Para comprobar si dos sets tienen los mismos elementos"
   ]
  },
  {
   "cell_type": "code",
   "execution_count": 12,
   "metadata": {
    "id": "v4_zPTKZXOOj",
    "scrolled": true
   },
   "outputs": [
    {
     "name": "stdout",
     "output_type": "stream",
     "text": [
      "False\n",
      "True\n"
     ]
    }
   ],
   "source": [
    "# para comprobar si dos sets tienen los mismos elementos\n",
    "set1 = {1, 2, 3, 3, 4, 5, 5, 5}\n",
    "set2 = {1, 4, 5}\n",
    "set3 = {1, 2, 3, 4, 5}\n",
    "\n",
    "prueba1 = (set1 == set2) # es falso porque en set1 aparecen números que no están en el set2\n",
    "prueba2 = (set1 == set3) # es True porque en set2 todos los números son iguales a los que aparecen en set1 y viceversa\n",
    "\n",
    "print(prueba1)\n",
    "print(prueba2)"
   ]
  },
  {
   "cell_type": "code",
   "execution_count": 20,
   "metadata": {},
   "outputs": [
    {
     "name": "stdout",
     "output_type": "stream",
     "text": [
      "Tenemos una lista y aparece entre [ ]:\n",
      "[1, 2, 3, 3, 4, 5, 5, 5, 5, 5]\n",
      "<class 'list'>\n",
      "\n",
      "Tenemos un set y aparece entre { }:\n",
      "{1, 2, 3, 4, 5}\n",
      "<class 'list'>\n",
      "\n",
      "Tenemos una lista sin repeticiones y aparece entre [ ]:\n",
      "[1, 2, 3, 4, 5]\n",
      "<class 'list'>\n"
     ]
    }
   ],
   "source": [
    "# una de sus mayores aplicaciones es QUITAR DUPLICADOS DE LAS LISTAS\n",
    "lista = [1, 2, 3, 3, 4, 5, 5, 5, 5, 5]\n",
    "\n",
    "print(\"Tenemos una lista y aparece entre [ ]:\")\n",
    "print(lista)\n",
    "print(type(lista))\n",
    "\n",
    "# convertimos la lista en set\n",
    "print(\"\\nTenemos un set y aparece entre { }:\")\n",
    "print(set(lista))\n",
    "print(type(lista))\n",
    "\n",
    "# convertimos ese set ya creado sin repeticiones a una lista\n",
    "print(\"\\nTenemos una lista sin repeticiones y aparece entre [ ]:\")\n",
    "print(list(set(lista)))\n",
    "print(type(lista))"
   ]
  },
  {
   "cell_type": "code",
   "execution_count": 22,
   "metadata": {},
   "outputs": [
    {
     "name": "stdout",
     "output_type": "stream",
     "text": [
      "[1, 2, 3, 4, 5]\n",
      "<class 'list'>\n"
     ]
    }
   ],
   "source": [
    "# lo anterior puedo hacerlo directamente en una línea\n",
    "lista = list(set(lista))\n",
    "print(lista)\n",
    "print(type(lista))"
   ]
  }
 ],
 "metadata": {
  "colab": {
   "provenance": []
  },
  "kernelspec": {
   "display_name": "Python 3 (ipykernel)",
   "language": "python",
   "name": "python3"
  },
  "language_info": {
   "codemirror_mode": {
    "name": "ipython",
    "version": 3
   },
   "file_extension": ".py",
   "mimetype": "text/x-python",
   "name": "python",
   "nbconvert_exporter": "python",
   "pygments_lexer": "ipython3",
   "version": "3.13.3"
  }
 },
 "nbformat": 4,
 "nbformat_minor": 4
}

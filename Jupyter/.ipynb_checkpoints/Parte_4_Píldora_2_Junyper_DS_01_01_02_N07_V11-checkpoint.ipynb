{
 "cells": [
  {
   "cell_type": "markdown",
   "metadata": {
    "id": "X-DNC9uJXx21"
   },
   "source": [
    "<img src = \"./img/TheBridge_logo_RGB_color.jpg\" width = 500><img src = \"./img/python.jpg\" width = 500>"
   ]
  },
  {
   "cell_type": "markdown",
   "metadata": {
    "id": "s9YILbMrXx24"
   },
   "source": [
    "# Python Basics I"
   ]
  },
  {
   "cell_type": "markdown",
   "metadata": {
    "id": "1MzQ4nIvXx25"
   },
   "source": [
    "## Contenidos"
   ]
  },
  {
   "cell_type": "markdown",
   "metadata": {
    "id": "2GoQJx2zXx25"
   },
   "source": [
    "* [Funciones (I): *Built in*](#Funciones-(I):-*Built-in*)\n",
    "* [Métodos](#Métodos)\n"
   ]
  },
  {
   "cell_type": "markdown",
   "metadata": {
    "id": "g7CkZgMJXx26"
   },
   "source": [
    "## Funciones (I): *Built in*\n",
    "[al indice](#Contenidos)  \n",
    "\n",
    "Hay una serie de funciones internas, que vienen en el intérprete de Python y no hay que importar. Vienen de serie. Algunas de las más comunes son:\n",
    "* **Tipos**: `bool()`, `str()`, `int()`, `float()` --> conversiones de tipo\n",
    "* **Min/Max**: `min()`, `max()`\n",
    "* **print()** --> imprimir por pantalla\n",
    "* **type()** --> definir el tipo\n",
    "* **range()**\n",
    "* **zip()**\n",
    "* **len()**\n",
    "* **round()** --> para redondear valores numéricos\n",
    "* ...\n",
    "\n",
    "La sintaxis de la función es:\n",
    "\n",
    "```Python\n",
    "nombreFuncion(argumentos)\n",
    "```\n",
    "\n",
    "Algunas ya las hemos visto. Sin embargo, hay unas cuantas que las iremos descubriendo a lo largo de estos notebooks. Para más detalle, tienes [aquí](https://docs.python.org/3/library/functions.html) todas las funciones *built-in* de la documentación.\n",
    "\n",
    "De momento, en lo que se refiere a funciones, vamos a ir trabajando con funciones ya hechas, pero más adelante crearemos nuestras propias funciones."
   ]
  },
  {
   "cell_type": "code",
   "execution_count": 6,
   "metadata": {
    "id": "HKsNFl76Xx27"
   },
   "outputs": [
    {
     "name": "stdout",
     "output_type": "stream",
     "text": [
      "33\n",
      "1658\n"
     ]
    }
   ],
   "source": [
    "# Len se usa para calcular la longitud de una variable. Ya veras que lo usaremos mucho en colecciones.\n",
    "# las COLECCIONES son agrupaciones de variables de diferentes tipos.\n",
    "print(len(\"Esto es una cadena de longitud...\")) #nos indica la longitud incluyendo los espacios vacíos\n",
    "\n",
    "# Funcion max. Tiene tantos argumentos como cantidad de números entre los cuales queramos sacar su valor máximo.\n",
    "print(max((1,12,13,25,6,1658)))"
   ]
  },
  {
   "cell_type": "code",
   "execution_count": 12,
   "metadata": {},
   "outputs": [
    {
     "name": "stdout",
     "output_type": "stream",
     "text": [
      "La longitud de esta cadena es**test**29**test**y no es un float\n",
      "Esto va en otra línea\n",
      "La longitud de esta cadena es**test**29**test**y no es un floatEsto va seguido\n"
     ]
    }
   ],
   "source": [
    "cadena = \"La longitud de esta cadena es\"\n",
    "print(cadena, len(cadena), \"y no es un float\", sep = \"**test**\")\n",
    "print(\"Esto va en otra línea\")\n",
    "\n",
    "print(cadena, len(cadena), \"y no es un float\", sep = \"**test**\", end = \"\")\n",
    "print(\"Esto va seguido\")"
   ]
  },
  {
   "cell_type": "markdown",
   "metadata": {
    "id": "TUOq5sXJXx28"
   },
   "source": [
    "## Métodos\n",
    "[al indice](#Contenidos)  \n",
    "\n",
    "Se trata de una propiedad MUY utilizada en programación. Son funciones propias de las variables/objetos, y que nos permiten modificarlos u obtener más información de los mismos. Dependiendo del tipo de objeto, tendremos unos métodos disponibles diferentes.\n",
    "\n",
    "Para usar un método se usa la sintaxis `objeto.metodo()`. Ponemos un punto entre el nombre del objeto y el del metodo, y unos paréntesis por si el método necesita de algunos argumentos. **Aunque no necesite de argumentos, los paréntesis hay que ponerlos igualmente.**\n",
    "\n",
    "Veamos algunos ejemplos\n",
    "\n",
    "### String\n",
    "Una variable de tipo string, tiene una serie de métodos que permiten sacarle jugo a la cadena de texto. [Aquí](https://docs.python.org/2.5/lib/string-methods.html) tienes todos los métodos que podemos usar en cadenas de texto"
   ]
  },
  {
   "cell_type": "code",
   "execution_count": 18,
   "metadata": {
    "id": "IGS6Ec5yXx28"
   },
   "outputs": [
    {
     "name": "stdout",
     "output_type": "stream",
     "text": [
      "string en minusculas\n",
      "STRING EN MINUSCULAS\n",
      "string en minusculas\n"
     ]
    }
   ],
   "source": [
    "string_ejemplo1 = \"string en minusculas\"\n",
    "\n",
    "# Método para poner un string todo en mayúsculas\n",
    "print(string_ejemplo1)\n",
    "print(string_ejemplo1.upper())\n",
    "print(string_ejemplo1) # vemos que la variable sigue estando en minúsculas, NO HA CAMBIADO\n"
   ]
  },
  {
   "cell_type": "code",
   "execution_count": 19,
   "metadata": {},
   "outputs": [
    {
     "name": "stdout",
     "output_type": "stream",
     "text": [
      "STRING EN MAYUSCULAS\n",
      "string en mayusculas\n",
      "STRING EN MAYUSCULAS\n"
     ]
    }
   ],
   "source": [
    "string_ejemplo2 = \"STRING EN MAYUSCULAS\"\n",
    "\n",
    "# Método para poner un string en minúsculas\n",
    "print(string_ejemplo2)\n",
    "print(string_ejemplo2.lower())\n",
    "print(string_ejemplo2) # vemos que la variable sigue estando en mayúsculas, NO HA CAMBIADO\n"
   ]
  },
  {
   "cell_type": "code",
   "execution_count": 21,
   "metadata": {
    "id": "FTE_M67tXx28"
   },
   "outputs": [
    {
     "name": "stdout",
     "output_type": "stream",
     "text": [
      "ESTO LO QUIERO EN MAYÚSCULAS\n",
      "esto lo quiero en minúsculas\n"
     ]
    }
   ],
   "source": [
    "# Otra forma de hacerlo directamente sería\n",
    "print(\"Esto lo quiero en mayúsculas\".upper())\n",
    "print(\"ESTO LO QUIERO EN MINÚSCULAS\".lower())"
   ]
  },
  {
   "cell_type": "code",
   "execution_count": 46,
   "metadata": {},
   "outputs": [
    {
     "name": "stdout",
     "output_type": "stream",
     "text": [
      "En la cueva hay varios murciélagos\n",
      "En la cueva hay varioc murciélagoc\n",
      "En la cueva hay varioXXX murciélagos\n",
      "En la cueva hay varios monolitos\n",
      "En l cuev hy vrios murciélgos\n",
      "En la cueva hay varios murciélagos\n"
     ]
    }
   ],
   "source": [
    "# Método para reemplazar algún carácter o varios\n",
    "\n",
    "string_ejemplo3 = \"En la cueva hay varios murciélagos\"\n",
    "print(string_ejemplo3)\n",
    "\n",
    "print(string_ejemplo3.replace(\"s\", \"c\")) #por defecto, los cambia todos porque tiene un valor -1 (mirar SHF+TAB). Si sólo quiero uno tendré que decir:\n",
    "print(string_ejemplo3.replace(\"s\", \"XXX\", 1))\n",
    "print(string_ejemplo3.replace(\"murciélagos\", \"monolitos\"))\n",
    "print(string_ejemplo3.replace(\"a\",\"\")) # para eliminar caracteres\n",
    "\n",
    "print(string_ejemplo3) # vemos que la variable NO HA CAMBIADO"
   ]
  },
  {
   "cell_type": "code",
   "execution_count": 33,
   "metadata": {},
   "outputs": [
    {
     "name": "stdout",
     "output_type": "stream",
     "text": [
      "['Esto', 'se', 'va', 'a', 'convertir', 'en', 'una', 'lista', 'de', 'strings']\n"
     ]
    }
   ],
   "source": [
    "# Método para convertir un string en una lista\n",
    "print(\"Esto se va a convertir en una lista de strings\".split(\" \")) # El corte lo he hecho entre los espacios, como le he indicado"
   ]
  },
  {
   "cell_type": "code",
   "execution_count": 34,
   "metadata": {},
   "outputs": [
    {
     "name": "stdout",
     "output_type": "stream",
     "text": [
      "['Esto se va a ', ' en una lista de strings']\n"
     ]
    }
   ],
   "source": [
    "# Método para convertir un string en una lista\n",
    "print(\"Esto se va a convertir en una lista de strings\".split(\"convertir\")) # El corte lo he hecho entre los espacios, como le he indicado"
   ]
  },
  {
   "cell_type": "code",
   "execution_count": 37,
   "metadata": {},
   "outputs": [
    {
     "name": "stdout",
     "output_type": "stream",
     "text": [
      "9\n"
     ]
    }
   ],
   "source": [
    "# Método para conocer la posición de un carácter dentro de un string\n",
    "string_ejemplo4 = \"Hay una serpiente en mi bota\"\n",
    "\n",
    "print(string_ejemplo4.index(\"e\")) # a veces tarda un poco en cargar, RECUERDO QUE EMPIEZO A CONTAR EN 0 !!!"
   ]
  },
  {
   "cell_type": "markdown",
   "metadata": {
    "id": "nVlqQ5hyXx29"
   },
   "source": [
    "Como ves, se pueden hacer muchas cosas en los Strings gracias a sus métodos. Ya verás cómo la cosa se pone más interesante cuando los tipos de los datos sean todavía más complejos.\n",
    "\n",
    "Los métodos son una manera de abstraernos de cierta operativa. Convertir todos los caracteres de una cadena a minuscula, puede ser un poco tedioso si no existiese el método `lower()`. Tendríamos que acudir a bucles o programación funcional."
   ]
  },
  {
   "cell_type": "markdown",
   "metadata": {
    "id": "wK1ciYBLXx29"
   },
   "source": [
    "<table align=\"left\">\n",
    " <tr><td width=\"80\"><img src=\"./img/error.png\" style=\"width:auto;height:auto\"></td>\n",
    "     <td style=\"text-align:left\">\n",
    "         <h3>ERRORES en métodos</h3>\n",
    "         \n",
    " </td></tr>\n",
    "</table>"
   ]
  },
  {
   "cell_type": "code",
   "execution_count": 41,
   "metadata": {
    "id": "nvEv1If-Xx29",
    "scrolled": true
   },
   "outputs": [
    {
     "ename": "TypeError",
     "evalue": "replace() takes at least 2 positional arguments (0 given)",
     "output_type": "error",
     "traceback": [
      "\u001b[31m---------------------------------------------------------------------------\u001b[39m",
      "\u001b[31mTypeError\u001b[39m                                 Traceback (most recent call last)",
      "\u001b[36mCell\u001b[39m\u001b[36m \u001b[39m\u001b[32mIn[41]\u001b[39m\u001b[32m, line 4\u001b[39m\n\u001b[32m      1\u001b[39m \u001b[38;5;66;03m# Cuando un método necesita ciertos argumentos, y no se los proporcionamos\u001b[39;00m\n\u001b[32m      2\u001b[39m string_ejemplo4 = \u001b[33m\"\u001b[39m\u001b[33mHay una serpiente en mi bota\u001b[39m\u001b[33m\"\u001b[39m\n\u001b[32m----> \u001b[39m\u001b[32m4\u001b[39m \u001b[43mstring_ejemplo4\u001b[49m\u001b[43m.\u001b[49m\u001b[43mreplace\u001b[49m\u001b[43m(\u001b[49m\u001b[43m)\u001b[49m \u001b[38;5;66;03m# falla porque no le he puesto ningún argumento y son mínimo dos\u001b[39;00m\n\u001b[32m      5\u001b[39m string_ejemplo4.replace(\u001b[33m\"\u001b[39m\u001b[33mserpiente\u001b[39m\u001b[33m\"\u001b[39m) \u001b[38;5;66;03m# falla porque sólo le he dado un argumento y necesita mínimo dos\u001b[39;00m\n",
      "\u001b[31mTypeError\u001b[39m: replace() takes at least 2 positional arguments (0 given)"
     ]
    }
   ],
   "source": [
    "# Cuando un método necesita ciertos argumentos, y no se los proporcionamos\n",
    "string_ejemplo4 = \"Hay una serpiente en mi bota\"\n",
    "\n",
    "string_ejemplo4.replace() # falla porque no le he puesto ningún argumento y son mínimo dos\n",
    "string_ejemplo4.replace(\"serpiente\") # falla porque sólo le he dado un argumento y necesita mínimo dos"
   ]
  }
 ],
 "metadata": {
  "colab": {
   "provenance": []
  },
  "kernelspec": {
   "display_name": "Python 3 (ipykernel)",
   "language": "python",
   "name": "python3"
  },
  "language_info": {
   "codemirror_mode": {
    "name": "ipython",
    "version": 3
   },
   "file_extension": ".py",
   "mimetype": "text/x-python",
   "name": "python",
   "nbconvert_exporter": "python",
   "pygments_lexer": "ipython3",
   "version": "3.13.3"
  }
 },
 "nbformat": 4,
 "nbformat_minor": 4
}

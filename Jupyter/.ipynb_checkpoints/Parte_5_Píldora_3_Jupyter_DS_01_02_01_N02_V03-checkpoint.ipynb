{
 "cells": [
  {
   "cell_type": "markdown",
   "metadata": {
    "id": "V70KnUYc8-vy"
   },
   "source": [
    "![TheBridge_Python_v0.png](attachment:TheBridge_Python_v0.png)"
   ]
  },
  {
   "cell_type": "markdown",
   "metadata": {
    "id": "rt9Kc1HG8-v1"
   },
   "source": [
    "##  Colecciones Python: Tuplas\n"
   ]
  },
  {
   "cell_type": "markdown",
   "metadata": {
    "id": "PeVDMs-98-v1"
   },
   "source": [
    "### Contenidos\n"
   ]
  },
  {
   "cell_type": "markdown",
   "metadata": {
    "id": "7uNScnRd8-v2"
   },
   "source": [
    "* [Introducción](#Introducción)\n",
    "\n",
    "* [Listas y tuplas](#Listas-y-tuplas)\n",
    "\n"
   ]
  },
  {
   "cell_type": "markdown",
   "metadata": {
    "id": "B6knH3Kh8-v2"
   },
   "source": [
    "### Introducción\n",
    "[al indice](#Contenidos)  \n",
    "\n",
    "Muy similares a las listas. Si en Notebooks anteriores definíamos a las listas como ordenadas y mutables, las tuplas son ordenadas e inmutables.\n",
    "\n",
    "* **Inmutables**: una vez creada la tupla con sus elementos iniciales, no se puede modificar\n",
    "* **Ordenadas**: podemos acceder a sus elementos a través del indice y reordenar la tupla según queramos\n",
    "\n",
    "Las tuplas se suelen usar para pequeñas colecciones de datos que no van a cambiar a lo largo del programa, como es el caso de las constantes.\n",
    "\n",
    "Si las listas se construían mediante corchetes `[]`, las tuplas lo hacen con los paréntesis `()`"
   ]
  },
  {
   "cell_type": "code",
   "execution_count": 2,
   "metadata": {
    "id": "9GMbk19a8-v2"
   },
   "outputs": [
    {
     "name": "stdout",
     "output_type": "stream",
     "text": [
      "(3, 'texto')\n",
      "<class 'tuple'>\n",
      "El primer elemento es: 3\n",
      "El segundo elemento es: texto\n"
     ]
    }
   ],
   "source": [
    "tupla = (3, \"texto\")\n",
    "print(tupla)\n",
    "print(type(tupla))\n",
    "\n",
    "# Para acceder a los elementos uso los corchetes\n",
    "print(\"El primer elemento es:\", tupla[0])\n",
    "print(\"El segundo elemento es:\", tupla[1])"
   ]
  },
  {
   "cell_type": "markdown",
   "metadata": {
    "id": "VqmkKIT78-v3"
   },
   "source": [
    "Los paréntesis ya se usan para reordenar operaciones `5 * (3 + 4)`, por lo que hay que añadir una coma cuando definamos una tupla con un único elemento, sino Python lo interpretará como un número."
   ]
  },
  {
   "cell_type": "code",
   "execution_count": 3,
   "metadata": {
    "id": "LnPDWD-L8-v3"
   },
   "outputs": [
    {
     "name": "stdout",
     "output_type": "stream",
     "text": [
      "<class 'int'>\n"
     ]
    }
   ],
   "source": [
    "tupla_mala = (24)\n",
    "print(type(tupla_mala)) # sale de clase int porque lo hemos indicado mal"
   ]
  },
  {
   "cell_type": "code",
   "execution_count": 4,
   "metadata": {
    "id": "aF3eFZdC8-v4"
   },
   "outputs": [
    {
     "name": "stdout",
     "output_type": "stream",
     "text": [
      "<class 'tuple'>\n"
     ]
    }
   ],
   "source": [
    "tupla_buena = (24,)\n",
    "print(type(tupla_buena)) # ahora me sale bien porque he colocado una coma detrás de ese único elemento"
   ]
  },
  {
   "cell_type": "code",
   "execution_count": 6,
   "metadata": {},
   "outputs": [
    {
     "name": "stdout",
     "output_type": "stream",
     "text": [
      "(1, 2, 3, ('A', 'B', 'C'))\n",
      "<class 'tuple'>\n",
      "4\n"
     ]
    }
   ],
   "source": [
    "# anidar tuplas, ya seo dentro de ellas mimas o mezclarlas con listas\n",
    "tupla_anid = (1, 2, 3, (\"A\", \"B\", \"C\"))\n",
    "print(tupla_anid)\n",
    "print(type(tupla_anid))\n",
    "print(len(tupla_anid))"
   ]
  },
  {
   "cell_type": "code",
   "execution_count": 12,
   "metadata": {
    "scrolled": true
   },
   "outputs": [
    {
     "name": "stdout",
     "output_type": "stream",
     "text": [
      "3\n",
      "B\n"
     ]
    }
   ],
   "source": [
    "# para acceder a los elementos de la tupla, como el elemento [2] que es el 3\n",
    "print(tupla_anid[2])\n",
    "\n",
    "# para acceder al segundo elemento de la tupla que está anidada, es decir, para obtener B:\n",
    "print(tupla_anid[3][1]) #me voy al elemento [3] que sería mi tupla interna y, dentro de ella, me voy al elemento [1]"
   ]
  },
  {
   "cell_type": "code",
   "execution_count": 16,
   "metadata": {
    "scrolled": true
   },
   "outputs": [
    {
     "name": "stdout",
     "output_type": "stream",
     "text": [
      "1\n",
      "2\n",
      "3\n",
      "('A', 'B', 'C')\n"
     ]
    }
   ],
   "source": [
    "# las tuplas son ITERABLES como las listas, es decir, podemos recorrerlas con un BUCLE FOR\n",
    "\n",
    "for i in tupla_anid:\n",
    "    print(i) #debo dejar el espacio para saber que va dentro del FOR"
   ]
  },
  {
   "cell_type": "code",
   "execution_count": 18,
   "metadata": {},
   "outputs": [
    {
     "name": "stdout",
     "output_type": "stream",
     "text": [
      "(1, 2, 3, ('A', 'B', 'C'))\n",
      "(3, ('A', 'B', 'C'))\n"
     ]
    }
   ],
   "source": [
    "# SCLICING\n",
    "\n",
    "tupla_anid = (1, 2, 3, (\"A\", \"B\", \"C\"))\n",
    "print(tupla_anid)\n",
    "\n",
    "tupla_bis = tupla_anid[2:] # copio los elementos a partir del [2] hasta el final, es decir, a partir del 3\n",
    "print(tupla_bis)"
   ]
  },
  {
   "cell_type": "markdown",
   "metadata": {
    "id": "q8EsvOM-8-v4"
   },
   "source": [
    "<table align=\"left\">\n",
    " <tr>\n",
    "     <td style=\"text-align:left\">\n",
    "         <h3>ERRORES tuplas</h3>\n",
    "         \n",
    " </td></tr>\n",
    "</table>"
   ]
  },
  {
   "cell_type": "markdown",
   "metadata": {
    "id": "EIlw11mp8-v4"
   },
   "source": [
    "Cuidado que las tuplas son inmutables, y una vez creadas no las podrás modificar después"
   ]
  },
  {
   "cell_type": "code",
   "execution_count": 19,
   "metadata": {
    "id": "rmmWxbg58-v4"
   },
   "outputs": [
    {
     "ename": "TypeError",
     "evalue": "'tuple' object does not support item assignment",
     "output_type": "error",
     "traceback": [
      "\u001b[31m---------------------------------------------------------------------------\u001b[39m",
      "\u001b[31mTypeError\u001b[39m                                 Traceback (most recent call last)",
      "\u001b[36mCell\u001b[39m\u001b[36m \u001b[39m\u001b[32mIn[19]\u001b[39m\u001b[32m, line 2\u001b[39m\n\u001b[32m      1\u001b[39m tupla_error = (\u001b[32m1\u001b[39m, \u001b[32m2\u001b[39m, \u001b[32m3\u001b[39m, \u001b[32m4\u001b[39m, \u001b[32m5\u001b[39m)\n\u001b[32m----> \u001b[39m\u001b[32m2\u001b[39m \u001b[43mtupla_error\u001b[49m\u001b[43m[\u001b[49m\u001b[32;43m3\u001b[39;49m\u001b[43m]\u001b[49m = \u001b[32m77\u001b[39m\n\u001b[32m      4\u001b[39m \u001b[38;5;66;03m# no puedo cambiar los elementos de una tupla, ni añadir con APPEND o POP, ya que las tuplas no se modifican\u001b[39;00m\n",
      "\u001b[31mTypeError\u001b[39m: 'tuple' object does not support item assignment"
     ]
    }
   ],
   "source": [
    "tupla_error = (1, 2, 3, 4, 5)\n",
    "tupla_error[3] = 77\n",
    "\n",
    "# no puedo cambiar los elementos de una tupla, ni añadir con APPEND o POP, ya que las tuplas no se modifican"
   ]
  },
  {
   "cell_type": "code",
   "execution_count": 27,
   "metadata": {
    "id": "Jotd1BOb8-v5"
   },
   "outputs": [
    {
     "name": "stdout",
     "output_type": "stream",
     "text": [
      "Sin concatenar: (1, 2, 3) (4, 5, 6)\n",
      "Concatenada: (1, 2, 3, 4, 5, 6)\n",
      "tupla 3: (1, 2, 3, 4, 5, 6)\n",
      "tupla 1: (1, 2, 3, 4, 5, 6)\n"
     ]
    }
   ],
   "source": [
    "# Lo que podemos hacer es concatenar tuplas para crear una nueva tupla que sea la combinación de ambas\n",
    "# Si queremos añadir elementos, podemos meterlos en otra tupla y sumarlas para que se concatenen\n",
    "\n",
    "tupla_1 = (1, 2, 3)\n",
    "tupla_2 = (4, 5, 6)\n",
    "\n",
    "print(\"Sin concatenar:\", tupla_1, tupla_2)\n",
    "print(\"Concatenada:\", tupla_1 + tupla_2)\n",
    "\n",
    "tupla_3 = tupla_1 + tupla_2\n",
    "tupla_1 = tupla_1 + tupla_2 # aquí no le he añadido unos valores sino que he hecho una REASIGNACIÓN de los iniciales\n",
    "print(\"tupla 3:\", tupla_3)\n",
    "print(\"tupla 1:\", tupla_1)\n"
   ]
  },
  {
   "cell_type": "markdown",
   "metadata": {
    "id": "mZClpEWJ8-v5"
   },
   "source": [
    "### Listas y tuplas\n",
    "[al indice](#Contenidos)  \n",
    "\n",
    "Podemos combinar listas y tuplas que no tendremos ningún problema, siempre y cuando respetemos las propiedades de cada tipo de dato."
   ]
  },
  {
   "cell_type": "code",
   "execution_count": 9,
   "metadata": {},
   "outputs": [
    {
     "name": "stdout",
     "output_type": "stream",
     "text": [
      "['fresas', ('naranjas', 'limones'), 'kiwis']\n",
      "<class 'list'> \n",
      "\n",
      "('fresas', ['naranjas', 'limones'], 'kiwis')\n",
      "<class 'tuple'>\n",
      "\n",
      "Veo qué hay en la lista interna de la tupla: ['naranjas', 'limones']\n",
      "Veo qué hay en la lista interna de la tupla en posición 0: naranjas\n",
      "\n",
      "Añado 'peras' a la lista interna de la tupla:\n",
      "['naranjas', 'limones', 'peras']\n",
      "\n",
      "Veo mi tupla con la lista interna modificada: ('fresas', ['naranjas', 'limones', 'peras'], 'kiwis')\n",
      "<class 'tuple'>\n"
     ]
    }
   ],
   "source": [
    "frutas_1 = [\"fresas\", (\"naranjas\", \"limones\"), \"kiwis\"]\n",
    "frutas_2 = (\"fresas\", [\"naranjas\", \"limones\"], \"kiwis\")\n",
    "\n",
    "print(frutas_1)\n",
    "print(type(frutas_1), \"\\n\")\n",
    "print(frutas_2)\n",
    "print(type(frutas_2))\n",
    "\n",
    "# El primer ejemplo es una LISTA porque va entre [ ], por lo que podremos modificar sus elementos \n",
    "# y añadir otrossiempre y cuando no se toque la tupla interna que lo compone.\n",
    "\n",
    "# El segundo ejemplo es una tupla, no puedo modificarla.\n",
    "print(\"\\nVeo qué hay en la lista interna de la tupla:\", (frutas_2[1]))\n",
    "print(\"Veo qué hay en la lista interna de la tupla en posición 0:\", (frutas_2[1][0]))\n",
    "\n",
    "print(\"\\nAñado 'peras' a la lista interna de la tupla:\")\n",
    "frutas_new = frutas_2[1]\n",
    "frutas_new.append(\"peras\")\n",
    "print(frutas_new)\n",
    "\n",
    "print(\"\\nVeo mi tupla con la lista interna modificada:\", frutas_2)\n",
    "print(type(frutas_2))"
   ]
  }
 ],
 "metadata": {
  "colab": {
   "provenance": []
  },
  "kernelspec": {
   "display_name": "Python 3 (ipykernel)",
   "language": "python",
   "name": "python3"
  },
  "language_info": {
   "codemirror_mode": {
    "name": "ipython",
    "version": 3
   },
   "file_extension": ".py",
   "mimetype": "text/x-python",
   "name": "python",
   "nbconvert_exporter": "python",
   "pygments_lexer": "ipython3",
   "version": "3.13.3"
  }
 },
 "nbformat": 4,
 "nbformat_minor": 4
}

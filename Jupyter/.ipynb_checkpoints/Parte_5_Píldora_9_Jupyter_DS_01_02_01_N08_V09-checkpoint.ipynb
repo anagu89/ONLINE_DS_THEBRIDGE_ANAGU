{
 "cells": [
  {
   "cell_type": "markdown",
   "metadata": {
    "id": "8I8Q5ADgPEk2"
   },
   "source": [
    "![TheBridge_Python_v0.png](attachment:TheBridge_Python_v0.png)"
   ]
  },
  {
   "cell_type": "markdown",
   "metadata": {
    "id": "TqaIUvuEPEk5"
   },
   "source": [
    "##  Argumentos variables\n"
   ]
  },
  {
   "cell_type": "markdown",
   "metadata": {
    "id": "-cFSr2urPEk6"
   },
   "source": [
    "### Contenidos\n"
   ]
  },
  {
   "cell_type": "markdown",
   "metadata": {
    "id": "BNcqeKDIPEk6"
   },
   "source": [
    "* [Introducción  ](#Introducción--)\n"
   ]
  },
  {
   "cell_type": "markdown",
   "metadata": {
    "id": "UAuF8PRxPEk7"
   },
   "source": [
    "### Introducción  \n",
    "[al indice](#Contenidos)  \n",
    "En los ejemplos de la sesión anterior teníamos que fijar un número concreto de argumentos para nuestras funciones, pero hay ocasiones que no tenemos seguro cuántos argumentos son. Por suerte, las funciones de Python nos aportan esa flexibilidad mediante `*`\n",
    "\n",
    "Veamos cómo implementar una función multiplicadora con numero variable de argumentos"
   ]
  },
  {
   "cell_type": "code",
   "execution_count": 4,
   "metadata": {
    "id": "CXaPnoP3PEk8"
   },
   "outputs": [
    {
     "name": "stdout",
     "output_type": "stream",
     "text": [
      "(2, 3, 5)\n",
      "<class 'tuple'>\n",
      "(1, 2, 4, 67, 4)\n",
      "<class 'tuple'>\n"
     ]
    }
   ],
   "source": [
    "def multiplica(*argumentos):\n",
    "    print(argumentos)\n",
    "    print(type(argumentos))\n",
    "\n",
    "multiplica (2,3,5)\n",
    "multiplica (1,2,4,67,4)\n",
    "# cuando en una función uso ASTERISCO* es una TUPLA de valores"
   ]
  },
  {
   "cell_type": "code",
   "execution_count": 7,
   "metadata": {},
   "outputs": [
    {
     "name": "stdout",
     "output_type": "stream",
     "text": [
      "El resultado es: 40\n",
      "El resultado es: 276\n",
      "El resultado es: 1\n"
     ]
    },
    {
     "data": {
      "text/plain": [
       "1"
      ]
     },
     "execution_count": 7,
     "metadata": {},
     "output_type": "execute_result"
    }
   ],
   "source": [
    "# normalmente, para poner un número variable de argumentos pongo ARGS\n",
    "def multiplica(*args):\n",
    "    resultado = 1\n",
    "    for elemento in args:\n",
    "        resultado = resultado * elemento\n",
    "    print(\"El resultado es:\", resultado)\n",
    "    return resultado\n",
    "\n",
    "multiplica(2,4,5)\n",
    "multiplica(23,12)\n",
    "multiplica()"
   ]
  },
  {
   "cell_type": "code",
   "execution_count": 8,
   "metadata": {},
   "outputs": [
    {
     "name": "stdout",
     "output_type": "stream",
     "text": [
      "El siguiente elemento es: 2\n",
      "El siguiente elemento es: 4\n",
      "El siguiente elemento es: 5\n",
      "El resultado es: 40\n",
      "El siguiente elemento es: 23\n",
      "El siguiente elemento es: 12\n",
      "El resultado es: 276\n",
      "El resultado es: 1\n"
     ]
    },
    {
     "data": {
      "text/plain": [
       "1"
      ]
     },
     "execution_count": 8,
     "metadata": {},
     "output_type": "execute_result"
    }
   ],
   "source": [
    "# puedo acceder a los args de otra forma\n",
    "def multiplica(*args):\n",
    "    resultado = 1\n",
    "    for indice, elemento in enumerate(args):\n",
    "        print(\"El siguiente elemento es:\", args[indice])\n",
    "        resultado = resultado * elemento\n",
    "    print(\"El resultado es:\", resultado)\n",
    "    return resultado\n",
    "\n",
    "multiplica(2,4,5)\n",
    "multiplica(23,12)\n",
    "multiplica()"
   ]
  },
  {
   "cell_type": "markdown",
   "metadata": {
    "id": "EUxI7oRiPEk8"
   },
   "source": [
    "Ten en cuenta que `*args` es algo variable con X elementos. Como no sabemos a priori cuantos son, tendremos que recorrerlos con un `for`, y para cada argumento, aplicarle una operación. Por tanto, `*args` es un iterable, en concreto una **tupla**. Lo que le está dando la funcionalidad de \"argumentos variables\" es `*`, no `args`. Igual que ponemos `*args`, podemos poner `*argumentos`.\n",
    "\n",
    "Puedes combinar argumentos posicionales con los `*args`"
   ]
  },
  {
   "cell_type": "markdown",
   "metadata": {
    "id": "ULjH-QKSPEk-"
   },
   "source": [
    "<table align=\"left\">\n",
    " <tr>\n",
    "     <td style=\"text-align:left\">\n",
    "         <h3>ERRORES con argumentos variables</h3>\n",
    "         \n",
    " </td></tr>\n",
    "</table>"
   ]
  },
  {
   "cell_type": "markdown",
   "metadata": {
    "id": "sejxBSz-PEk-"
   },
   "source": [
    "Declara los argumentos variables al principio, y los fijos al final para evitar errores. Además, si los combinas, tendrás que concretar cuáles son los argumentos fijos"
   ]
  },
  {
   "cell_type": "code",
   "execution_count": 11,
   "metadata": {
    "id": "eEZ_MCTqPEk9",
    "scrolled": true
   },
   "outputs": [
    {
     "ename": "TypeError",
     "evalue": "multiplica_divide() missing 1 required keyword-only argument: 'div'",
     "output_type": "error",
     "traceback": [
      "\u001b[31m---------------------------------------------------------------------------\u001b[39m",
      "\u001b[31mTypeError\u001b[39m                                 Traceback (most recent call last)",
      "\u001b[36mCell\u001b[39m\u001b[36m \u001b[39m\u001b[32mIn[11]\u001b[39m\u001b[32m, line 9\u001b[39m\n\u001b[32m      6\u001b[39m     resultado = resultado / div\n\u001b[32m      7\u001b[39m     \u001b[38;5;28;01mreturn\u001b[39;00m resultado\n\u001b[32m----> \u001b[39m\u001b[32m9\u001b[39m \u001b[43mmultiplica_divide\u001b[49m\u001b[43m(\u001b[49m\u001b[32;43m10\u001b[39;49m\u001b[43m,\u001b[49m\u001b[32;43m34\u001b[39;49m\u001b[43m,\u001b[49m\u001b[32;43m21\u001b[39;49m\u001b[43m,\u001b[49m\u001b[32;43m5\u001b[39;49m\u001b[43m)\u001b[49m\n\u001b[32m     11\u001b[39m \u001b[38;5;66;03m# El error nos sale porque nos está pidiendo el argumento \"div\" y cómo es un número variable de \u001b[39;00m\n\u001b[32m     12\u001b[39m \u001b[38;5;66;03m# argumentos, la función no sabe cuántos elementos tiene que considerar, por lo que considera todos. \u001b[39;00m\n\u001b[32m     13\u001b[39m \u001b[38;5;66;03m# Por ello, hay que especificar el valor de \"div\" utilizando su etiqueta ya que no lo entiende.\u001b[39;00m\n",
      "\u001b[31mTypeError\u001b[39m: multiplica_divide() missing 1 required keyword-only argument: 'div'"
     ]
    }
   ],
   "source": [
    "# En este ejemplo, uso el ultimo argumento para dividir todo lo que habiamos multiplicado por este argumento\n",
    "def multiplica_divide(*args, div):\n",
    "    resultado = 1\n",
    "    for i in args:\n",
    "            resultado = resultado * i\n",
    "    resultado = resultado / div\n",
    "    return resultado\n",
    "\n",
    "multiplica_divide(10,34,21,5)\n",
    "\n",
    "# El error nos sale porque nos está pidiendo el argumento \"div\" y cómo es un número variable de \n",
    "# argumentos, la función no sabe cuántos elementos tiene que considerar, por lo que considera todos. \n",
    "# Por ello, hay que especificar el valor de \"div\" utilizando su etiqueta ya que no lo entiende."
   ]
  },
  {
   "cell_type": "code",
   "execution_count": 13,
   "metadata": {},
   "outputs": [
    {
     "data": {
      "text/plain": [
       "1428.0"
      ]
     },
     "execution_count": 13,
     "metadata": {},
     "output_type": "execute_result"
    }
   ],
   "source": [
    "def multiplica_divide(*args, div):\n",
    "    resultado = 1\n",
    "    for i in args:\n",
    "            resultado = resultado * i\n",
    "    resultado = resultado / div\n",
    "    return resultado\n",
    "\n",
    "multiplica_divide(10,34,21, div=5)\n",
    "\n",
    "# en este caso, al decirle que \"div=5\", ya sabe que el resto de elementos son \"args\" (argumentos)"
   ]
  },
  {
   "cell_type": "code",
   "execution_count": 15,
   "metadata": {},
   "outputs": [
    {
     "data": {
      "text/plain": [
       "1428.0"
      ]
     },
     "execution_count": 15,
     "metadata": {},
     "output_type": "execute_result"
    }
   ],
   "source": [
    "# si pongo el \"div\" al principio del todo, como sólo hay uno, ya sabe que\n",
    "# el resto de elementos son args. Veámoslo:\n",
    "def multiplica_divide(div, *args):\n",
    "    resultado = 1\n",
    "    for i in args:\n",
    "            resultado = resultado * i\n",
    "    resultado = resultado / div\n",
    "    return resultado\n",
    "\n",
    "multiplica_divide(5,10,34,21)"
   ]
  },
  {
   "cell_type": "code",
   "execution_count": 16,
   "metadata": {
    "scrolled": true
   },
   "outputs": [
    {
     "ename": "TypeError",
     "evalue": "multiplica_divide() got multiple values for argument 'div'",
     "output_type": "error",
     "traceback": [
      "\u001b[31m---------------------------------------------------------------------------\u001b[39m",
      "\u001b[31mTypeError\u001b[39m                                 Traceback (most recent call last)",
      "\u001b[36mCell\u001b[39m\u001b[36m \u001b[39m\u001b[32mIn[16]\u001b[39m\u001b[32m, line 11\u001b[39m\n\u001b[32m      8\u001b[39m     resultado = resultado / div\n\u001b[32m      9\u001b[39m     \u001b[38;5;28;01mreturn\u001b[39;00m resultado\n\u001b[32m---> \u001b[39m\u001b[32m11\u001b[39m \u001b[43mmultiplica_divide\u001b[49m\u001b[43m(\u001b[49m\u001b[32;43m10\u001b[39;49m\u001b[43m,\u001b[49m\u001b[32;43m34\u001b[39;49m\u001b[43m,\u001b[49m\u001b[32;43m21\u001b[39;49m\u001b[43m,\u001b[49m\u001b[43m \u001b[49m\u001b[43mdiv\u001b[49m\u001b[43m=\u001b[49m\u001b[32;43m5\u001b[39;49m\u001b[43m)\u001b[49m\n",
      "\u001b[31mTypeError\u001b[39m: multiplica_divide() got multiple values for argument 'div'"
     ]
    }
   ],
   "source": [
    "# ahora veremos el error cuando sí he dicho que \"div\" está al principio\n",
    "# pero al llamarlo en la función lo pongo al final o en otro sitio\n",
    "\n",
    "def multiplica_divide(div, *args):\n",
    "    resultado = 1\n",
    "    for i in args:\n",
    "            resultado = resultado * i\n",
    "    resultado = resultado / div\n",
    "    return resultado\n",
    "\n",
    "multiplica_divide(10,34,21, div=5)"
   ]
  },
  {
   "cell_type": "markdown",
   "metadata": {},
   "source": [
    "Lo suyo entonces en poner en la función primero los args (variables) y después los fijos,\n",
    "y al llamar al código indicarlo al final del paréntesis, es decir:\n",
    "\n",
    "def multiplica_divide **`(*args, div)`**:<br>\n",
    "----resultado = 1<br>\n",
    "----for i in args:<br>\n",
    "-------------resultado = resultado * i<br>\n",
    "----resultado = resultado / div<br>\n",
    "----return resultado<br>\n",
    "\n",
    "multiplica_divide **`(10,34,21, div=5)`**"
   ]
  }
 ],
 "metadata": {
  "colab": {
   "provenance": []
  },
  "kernelspec": {
   "display_name": "Python 3 (ipykernel)",
   "language": "python",
   "name": "python3"
  },
  "language_info": {
   "codemirror_mode": {
    "name": "ipython",
    "version": 3
   },
   "file_extension": ".py",
   "mimetype": "text/x-python",
   "name": "python",
   "nbconvert_exporter": "python",
   "pygments_lexer": "ipython3",
   "version": "3.13.3"
  }
 },
 "nbformat": 4,
 "nbformat_minor": 4
}

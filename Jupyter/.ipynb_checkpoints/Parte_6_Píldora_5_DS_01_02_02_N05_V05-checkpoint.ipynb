{
 "cells": [
  {
   "cell_type": "markdown",
   "metadata": {
    "id": "6Oj_OmATCFJQ"
   },
   "source": [
    "![TheBridge_Python_v0.png](attachment:TheBridge_Python_v0.png)"
   ]
  },
  {
   "cell_type": "markdown",
   "metadata": {
    "id": "AUk_h9_hCFJS"
   },
   "source": [
    "##  Métodos\n"
   ]
  },
  {
   "cell_type": "markdown",
   "metadata": {
    "id": "FDlj7uMeCFJS"
   },
   "source": [
    "### Contenidos\n"
   ]
  },
  {
   "cell_type": "markdown",
   "metadata": {
    "id": "EhVUN4LkCFJT"
   },
   "source": [
    "* [Introducción  ](#Introducción--)\n",
    "\n"
   ]
  },
  {
   "cell_type": "markdown",
   "metadata": {
    "id": "fb0ub0x3CFJT"
   },
   "source": [
    "### Introducción  \n",
    "[al indice](#Contenidos)  \n",
    "\n",
    "Son funciones que podemos definir dentro de las clases. Estas funciones cambiarán el estado de algún atributo o realizarán cálculos que nos sirvan de output. Un ejemplo sencillo puede ser, un método de la clase coche que saque la potencia en kilovatios, en vez de en caballos. O si tiene un estado de mantenimiento (ITV pasada o no), que modifique ese estado.\n",
    "\n",
    "El constructor es un tipo de método. La diferencia con el resto de métodos radica en su nombre, `__init__`. La sintaxis para definir los métodos es como si fuese una función. Y luego para llamar al método se utiliza `objeto.metodo(argumentos_metodo)`. Esto ya lo hemos usado anteriormente, cuando haciamos un `string.lower()`, simplemente llamábamos al método `lower()`, que no requería de argumentos, de la clase *string*."
   ]
  },
  {
   "cell_type": "code",
   "execution_count": 1,
   "metadata": {
    "id": "ePbMjBDMCFJT"
   },
   "outputs": [],
   "source": [
    "class Coche:\n",
    "    ruedas = 4\n",
    "\n",
    "    def __init__(self, marca_coche, num_puertas = 4):\n",
    "        self.marca = marca_coche\n",
    "        self.puertas = num_puertas\n",
    "\n",
    "    def caracteristicas(self): #este \"self\" no lo vamos a utilizar como argumento pero hay que ponerlo para poder usarlo\n",
    "        return \"Marca: \" + marca + \", Puertas: \" + str(puertas)\n",
    "\n",
    "        # IMP!!! he tenido que poner \"str(puertas)\" para convertirlo a str porque si no, no puedo concatenarlo (sumarlo +)"
   ]
  },
  {
   "cell_type": "code",
   "execution_count": 2,
   "metadata": {
    "id": "nuJFpS4LCFJU"
   },
   "outputs": [
    {
     "ename": "NameError",
     "evalue": "name 'marca' is not defined",
     "output_type": "error",
     "traceback": [
      "\u001b[31m---------------------------------------------------------------------------\u001b[39m",
      "\u001b[31mNameError\u001b[39m                                 Traceback (most recent call last)",
      "\u001b[36mCell\u001b[39m\u001b[36m \u001b[39m\u001b[32mIn[2]\u001b[39m\u001b[32m, line 4\u001b[39m\n\u001b[32m      1\u001b[39m \u001b[38;5;66;03m# Va a haber un problema si yo intento ahora instanciar un objeto de la clase Coche e intente utilizar su método\u001b[39;00m\n\u001b[32m      3\u001b[39m ford_ka = Coche(\u001b[33m\"\u001b[39m\u001b[33mFord\u001b[39m\u001b[33m\"\u001b[39m)\n\u001b[32m----> \u001b[39m\u001b[32m4\u001b[39m \u001b[43mford_ka\u001b[49m\u001b[43m.\u001b[49m\u001b[43mcaracteristicas\u001b[49m\u001b[43m(\u001b[49m\u001b[43m)\u001b[49m\n\u001b[32m      6\u001b[39m \u001b[38;5;66;03m# me dice que \"Marca\" no está definido. Esto es porque para acceder a ellos tengo que poner un \"self.\" delante en la función.\u001b[39;00m\n\u001b[32m      7\u001b[39m \u001b[38;5;66;03m#vamos a verlo corregido en la siguiente casilla\u001b[39;00m\n",
      "\u001b[36mCell\u001b[39m\u001b[36m \u001b[39m\u001b[32mIn[1]\u001b[39m\u001b[32m, line 9\u001b[39m, in \u001b[36mCoche.caracteristicas\u001b[39m\u001b[34m(self)\u001b[39m\n\u001b[32m      8\u001b[39m \u001b[38;5;28;01mdef\u001b[39;00m\u001b[38;5;250m \u001b[39m\u001b[34mcaracteristicas\u001b[39m(\u001b[38;5;28mself\u001b[39m): \u001b[38;5;66;03m#este \"self\" no lo vamos a utilizar como argumento pero hay que ponerlo para poder usarlo\u001b[39;00m\n\u001b[32m----> \u001b[39m\u001b[32m9\u001b[39m     \u001b[38;5;28;01mreturn\u001b[39;00m \u001b[33m\"\u001b[39m\u001b[33mMarca: \u001b[39m\u001b[33m\"\u001b[39m + \u001b[43mmarca\u001b[49m + \u001b[33m\"\u001b[39m\u001b[33m, Puertas: \u001b[39m\u001b[33m\"\u001b[39m + \u001b[38;5;28mstr\u001b[39m(puertas)\n",
      "\u001b[31mNameError\u001b[39m: name 'marca' is not defined"
     ]
    }
   ],
   "source": [
    "# Va a haber un problema si yo intento ahora instanciar un objeto de la clase Coche e intente utilizar su método\n",
    "\n",
    "ford_ka = Coche(\"Ford\")\n",
    "ford_ka.caracteristicas()\n",
    "\n",
    "# me dice que \"Marca\" no está definido. Esto es porque para acceder a ellos tengo que poner un \"self.\" delante en la función.\n",
    "#vamos a verlo corregido en la siguiente casilla"
   ]
  },
  {
   "cell_type": "code",
   "execution_count": 3,
   "metadata": {
    "id": "axuUXKyyCFJV"
   },
   "outputs": [],
   "source": [
    "class Coche:\n",
    "    ruedas = 4\n",
    "\n",
    "    def __init__(self, marca_coche, num_puertas = 4):\n",
    "        self.marca = marca_coche\n",
    "        self.puertas = num_puertas\n",
    "\n",
    "    def caracteristicas(self): #este \"self\" no lo vamos a utilizar como argumento pero hay que ponerlo para poder usarlo\n",
    "        return \"Marca: \" + self.marca + \", Puertas: \" + str(self.puertas)\n",
    "\n",
    "        # IMP!!! he tenido que poner \"str(puertas)\" para convertirlo a str porque si no, no puedo concatenarlo (sumarlo +)"
   ]
  },
  {
   "cell_type": "code",
   "execution_count": 4,
   "metadata": {
    "id": "Pd_hKV4MCFJV"
   },
   "outputs": [
    {
     "data": {
      "text/plain": [
       "'Marca: Ford, Puertas: 4'"
      ]
     },
     "execution_count": 4,
     "metadata": {},
     "output_type": "execute_result"
    }
   ],
   "source": [
    "ford_ka = Coche(\"Ford\")\n",
    "ford_ka.caracteristicas()"
   ]
  },
  {
   "cell_type": "markdown",
   "metadata": {
    "id": "vDAYUCBZCFJU"
   },
   "source": [
    "Fíjate que para llamar a las ruedas se usa `self`, a pesar de que no lo habíamos metido en el constructor. Así evitamos llamar a otra variable del programa que se llame *ruedas*. Nos aseguramos que son las ruedas de ese coche con el `self`."
   ]
  },
  {
   "cell_type": "code",
   "execution_count": 7,
   "metadata": {},
   "outputs": [],
   "source": [
    "# vamos a construir un método que nos permita conocer el precio actual del coche\n",
    "\n",
    "class Coche:\n",
    "    ruedas = 4\n",
    "\n",
    "    def __init__(self, marca_coche, precio_coche, num_puertas = 4): \n",
    "        self.marca = marca_coche\n",
    "        self.puertas = num_puertas\n",
    "        self.precio = precio_coche\n",
    "\n",
    "    def caracteristicas(self): #este \"self\" no lo vamos a utilizar como argumento pero hay que ponerlo para poder usarlo\n",
    "        return \"Marca: \" + self.marca + \", Puertas: \" + str(self.puertas)\n",
    "\n",
    "    def precio_actual(self, edad): # a este sí le paso un argumento, que va después de \"self\". \n",
    "        #IMP!! lo he de nombrar en __init__ Y PONERLO ANTES DE AQUELLOS QUE TIENEN YA VALOR ASIGNADO\n",
    "        \n",
    "        if edad <= 5:\n",
    "            return self.precio * 0.7\n",
    "        elif edad > 5 and edad < 10:\n",
    "            return self.precio * 0.5\n",
    "        else:\n",
    "            return self.precio * 0.3"
   ]
  },
  {
   "cell_type": "code",
   "execution_count": 8,
   "metadata": {},
   "outputs": [
    {
     "data": {
      "text/plain": [
       "17500.0"
      ]
     },
     "execution_count": 8,
     "metadata": {},
     "output_type": "execute_result"
    }
   ],
   "source": [
    "jeep_cherokee = Coche(\"Jeep\", 35000)\n",
    "jeep_cherokee.precio_actual(8) # cuánto vale ahora el coche si tiene 8 años"
   ]
  }
 ],
 "metadata": {
  "colab": {
   "provenance": []
  },
  "kernelspec": {
   "display_name": "Python 3 (ipykernel)",
   "language": "python",
   "name": "python3"
  },
  "language_info": {
   "codemirror_mode": {
    "name": "ipython",
    "version": 3
   },
   "file_extension": ".py",
   "mimetype": "text/x-python",
   "name": "python",
   "nbconvert_exporter": "python",
   "pygments_lexer": "ipython3",
   "version": "3.13.3"
  }
 },
 "nbformat": 4,
 "nbformat_minor": 4
}

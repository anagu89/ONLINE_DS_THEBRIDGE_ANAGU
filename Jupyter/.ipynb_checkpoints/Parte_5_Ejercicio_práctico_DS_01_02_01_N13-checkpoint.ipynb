{
 "cells": [
  {
   "cell_type": "markdown",
   "metadata": {
    "id": "9l3HMgm6RWxF"
   },
   "source": [
    "![TheBridge_logo_RGB_color.jpg](attachment:TheBridge_logo_RGB_color.jpg)"
   ]
  },
  {
   "cell_type": "markdown",
   "metadata": {
    "id": "RGg9iWpoRWxG"
   },
   "source": [
    "![ejercicios.png](attachment:ejercicios.png)"
   ]
  },
  {
   "cell_type": "markdown",
   "metadata": {
    "id": "AyOlWS2nRWxH"
   },
   "source": [
    "## PRACTICA OBLIGATORIA: COLECCIONES Y FUNCIONES"
   ]
  },
  {
   "cell_type": "markdown",
   "metadata": {
    "id": "6UOgb0KVRWxH"
   },
   "source": [
    "* La práctica obligatoria de esta unidad consiste varios ejercicios de programación libre a completar sobre Colecciones y Funciones. Descarga este notebook en tu ordenador y trabaja en local.  \n",
    "* Recuerda que debes subirla a tu repositorio personal antes de la sesión en vivo para que puntúe adecuadamente y puedas participar en dicha sesión.  \n",
    "* Recuerda también que no es necesario que esté perfecta, sólo es necesario que se vea el esfuerzo.\n",
    "* Esta práctica se resolverá en la sesión en vivo correspondiente y la solución se publicará en el repo del curso."
   ]
  },
  {
   "cell_type": "markdown",
   "metadata": {
    "id": "j3yu-tEjRWxH"
   },
   "source": [
    "### Contenidos"
   ]
  },
  {
   "cell_type": "markdown",
   "metadata": {
    "id": "kO-fLH39RWxH"
   },
   "source": [
    "## Ejercicio 1\n",
    "Eleva todos los elementos de la lista al cuadrado\n",
    "> ```ejer_2 = [1,2,3,4,5]```"
   ]
  },
  {
   "cell_type": "code",
   "execution_count": 2,
   "metadata": {
    "id": "ks5l3yi7RWxH"
   },
   "outputs": [
    {
     "name": "stdout",
     "output_type": "stream",
     "text": [
      "Eleva al cuadrado los siguientes números: [1, 2, 3, 4, 5]\n",
      "Resultado de 1 ^2: 1\n",
      "Resultado de 2 ^2: 4\n",
      "Resultado de 3 ^2: 9\n",
      "Resultado de 4 ^2: 16\n",
      "Resultado de 5 ^2: 25\n"
     ]
    }
   ],
   "source": [
    "ejer_2 = [1,2,3,4,5]\n",
    "print(\"Eleva al cuadrado los siguientes números:\", ejer_2)\n",
    "\n",
    "for i in ejer_2:\n",
    "    print(\"Resultado de\", i, \"^2:\", i**2)"
   ]
  },
  {
   "cell_type": "markdown",
   "metadata": {
    "id": "kI_Xr5oFRWxI"
   },
   "source": [
    "## Ejercicio 2\n",
    "Haz un programa que detecte todos los duplicados de un elemento en una lista:\n",
    "* Utiliza una variable duplicado para asignarle el valor del elemento del que queremos encontrar todos sus duplicados.\n",
    "* El programa debe devolver todos los índices de los elementos duplicados.\n",
    "* Aplícalo para encontrar los duplicados de \"un\", \"es\" y \"binario\" de:  \n",
    "\n",
    ">```ejer_3 = [\"Un\", \"árbol\", \"binario\", \"es\", \"una\", \"estructura\", \"de\", \"un\", \"tipo\", \"particular\", \"a\", \"veces\", \"no\", \"es\", \"ni\", \"binario\"]```\n"
   ]
  },
  {
   "cell_type": "code",
   "execution_count": 1,
   "metadata": {},
   "outputs": [
    {
     "name": "stdout",
     "output_type": "stream",
     "text": [
      "Dada la siguiente lista:\n",
      " ['Un', 'árbol', 'binario', 'es', 'una', 'estructura', 'de', 'un', 'tipo', 'particular', 'a', 'veces', 'no', 'es', 'ni', 'binario']\n",
      "\n",
      "Los elementos duplicados son: ['binario', 'es', 'un']\n",
      "El número de veces que aparece cada palabra es:\n",
      "Counter({'un': 2, 'binario': 2, 'es': 2, 'árbol': 1, 'una': 1, 'estructura': 1, 'de': 1, 'tipo': 1, 'particular': 1, 'a': 1, 'veces': 1, 'no': 1, 'ni': 1})\n",
      "----------------------------------------------------------------\n"
     ]
    },
    {
     "name": "stdin",
     "output_type": "stream",
     "text": [
      "\n",
      "Escriba la palabra que desea saber si está duplicada: hola\n"
     ]
    },
    {
     "name": "stdout",
     "output_type": "stream",
     "text": [
      "La palabra introducida en minúsculas es: hola\n",
      "\n",
      "RESULTADO:\n",
      "La palabra hola no se encuentra en la frase.\n"
     ]
    },
    {
     "name": "stdin",
     "output_type": "stream",
     "text": [
      "\n",
      "¿Quieres introducir otra palabra? (si/no):  si\n"
     ]
    },
    {
     "name": "stdout",
     "output_type": "stream",
     "text": [
      "----------------------------------------------------------------\n"
     ]
    },
    {
     "name": "stdin",
     "output_type": "stream",
     "text": [
      "\n",
      "Escriba la palabra que desea saber si está duplicada:    BINArio  \n"
     ]
    },
    {
     "name": "stdout",
     "output_type": "stream",
     "text": [
      "La palabra introducida en minúsculas es: binario\n",
      "\n",
      "RESULTADO:\n",
      "La palabra binario se repite 2 veces, en los índices [2, 15]\n"
     ]
    },
    {
     "name": "stdin",
     "output_type": "stream",
     "text": [
      "\n",
      "¿Quieres introducir otra palabra? (si/no):  si\n"
     ]
    },
    {
     "name": "stdout",
     "output_type": "stream",
     "text": [
      "----------------------------------------------------------------\n"
     ]
    },
    {
     "name": "stdin",
     "output_type": "stream",
     "text": [
      "\n",
      "Escriba la palabra que desea saber si está duplicada: de\n"
     ]
    },
    {
     "name": "stdout",
     "output_type": "stream",
     "text": [
      "La palabra introducida en minúsculas es: de\n",
      "\n",
      "RESULTADO:\n",
      "La palabra de se repite 1 veces, en los índices [6]\n"
     ]
    },
    {
     "name": "stdin",
     "output_type": "stream",
     "text": [
      "\n",
      "¿Quieres introducir otra palabra? (si/no):  no\n"
     ]
    },
    {
     "name": "stdout",
     "output_type": "stream",
     "text": [
      "\n",
      "EXIT\n"
     ]
    }
   ],
   "source": [
    "# STEP 1: convierto todas las mayúsculas en minúsculas porque \"Un\" y el \"un\" son lo mismo pero lo entiende como distintos\n",
    "ejer_3 = [\"Un\", \"árbol\", \"binario\", \"es\", \"una\", \"estructura\", \"de\", \"un\", \"tipo\", \"particular\", \"a\", \"veces\", \"no\", \"es\", \"ni\", \"binario\"]\n",
    "print(\"Dada la siguiente lista:\\n\", ejer_3)\n",
    "\n",
    "lista_minus = []\n",
    "for i in ejer_3:\n",
    "    lista_minus.append(i.strip().lower())\n",
    "\n",
    "lista_duplicados = []\n",
    "for i in lista_minus:\n",
    " if (lista_minus.count(i) > 1):\n",
    "     lista_duplicados.append(i)\n",
    "print(\"\\nLos elementos duplicados son:\", list(set(lista_duplicados)))\n",
    "\n",
    "from collections import Counter\n",
    "contador = Counter(lista_minus)\n",
    "print(\"El número de veces que aparece cada palabra es:\")\n",
    "print(contador)\n",
    "\n",
    "# STEP 2: la palabra que deseo saber el número de veces que se repite, pero tengo que convertirla toda en minúscula\n",
    "# añado un bucle while para poder preguntar todas la palabras que quiera\n",
    "while True:\n",
    "    print(\"----------------------------------------------------------------\")\n",
    "    duplicado = input(\"\\nEscriba la palabra que desea saber si está duplicada:\").strip().lower()\n",
    "    print(\"La palabra introducida en minúsculas es:\", duplicado)\n",
    "    \n",
    "# STEP 3: buscar todos los índices donde aparece la palabra y la añado a mi lista de índices para esa palabra en concreto\n",
    "    indices_duplicados = []\n",
    "    for i, palabra in enumerate(lista_minus):\n",
    "        if palabra == duplicado:\n",
    "            indices_duplicados.append(i)\n",
    "    \n",
    "# STEP 4: calculo cuántas veces se repite. Esto basta con contar cuántos índices hay en la lista anterior\n",
    "    repeticiones = len(indices_duplicados)\n",
    "    \n",
    "# STEP 5: muestro el resultado por pantalla si la palabra introducida existe en la frase\n",
    "    if repeticiones > 0:\n",
    "        print(\"\\nRESULTADO:\\nLa palabra\", duplicado, \"se repite\", repeticiones, \"veces, en los índices\", indices_duplicados)\n",
    "    else:\n",
    "        print(\"\\nRESULTADO:\\nLa palabra\", duplicado, \"no se encuentra en la frase.\")\n",
    "    \n",
    "    continuar = input(\"\\n¿Quieres introducir otra palabra? (si/no): \").strip().lower() #strip para quitar los espacios en blanco\n",
    "    if continuar != \"si\":\n",
    "        print(\"\\nEXIT\")\n",
    "        break"
   ]
  },
  {
   "cell_type": "markdown",
   "metadata": {
    "id": "3WrBd5QaRWxI"
   },
   "source": [
    "## Ejercicio 3\n",
    "1. ¿Cuántas veces se repite el 3 en la siguiente tupla?\n",
    "2. Crea una tupla nueva con los elementos desde la posicion 5 a la 10.\n",
    "3. ¿Cuántos elementos tiene la tupla `ejer_3`?\n",
    "> ```ejer_9 = (3, 20, 3, 47, 19, 3, 29, 45, 67, 78, 90, 3, 3, 5, 2, 4, 7, 9, 4, 2, 4, 3, 3, 4, 6, 7)```"
   ]
  },
  {
   "cell_type": "code",
   "execution_count": 13,
   "metadata": {
    "id": "bkv_R5LYRWxI"
   },
   "outputs": [
    {
     "name": "stdout",
     "output_type": "stream",
     "text": [
      "1. ¿Cuántas veces se repite el 3 en la siguiente tupla?\n",
      " 7\n",
      "\n",
      "2. Crea una tupla nueva con los elementos desde la posicion 5 a la 10:\n",
      "(19, 3, 29, 45, 67, 78)\n",
      "<class 'tuple'>\n",
      "\n",
      "3. ¿Cuántos elementos tiene la tupla?\n",
      " 26\n"
     ]
    }
   ],
   "source": [
    "ejer_9 = (3, 20, 3, 47, 19, 3, 29, 45, 67, 78, 90, 3, 3, 5, 2, 4, 7, 9, 4, 2, 4, 3, 3, 4, 6, 7)\n",
    "\n",
    "print(\"1. ¿Cuántas veces se repite el 3 en la siguiente tupla?\\n\", ejer_9.count(3))\n",
    "\n",
    "print(\"\\n2. Crea una tupla nueva con los elementos desde la posicion 5 a la 10:\") #entiendo que pide la posición, no el índice; y ambos incluidos\n",
    "tupla_nueva = ejer_9[4:10]\n",
    "print(tupla_nueva)\n",
    "print(type(tupla_nueva))\n",
    "\n",
    "print(\"\\n3. ¿Cuántos elementos tiene la tupla?\\n\", len(ejer_9))"
   ]
  },
  {
   "cell_type": "markdown",
   "metadata": {
    "id": "6g8Y54AeRWxI"
   },
   "source": [
    "## Ejercicio 4\n",
    "Comprueba si el numero 60 esta en la tupla del ejercicio 3"
   ]
  },
  {
   "cell_type": "code",
   "execution_count": 16,
   "metadata": {
    "id": "F8VTEZonRWxI"
   },
   "outputs": [
    {
     "name": "stdout",
     "output_type": "stream",
     "text": [
      "El número 60 no está en la tupla anterior.\n"
     ]
    },
    {
     "name": "stdin",
     "output_type": "stream",
     "text": [
      "¿Qué número quieres buscar?: 4\n"
     ]
    },
    {
     "name": "stdout",
     "output_type": "stream",
     "text": [
      "El número 4 no está en la tupla anterior.\n"
     ]
    }
   ],
   "source": [
    "# con un número fijo ya dado\n",
    "numero = 60\n",
    "\n",
    "if numero in ejer_9:\n",
    "    print(\"El número\", numero, \"está en la tupla anterior.\")\n",
    "else:\n",
    "    print(\"El número\", numero, \"no está en la tupla anterior.\")\n",
    "\n",
    "# con un número introducido por nosotros\n",
    "numero_introducido = input (\"¿Qué número quieres buscar?:\")\n",
    "\n",
    "if numero_introducido in ejer_9:\n",
    "    print(\"El número\", numero_introducido, \"está en la tupla anterior.\")\n",
    "else:\n",
    "    print(\"El número\", numero_introducido, \"no está en la tupla anterior.\")"
   ]
  },
  {
   "cell_type": "markdown",
   "metadata": {
    "id": "y0fg-ZA6RWxI"
   },
   "source": [
    "## Ejercicio 5\n",
    "1. Convierte la tupla del ejercicio 3 en una lista\n",
    "2. Convierte la tupla del ejercicio 3 en un set\n",
    "3. Convierte la tupla del ejercicio 3 en un diccionario. Usa también los indices"
   ]
  },
  {
   "cell_type": "code",
   "execution_count": 38,
   "metadata": {
    "id": "_O5hXr01RWxI"
   },
   "outputs": [
    {
     "name": "stdout",
     "output_type": "stream",
     "text": [
      "(3, 20, 3, 47, 19, 3, 29, 45, 67, 78, 90, 3, 3, 5, 2, 4, 7, 9, 4, 2, 4, 3, 3, 4, 6, 7)\n",
      "<class 'tuple'>\n",
      "\n",
      "1. Convierte la tupla del ejercicio 3 en una lista\n",
      "<class 'list'>\n",
      "\n",
      "2. Convierte la tupla del ejercicio 3 en un set\n",
      "<class 'set'>\n",
      "\n",
      "3. Convierte la tupla del ejercicio 3 en un diccionario. Usa también los indices\n",
      "[0] 3\n",
      "[1] 20\n",
      "[2] 3\n",
      "[3] 47\n",
      "[4] 19\n",
      "[5] 3\n",
      "[6] 29\n",
      "[7] 45\n",
      "[8] 67\n",
      "[9] 78\n",
      "[10] 90\n",
      "[11] 3\n",
      "[12] 3\n",
      "[13] 5\n",
      "[14] 2\n",
      "[15] 4\n",
      "[16] 7\n",
      "[17] 9\n",
      "[18] 4\n",
      "[19] 2\n",
      "[20] 4\n",
      "[21] 3\n",
      "[22] 3\n",
      "[23] 4\n",
      "[24] 6\n",
      "[25] 7\n",
      "<class 'dict'>\n"
     ]
    }
   ],
   "source": [
    "print(ejer_9)\n",
    "print(type(ejer_9))\n",
    "\n",
    "print(\"\\n1. Convierte la tupla del ejercicio 3 en una lista\")\n",
    "tupla_lista = list(ejer_9)\n",
    "print(type(tupla_lista))\n",
    "\n",
    "print(\"\\n2. Convierte la tupla del ejercicio 3 en un set\")\n",
    "tupla_lista = set(ejer_9)\n",
    "print(type(tupla_lista))\n",
    "      \n",
    "print(\"\\n3. Convierte la tupla del ejercicio 3 en un diccionario. Usa también los indices\")\n",
    "tupla_diccionario = {}\n",
    "for indice, numero in enumerate(ejer_9):\n",
    "    tupla_diccionario[indice] = numero\n",
    "    print([indice], numero)\n",
    "print(type(tupla_diccionario))\n",
    "\n",
    "# este último también puede hacerce con:\n",
    "# tupla_diccionario = {indice: numero for indice, numero in enumerate(ejer_9)}"
   ]
  },
  {
   "cell_type": "markdown",
   "metadata": {
    "id": "eOdWWbxvRWxJ"
   },
   "source": [
    "## Ejercicio 6\n",
    "Multiplica todos los valores del diccionario\n",
    "> ```ejer_6 = {1: 11, 2: 22, 3: 33, 4: 44, 5: 55}```"
   ]
  },
  {
   "cell_type": "code",
   "execution_count": null,
   "metadata": {
    "id": "KcuByovKRWxJ"
   },
   "outputs": [],
   "source": []
  },
  {
   "cell_type": "markdown",
   "metadata": {
    "id": "W7TUSaKRRWxJ"
   },
   "source": [
    "## Ejercicio 7\n",
    "\n",
    "1. Crea un diccionario que describa un libro, con los siguientes campos o claves: \"titulo\",\"autor\",\"idioma original\",\"año de publicación\".\n",
    "2. Crea un a lista, llamada librería.\n",
    "3. Añade cuatro libros a tu elección a la librería."
   ]
  },
  {
   "cell_type": "code",
   "execution_count": null,
   "metadata": {
    "id": "d-IMRvxRRWxJ",
    "vscode": {
     "languageId": "plaintext"
    }
   },
   "outputs": [],
   "source": []
  },
  {
   "cell_type": "markdown",
   "metadata": {
    "id": "glMoedjYRWxJ"
   },
   "source": [
    "## Ejercicio 8\n",
    "Modifica los valores del idioma de todos los libros del ejercicio anterior para que sea \"esperanto\"\n"
   ]
  },
  {
   "cell_type": "code",
   "execution_count": null,
   "metadata": {
    "id": "veNdC-uwRWxJ"
   },
   "outputs": [],
   "source": []
  },
  {
   "cell_type": "markdown",
   "metadata": {
    "id": "DRCJG04KRWxJ"
   },
   "source": [
    "## Ejercicio 9\n",
    "1. Escribe un programa que dada una variable titulo busque los libros que hay en la librería con ese título. Si no se encuentra debe devolver el mensaje `Ese no lo tengo, ¿mola?`\n",
    "2. Pruena que el programa con uno de tus libros y con otro que no contenga tu librería."
   ]
  },
  {
   "cell_type": "code",
   "execution_count": null,
   "metadata": {
    "id": "eWHdJi9BRWxJ"
   },
   "outputs": [],
   "source": []
  },
  {
   "cell_type": "markdown",
   "metadata": {
    "id": "17YOpYuFRWxJ"
   },
   "source": [
    "## Ejercicio 10\n",
    "Convierte el programa del ejercicio 2 en una función al que se le pase el valor a buscar como un argumento posicional"
   ]
  },
  {
   "cell_type": "code",
   "execution_count": null,
   "metadata": {
    "id": "xbj0LgvnRWxJ"
   },
   "outputs": [],
   "source": []
  },
  {
   "cell_type": "markdown",
   "metadata": {
    "id": "xZ-sWJxPRWxJ"
   },
   "source": [
    "## Ejercicio 11\n",
    "Convierte el programa del ejercicio 9 en una función al que se le pasen como argumentos la librería, posicional, y el título, argumento keyword con valor \"ninguno\", por defecto."
   ]
  },
  {
   "cell_type": "code",
   "execution_count": null,
   "metadata": {
    "id": "4-JrsMdNRWxK"
   },
   "outputs": [],
   "source": []
  },
  {
   "cell_type": "markdown",
   "metadata": {
    "id": "FtJir95QRWxK"
   },
   "source": [
    "## Ejercicio 12\n",
    "Solicitar al usuario que ingrese su dirección email. Imprimir un mensaje indicando si la dirección es válida o no, valiéndose de una función para decidirlo. Una dirección se considerará válida si contiene el símbolo \"@\"."
   ]
  },
  {
   "cell_type": "code",
   "execution_count": null,
   "metadata": {
    "id": "sk852IZ8RWxK"
   },
   "outputs": [],
   "source": []
  },
  {
   "cell_type": "markdown",
   "metadata": {
    "id": "Kw1MWBwBRWxK"
   },
   "source": [
    "## Ejercicio 13\n",
    "Escribe una función que compruebe si un DNI es válido, devolviendo `True` en caso afirmativo.  \n",
    "En primer lugar, el DNI debe tener entre 7 y 8 dígitos numéricos.  \n",
    "Para saber si la letra del DNI es correcta puedes utilizar el siguiente fragmento de código:\n",
    ">```Python\n",
    ">DNI= 55555555\n",
    ">palabra='TRWAGMYFPDXBNJZSQVHLCKE'\n",
    ">print('La letra del DNI es: ', palabra[DNI%23])\n",
    ">````\n"
   ]
  },
  {
   "cell_type": "code",
   "execution_count": null,
   "metadata": {
    "id": "F5Z9rSHqRWxK"
   },
   "outputs": [],
   "source": []
  }
 ],
 "metadata": {
  "colab": {
   "provenance": []
  },
  "kernelspec": {
   "display_name": "Python 3 (ipykernel)",
   "language": "python",
   "name": "python3"
  },
  "language_info": {
   "codemirror_mode": {
    "name": "ipython",
    "version": 3
   },
   "file_extension": ".py",
   "mimetype": "text/x-python",
   "name": "python",
   "nbconvert_exporter": "python",
   "pygments_lexer": "ipython3",
   "version": "3.13.3"
  }
 },
 "nbformat": 4,
 "nbformat_minor": 4
}

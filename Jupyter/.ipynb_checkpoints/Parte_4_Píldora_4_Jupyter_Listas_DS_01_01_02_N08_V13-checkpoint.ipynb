{
 "cells": [
  {
   "cell_type": "markdown",
   "metadata": {
    "id": "LLb4Pc-ENV1m"
   },
   "source": [
    "<img src = \"./img/TheBridge_logo_RGB_color.jpg\" width = 500><img src = \"./img/python.jpg\" width = 500>"
   ]
  },
  {
   "cell_type": "markdown",
   "metadata": {
    "id": "kmq7gm6SNV1o"
   },
   "source": [
    "# Python Basics I"
   ]
  },
  {
   "cell_type": "markdown",
   "metadata": {
    "id": "FWXUvF1iNV1o"
   },
   "source": [
    "## Contenidos"
   ]
  },
  {
   "cell_type": "markdown",
   "metadata": {
    "id": "D6GS3pqCNV1o"
   },
   "source": [
    "* [Listas](#Listas)\n"
   ]
  },
  {
   "cell_type": "markdown",
   "metadata": {
    "id": "fApS3H7hNV1p"
   },
   "source": [
    "## Listas\n",
    "[al indice](#Contenidos)  \n",
    "Se trata de otro de los tipos de datos de Python más usados. Dentro de las colecciones, que veremos más adelante, la lista es la colección que normalmente se le da más uso. **Nos permiten almacenar conjuntos de variables u objetos**, y son elementos de lo más versátiles puesto que podemos almacenar objetos de distintos tipos, modificarlos, eliminarlos, meter listas dentro de listas... Sus dos caractrísticas principales son:\n",
    "* **Mutables**: una vez se ha creado la lista, se puede modificar\n",
    "* **Ordenada**: Los elementos tienen un cierto orden, lo que nos permite acceder al elemento que queramos teniendo en cuenta tal orden\n",
    "\n",
    "En cuanto a su sintaxis, cuando declaremos la lista simplemente hay que separar cada elemento con comas, y rodearlo todo con `corchetes`."
   ]
  },
  {
   "cell_type": "code",
   "execution_count": 1,
   "metadata": {
    "id": "rRZIVMvFNV1p"
   },
   "outputs": [
    {
     "name": "stdout",
     "output_type": "stream",
     "text": [
      "[1, 3, 5, 6]\n",
      "<class 'list'>\n"
     ]
    }
   ],
   "source": [
    "# Lista de números enteros (int)\n",
    "numeros = [1, 3, 5, 6]\n",
    "print(numeros)\n",
    "print(type(numeros))"
   ]
  },
  {
   "cell_type": "code",
   "execution_count": 2,
   "metadata": {
    "id": "h5WOij5ONV1q"
   },
   "outputs": [
    {
     "name": "stdout",
     "output_type": "stream",
     "text": [
      "['Esto', 'es', 'una', 'lista']\n",
      "<class 'list'>\n"
     ]
    }
   ],
   "source": [
    "# Lista de strings\n",
    "strings = [\"Esto\", \"es\", \"una\", \"lista\"]\n",
    "print(strings)\n",
    "print(type(strings))"
   ]
  },
  {
   "cell_type": "code",
   "execution_count": 6,
   "metadata": {},
   "outputs": [
    {
     "name": "stdout",
     "output_type": "stream",
     "text": [
      "[True, False, True, True, False, 0, 1]\n",
      "<class 'list'>\n"
     ]
    }
   ],
   "source": [
    "# Lista de booleanos\n",
    "booleanos = [True, False, not False, True or False, False and False, 0, 1]\n",
    "print(booleanos)\n",
    "print(type(booleanos))"
   ]
  },
  {
   "cell_type": "code",
   "execution_count": 7,
   "metadata": {},
   "outputs": [
    {
     "name": "stdout",
     "output_type": "stream",
     "text": [
      "['Ana', 1989, True, -47.8]\n",
      "<class 'list'>\n"
     ]
    }
   ],
   "source": [
    "# Lista mezclada\n",
    "mix = [\"Ana\", 1989, True, -47.8]\n",
    "print(mix)\n",
    "print(type(mix))"
   ]
  },
  {
   "cell_type": "code",
   "execution_count": 11,
   "metadata": {},
   "outputs": [
    {
     "name": "stdout",
     "output_type": "stream",
     "text": [
      "['Alberto', 1234, False, 6, [['Ana', 1989, True, -47.8]], [0, 1, 'A', 'B']]\n",
      "<class 'list'>\n"
     ]
    }
   ],
   "source": [
    "# Listas dentro de listas\n",
    "mix = [\"Ana\", 1989, True, -47.8]\n",
    "mix_mix = [\"Alberto\", 1234, False, +6, [mix], [0 , 1 , \"A\", \"B\"]]\n",
    "print(mix_mix)\n",
    "print(type(mix_mix))"
   ]
  },
  {
   "cell_type": "code",
   "execution_count": 14,
   "metadata": {},
   "outputs": [
    {
     "name": "stdout",
     "output_type": "stream",
     "text": [
      "['Alberto', 1234, False, 6, [['Ana', 1989, True, -47.8]], [0, 1, 'A', 'B']]\n",
      "<class 'list'>\n"
     ]
    },
    {
     "data": {
      "text/plain": [
       "6"
      ]
     },
     "execution_count": 14,
     "metadata": {},
     "output_type": "execute_result"
    }
   ],
   "source": [
    "# Para saber los elementos de una lista, utilizo la funcion len\n",
    "mix = [\"Ana\", 1989, True, -47.8]\n",
    "mix_listas = [\"Alberto\", 1234, False, +6, [mix], [0 , 1 , \"A\", \"B\"]]\n",
    "print(mix_listas)\n",
    "print(type(mix_listas))\n",
    "\n",
    "len(mix_listas) # Las listas dentro de las listas, se consideran un único elemento"
   ]
  },
  {
   "cell_type": "code",
   "execution_count": 19,
   "metadata": {},
   "outputs": [
    {
     "name": "stdout",
     "output_type": "stream",
     "text": [
      "['Alberto', 1234, False, 6, [['Ana', 1989, True, -47.8]], [0, 1, 'A', 'B']]\n",
      "<class 'list'>\n",
      "  \n",
      "['Ana', 1989, True, -47.8, 'Alberto', 1234, False, 6, [['Ana', 1989, True, -47.8]], [0, 1, 'A', 'B']]\n",
      "<class 'list'>\n",
      "  \n",
      "['Alberto', 1234, False, 6, [['Ana', 1989, True, -47.8]], [0, 1, 'A', 'B'], 'Ana', 1989, True, -47.8]\n",
      "<class 'list'>\n"
     ]
    },
    {
     "data": {
      "text/plain": [
       "10"
      ]
     },
     "execution_count": 19,
     "metadata": {},
     "output_type": "execute_result"
    }
   ],
   "source": [
    "# Si concateno/uno mis listas\n",
    "mix = [\"Ana\", 1989, True, -47.8]\n",
    "mix_listas = [\"Alberto\", 1234, False, +6, [mix], [0 , 1 , \"A\", \"B\"]]\n",
    "print(mix_listas)\n",
    "print(type(mix_listas))\n",
    "len(mix_listas) # Las listas dentro de las listas, se consideran un único elemento\n",
    "\n",
    "print(\"  \")\n",
    "\n",
    "concatenacion_1 = mix + mix_listas\n",
    "print(concatenacion_1)\n",
    "print(type(concatenacion_1))\n",
    "len(concatenacion_1)\n",
    "\n",
    "print(\"  \")\n",
    "\n",
    "concatenacion_2 = mix_listas + mix #vemos que al ponerlo al revés, el orden cambia\n",
    "print(concatenacion_2)\n",
    "print(type(concatenacion_2))\n",
    "len(concatenacion_2)"
   ]
  },
  {
   "cell_type": "markdown",
   "metadata": {
    "id": "SumOyPiQNV1q"
   },
   "source": [
    "**NOTA**: ¿Ves por qué los decimales en Python siempre van con puntos y no con comas? Con las colecciones el intérprete de Python se volvería loco.\n",
    "\n",
    "Podemos ver tambien el tipo de la lista"
   ]
  },
  {
   "cell_type": "code",
   "execution_count": 20,
   "metadata": {
    "id": "s9LFA68xNV1q"
   },
   "outputs": [
    {
     "data": {
      "text/plain": [
       "list"
      ]
     },
     "execution_count": 20,
     "metadata": {},
     "output_type": "execute_result"
    }
   ],
   "source": [
    "type(mix)"
   ]
  },
  {
   "cell_type": "markdown",
   "metadata": {
    "id": "EV9nLSI4NV1q"
   },
   "source": [
    "Calcular la longitud de la misma mediante el método *built-in* ya visto: `len()`"
   ]
  },
  {
   "cell_type": "code",
   "execution_count": 21,
   "metadata": {
    "id": "ovH__tLFNV1q"
   },
   "outputs": [
    {
     "data": {
      "text/plain": [
       "4"
      ]
     },
     "execution_count": 21,
     "metadata": {},
     "output_type": "execute_result"
    }
   ],
   "source": [
    "len(mix)"
   ]
  },
  {
   "cell_type": "markdown",
   "metadata": {
    "id": "ncploJEkNV1q"
   },
   "source": [
    "Accedemos a los elemenos de la lista mediante corchetes `[]`\n",
    "\n",
    "**Importante**. El primer elemento es el 0"
   ]
  },
  {
   "cell_type": "code",
   "execution_count": 29,
   "metadata": {
    "id": "k_zDeaRpNV1r"
   },
   "outputs": [
    {
     "name": "stdout",
     "output_type": "stream",
     "text": [
      "['uno', 'dos', 'tres', 'cuatro']\n",
      "uno\n",
      "cuatro\n"
     ]
    },
    {
     "ename": "IndexError",
     "evalue": "list index out of range",
     "output_type": "error",
     "traceback": [
      "\u001b[31m---------------------------------------------------------------------------\u001b[39m",
      "\u001b[31mIndexError\u001b[39m                                Traceback (most recent call last)",
      "\u001b[36mCell\u001b[39m\u001b[36m \u001b[39m\u001b[32mIn[29]\u001b[39m\u001b[32m, line 5\u001b[39m\n\u001b[32m      3\u001b[39m \u001b[38;5;28mprint\u001b[39m(lista_ejemplo[\u001b[32m0\u001b[39m]) \u001b[38;5;66;03m# El primer elemento de la lista es CERO/0, NO EL 1\u001b[39;00m\n\u001b[32m      4\u001b[39m \u001b[38;5;28mprint\u001b[39m(lista_ejemplo[-\u001b[32m1\u001b[39m])\n\u001b[32m----> \u001b[39m\u001b[32m5\u001b[39m \u001b[38;5;28mprint\u001b[39m(\u001b[43mlista_ejemplo\u001b[49m\u001b[43m[\u001b[49m\u001b[43m-\u001b[49m\u001b[32;43m7\u001b[39;49m\u001b[43m]\u001b[49m) \u001b[38;5;66;03m# No es válido -7 porque la lista no tiene más elementos. Está fuera de rango\u001b[39;00m\n",
      "\u001b[31mIndexError\u001b[39m: list index out of range"
     ]
    }
   ],
   "source": [
    "lista_ejemplo = [\"uno\", \"dos\", \"tres\", \"cuatro\"]\n",
    "print(lista_ejemplo)\n",
    "print(lista_ejemplo[0]) # El primer elemento de la lista es CERO/0, NO EL 1\n",
    "print(lista_ejemplo[-1])\n",
    "print(lista_ejemplo[-7]) # No es válido -7 porque la lista no tiene más elementos. Está fuera de rango"
   ]
  },
  {
   "cell_type": "markdown",
   "metadata": {
    "id": "b1msGvasNV1r"
   },
   "source": [
    "### Metodos en Listas\n",
    "Para el tipo de objeto lista, también hay una serie de métodos catacterísticos que nos permiten operar con ellas: añadir valores, quitarlos, indexado, filtrado, etc... En [este enlace](https://www.w3schools.com/python/python_ref_list.asp) puedes encontrar todos los métodos que podrás usar con listas."
   ]
  },
  {
   "cell_type": "code",
   "execution_count": 58,
   "metadata": {
    "id": "-unSnkeTNV1r"
   },
   "outputs": [
    {
     "name": "stdout",
     "output_type": "stream",
     "text": [
      "['física', 'química', 'matemáticas', 'biología']\n"
     ]
    }
   ],
   "source": [
    "asignaturas = [\"física\", \"química\", \"matemáticas\", \"biología\"]\n",
    "print(asignaturas)"
   ]
  },
  {
   "cell_type": "code",
   "execution_count": 59,
   "metadata": {
    "id": "329N2tvONV1r"
   },
   "outputs": [
    {
     "name": "stdout",
     "output_type": "stream",
     "text": [
      "['física', 'química', 'matemáticas', 'biología', 'historia']\n"
     ]
    }
   ],
   "source": [
    "# Para añadir un elemento nuevo, se usa APPEND y se añade AL FINAL\n",
    "asignaturas.append(\"historia\")\n",
    "print(asignaturas)"
   ]
  },
  {
   "cell_type": "code",
   "execution_count": 60,
   "metadata": {},
   "outputs": [
    {
     "name": "stdout",
     "output_type": "stream",
     "text": [
      "['física', 'filosofía', 'química', 'matemáticas', 'biología', 'historia']\n"
     ]
    }
   ],
   "source": [
    "# Para añadir elementos en una posición determinada es con INSERT\n",
    "asignaturas.insert(1, \"filosofía\")\n",
    "print(asignaturas)"
   ]
  },
  {
   "cell_type": "code",
   "execution_count": 61,
   "metadata": {},
   "outputs": [
    {
     "name": "stdout",
     "output_type": "stream",
     "text": [
      "['física', 'filosofía', 'filosofía', 'química', 'matemáticas', 'biología', 'historia']\n"
     ]
    }
   ],
   "source": [
    "# CUIDADO QUE SI LO REPITO MUCHAS VECES O LE DOY AL PLAY, SE ME VA A ESTAR AÑADIENDO CONTINUAMENTE\n",
    "asignaturas.insert(1, \"filosofía\")\n",
    "print(asignaturas)"
   ]
  },
  {
   "cell_type": "code",
   "execution_count": 62,
   "metadata": {},
   "outputs": [
    {
     "name": "stdout",
     "output_type": "stream",
     "text": [
      "['física', 'filosofía', 'química', 'matemáticas', 'biología', 'historia']\n"
     ]
    }
   ],
   "source": [
    "# Quitar un elemento de su índice o posición con POP\n",
    "asignaturas.pop(1)\n",
    "print(asignaturas)"
   ]
  },
  {
   "cell_type": "code",
   "execution_count": 63,
   "metadata": {},
   "outputs": [
    {
     "name": "stdout",
     "output_type": "stream",
     "text": [
      "['física', 'química', 'matemáticas', 'biología', 'historia']\n"
     ]
    }
   ],
   "source": [
    "# Quitar un elemento por su valor con REMOVE\n",
    "asignaturas.remove(\"filosofía\")\n",
    "print(asignaturas)\n",
    "\n",
    "# Si lo repito otra vez, me dará error, porque \"filosofía\" ya la he quitado y ya no está"
   ]
  },
  {
   "cell_type": "code",
   "execution_count": 65,
   "metadata": {},
   "outputs": [
    {
     "name": "stdout",
     "output_type": "stream",
     "text": [
      "['biología', 'física', 'historia', 'matemáticas', 'química']\n"
     ]
    }
   ],
   "source": [
    "# Para ordenar alfabéticamente la lista con SORT\n",
    "asignaturas.sort() # Modifica por tanto la variable\n",
    "print(asignaturas)"
   ]
  },
  {
   "cell_type": "code",
   "execution_count": 66,
   "metadata": {},
   "outputs": [
    {
     "name": "stdout",
     "output_type": "stream",
     "text": [
      "[]\n"
     ]
    }
   ],
   "source": [
    "# Para eliminar todos los elementos de la lista con CLEAR\n",
    "asignaturas.clear()\n",
    "print(asignaturas)"
   ]
  }
 ],
 "metadata": {
  "colab": {
   "provenance": []
  },
  "kernelspec": {
   "display_name": "Python 3 (ipykernel)",
   "language": "python",
   "name": "python3"
  },
  "language_info": {
   "codemirror_mode": {
    "name": "ipython",
    "version": 3
   },
   "file_extension": ".py",
   "mimetype": "text/x-python",
   "name": "python",
   "nbconvert_exporter": "python",
   "pygments_lexer": "ipython3",
   "version": "3.13.3"
  }
 },
 "nbformat": 4,
 "nbformat_minor": 4
}

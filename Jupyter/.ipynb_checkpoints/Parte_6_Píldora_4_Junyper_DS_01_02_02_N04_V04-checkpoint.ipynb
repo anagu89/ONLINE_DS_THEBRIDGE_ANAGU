{
 "cells": [
  {
   "cell_type": "markdown",
   "metadata": {
    "id": "LH1q_-HUGAMV"
   },
   "source": [
    "![TheBridge_Python_v0.png](attachment:TheBridge_Python_v0.png)"
   ]
  },
  {
   "cell_type": "markdown",
   "metadata": {
    "id": "lzqX2tWxGAMW"
   },
   "source": [
    "##  Constructores\n"
   ]
  },
  {
   "cell_type": "markdown",
   "metadata": {
    "id": "T8x1Wug_GAMW"
   },
   "source": [
    "### Contenidos\n"
   ]
  },
  {
   "cell_type": "markdown",
   "metadata": {
    "id": "kx-h1kPuGAMX"
   },
   "source": [
    "* [Introducción  ](#Introducción--)\n",
    "\n"
   ]
  },
  {
   "cell_type": "markdown",
   "metadata": {
    "id": "sODkDr7TGAMX"
   },
   "source": [
    "### Introducción  \n",
    "[al indice](#Contenidos)  \n",
    "\n",
    "Veíamos en la sesión anterior que cuando creamos un objeto de la clase *Coche* sin más, este objeto adquiere los atributos por defecto de la clase. Si queremos definirlo bien \"de primeras\" (en su instanciación o creación) para diferenciarlo de otros coches, necesitamos algo más.  \n",
    "\n",
    "Ese algo más que me permite la definición inicial, es lo que se denomina constructor de la clase.\n",
    "\n",
    "Será un método, muy similar a una función, al que daremos unos argumentos de entrada que sustituirán a los valores por defecto y que nos permitirán diferenciar esa instancia de otras instancias de la misma clase.\n",
    "\n",
    "**¿Cómo se define un constructor?** Mediante la función `__init__`, dentro de la clase."
   ]
  },
  {
   "cell_type": "code",
   "execution_count": 1,
   "metadata": {
    "id": "FCVQxi9eGAMY"
   },
   "outputs": [],
   "source": [
    "# la función \"__init__\" tiene 2 GUIONES BAJOS\n",
    "\n",
    "class Coche:\n",
    "    puertas = 5\n",
    "    ruedas = 4\n",
    "\n",
    "    def __init__(self, marca_coche): # \"self\" hace referencia al objeto que se está instanciando\n",
    "        self.marca = marca_coche"
   ]
  },
  {
   "cell_type": "code",
   "execution_count": 2,
   "metadata": {},
   "outputs": [
    {
     "ename": "TypeError",
     "evalue": "Coche.__init__() missing 1 required positional argument: 'marca_coche'",
     "output_type": "error",
     "traceback": [
      "\u001b[31m---------------------------------------------------------------------------\u001b[39m",
      "\u001b[31mTypeError\u001b[39m                                 Traceback (most recent call last)",
      "\u001b[36mCell\u001b[39m\u001b[36m \u001b[39m\u001b[32mIn[2]\u001b[39m\u001b[32m, line 1\u001b[39m\n\u001b[32m----> \u001b[39m\u001b[32m1\u001b[39m toyota = \u001b[43mCoche\u001b[49m\u001b[43m(\u001b[49m\u001b[43m)\u001b[49m\n\u001b[32m      3\u001b[39m \u001b[38;5;66;03m# da error porque nos pide que tenemos que meterle dentro el argumento \"marca_coche\"\u001b[39;00m\n",
      "\u001b[31mTypeError\u001b[39m: Coche.__init__() missing 1 required positional argument: 'marca_coche'"
     ]
    }
   ],
   "source": [
    "toyota = Coche()\n",
    "\n",
    "# da error porque nos pide que tenemos que meterle dentro el argumento \"marca_coche\""
   ]
  },
  {
   "cell_type": "markdown",
   "metadata": {
    "id": "k8VxNSqkGAMY"
   },
   "source": [
    "En la declaración del constructor hemos metido la palabra `self`. **Lo tendremos que poner siempre**. Hace referencia a la propia instancia de coche, es decir, a cuando creemos coches nuevos.\n",
    "\n",
    "En este caso estamos diferenciando los atributos comunes de la clase *Coche*, de los atributos particulares de los coches, como por ejemplo, la marca. Por eso la marca va junto con `self`, porque no hace referencia a la clase genércia de coche, sino a cada coche que creemos."
   ]
  },
  {
   "cell_type": "code",
   "execution_count": 3,
   "metadata": {},
   "outputs": [
    {
     "name": "stdout",
     "output_type": "stream",
     "text": [
      "Toyota\n"
     ]
    }
   ],
   "source": [
    "toyota = Coche(\"Toyota\")\n",
    "print(toyota.marca)"
   ]
  },
  {
   "cell_type": "markdown",
   "metadata": {
    "id": "ekCqS4MdGAMZ"
   },
   "source": [
    "Ahora ya podemos diferenciar los coches por su marca. Para acceder al atributo de la marca, lo hacemos igual que con los anteriores."
   ]
  },
  {
   "cell_type": "code",
   "execution_count": 4,
   "metadata": {
    "id": "yseDzYgYGAMZ"
   },
   "outputs": [
    {
     "name": "stdout",
     "output_type": "stream",
     "text": [
      "Mercedes\n",
      "5\n",
      "Renault\n",
      "5\n"
     ]
    }
   ],
   "source": [
    "mercedes = Coche(\"Mercedes\")\n",
    "renault = Coche(\"Renault\")\n",
    "\n",
    "print(mercedes.marca)\n",
    "print(mercedes.puertas)\n",
    "\n",
    "print(renault.marca)\n",
    "print(renault.puertas)"
   ]
  },
  {
   "cell_type": "markdown",
   "metadata": {
    "id": "dnbXfBjEGAMZ"
   },
   "source": [
    "Ya podemos solucionar el tema de que no todos los coches tienen 4 puertas"
   ]
  },
  {
   "cell_type": "code",
   "execution_count": 5,
   "metadata": {
    "id": "fuwoQXWhGAMZ"
   },
   "outputs": [],
   "source": [
    "class Coche:\n",
    "    puertas = 5\n",
    "    ruedas = 4\n",
    "\n",
    "    def __init__(self, marca_coche, num_puertas):\n",
    "        self.marca = marca_coche\n",
    "        self.puertas = num_puertas"
   ]
  },
  {
   "cell_type": "code",
   "execution_count": 8,
   "metadata": {
    "id": "TcAXwgGCGAMZ",
    "scrolled": true
   },
   "outputs": [
    {
     "name": "stdout",
     "output_type": "stream",
     "text": [
      "Tesla 4 6\n",
      "Hummer 4 8\n"
     ]
    }
   ],
   "source": [
    "tesla = Coche(\"Tesla\", 6)\n",
    "hummer = Coche(\"Hummer\", 8)\n",
    "\n",
    "print(tesla.marca, tesla.ruedas, tesla.puertas)\n",
    "print(hummer.marca, hummer.ruedas, hummer.puertas)"
   ]
  },
  {
   "cell_type": "code",
   "execution_count": 9,
   "metadata": {},
   "outputs": [],
   "source": [
    "#podía haberlo puesto más escueto como:\n",
    "\n",
    "class Coche:\n",
    "\n",
    "    def __init__(self, marca_coche, num_puertas = 5, num_ruedas = 4): # no tengo por qué darle valores a los primeros\n",
    "        self.marca = marca_coche\n",
    "        self.puertas = num_puertas\n",
    "        self.ruedas = num_ruedas"
   ]
  },
  {
   "cell_type": "code",
   "execution_count": 11,
   "metadata": {},
   "outputs": [
    {
     "name": "stdout",
     "output_type": "stream",
     "text": [
      "tesla_4: 5 4\n",
      "tesla_6r: 5 6\n"
     ]
    }
   ],
   "source": [
    "tesla_4 = Coche(\"Tesla\")\n",
    "tesla_6r = Coche(\"Tesla\", num_ruedas = 6)\n",
    "\n",
    "print(\"tesla_4:\", tesla_4.puertas, tesla_4.ruedas)\n",
    "print(\"tesla_6r:\", tesla_6r.puertas, tesla_6r.ruedas)"
   ]
  }
 ],
 "metadata": {
  "colab": {
   "provenance": []
  },
  "kernelspec": {
   "display_name": "Python 3 (ipykernel)",
   "language": "python",
   "name": "python3"
  },
  "language_info": {
   "codemirror_mode": {
    "name": "ipython",
    "version": 3
   },
   "file_extension": ".py",
   "mimetype": "text/x-python",
   "name": "python",
   "nbconvert_exporter": "python",
   "pygments_lexer": "ipython3",
   "version": "3.13.3"
  }
 },
 "nbformat": 4,
 "nbformat_minor": 4
}

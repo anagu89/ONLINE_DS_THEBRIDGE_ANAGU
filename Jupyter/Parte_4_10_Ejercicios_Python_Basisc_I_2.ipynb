{
 "cells": [
  {
   "cell_type": "markdown",
   "metadata": {
    "id": "GB2K42EgK9q5"
   },
   "source": [
    "![TheBridge_logo_RGB_color.jpg](attachment:TheBridge_logo_RGB_color.jpg)"
   ]
  },
  {
   "cell_type": "markdown",
   "metadata": {
    "id": "GnwVlO37K9q6"
   },
   "source": [
    "![imagen](./img/ejercicios.png)"
   ]
  },
  {
   "cell_type": "markdown",
   "metadata": {
    "id": "_9pTa0PXK9q6"
   },
   "source": [
    "## EJERCICIOS PYTHON BASICO 2:\n",
    "## Tipos y conversión de tipos"
   ]
  },
  {
   "cell_type": "markdown",
   "metadata": {
    "id": "tYmV-veoK9q6"
   },
   "source": [
    "Completa los siguiente ejercicios, la solución a los mismos se publicarán en el repo del curso a lo largo del sprint"
   ]
  },
  {
   "cell_type": "markdown",
   "metadata": {
    "id": "YAdFbIOXK9q7"
   },
   "source": [
    "![ejercicio.png](./img/ejercicio.png)\n",
    "\n",
    "## Ejercicio 1\n",
    "\n",
    "1. Crea dos variables numericas: un `int` y un `float`\n",
    "2. Comprueba sus tipos\n",
    "3. Sumalas en otra nueva\n",
    "4. ¿De qué tipo es la nueva variable?\n",
    "5. Elimina las dos primeras variables creadas"
   ]
  },
  {
   "cell_type": "code",
   "execution_count": 1,
   "metadata": {
    "id": "8QZmuLOsK9q7"
   },
   "outputs": [
    {
     "name": "stdout",
     "output_type": "stream",
     "text": [
      "Entero: 2019 \n",
      " <class 'int'> \n",
      "\n",
      "Float: 3.1416 \n",
      " <class 'float'> \n",
      "\n",
      "Suma: 2019 + 3.1416 = 2022.1416 \n",
      " <class 'float'> \n",
      "\n"
     ]
    }
   ],
   "source": [
    "# Creamos primero dos variables (entero y coma), y compruebo su tipo\n",
    "entero = 2019\n",
    "print(\"Entero:\", entero, \"\\n\", type(entero), \"\\n\")\n",
    "\n",
    "coma = 3.1416\n",
    "print(\"Float:\", coma, \"\\n\", type(coma), \"\\n\")\n",
    "\n",
    "# Sumamos ambas variables y vemos el tipo\n",
    "suma = entero + coma\n",
    "print(\"Suma:\", entero, \"+\", coma, \"=\", suma, \"\\n\", type(suma), \"\\n\")\n",
    "\n",
    "# Eliminamos ambas variables\n",
    "del entero, coma"
   ]
  },
  {
   "cell_type": "markdown",
   "metadata": {
    "id": "f5xfpkpQK9q7"
   },
   "source": [
    "![ejercicio.png](./img/ejercicio.png)\n",
    "\n",
    "## Ejercicio 2\n",
    "Escribe un programa para pasar de grados a radianes. Hay que usar `input`. Recuerda que la conversión se realiza mediante\n",
    "\n",
    "radianes = grados*(pi/180)"
   ]
  },
  {
   "cell_type": "code",
   "execution_count": 2,
   "metadata": {
    "id": "V50TUQMzK9q7"
   },
   "outputs": [
    {
     "name": "stdout",
     "output_type": "stream",
     "text": [
      "Hola, soy Ana. ¿Cómo te llamas?\n"
     ]
    },
    {
     "name": "stdin",
     "output_type": "stream",
     "text": [
      " Juan\n"
     ]
    },
    {
     "name": "stdout",
     "output_type": "stream",
     "text": [
      "Encantada de conocerte Juan. Te ayudaré a convertir grados a radianes.\n",
      "\n",
      "Ingresa el número de grados:\n"
     ]
    },
    {
     "name": "stdin",
     "output_type": "stream",
     "text": [
      " 90\n"
     ]
    },
    {
     "name": "stdout",
     "output_type": "stream",
     "text": [
      "<class 'float'> \n",
      "\n",
      "Solución: 90.0 son 1.5707963267948966 radianes\n"
     ]
    }
   ],
   "source": [
    "# Nos presentamos\n",
    "print(\"Hola, soy Ana. ¿Cómo te llamas?\")\n",
    "print(\"Encantada de conocerte {nombre}.\".format(nombre=input()), \"Te ayudaré a convertir grados a radianes.\\n\")\n",
    "\n",
    "# Añadimos el número de grados a convertir a radianes y compruebo que su tipo ha pasado de str a float\n",
    "print(\"Ingresa el número de grados:\")\n",
    "grados = float(input())\n",
    "print(type(grados), \"\\n\")\n",
    "\n",
    "# Importo la librería math para poder llamar al númpero pi y hago la ecuación\n",
    "import math \n",
    "pi = math.pi\n",
    "radianes = grados*pi/180\n",
    "print(\"Solución:\", grados, \"son\", radianes, \"radianes\")"
   ]
  },
  {
   "cell_type": "markdown",
   "metadata": {
    "id": "zX3-p58CK9q7"
   },
   "source": [
    "##### ![ejercicio.png](./img/ejercicio.png)\n",
    "\n",
    "## Ejercicio 3\n",
    "Escribe un programa que calcule el area de un paralelogramo (base x altura). También con `input`"
   ]
  },
  {
   "cell_type": "code",
   "execution_count": 3,
   "metadata": {
    "id": "s2QfNiBAK9q7"
   },
   "outputs": [
    {
     "name": "stdout",
     "output_type": "stream",
     "text": [
      "Vamos a calcular el área de un paralelogramo en cm2.\n",
      "base =\n"
     ]
    },
    {
     "name": "stdin",
     "output_type": "stream",
     "text": [
      " 12\n"
     ]
    },
    {
     "name": "stdout",
     "output_type": "stream",
     "text": [
      "altura =\n"
     ]
    },
    {
     "name": "stdin",
     "output_type": "stream",
     "text": [
      " 2.5\n"
     ]
    },
    {
     "name": "stdout",
     "output_type": "stream",
     "text": [
      "\n",
      "El área es: 30.0 cm2\n",
      "\n",
      "Type base: <class 'float'>\n",
      "Type altura: <class 'float'>\n",
      "Type area: <class 'float'>\n"
     ]
    }
   ],
   "source": [
    "# Primero pedimos los datos de base y altura mediante inputs\n",
    "print(\"Vamos a calcular el área de un paralelogramo en cm2.\")\n",
    "\n",
    "print(\"base =\")\n",
    "base = float(input())\n",
    "\n",
    "print(\"altura =\")\n",
    "altura = float(input())\n",
    "\n",
    "# Calculamos el área por la ecuación y comprobamos que los inputs han pasado de str a float\n",
    "area = base * altura\n",
    "\n",
    "print(\"\\nEl área es:\", area, \"cm2\\n\")\n",
    "\n",
    "print(\"Type base:\", type(base))\n",
    "print(\"Type altura:\", type(altura))\n",
    "print(\"Type area:\", type(area))"
   ]
  },
  {
   "cell_type": "markdown",
   "metadata": {
    "id": "-6TBo_HvK9q8"
   },
   "source": [
    "![ejercicio.png](./img/ejercicio.png)\n",
    "\n",
    "## Ejercicio 4\n",
    "Escribe un programa que calcule el area de un paralelogramo (base x altura). También con `input`. En este caso debe ser capaz de admitir valores reales, con decimales, para base y altura en español. (PISTA: Recuerda que tendrás que hacer uso del método replace)"
   ]
  },
  {
   "cell_type": "code",
   "execution_count": 4,
   "metadata": {
    "id": "uzUIa1JqK9q8"
   },
   "outputs": [
    {
     "name": "stdout",
     "output_type": "stream",
     "text": [
      "Hola, soy Ana. ¿Cómo te llamas?\n"
     ]
    },
    {
     "name": "stdin",
     "output_type": "stream",
     "text": [
      " Juan\n"
     ]
    },
    {
     "name": "stdout",
     "output_type": "stream",
     "text": [
      "\n",
      "Vamos a calcular el área de un paralelogramo en cm2.\n",
      "base =\n"
     ]
    },
    {
     "name": "stdin",
     "output_type": "stream",
     "text": [
      " 2.5\n"
     ]
    },
    {
     "name": "stdout",
     "output_type": "stream",
     "text": [
      "altura =\n"
     ]
    },
    {
     "name": "stdin",
     "output_type": "stream",
     "text": [
      " 6\n"
     ]
    },
    {
     "name": "stdout",
     "output_type": "stream",
     "text": [
      "El área es: 15.0 cm2\n",
      "\n",
      "¿Quieres salir? si/no\n"
     ]
    },
    {
     "name": "stdin",
     "output_type": "stream",
     "text": [
      " no\n"
     ]
    },
    {
     "name": "stdout",
     "output_type": "stream",
     "text": [
      "---------------------------------------------------------------------\n",
      "\n",
      "Vamos a calcular el área de un paralelogramo en cm2.\n",
      "base =\n"
     ]
    },
    {
     "name": "stdin",
     "output_type": "stream",
     "text": [
      " 3\n"
     ]
    },
    {
     "name": "stdout",
     "output_type": "stream",
     "text": [
      "altura =\n"
     ]
    },
    {
     "name": "stdin",
     "output_type": "stream",
     "text": [
      " 1.7\n"
     ]
    },
    {
     "name": "stdout",
     "output_type": "stream",
     "text": [
      "El área es: 5.1 cm2\n",
      "\n",
      "¿Quieres salir? si/no\n"
     ]
    },
    {
     "name": "stdin",
     "output_type": "stream",
     "text": [
      " si\n"
     ]
    },
    {
     "name": "stdout",
     "output_type": "stream",
     "text": [
      "---------------------------------------------------------------------\n"
     ]
    }
   ],
   "source": [
    "# Este ejercicio está hecho en el nº3 de esta relación, dado que ya son de tipo float\n",
    "\n",
    "print(\"Hola, soy Ana. ¿Cómo te llamas?\")\n",
    "nombre = input()\n",
    "\n",
    "# Hago un bucle while para preguntar varios paralelogramos a la vez hasta que queramos salir\n",
    "while nombre != \"si\":\n",
    "    print(\"\\nVamos a calcular el área de un paralelogramo en cm2.\")\n",
    "       \n",
    "    print(\"base =\")\n",
    "    base = float(input())\n",
    "    \n",
    "    print(\"altura =\")\n",
    "    altura = float(input())\n",
    "    \n",
    "    area = base * altura\n",
    "    print(\"El área es:\", area, \"cm2\\n\")\n",
    "\n",
    "    print(\"¿Quieres salir? si/no\")\n",
    "    nombre = input()\n",
    "    print(\"---------------------------------------------------------------------\")"
   ]
  },
  {
   "cell_type": "markdown",
   "metadata": {
    "id": "5zKugi5iK9q8"
   },
   "source": [
    "![ejercicio.png](./img/ejercicio.png)\n",
    "\n",
    "## Ejercicio 5\n",
    "Complete el siguiente código para solicitar al usuario su nombre y su edad. Luego, calcule en qué año nació el usuario y muestre el resultado."
   ]
  },
  {
   "cell_type": "code",
   "execution_count": 5,
   "metadata": {},
   "outputs": [
    {
     "name": "stdout",
     "output_type": "stream",
     "text": [
      "Bienvenido, ¿cuál es tu nombre?\n"
     ]
    },
    {
     "name": "stdin",
     "output_type": "stream",
     "text": [
      " Ana\n"
     ]
    },
    {
     "name": "stdout",
     "output_type": "stream",
     "text": [
      "¿Y tu edad?\n"
     ]
    },
    {
     "name": "stdin",
     "output_type": "stream",
     "text": [
      " 36\n"
     ]
    },
    {
     "name": "stdout",
     "output_type": "stream",
     "text": [
      "¿En qué año estamos?\n"
     ]
    },
    {
     "name": "stdin",
     "output_type": "stream",
     "text": [
      " 2025\n"
     ]
    },
    {
     "name": "stdout",
     "output_type": "stream",
     "text": [
      "Ana naciste en el año 1989\n"
     ]
    }
   ],
   "source": [
    "# Pedimos los datos mediante inputs convirtiéndolos a float\n",
    "print(\"Bienvenido, ¿cuál es tu nombre?\")\n",
    "nombre = input()\n",
    "\n",
    "print(\"¿Y tu edad?\")\n",
    "edad = float(input())\n",
    "\n",
    "print(\"¿En qué año estamos?\")\n",
    "actual = float(input())\n",
    "\n",
    "nacimiento = int(actual - edad)\n",
    "\n",
    "\n",
    "print(nombre, \"naciste en el año\", nacimiento)\n",
    "\n",
    "# Otra forma de hacer la impresión por pantalla sería:\n",
    "# print(f\"{nombre}, naciste en el año {nacimiento}.\")"
   ]
  }
 ],
 "metadata": {
  "colab": {
   "provenance": []
  },
  "kernelspec": {
   "display_name": "Python 3 (ipykernel)",
   "language": "python",
   "name": "python3"
  },
  "language_info": {
   "codemirror_mode": {
    "name": "ipython",
    "version": 3
   },
   "file_extension": ".py",
   "mimetype": "text/x-python",
   "name": "python",
   "nbconvert_exporter": "python",
   "pygments_lexer": "ipython3",
   "version": "3.13.3"
  }
 },
 "nbformat": 4,
 "nbformat_minor": 4
}

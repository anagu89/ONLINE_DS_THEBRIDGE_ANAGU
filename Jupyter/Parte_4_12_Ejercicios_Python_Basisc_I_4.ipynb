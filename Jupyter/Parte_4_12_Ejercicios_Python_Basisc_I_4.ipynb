{
 "cells": [
  {
   "cell_type": "markdown",
   "metadata": {
    "id": "zXI7Isq387pL"
   },
   "source": [
    "![TheBridge_logo_RGB_color.jpg](attachment:TheBridge_logo_RGB_color.jpg)"
   ]
  },
  {
   "cell_type": "markdown",
   "metadata": {
    "id": "SrwAs9_W87pO"
   },
   "source": [
    "![imagen](./img/ejercicios.png)"
   ]
  },
  {
   "cell_type": "markdown",
   "metadata": {
    "id": "c-pZQt2Q87pO"
   },
   "source": [
    "## EJERCICIOS PYTHON BASICO 4:\n",
    "## Funciones, métodos, listas"
   ]
  },
  {
   "cell_type": "markdown",
   "metadata": {
    "id": "b8IZVNhP87pP"
   },
   "source": [
    "Completa los siguiente ejercicios, la solución completa a los mismos se publicarán en el repo del curso a lo largo del sprint. En algunos ejercicios se muestra la solución final, para que puedas comprobar que lo has hecho bien, pero lo importante es el código que generes. ¡Vaaamos, a ello...!"
   ]
  },
  {
   "cell_type": "markdown",
   "metadata": {
    "id": "XXkpmpaS87pQ"
   },
   "source": [
    "![ejercicio.png](./img/ejercicio.png)\n",
    "\n",
    "## Ejercicio 1\n",
    "Para este ejercicio vamos a poner en práctica [las funciones built in](https://docs.python.org/3/library/functions.html).\n",
    "\n",
    "1. Calcula el máximo de la lista: [4, 6, 8, -1]\n",
    "2. Suma todos los elementos de la lista anterior\n",
    "3. Redondea este float a 3 dígitos decimales: 63.451256965\n",
    "4. Valor absoluto de: -74"
   ]
  },
  {
   "cell_type": "code",
   "execution_count": 4,
   "metadata": {
    "id": "752VIUUI87pQ"
   },
   "outputs": [
    {
     "name": "stdout",
     "output_type": "stream",
     "text": [
      "Mi lista de números es: [4, 6, 8, -1]\n",
      "\n",
      "1. El número máximo o mayor de la lista anterior es: 8\n",
      "2. La suma de los números es: 17\n",
      "3. El redondeo del número 63.451256965 a tres decimales es 63.451\n",
      "4. El valor absoluto del número -74 es 74\n"
     ]
    }
   ],
   "source": [
    "print(\"Mi lista de números es: [4, 6, 8, -1]\\n\")\n",
    "\n",
    "# 1. Calcula el máximo de la lista: [4, 6, 8, -1]\n",
    "lista = [4, 6, 8, -1]\n",
    "maximo = max(lista)\n",
    "print(\"1. El número máximo o mayor de la lista anterior es:\", maximo)\n",
    "\n",
    "# 2. Suma todos los elementos de la lista anterior\n",
    "lista = [4, 6, 8, -1]\n",
    "suma = sum(lista)\n",
    "print(\"2. La suma de los números es:\", suma)\n",
    "\n",
    "# 3. Redondea este float a 3 dígitos decimales: 63.451256965\n",
    "numero_3 = 63.451256965\n",
    "redondeo = round(63.451256965,3)\n",
    "print(\"3. El redondeo del número\", numero_3, \"a tres decimales es\", redondeo)\n",
    "\n",
    "# 4. Valor absoluto de: -74\n",
    "numero_4 = -74\n",
    "absoluto = abs(numero_4)\n",
    "print(\"4. El valor absoluto del número\", numero_4, \"es\", absoluto)"
   ]
  },
  {
   "cell_type": "markdown",
   "metadata": {
    "id": "UTqxdzDc87pR"
   },
   "source": [
    "![ejercicio.png](./img/ejercicio.png)\n",
    "\n",
    "## Ejercicio 2\n",
    "Para el siguiente string se pide imprimir por pantalla los siguientes casos\n",
    "\n",
    "    \"En un lugar de la Mancha, de cuyo nombre no quiero acordarme.\"\n",
    "\n",
    "1. Pásalo todo a mayúsculas\n",
    "2. Pásalo todo a minúsculas\n",
    "3. Solo la primera letra de cada palabra en mayúscula, el resto en minúscula\n",
    "4. Crea una lista dividiéndolo por sus espacios\n",
    "5. Sustituye las comas `,` por puntos y comas `;`\n",
    "6. Elimina las `a` minúsculas"
   ]
  },
  {
   "cell_type": "code",
   "execution_count": 15,
   "metadata": {
    "id": "e4BsRW4L87pR",
    "outputId": "39713bcc-8d87-4936-d44b-b95876b38936"
   },
   "outputs": [
    {
     "name": "stdout",
     "output_type": "stream",
     "text": [
      "TEXTO: En un lugar de la Mancha, de cuyo nombre no quiero acordarme. \n",
      "\n",
      "EN UN LUGAR DE LA MANCHA, DE CUYO NOMBRE NO QUIERO ACORDARME.\n",
      "en un lugar de la mancha, de cuyo nombre no quiero acordarme.\n",
      "En Un Lugar De La Mancha, De Cuyo Nombre No Quiero Acordarme.\n",
      "['En', 'un', 'lugar', 'de', 'la', 'Mancha,', 'de', 'cuyo', 'nombre', 'no', 'quiero', 'acordarme.']\n",
      "En un lugar de la Mancha; de cuyo nombre no quiero acordarme.\n",
      "En un lugr de l Mnch, de cuyo nombre no quiero cordrme.\n"
     ]
    }
   ],
   "source": [
    "texto = \"En un lugar de la Mancha, de cuyo nombre no quiero acordarme.\"\n",
    "print(\"TEXTO:\", texto, \"\\n\")\n",
    "\n",
    "# 1. Pásalo todo a mayúsculas\n",
    "print(texto.upper())\n",
    "\n",
    "# 2. Pásalo todo a minúsculas\n",
    "print(texto.lower())\n",
    "\n",
    "# 3. Solo la primera letra de cada palabra en mayúscula, el resto en minúscula\n",
    "print(texto.title())\n",
    "\n",
    "# 4. Crea una lista dividiéndolo por sus espacios\n",
    "print(texto.split(\" \"))\n",
    "\n",
    "# 5. Sustituye las comas `,` por puntos y comas `;`\n",
    "print(texto.replace(\",\",\";\"))\n",
    "\n",
    "# 6. Elimina las `a` minúsculas\n",
    "print(texto.replace(\"a\",\"\"))"
   ]
  },
  {
   "cell_type": "markdown",
   "metadata": {
    "id": "sz6itjjE87pS"
   },
   "source": [
    "![ejercicio.png](./img/ejercicio.png)\n",
    "\n",
    "## Ejercicio 3\n",
    "1. Crea una lista con 3 elementos numéricos\n",
    "2. Añade un cuarto elemento\n",
    "3. Calcula la suma de todos\n",
    "4. Elimina el segundo elemento de la lista\n",
    "5. Añade otro elemento en la posicion 3 de la lista\n",
    "6. Crea otra lista con 4 elementos y concaténala a la que ya tenías.\n",
    "7. Ordena la lista de menor a mayor.\n",
    "8. BONUS: Ordena la lista de mayor a menor.  \n",
    "(*PISTA: Para hacer 8, tendrás que buscar en la información del método...*)  \n",
    "  \n",
    "  \n",
    "NOTA: Pinta por pantalla el resultado de cada paso."
   ]
  },
  {
   "cell_type": "code",
   "execution_count": null,
   "metadata": {
    "id": "WV_SoAoZ87pT",
    "outputId": "8a759882-3944-4ed7-8402-1297abab8326"
   },
   "outputs": [
    {
     "name": "stdout",
     "output_type": "stream",
     "text": [
      "10\n",
      "[2, 3, 4]\n",
      "[2, 3, 5, 4]\n",
      "[2, 3, 5, 4, 6, 7, 8, 9]\n"
     ]
    }
   ],
   "source": []
  }
 ],
 "metadata": {
  "colab": {
   "provenance": []
  },
  "kernelspec": {
   "display_name": "Python 3 (ipykernel)",
   "language": "python",
   "name": "python3"
  },
  "language_info": {
   "codemirror_mode": {
    "name": "ipython",
    "version": 3
   },
   "file_extension": ".py",
   "mimetype": "text/x-python",
   "name": "python",
   "nbconvert_exporter": "python",
   "pygments_lexer": "ipython3",
   "version": "3.13.3"
  }
 },
 "nbformat": 4,
 "nbformat_minor": 4
}

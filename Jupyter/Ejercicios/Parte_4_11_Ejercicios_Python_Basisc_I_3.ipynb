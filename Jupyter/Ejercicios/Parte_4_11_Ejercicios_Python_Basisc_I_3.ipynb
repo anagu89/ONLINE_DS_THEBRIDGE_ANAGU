{
 "cells": [
  {
   "cell_type": "markdown",
   "metadata": {
    "id": "Oam-CESq87Nc"
   },
   "source": [
    "![TheBridge_logo_RGB_color.jpg](attachment:TheBridge_logo_RGB_color.jpg)"
   ]
  },
  {
   "cell_type": "markdown",
   "metadata": {
    "id": "EbynIVO387Nh"
   },
   "source": [
    "![imagen](./img/ejercicios.png)"
   ]
  },
  {
   "cell_type": "markdown",
   "metadata": {
    "id": "42HsJ6BI87Ni"
   },
   "source": [
    "## EJERCICIOS PYTHON BASICO 3:\n",
    "## Operaciones matemáticas, comparación y booleanas"
   ]
  },
  {
   "cell_type": "markdown",
   "metadata": {
    "id": "LhvHsx7n87Ni"
   },
   "source": [
    "Completa los siguiente ejercicios, la solución completa a los mismos se publicarán en el repo del curso a lo largo del sprint. En algunos ejercicios se muestra la solución final, para que puedas comprobar que lo has hecho bien, pero lo importante es el código que generes. ¡Vaaamos, a ello...!"
   ]
  },
  {
   "cell_type": "markdown",
   "metadata": {
    "id": "zi8K4u0-87Nj"
   },
   "source": [
    "![ejercicio.png](./img/ejercicio.png)\n",
    "\n",
    "\n",
    "## Ejercicio 1\n",
    "Tenemos las siguientes variables:\n",
    "\n",
    "```Python\n",
    "A = 4\n",
    "B = \"Text\"\n",
    "C = 4.1\n",
    "```\n",
    "\n",
    "Comprueba:\n",
    "1. Si A y B son equivalentes\n",
    "2. Si A y C NO son equivalentes\n",
    "3. Si A es mayor que C\n",
    "4. Si C es menor o igual que A\n",
    "5. Si B NO es equivalente a C"
   ]
  },
  {
   "cell_type": "code",
   "execution_count": 15,
   "metadata": {
    "id": "c1AhbUB787Nk",
    "outputId": "36e45c3d-8cc3-4b43-8f6e-15cf86414ac6"
   },
   "outputs": [
    {
     "name": "stdout",
     "output_type": "stream",
     "text": [
      "False\n",
      "True\n",
      "False\n",
      "False\n",
      "True\n"
     ]
    }
   ],
   "source": [
    "# Declaro las variables\n",
    "A = 4\n",
    "B = \"Text\"\n",
    "C = 4.1\n",
    "\n",
    "# 1. Si A y B son equivalentes\n",
    "primero = (A == B)\n",
    "print(primero)\n",
    "\n",
    "# 2. Si A y C NO son equivalentes\n",
    "segundo = (A != B)\n",
    "print(segundo)\n",
    "\n",
    "# 3. Si A es mayor que C\n",
    "tercero = (A > C)\n",
    "print(tercero)\n",
    "\n",
    "# 4. Si C es menor o igual que A\n",
    "cuarto = (C <= A)\n",
    "print(cuarto)\n",
    "\n",
    "# 5. Si B NO es equivalente a C\n",
    "quinto = (B != C)\n",
    "print(quinto)"
   ]
  },
  {
   "cell_type": "markdown",
   "metadata": {
    "id": "TaqqcrB887Nl"
   },
   "source": [
    "![ejercicio.png](./img/ejercicio.png)\n",
    "\n",
    "## Ejercicio 2\n",
    "Crea un programa donde se recojan dos inputs del usuario, y el output del programa sea si esos inputs son iguales o no"
   ]
  },
  {
   "cell_type": "code",
   "execution_count": 28,
   "metadata": {
    "id": "WwIEYPFJ87Nl"
   },
   "outputs": [
    {
     "name": "stdout",
     "output_type": "stream",
     "text": [
      "Comparemos si dos entradas son True or False.\n"
     ]
    },
    {
     "name": "stdin",
     "output_type": "stream",
     "text": [
      "Introduce la entrada 1: 4\n",
      "Introduce la entrada 2: 5\n"
     ]
    },
    {
     "name": "stdout",
     "output_type": "stream",
     "text": [
      "La entrada 4 y la entrada 5 son False\n",
      "¿Quieres salir? si/no\n"
     ]
    },
    {
     "name": "stdin",
     "output_type": "stream",
     "text": [
      " no\n"
     ]
    },
    {
     "name": "stdout",
     "output_type": "stream",
     "text": [
      "\n",
      "---------------------------------------------------------------------\n",
      "\n",
      "Comparemos si dos entradas son True or False.\n"
     ]
    },
    {
     "name": "stdin",
     "output_type": "stream",
     "text": [
      "Introduce la entrada 1: 1\n",
      "Introduce la entrada 2: 1\n"
     ]
    },
    {
     "name": "stdout",
     "output_type": "stream",
     "text": [
      "La entrada 1 y la entrada 1 son True\n",
      "¿Quieres salir? si/no\n"
     ]
    },
    {
     "name": "stdin",
     "output_type": "stream",
     "text": [
      " si\n"
     ]
    },
    {
     "name": "stdout",
     "output_type": "stream",
     "text": [
      "\n",
      "---------------------------------------------------------------------\n",
      "\n"
     ]
    }
   ],
   "source": [
    "# Primero declaro exit=no para permanecer en el bucle. Saldremos cuando exit=si.\n",
    "exit = \"no\"\n",
    "\n",
    "# Hago un bucle while para preguntar varias haces hasta que queramos salir\n",
    "while exit != \"si\":\n",
    "    print(\"Comparemos si dos entradas son True or False.\")\n",
    "\n",
    "    # Introduzco primero las variables de entradas 1 y 2\n",
    "    entrada_1 = input(\"Introduce la entrada 1:\")\n",
    "    entrada_2 = input(\"Introduce la entrada 2:\")\n",
    "    \n",
    "    # Comprobamos si el resultado es True or False\n",
    "    resultado = (entrada_1 == entrada_2)\n",
    "    print(\"La entrada\", entrada_1, \"y la entrada\", entrada_2, \"son\", resultado)\n",
    "\n",
    "    print(\"¿Quieres salir? si/no\")\n",
    "    exit = input()\n",
    "    print(\"\\n---------------------------------------------------------------------\\n\")"
   ]
  },
  {
   "cell_type": "markdown",
   "metadata": {
    "id": "W3aXh-zp87Nl"
   },
   "source": [
    "![ejercicio.png](./img/ejercicio.png)\n",
    "\n",
    "## Ejercicio 3\n",
    "Mismo programa que en 2, pero en esta ocasión tienen que ser tres inputs y dos salidas. Una de las salidas que nos indique si todos son iguales, y la otra si al menos dos inputs sí que lo son"
   ]
  },
  {
   "cell_type": "code",
   "execution_count": 29,
   "metadata": {
    "id": "u4x-kxTm87Nm",
    "outputId": "486ffdf8-6478-4321-b2ee-ab823d0d87d9"
   },
   "outputs": [
    {
     "name": "stdout",
     "output_type": "stream",
     "text": [
      "Comparemos si tres entradas son iguales entre ellas o al menos dos de ellas.\n"
     ]
    },
    {
     "name": "stdin",
     "output_type": "stream",
     "text": [
      "Introduce la entrada 1: 5\n",
      "Introduce la entrada 2: 8\n",
      "Introduce la entrada 3: 8\n"
     ]
    },
    {
     "name": "stdout",
     "output_type": "stream",
     "text": [
      "La entrada 5 , la entrada 8 y la entrada 8 son distintas entre sí y al menos dos de ellas son las mismas.\n",
      "¿Quieres salir? si/no\n"
     ]
    },
    {
     "name": "stdin",
     "output_type": "stream",
     "text": [
      " no\n"
     ]
    },
    {
     "name": "stdout",
     "output_type": "stream",
     "text": [
      "\n",
      "---------------------------------------------------------------------\n",
      "\n",
      "Comparemos si tres entradas son iguales entre ellas o al menos dos de ellas.\n"
     ]
    },
    {
     "name": "stdin",
     "output_type": "stream",
     "text": [
      "Introduce la entrada 1: 1\n",
      "Introduce la entrada 2: 1\n",
      "Introduce la entrada 3: 1\n"
     ]
    },
    {
     "name": "stdout",
     "output_type": "stream",
     "text": [
      "La entrada 1 , la entrada 1 y la entrada 1 son iguales entre sí y al menos dos de ellas son las mismas.\n",
      "¿Quieres salir? si/no\n"
     ]
    },
    {
     "name": "stdin",
     "output_type": "stream",
     "text": [
      " no\n"
     ]
    },
    {
     "name": "stdout",
     "output_type": "stream",
     "text": [
      "\n",
      "---------------------------------------------------------------------\n",
      "\n",
      "Comparemos si tres entradas son iguales entre ellas o al menos dos de ellas.\n"
     ]
    },
    {
     "name": "stdin",
     "output_type": "stream",
     "text": [
      "Introduce la entrada 1: 4\n",
      "Introduce la entrada 2: test\n",
      "Introduce la entrada 3: 9.5\n"
     ]
    },
    {
     "name": "stdout",
     "output_type": "stream",
     "text": [
      "La entrada 4 , la entrada test y la entrada 9.5 son distintas entre sí por lo que no son iguales.\n",
      "¿Quieres salir? si/no\n"
     ]
    },
    {
     "name": "stdin",
     "output_type": "stream",
     "text": [
      " si\n"
     ]
    },
    {
     "name": "stdout",
     "output_type": "stream",
     "text": [
      "\n",
      "---------------------------------------------------------------------\n",
      "\n"
     ]
    }
   ],
   "source": [
    "# Primero declaro exit=no para permanecer en el bucle. Saldremos cuando exit=si.\n",
    "exit = \"no\"\n",
    "\n",
    "# Hago un bucle while para preguntar varias haces hasta que queramos salir\n",
    "while exit != \"si\":\n",
    "    print(\"Comparemos si tres entradas son iguales entre ellas o al menos dos de ellas.\")\n",
    "\n",
    "    # Introduzco primero las variables de entradas 1, 2 y 3\n",
    "    entrada_1 = input(\"Introduce la entrada 1:\")\n",
    "    entrada_2 = input(\"Introduce la entrada 2:\")\n",
    "    entrada_3 = input(\"Introduce la entrada 3:\")\n",
    "    \n",
    "    # Comprobamos si las variables son iguales entre sí\n",
    "    resultado_1 = (entrada_1 == entrada_2 == entrada_3)\n",
    "    \n",
    "    if resultado_1 == True:\n",
    "        resultado_1_final = \"iguales entre sí\"\n",
    "    else: resultado_1_final = \"distintas entre sí\"\n",
    "\n",
    "    # Comprobamos si al menos dos de ellas son iguales entre sí\n",
    "    resultado_2 = ((entrada_1 == entrada_2) or (entrada_1 == entrada_3) or (entrada_2 == entrada_3))\n",
    "    \n",
    "    if resultado_2 == True:\n",
    "        resultado_2_final = \"y al menos dos de ellas son las mismas.\"\n",
    "    else: resultado_2_final = \"por lo que no son iguales.\"\n",
    "    \n",
    "    print(\"La entrada\", entrada_1, \", la entrada\", entrada_2, \"y la entrada\", entrada_3, \"son\", resultado_1_final, resultado_2_final)\n",
    "    \n",
    "    print(\"¿Quieres salir? si/no\")\n",
    "    exit = input()\n",
    "    print(\"\\n---------------------------------------------------------------------\\n\")"
   ]
  },
  {
   "cell_type": "markdown",
   "metadata": {
    "id": "qP8c30Nz87Nn"
   },
   "source": [
    "![ejercicio.png](./img/ejercicio.png)\n",
    "\n",
    "## Ejercicio 4\n",
    "Razona sin ejecutar código el output que obtendremos de las siguientes sentencias\n",
    "1. True and True and False\n",
    "2. not ((True or False) and (True or False))\n",
    "3. (False or False or False or True) and False\n",
    "4. not False and True and not True"
   ]
  },
  {
   "cell_type": "code",
   "execution_count": 30,
   "metadata": {
    "id": "yavLs_Q_87Nn"
   },
   "outputs": [
    {
     "name": "stdout",
     "output_type": "stream",
     "text": [
      "False\n",
      "False\n",
      "False\n",
      "False\n"
     ]
    }
   ],
   "source": [
    "# Hacemos las comprobaciones\n",
    "razonar_1 = True and True and False\n",
    "razonar_2 = not ((True or False) and (True or False))\n",
    "razonar_3 = (False or False or False or True) and False\n",
    "razonar_4 = not False and True and not True\n",
    "\n",
    "# Imprimimos los resultados\n",
    "print(razonar_1)\n",
    "print(razonar_2)\n",
    "print(razonar_3)\n",
    "print(razonar_4)"
   ]
  }
 ],
 "metadata": {
  "colab": {
   "provenance": []
  },
  "kernelspec": {
   "display_name": "Python 3 (ipykernel)",
   "language": "python",
   "name": "python3"
  },
  "language_info": {
   "codemirror_mode": {
    "name": "ipython",
    "version": 3
   },
   "file_extension": ".py",
   "mimetype": "text/x-python",
   "name": "python",
   "nbconvert_exporter": "python",
   "pygments_lexer": "ipython3",
   "version": "3.13.3"
  }
 },
 "nbformat": 4,
 "nbformat_minor": 4
}

{
 "cells": [
  {
   "cell_type": "markdown",
   "metadata": {
    "id": "AyOlWS2nRWxH"
   },
   "source": [
    "## PRACTICA OBLIGATORIA: COLECCIONES Y FUNCIONES"
   ]
  },
  {
   "cell_type": "markdown",
   "metadata": {
    "id": "6UOgb0KVRWxH"
   },
   "source": [
    "* La práctica obligatoria de esta unidad consiste varios ejercicios de programación libre a completar sobre Colecciones y Funciones. Descarga este notebook en tu ordenador y trabaja en local.  \n",
    "* Recuerda que debes subirla a tu repositorio personal antes de la sesión en vivo para que puntúe adecuadamente y puedas participar en dicha sesión.  \n",
    "* Recuerda también que no es necesario que esté perfecta, sólo es necesario que se vea el esfuerzo.\n",
    "* Esta práctica se resolverá en la sesión en vivo correspondiente y la solución se publicará en el repo del curso."
   ]
  },
  {
   "cell_type": "markdown",
   "metadata": {
    "id": "j3yu-tEjRWxH"
   },
   "source": [
    "### Contenidos"
   ]
  },
  {
   "cell_type": "markdown",
   "metadata": {
    "id": "kO-fLH39RWxH"
   },
   "source": [
    "## Ejercicio 1\n",
    "Eleva todos los elementos de la lista al cuadrado\n",
    "> ```ejer_2 = [1,2,3,4,5]```"
   ]
  },
  {
   "cell_type": "code",
   "execution_count": 4,
   "metadata": {
    "id": "ks5l3yi7RWxH"
   },
   "outputs": [
    {
     "name": "stdout",
     "output_type": "stream",
     "text": [
      "Eleva al cuadrado los siguientes números: [1, 2, 3, 4, 5]\n",
      "Resultado de 1 ^2: 1\n",
      "Resultado de 2 ^2: 4\n",
      "Resultado de 3 ^2: 9\n",
      "Resultado de 4 ^2: 16\n",
      "Resultado de 5 ^2: 25\n"
     ]
    }
   ],
   "source": [
    "ejer_2 = [1,2,3,4,5]\n",
    "print(\"Eleva al cuadrado los siguientes números:\", ejer_2)\n",
    "\n",
    "for i in ejer_2:\n",
    "    print(\"Resultado de\", i, \"^2:\", i**2)"
   ]
  },
  {
   "cell_type": "markdown",
   "metadata": {
    "id": "kI_Xr5oFRWxI"
   },
   "source": [
    "## Ejercicio 2\n",
    "Haz un programa que detecte todos los duplicados de un elemento en una lista:\n",
    "* Utiliza una variable duplicado para asignarle el valor del elemento del que queremos encontrar todos sus duplicados.\n",
    "* El programa debe devolver todos los índices de los elementos duplicados.\n",
    "* Aplícalo para encontrar los duplicados de \"un\", \"es\" y \"binario\" de:  \n",
    "\n",
    ">```ejer_3 = [\"Un\", \"árbol\", \"binario\", \"es\", \"una\", \"estructura\", \"de\", \"un\", \"tipo\", \"particular\", \"a\", \"veces\", \"no\", \"es\", \"ni\", \"binario\"]```\n"
   ]
  },
  {
   "cell_type": "code",
   "execution_count": 4,
   "metadata": {},
   "outputs": [
    {
     "name": "stdout",
     "output_type": "stream",
     "text": [
      "Dada la siguiente lista:\n",
      " ['Un', 'árbol', 'binario', 'es', 'una', 'estructura', 'de', 'un', 'tipo', 'particular', 'a', 'veces', 'no', 'es', 'ni', 'binario']\n",
      "\n",
      "Los elementos duplicados son: ['binario', 'es', 'un']\n",
      "El número de veces que aparece cada palabra es:\n",
      "Counter({'un': 2, 'binario': 2, 'es': 2, 'árbol': 1, 'una': 1, 'estructura': 1, 'de': 1, 'tipo': 1, 'particular': 1, 'a': 1, 'veces': 1, 'no': 1, 'ni': 1})\n",
      "----------------------------------------------------------------\n"
     ]
    },
    {
     "name": "stdin",
     "output_type": "stream",
     "text": [
      "\n",
      "Escriba la palabra que desea saber si está duplicada: un\n"
     ]
    },
    {
     "name": "stdout",
     "output_type": "stream",
     "text": [
      "La palabra introducida en minúsculas es: un\n",
      "\n",
      "RESULTADO:\n",
      "La palabra un se repite 2 veces, en los índices [0, 7]\n"
     ]
    },
    {
     "name": "stdin",
     "output_type": "stream",
     "text": [
      "\n",
      "¿Quieres introducir otra palabra? (si/no):  si\n"
     ]
    },
    {
     "name": "stdout",
     "output_type": "stream",
     "text": [
      "----------------------------------------------------------------\n"
     ]
    },
    {
     "name": "stdin",
     "output_type": "stream",
     "text": [
      "\n",
      "Escriba la palabra que desea saber si está duplicada: una\n"
     ]
    },
    {
     "name": "stdout",
     "output_type": "stream",
     "text": [
      "La palabra introducida en minúsculas es: una\n",
      "\n",
      "RESULTADO:\n",
      "La palabra una se repite 1 veces, en los índices [4]\n"
     ]
    },
    {
     "name": "stdin",
     "output_type": "stream",
     "text": [
      "\n",
      "¿Quieres introducir otra palabra? (si/no):  noo\n"
     ]
    },
    {
     "name": "stdout",
     "output_type": "stream",
     "text": [
      "No he entendido tu respuesta. Por favor, escribe 'si' o 'no'.\n"
     ]
    },
    {
     "name": "stdin",
     "output_type": "stream",
     "text": [
      "\n",
      "¿Quieres introducir otra palabra? (si/no):  no\n"
     ]
    },
    {
     "name": "stdout",
     "output_type": "stream",
     "text": [
      "\n",
      "EXIT\n"
     ]
    }
   ],
   "source": [
    "from collections import Counter\n",
    "\n",
    "# STEP 1: convierto todas las mayúsculas en minúsculas porque \"Un\" y el \"un\" son lo mismo pero lo entiende como distintos\n",
    "ejer_3 = [\"Un\", \"árbol\", \"binario\", \"es\", \"una\", \"estructura\", \"de\", \"un\", \"tipo\", \"particular\", \"a\", \"veces\", \"no\", \"es\", \"ni\", \"binario\"]\n",
    "print(\"Dada la siguiente lista:\\n\", ejer_3)\n",
    "\n",
    "lista_minus = []\n",
    "for i in ejer_3:\n",
    "    lista_minus.append(i.strip().lower()) # puedo expresarlo también como \"lista_minus = [i.strip().lower() for i in ejer_3]\"\n",
    "\n",
    "lista_duplicados = []\n",
    "for i in lista_minus:\n",
    " if (lista_minus.count(i) > 1):\n",
    "     lista_duplicados.append(i) # puedo expresarlo también como \"lista_duplicados = [i for i in lista_minus if lista_minus.count(i) > 1]\"\n",
    "print(\"\\nLos elementos duplicados son:\", list(set(lista_duplicados)))\n",
    "\n",
    "contador = Counter(lista_minus)\n",
    "print(\"El número de veces que aparece cada palabra es:\")\n",
    "print(contador)\n",
    "\n",
    "# STEP 2: la palabra que deseo saber el número de veces que se repite, pero tengo que convertirla toda en minúscula\n",
    "# añado un bucle while para poder preguntar todas la palabras que quiera\n",
    "exit = False # para saber cuando salir del bucle principal de preguntar palabras\n",
    "while not exit:\n",
    "    print(\"----------------------------------------------------------------\") # podría poner \"print(\"\\n\" + \"-\"*60)\"\n",
    "    duplicado = input(\"\\nEscriba la palabra que desea saber si está duplicada:\").strip().lower()\n",
    "    print(\"La palabra introducida en minúsculas es:\", duplicado)\n",
    "    \n",
    "# STEP 3: buscar todos los índices donde aparece la palabra y la añado a mi lista de índices para esa palabra en concreto\n",
    "    indices_duplicados = []\n",
    "    for i, palabra in enumerate(lista_minus):\n",
    "        if palabra == duplicado:\n",
    "            indices_duplicados.append(i)\n",
    "    \n",
    "# STEP 4: calculo cuántas veces se repite. Esto basta con contar cuántos índices hay en la lista anterior\n",
    "    repeticiones = len(indices_duplicados)\n",
    "    \n",
    "# STEP 5: muestro el resultado por pantalla si la palabra introducida existe en la frase\n",
    "    if repeticiones > 0:\n",
    "        print(\"\\nRESULTADO:\\nLa palabra\", duplicado, \"se repite\", repeticiones, \"veces, en los índices\", indices_duplicados)\n",
    "    else:\n",
    "        print(\"\\nRESULTADO:\\nLa palabra\", duplicado, \"no se encuentra en la frase.\")\n",
    "    \n",
    "    while True:\n",
    "            continuar = input(\"\\n¿Quieres introducir otra palabra? (si/no): \").strip().lower()\n",
    "            if continuar == \"si\":\n",
    "                break  # sale del bucle interno y continúa preguntando otra palabra\n",
    "            elif continuar == \"no\":\n",
    "                print(\"\\nEXIT\")\n",
    "                exit = True  # para salir del bucle principal\n",
    "                break              \n",
    "            else:\n",
    "                print(\"No he entendido tu respuesta. Por favor, escribe 'si' o 'no'.\")"
   ]
  },
  {
   "cell_type": "markdown",
   "metadata": {
    "id": "3WrBd5QaRWxI"
   },
   "source": [
    "## Ejercicio 3\n",
    "1. ¿Cuántas veces se repite el 3 en la siguiente tupla?\n",
    "2. Crea una tupla nueva con los elementos desde la posicion 5 a la 10.\n",
    "3. ¿Cuántos elementos tiene la tupla `ejer_3`?\n",
    "> ```ejer_9 = (3, 20, 3, 47, 19, 3, 29, 45, 67, 78, 90, 3, 3, 5, 2, 4, 7, 9, 4, 2, 4, 3, 3, 4, 6, 7)```"
   ]
  },
  {
   "cell_type": "code",
   "execution_count": 6,
   "metadata": {
    "id": "bkv_R5LYRWxI"
   },
   "outputs": [
    {
     "name": "stdout",
     "output_type": "stream",
     "text": [
      "1. ¿Cuántas veces se repite el 3 en la siguiente tupla?\n",
      " 7\n",
      "\n",
      "2. Crea una tupla nueva con los elementos desde la posicion 5 a la 10:\n",
      "(19, 3, 29, 45, 67, 78)\n",
      "<class 'tuple'>\n",
      "\n",
      "3. ¿Cuántos elementos tiene la tupla?\n",
      " 26\n"
     ]
    }
   ],
   "source": [
    "ejer_9 = (3, 20, 3, 47, 19, 3, 29, 45, 67, 78, 90, 3, 3, 5, 2, 4, 7, 9, 4, 2, 4, 3, 3, 4, 6, 7)\n",
    "\n",
    "print(\"1. ¿Cuántas veces se repite el 3 en la siguiente tupla?\\n\", ejer_9.count(3))\n",
    "\n",
    "print(\"\\n2. Crea una tupla nueva con los elementos desde la posicion 5 a la 10:\") #entiendo que pide la posición, no el índice; y ambos incluidos\n",
    "tupla_nueva = ejer_9[4:10]\n",
    "print(tupla_nueva)\n",
    "print(type(tupla_nueva))\n",
    "\n",
    "print(\"\\n3. ¿Cuántos elementos tiene la tupla?\\n\", len(ejer_9))"
   ]
  },
  {
   "cell_type": "markdown",
   "metadata": {
    "id": "6g8Y54AeRWxI"
   },
   "source": [
    "## Ejercicio 4\n",
    "Comprueba si el numero 60 esta en la tupla del ejercicio 3"
   ]
  },
  {
   "cell_type": "code",
   "execution_count": 7,
   "metadata": {
    "id": "F8VTEZonRWxI",
    "scrolled": true
   },
   "outputs": [
    {
     "name": "stdout",
     "output_type": "stream",
     "text": [
      "El número 60 no está en la tupla anterior.\n"
     ]
    },
    {
     "name": "stdin",
     "output_type": "stream",
     "text": [
      "\n",
      "¿Qué número quieres buscar?: 3\n"
     ]
    },
    {
     "name": "stdout",
     "output_type": "stream",
     "text": [
      "El número 3 sí está en la tupla anterior.\n"
     ]
    }
   ],
   "source": [
    "ejer_9 = (3, 20, 3, 47, 19, 3, 29, 45, 67, 78, 90, 3, 3, 5, 2, 4, 7, 9, 4, 2, 4, 3, 3, 4, 6, 7)\n",
    "\n",
    "# con un número fijo ya dado\n",
    "numero = 60\n",
    "\n",
    "if numero in ejer_9:\n",
    "    print(\"El número\", numero, \"sí está en la tupla anterior.\")\n",
    "else:\n",
    "    print(\"El número\", numero, \"no está en la tupla anterior.\")\n",
    "\n",
    "# con un número introducido por nosotros --> LO TENGO QUE PASAR A INT PORQUE INPUT ES SIEMPRE STR!\n",
    "numero_introducido = int(input (\"\\n¿Qué número quieres buscar?:\")) \n",
    "\n",
    "if numero_introducido in ejer_9:\n",
    "    print(\"El número\", numero_introducido, \"sí está en la tupla anterior.\")\n",
    "else:\n",
    "    print(\"El número\", numero_introducido, \"no está en la tupla anterior.\")"
   ]
  },
  {
   "cell_type": "markdown",
   "metadata": {
    "id": "y0fg-ZA6RWxI"
   },
   "source": [
    "## Ejercicio 5\n",
    "1. Convierte la tupla del ejercicio 3 en una lista\n",
    "2. Convierte la tupla del ejercicio 3 en un set\n",
    "3. Convierte la tupla del ejercicio 3 en un diccionario. Usa también los indices"
   ]
  },
  {
   "cell_type": "code",
   "execution_count": 8,
   "metadata": {
    "id": "_O5hXr01RWxI"
   },
   "outputs": [
    {
     "name": "stdout",
     "output_type": "stream",
     "text": [
      "(3, 20, 3, 47, 19, 3, 29, 45, 67, 78, 90, 3, 3, 5, 2, 4, 7, 9, 4, 2, 4, 3, 3, 4, 6, 7)\n",
      "<class 'tuple'>\n",
      "\n",
      "1. Convierte la tupla del ejercicio 3 en una lista\n",
      "<class 'list'>\n",
      "\n",
      "2. Convierte la tupla del ejercicio 3 en un set\n",
      "<class 'set'>\n",
      "\n",
      "3. Convierte la tupla del ejercicio 3 en un diccionario. Usa también los indices\n",
      "[0] 3\n",
      "[1] 20\n",
      "[2] 3\n",
      "[3] 47\n",
      "[4] 19\n",
      "[5] 3\n",
      "[6] 29\n",
      "[7] 45\n",
      "[8] 67\n",
      "[9] 78\n",
      "[10] 90\n",
      "[11] 3\n",
      "[12] 3\n",
      "[13] 5\n",
      "[14] 2\n",
      "[15] 4\n",
      "[16] 7\n",
      "[17] 9\n",
      "[18] 4\n",
      "[19] 2\n",
      "[20] 4\n",
      "[21] 3\n",
      "[22] 3\n",
      "[23] 4\n",
      "[24] 6\n",
      "[25] 7\n",
      "<class 'dict'>\n"
     ]
    }
   ],
   "source": [
    "print(ejer_9)\n",
    "print(type(ejer_9))\n",
    "\n",
    "print(\"\\n1. Convierte la tupla del ejercicio 3 en una lista\")\n",
    "tupla_lista = list(ejer_9)\n",
    "print(type(tupla_lista))\n",
    "\n",
    "print(\"\\n2. Convierte la tupla del ejercicio 3 en un set\")\n",
    "tupla_lista = set(ejer_9)\n",
    "print(type(tupla_lista))\n",
    "      \n",
    "print(\"\\n3. Convierte la tupla del ejercicio 3 en un diccionario. Usa también los indices\")\n",
    "tupla_diccionario = {}\n",
    "for indice, numero in enumerate(ejer_9):\n",
    "    tupla_diccionario[indice] = numero\n",
    "    print([indice], numero)\n",
    "print(type(tupla_diccionario))\n",
    "\n",
    "# este último también puede hacerce con:\n",
    "# tupla_diccionario = {indice: numero for indice, numero in enumerate(ejer_9)}"
   ]
  },
  {
   "cell_type": "markdown",
   "metadata": {
    "id": "eOdWWbxvRWxJ"
   },
   "source": [
    "## Ejercicio 6\n",
    "Multiplica todos los valores del diccionario\n",
    "> ```ejer_6 = {1: 11, 2: 22, 3: 33, 4: 44, 5: 55}```"
   ]
  },
  {
   "cell_type": "code",
   "execution_count": 3,
   "metadata": {
    "id": "KcuByovKRWxJ"
   },
   "outputs": [
    {
     "name": "stdout",
     "output_type": "stream",
     "text": [
      "1 : 11\n",
      "2 : 22\n",
      "3 : 33\n",
      "4 : 44\n",
      "5 : 55\n",
      "\n",
      "Multiplica todos los valores entre sí:\n",
      "19326120\n",
      "\n",
      "Multiplica todos los valores x10:\n",
      "1 : 110\n",
      "2 : 220\n",
      "3 : 330\n",
      "4 : 440\n",
      "5 : 550\n"
     ]
    }
   ],
   "source": [
    "ejer_6 = {1: 11, 2: 22, 3: 33, 4: 44, 5: 55}\n",
    "\n",
    "for key, value in ejer_6.items():\n",
    "    print(key, \":\", value)\n",
    "\n",
    "print(\"\\nMultiplica todos los valores entre sí:\")\n",
    "resultado = 1 # le doy valor 1 porque tiene que multiplicar. Si pongo 0, no se puede hacer la multiplicación\n",
    "for value in ejer_6.values():\n",
    "    resultado = resultado * value\n",
    "print(resultado)\n",
    "\n",
    "# si quisiera multiplicarlos todos por un mismo valor\n",
    "print(\"\\nMultiplica todos los valores x10:\")\n",
    "\n",
    "for key, value in ejer_6.items():\n",
    "    value_new = value * 10\n",
    "    print(key, \":\", value_new)"
   ]
  },
  {
   "cell_type": "markdown",
   "metadata": {
    "id": "W7TUSaKRRWxJ"
   },
   "source": [
    "## Ejercicio 7\n",
    "\n",
    "1. Crea un diccionario que describa un libro, con los siguientes campos o claves: \"titulo\",\"autor\",\"idioma original\",\"año de publicación\".\n",
    "2. Crea un a lista, llamada librería.\n",
    "3. Añade cuatro libros a tu elección a la librería."
   ]
  },
  {
   "cell_type": "code",
   "execution_count": 6,
   "metadata": {
    "id": "d-IMRvxRRWxJ",
    "scrolled": true,
    "vscode": {
     "languageId": "plaintext"
    }
   },
   "outputs": [
    {
     "name": "stdout",
     "output_type": "stream",
     "text": [
      "----------LIBRERIA----------\n",
      "\n",
      " Libro 1:\n",
      "   Titulo: Harry Potter y la piedra filosofal\n",
      "   Autor: J. K. Rowling\n",
      "   Idioma Original: inglés\n",
      "   Año De Publicacion: 1997\n",
      "\n",
      " Libro 2:\n",
      "   Titulo: Asesinato en el Orient Express\n",
      "   Autor: Agatha Christie\n",
      "   Idioma Original: inglés\n",
      "   Año De Publicacion: 1934\n",
      "\n",
      " Libro 3:\n",
      "   Titulo: Dime quién soy\n",
      "   Autor: Julia Navarro\n",
      "   Idioma Original: español\n",
      "   Año De Publicacion: 2010\n",
      "\n",
      " Libro 4:\n",
      "   Titulo: La historia interminable\n",
      "   Autor: Michael Ende\n",
      "   Idioma Original: alemán\n",
      "   Año De Publicacion: 1979\n"
     ]
    }
   ],
   "source": [
    "# STEP 1: creamos el diccionario vacío y la librería\"\n",
    "libro = {\"titulo\" : None, \"autor\" : None, \"idioma original\" : None, \"año de publicacion\" : None}\n",
    "libreria = []\n",
    "\n",
    "# STEP 2: añado el primer libro y uso .copy para que se vayan añadiendo los libros de forma independiente.\n",
    "# si no lo utilizo, se iría sobrescribiendo cada vez que metiera un libro nuevo por lo que siempre se \n",
    "# crea una copia del diccionario base original\n",
    "libro_1 = libro.copy() \n",
    "libro_1[\"titulo\"] = \"Harry Potter y la piedra filosofal\"\n",
    "libro_1[\"autor\"] = \"J. K. Rowling\"\n",
    "libro_1[\"idioma original\"] = \"inglés\"\n",
    "libro_1[\"año de publicacion\"] = 1997\n",
    "libreria.append(libro_1)\n",
    "\n",
    "#STEP 3: Voy añadiendo tantos libros como desee del mismo modo\n",
    "libro_2 = libro.copy()\n",
    "libro_2[\"titulo\"] = \"Asesinato en el Orient Express\"\n",
    "libro_2[\"autor\"] = \"Agatha Christie\"\n",
    "libro_2[\"idioma original\"] = \"inglés\"\n",
    "libro_2[\"año de publicacion\"] = 1934\n",
    "libreria.append(libro_2)\n",
    "\n",
    "libro_3 = libro.copy()\n",
    "libro_3[\"titulo\"] = \"Dime quién soy\"\n",
    "libro_3[\"autor\"] = \"Julia Navarro\"\n",
    "libro_3[\"idioma original\"] = \"español\"\n",
    "libro_3[\"año de publicacion\"] = 2010\n",
    "libreria.append(libro_3)\n",
    "\n",
    "libro_4 = libro.copy()\n",
    "libro_4[\"titulo\"] = \"La historia interminable\"\n",
    "libro_4[\"autor\"] = \"Michael Ende\"\n",
    "libro_4[\"idioma original\"] = \"alemán\"\n",
    "libro_4[\"año de publicacion\"] = 1979\n",
    "libreria.append(libro_4)\n",
    "\n",
    "#STEP 4: Muestro mi librería imprimiento con f\" \" para que quede más legible\n",
    "print(\"----------LIBRERIA----------\")\n",
    "for i, libro in enumerate(libreria, start=1):\n",
    "    print(f\"\\n Libro {i}:\")\n",
    "    for key, value in libro.items():\n",
    "        print(f\"   {key.title()}: {value}\")"
   ]
  },
  {
   "cell_type": "markdown",
   "metadata": {
    "id": "glMoedjYRWxJ"
   },
   "source": [
    "## Ejercicio 8\n",
    "Modifica los valores del idioma de todos los libros del ejercicio anterior para que sea \"esperanto\"\n"
   ]
  },
  {
   "cell_type": "code",
   "execution_count": 7,
   "metadata": {
    "id": "veNdC-uwRWxJ"
   },
   "outputs": [
    {
     "name": "stdout",
     "output_type": "stream",
     "text": [
      "----------LIBRERIA----------\n",
      "\n",
      " Libro 1:\n",
      "   Titulo: Harry Potter y la piedra filosofal\n",
      "   Autor: J. K. Rowling\n",
      "   Idioma Original: esperanto\n",
      "   Año De Publicacion: 1997\n",
      "\n",
      " Libro 2:\n",
      "   Titulo: Asesinato en el Orient Express\n",
      "   Autor: Agatha Christie\n",
      "   Idioma Original: esperanto\n",
      "   Año De Publicacion: 1934\n",
      "\n",
      " Libro 3:\n",
      "   Titulo: Dime quién soy\n",
      "   Autor: Julia Navarro\n",
      "   Idioma Original: esperanto\n",
      "   Año De Publicacion: 2010\n",
      "\n",
      " Libro 4:\n",
      "   Titulo: La historia interminable\n",
      "   Autor: Michael Ende\n",
      "   Idioma Original: esperanto\n",
      "   Año De Publicacion: 1979\n"
     ]
    }
   ],
   "source": [
    "for libro in libreria:\n",
    "    libro[\"idioma original\"] = \"esperanto\"\n",
    "\n",
    "print(\"----------LIBRERIA----------\")\n",
    "for i, libro in enumerate(libreria, start=1):\n",
    "    print(f\"\\n Libro {i}:\")\n",
    "    for key, value in libro.items():\n",
    "        print(f\"   {key.title()}: {value}\")"
   ]
  },
  {
   "cell_type": "markdown",
   "metadata": {
    "id": "DRCJG04KRWxJ"
   },
   "source": [
    "## Ejercicio 9\n",
    "1. Escribe un programa que dada una variable titulo busque los libros que hay en la librería con ese título. Si no se encuentra debe devolver el mensaje `Ese no lo tengo, ¿mola?`\n",
    "2. Prueba que el programa con uno de tus libros y con otro que no contenga tu librería."
   ]
  },
  {
   "cell_type": "code",
   "execution_count": 8,
   "metadata": {
    "id": "eWHdJi9BRWxJ",
    "scrolled": true
   },
   "outputs": [
    {
     "name": "stdin",
     "output_type": "stream",
     "text": [
      "Introduce el título a buscar: La historia interminable\n"
     ]
    },
    {
     "name": "stdout",
     "output_type": "stream",
     "text": [
      "El libro: La historia interminable, está en la librería.\n"
     ]
    },
    {
     "name": "stdin",
     "output_type": "stream",
     "text": [
      "\n",
      "¿Quieres buscar otro libro? (si/no):  si\n",
      "Introduce el título a buscar: El renacuajo\n"
     ]
    },
    {
     "name": "stdout",
     "output_type": "stream",
     "text": [
      "Ese no lo tengo, ¿mola?\n"
     ]
    },
    {
     "name": "stdin",
     "output_type": "stream",
     "text": [
      "\n",
      "¿Quieres buscar otro libro? (si/no):  no\n"
     ]
    },
    {
     "name": "stdout",
     "output_type": "stream",
     "text": [
      "\n",
      "EXIT\n"
     ]
    }
   ],
   "source": [
    "# STEP 1: creo la variable \"libro_solicitado\" para introducir el input del libro que quiero saber si hay stock\n",
    "while True:\n",
    "    libro_solicitado = input(\"Introduce el título a buscar:\")\n",
    "    \n",
    "# STEP 2: creo la variable \"stock\" y la pongo inicialmente False, para saber si ese libro está o no en la librería\n",
    "    stock = False\n",
    "\n",
    "# STEP 3: busco todos los títulos de mi librería y veo si lo tengo o no. Paro el bucle cuando lo encuentre con un break.\n",
    "    for libro in libreria:\n",
    "       if libro[\"titulo\"] == libro_solicitado:\n",
    "           stock = True\n",
    "           break\n",
    "           \n",
    "    if stock == True:\n",
    "        print(f\"El libro: {libro_solicitado}, está en la librería.\")\n",
    "    else:\n",
    "        print(\"Ese no lo tengo, ¿mola?\")  \n",
    "               \n",
    "    continuar = input(\"\\n¿Quieres buscar otro libro? (si/no): \").strip().lower() #strip para quitar los espacios en blanco\n",
    "    if continuar != \"si\":\n",
    "        print(\"\\nEXIT\")\n",
    "        break"
   ]
  },
  {
   "cell_type": "markdown",
   "metadata": {
    "id": "17YOpYuFRWxJ"
   },
   "source": [
    "## Ejercicio 10\n",
    "Convierte el programa del ejercicio 2 en una función al que se le pase el valor a buscar como un argumento posicional"
   ]
  },
  {
   "cell_type": "code",
   "execution_count": 5,
   "metadata": {},
   "outputs": [
    {
     "name": "stdout",
     "output_type": "stream",
     "text": [
      "Dada la siguiente lista:\n",
      " ['Un', 'árbol', 'binario', 'es', 'una', 'estructura', 'de', 'un', 'tipo', 'particular', 'a', 'veces', 'no', 'es', 'ni', 'binario']\n",
      "----------------------------------------------------------------\n"
     ]
    },
    {
     "name": "stdin",
     "output_type": "stream",
     "text": [
      "Escribe la palabra que deseas buscar:  binaRIO \n"
     ]
    },
    {
     "name": "stdout",
     "output_type": "stream",
     "text": [
      "\n",
      "RESULTADO: La palabra 'binario' se repite 2 veces en los índices [2, 15].\n"
     ]
    },
    {
     "name": "stdin",
     "output_type": "stream",
     "text": [
      "\n",
      "¿Quieres buscar otra palabra? (si/no):  si\n"
     ]
    },
    {
     "name": "stdout",
     "output_type": "stream",
     "text": [
      "----------------------------------------------------------------\n"
     ]
    },
    {
     "name": "stdin",
     "output_type": "stream",
     "text": [
      "Escribe la palabra que deseas buscar:  hola\n"
     ]
    },
    {
     "name": "stdout",
     "output_type": "stream",
     "text": [
      "\n",
      "RESULTADO: La palabra 'hola' no se encuentra en la lista.\n"
     ]
    },
    {
     "name": "stdin",
     "output_type": "stream",
     "text": [
      "\n",
      "¿Quieres buscar otra palabra? (si/no):  no\n"
     ]
    },
    {
     "name": "stdout",
     "output_type": "stream",
     "text": [
      "\n",
      "EXIT\n"
     ]
    }
   ],
   "source": [
    "# STEP 1: escribo la frase/lista de palabras donde tendrá que buscar la función y la muestro por pantalla\n",
    "ejer_3 = [\"Un\", \"árbol\", \"binario\", \"es\", \"una\", \"estructura\", \"de\", \"un\", \"tipo\", \"particular\", \"a\", \"veces\", \"no\", \"es\", \"ni\", \"binario\"]\n",
    "print(\"Dada la siguiente lista:\\n\", ejer_3)\n",
    "\n",
    "# STEP 2: defino la función como \"buscar_palabras\" donde el usuario podrá preguntar cuantas veces quiera hasta que quiera salir\n",
    "def buscar_palabras():\n",
    "\n",
    "# STEP 3: pasamos la lista SIEMPRE a minúsculas, por si acaso nos confundimos al meter el input\n",
    "    lista_minus = [palabra.strip().lower() for palabra in ejer_3]\n",
    "\n",
    "# STEP 4: programo un bucle  WHILE para buscar las palabras todas las veces que quiera hasta decir \"no\"\n",
    "    while True:\n",
    "        print(\"----------------------------------------------------------------\")\n",
    "        palabra = input(\"Escribe la palabra que deseas buscar: \").strip().lower()\n",
    "\n",
    "        indices = [i for i, valor in enumerate(lista_minus) if valor == palabra]\n",
    "        repeticiones = len(indices)\n",
    "\n",
    "        if repeticiones > 0:\n",
    "            print(f\"\\nRESULTADO: La palabra '{palabra}' se repite {repeticiones} veces en los índices {indices}.\")\n",
    "        else:\n",
    "            print(f\"\\nRESULTADO: La palabra '{palabra}' no se encuentra en la lista.\")\n",
    "\n",
    "        while True: # para preguntar si desea buscar otra palabra, pongo WHILE dentro del WHILE principal\n",
    "            continuar = input(\"\\n¿Quieres buscar otra palabra? (si/no): \").strip().lower()\n",
    "            if continuar == \"si\":\n",
    "                break \n",
    "            elif continuar == \"no\":\n",
    "                print(\"\\nEXIT\")\n",
    "                return # dejamos de preguntar si quieres buscar más y salimos del programa con RETURN\n",
    "            else:\n",
    "                print(\"Por favor, responde con 'si' o 'no'.\")\n",
    "\n",
    "# STEP 5: llamamos a la función para que se ejecute\n",
    "buscar_palabras()"
   ]
  },
  {
   "cell_type": "markdown",
   "metadata": {
    "id": "xZ-sWJxPRWxJ"
   },
   "source": [
    "## Ejercicio 11\n",
    "Convierte el programa del ejercicio 9 en una función al que se le pasen como argumentos la librería, posicional, y el título, argumento keyword con valor \"ninguno\", por defecto."
   ]
  },
  {
   "cell_type": "code",
   "execution_count": 21,
   "metadata": {
    "id": "4-JrsMdNRWxK",
    "scrolled": true
   },
   "outputs": [
    {
     "name": "stdout",
     "output_type": "stream",
     "text": [
      "---------- LIBRERÍA ----------\n",
      "\n",
      " Libro 1:\n",
      "Titulo: Harry Potter y la piedra filosofal\n",
      "Autor: J. K. Rowling\n",
      "Idioma Original: inglés\n",
      "Año De Publicacion: 1997\n",
      "\n",
      " Libro 2:\n",
      "Titulo: Asesinato en el Orient Express\n",
      "Autor: Agatha Christie\n",
      "Idioma Original: inglés\n",
      "Año De Publicacion: 1934\n",
      "\n",
      " Libro 3:\n",
      "Titulo: Dime quién soy\n",
      "Autor: Julia Navarro\n",
      "Idioma Original: español\n",
      "Año De Publicacion: 2010\n",
      "\n",
      " Libro 4:\n",
      "Titulo: La historia interminable\n",
      "Autor: Michael Ende\n",
      "Idioma Original: alemán\n",
      "Año De Publicacion: 1979\n",
      "\n",
      "--------------------------------------------\n"
     ]
    },
    {
     "name": "stdin",
     "output_type": "stream",
     "text": [
      "\n",
      "Introduce el título a buscar:  El pitote\n"
     ]
    },
    {
     "name": "stdout",
     "output_type": "stream",
     "text": [
      "Ese no lo tengo, ¿mola?\n"
     ]
    },
    {
     "name": "stdin",
     "output_type": "stream",
     "text": [
      "¿Quieres buscar otro libro? (si/no):  si\n"
     ]
    },
    {
     "name": "stdout",
     "output_type": "stream",
     "text": [
      "\n",
      "--------------------------------------------\n"
     ]
    },
    {
     "name": "stdin",
     "output_type": "stream",
     "text": [
      "\n",
      "Introduce el título a buscar:  La historia interminable\n"
     ]
    },
    {
     "name": "stdout",
     "output_type": "stream",
     "text": [
      "El libro 'La historia interminable' está en la librería.\n"
     ]
    },
    {
     "name": "stdin",
     "output_type": "stream",
     "text": [
      "¿Quieres buscar otro libro? (si/no):  no\n"
     ]
    },
    {
     "name": "stdout",
     "output_type": "stream",
     "text": [
      "\n",
      "EXIT\n"
     ]
    }
   ],
   "source": [
    "# STEP 1: creamos el diccionario vacío y la librería\"\n",
    "libro = {\"titulo\" : None, \"autor\" : None, \"idioma original\" : None, \"año de publicacion\" : None}\n",
    "libreria = []\n",
    "\n",
    "# STEP 2: añado el primer libro y uso .copy para que se vayan añadiendo los libros de forma independiente.\n",
    "# si no lo utilizo, se iría sobrescribiendo cada vez que metiera un libro nuevo por lo que siempre se \n",
    "# crea una copia del diccionario base original\n",
    "libro_1 = libro.copy() \n",
    "libro_1[\"titulo\"] = \"Harry Potter y la piedra filosofal\"\n",
    "libro_1[\"autor\"] = \"J. K. Rowling\"\n",
    "libro_1[\"idioma original\"] = \"inglés\"\n",
    "libro_1[\"año de publicacion\"] = 1997\n",
    "libreria.append(libro_1)\n",
    "\n",
    "#STEP 3: Voy añadiendo tantos libros como desee del mismo modo y al final los imprimo por pantalla\n",
    "libro_2 = libro.copy()\n",
    "libro_2[\"titulo\"] = \"Asesinato en el Orient Express\"\n",
    "libro_2[\"autor\"] = \"Agatha Christie\"\n",
    "libro_2[\"idioma original\"] = \"inglés\"\n",
    "libro_2[\"año de publicacion\"] = 1934\n",
    "libreria.append(libro_2)\n",
    "\n",
    "libro_3 = libro.copy()\n",
    "libro_3[\"titulo\"] = \"Dime quién soy\"\n",
    "libro_3[\"autor\"] = \"Julia Navarro\"\n",
    "libro_3[\"idioma original\"] = \"español\"\n",
    "libro_3[\"año de publicacion\"] = 2010\n",
    "libreria.append(libro_3)\n",
    "\n",
    "libro_4 = libro.copy()\n",
    "libro_4[\"titulo\"] = \"La historia interminable\"\n",
    "libro_4[\"autor\"] = \"Michael Ende\"\n",
    "libro_4[\"idioma original\"] = \"alemán\"\n",
    "libro_4[\"año de publicacion\"] = 1979\n",
    "libreria.append(libro_4)\n",
    "\n",
    "print(\"---------- LIBRERÍA ----------\")\n",
    "for i, libro in enumerate(libreria, start=1):\n",
    "    print(f\"\\n Libro {i}:\")\n",
    "    for key, value in libro.items():\n",
    "        print(f\"{key.title()}: {value}\")\n",
    "\n",
    "#STEP 4: creo la función \"buscar_en_libreria\" para poder decirle que busque el libro que yo le pida, imprimo los libros por pantalla\n",
    "def buscar_en_libreria(libreria, titulo = None):\n",
    "    def comprobar_stock(buscar_titulo):\n",
    "        for libro in libreria:\n",
    "            if libro[\"titulo\"].lower() == buscar_titulo.lower():\n",
    "                print(f\"El libro '{buscar_titulo}' está en la librería.\") \n",
    "                return # para salir del if sin poner un ELSE, así en cuanto encuentre la primiera coincidencia, parará el FOR. Se pone RETURN y no BREAK    \n",
    "        print(\"Ese no lo tengo, ¿mola?\") # está a la altura del for, por lo que no se imprime por cada uno sino fuera de él cuando termine la búsqueda y no encuentre el libro solicitado\n",
    "\n",
    "    if titulo != None: # este sería el IF si le he dicho un título que hay en stock\n",
    "        comprobar_stock(titulo)\n",
    "        return\n",
    "\n",
    "# *** Nota: este último RETURN signigfica: “Si me das un título como argumento, lo busco una sola vez y termino la función sin entrar en el while.”\n",
    "# No se usa BREAK porque eso es sólo para salir de los bucles, no de funcines. Daría un error de sintaxis.\n",
    "# BREAK es para FOR y WHILE, salen de bucles y no devuelve ningún valor\n",
    "# RETURN es para DEF, salen de funciones y pueden devolver valores\n",
    "\n",
    "#STEP 5: pongo WHILE para que siga preguntando libros si no tengo el solicitado o si quiere consultar otro distinto\n",
    "    while True: \n",
    "        print(\"\\n--------------------------------------------\")\n",
    "        libro_solicitado = input(\"\\nIntroduce el título a buscar: \").strip()\n",
    "        comprobar_stock(libro_solicitado)\n",
    "\n",
    "        continuar = input(\"¿Quieres buscar otro libro? (si/no): \").strip().lower()\n",
    "        if continuar != \"si\":\n",
    "            print(\"\\nEXIT\")\n",
    "            break\n",
    "\n",
    "#STEP 6: llamamos a la función\n",
    "# si quiero buscar sin preguntar, por ejemplo: gestionar_libreria(libreria, titulo=\"Dime quién soy\")\n",
    "buscar_en_libreria(libreria)  "
   ]
  },
  {
   "cell_type": "code",
   "execution_count": 23,
   "metadata": {},
   "outputs": [
    {
     "name": "stdout",
     "output_type": "stream",
     "text": [
      "Ejemplo con break:\n",
      "i = 0\n",
      "i = 1\n",
      "Break ejecutado. Salgo del bucle.\n",
      "He salido del bucle con break.\n",
      "\n",
      "Ejemplo con return:\n",
      "i = 0\n",
      "i = 1\n",
      "Return ejecutado. Salgo de la función.\n",
      "He salido de la función con return.\n",
      "\n"
     ]
    }
   ],
   "source": [
    "#--------------------APUNTES--------------------\n",
    "# Ejemplo 1: Uso de break dentro de un bucle\n",
    "print(\"Ejemplo con break:\")\n",
    "\n",
    "for i in range(5):\n",
    "    if i == 2:\n",
    "        print(\"Break ejecutado. Salgo del bucle.\")\n",
    "        break  # Solo rompe el bucle, el resto del programa sigue\n",
    "    print(f\"i = {i}\")\n",
    "\n",
    "print(\"He salido del bucle con break.\\n\")\n",
    "\n",
    "#------------------------------------------------------------------\n",
    "# Ejemplo 2: Uso de return dentro de una función\n",
    "print(\"Ejemplo con return:\")\n",
    "\n",
    "def mi_funcion():\n",
    "    for i in range(5):\n",
    "        if i == 2:\n",
    "            print(\"Return ejecutado. Salgo de la función.\")\n",
    "            return  # Rompe la función completamente, NO continúa más\n",
    "        print(f\"i = {i}\")\n",
    "    print(\"Esto NO se ejecutará si se hace return antes.\")\n",
    "\n",
    "mi_funcion()\n",
    "print(\"He salido de la función con return.\\n\")"
   ]
  },
  {
   "cell_type": "markdown",
   "metadata": {
    "id": "FtJir95QRWxK"
   },
   "source": [
    "## Ejercicio 12\n",
    "Solicitar al usuario que ingrese su dirección email. Imprimir un mensaje indicando si la dirección es válida o no, valiéndose de una función para decidirlo. Una dirección se considerará válida si contiene el símbolo \"@\"."
   ]
  },
  {
   "cell_type": "code",
   "execution_count": 38,
   "metadata": {
    "id": "sk852IZ8RWxK"
   },
   "outputs": [
    {
     "name": "stdin",
     "output_type": "stream",
     "text": [
      "Introduce tu email: anagu89@gmail.com\n"
     ]
    },
    {
     "name": "stdout",
     "output_type": "stream",
     "text": [
      "El correo es válido.\n"
     ]
    }
   ],
   "source": [
    "# Defino la variable email mediante el input introducido y arroba que es el término a buscar dentro del str\n",
    "# Después, creo la función para comprobar que la @ está dentro de ese email y digo si es correcto o no.\n",
    "\n",
    "email = input(\"Introduce tu email:\")\n",
    "arroba = \"@\"\n",
    "\n",
    "def comprobar_correo():\n",
    "    if arroba in email:\n",
    "        print(\"El correo es válido.\")\n",
    "        return\n",
    "    print(f\"Incorrecto. El correo no es válido porque no lleva @.\") # forma más profesional de imprimir por pantalla, no la roja de andar por casa\n",
    "\n",
    "comprobar_correo()"
   ]
  },
  {
   "cell_type": "markdown",
   "metadata": {
    "id": "Kw1MWBwBRWxK"
   },
   "source": [
    "## Ejercicio 13\n",
    "Escribe una función que compruebe si un DNI es válido, devolviendo `True` en caso afirmativo.  \n",
    "En primer lugar, el DNI debe tener entre 7 y 8 dígitos numéricos.  \n",
    "Para saber si la letra del DNI es correcta puedes utilizar el siguiente fragmento de código:\n",
    ">```Python\n",
    ">DNI= 55555555\n",
    ">palabra='TRWAGMYFPDXBNJZSQVHLCKE'\n",
    ">print('La letra del DNI es: ', palabra[DNI%23])\n",
    ">````\n"
   ]
  },
  {
   "cell_type": "code",
   "execution_count": 8,
   "metadata": {},
   "outputs": [
    {
     "ename": "KeyboardInterrupt",
     "evalue": "Interrupted by user",
     "output_type": "error",
     "traceback": [
      "\u001b[31m---------------------------------------------------------------------------\u001b[39m",
      "\u001b[31mKeyboardInterrupt\u001b[39m                         Traceback (most recent call last)",
      "\u001b[36mCell\u001b[39m\u001b[36m \u001b[39m\u001b[32mIn[8]\u001b[39m\u001b[32m, line 9\u001b[39m\n\u001b[32m      6\u001b[39m     \u001b[38;5;28;01mreturn\u001b[39;00m caracteres \u001b[38;5;66;03m# si no pongo nada, se me imporime \"None\"\u001b[39;00m\n\u001b[32m      8\u001b[39m \u001b[38;5;66;03m#STEP 2: introducimos el DNI, me aseguro de que el usuario no deje por error espacios.\u001b[39;00m\n\u001b[32m----> \u001b[39m\u001b[32m9\u001b[39m DNI = \u001b[38;5;28;43minput\u001b[39;49m\u001b[43m(\u001b[49m\u001b[33;43m\"\u001b[39;49m\u001b[33;43mEscribe tu DNI o permiso de residencia:\u001b[39;49m\u001b[33;43m\"\u001b[39;49m\u001b[43m)\u001b[49m.strip().upper() \u001b[38;5;66;03m# me aseguro que el individuo ha escrito su DNI en mayúsculas\u001b[39;00m\n\u001b[32m     10\u001b[39m caracteres = fragmentar_DNI(DNI) \u001b[38;5;66;03m#obtengo mi lista de caracteres al haber utilizado la función para fragmentarlo\u001b[39;00m\n\u001b[32m     11\u001b[39m contaje_numeros = \u001b[32m0\u001b[39m\n",
      "\u001b[36mFile \u001b[39m\u001b[32m~\\AppData\\Local\\Programs\\Python\\Python313\\Lib\\site-packages\\ipykernel\\kernelbase.py:1282\u001b[39m, in \u001b[36mKernel.raw_input\u001b[39m\u001b[34m(self, prompt)\u001b[39m\n\u001b[32m   1280\u001b[39m     msg = \u001b[33m\"\u001b[39m\u001b[33mraw_input was called, but this frontend does not support input requests.\u001b[39m\u001b[33m\"\u001b[39m\n\u001b[32m   1281\u001b[39m     \u001b[38;5;28;01mraise\u001b[39;00m StdinNotImplementedError(msg)\n\u001b[32m-> \u001b[39m\u001b[32m1282\u001b[39m \u001b[38;5;28;01mreturn\u001b[39;00m \u001b[38;5;28;43mself\u001b[39;49m\u001b[43m.\u001b[49m\u001b[43m_input_request\u001b[49m\u001b[43m(\u001b[49m\n\u001b[32m   1283\u001b[39m \u001b[43m    \u001b[49m\u001b[38;5;28;43mstr\u001b[39;49m\u001b[43m(\u001b[49m\u001b[43mprompt\u001b[49m\u001b[43m)\u001b[49m\u001b[43m,\u001b[49m\n\u001b[32m   1284\u001b[39m \u001b[43m    \u001b[49m\u001b[38;5;28;43mself\u001b[39;49m\u001b[43m.\u001b[49m\u001b[43m_parent_ident\u001b[49m\u001b[43m[\u001b[49m\u001b[33;43m\"\u001b[39;49m\u001b[33;43mshell\u001b[39;49m\u001b[33;43m\"\u001b[39;49m\u001b[43m]\u001b[49m\u001b[43m,\u001b[49m\n\u001b[32m   1285\u001b[39m \u001b[43m    \u001b[49m\u001b[38;5;28;43mself\u001b[39;49m\u001b[43m.\u001b[49m\u001b[43mget_parent\u001b[49m\u001b[43m(\u001b[49m\u001b[33;43m\"\u001b[39;49m\u001b[33;43mshell\u001b[39;49m\u001b[33;43m\"\u001b[39;49m\u001b[43m)\u001b[49m\u001b[43m,\u001b[49m\n\u001b[32m   1286\u001b[39m \u001b[43m    \u001b[49m\u001b[43mpassword\u001b[49m\u001b[43m=\u001b[49m\u001b[38;5;28;43;01mFalse\u001b[39;49;00m\u001b[43m,\u001b[49m\n\u001b[32m   1287\u001b[39m \u001b[43m\u001b[49m\u001b[43m)\u001b[49m\n",
      "\u001b[36mFile \u001b[39m\u001b[32m~\\AppData\\Local\\Programs\\Python\\Python313\\Lib\\site-packages\\ipykernel\\kernelbase.py:1325\u001b[39m, in \u001b[36mKernel._input_request\u001b[39m\u001b[34m(self, prompt, ident, parent, password)\u001b[39m\n\u001b[32m   1322\u001b[39m \u001b[38;5;28;01mexcept\u001b[39;00m \u001b[38;5;167;01mKeyboardInterrupt\u001b[39;00m:\n\u001b[32m   1323\u001b[39m     \u001b[38;5;66;03m# re-raise KeyboardInterrupt, to truncate traceback\u001b[39;00m\n\u001b[32m   1324\u001b[39m     msg = \u001b[33m\"\u001b[39m\u001b[33mInterrupted by user\u001b[39m\u001b[33m\"\u001b[39m\n\u001b[32m-> \u001b[39m\u001b[32m1325\u001b[39m     \u001b[38;5;28;01mraise\u001b[39;00m \u001b[38;5;167;01mKeyboardInterrupt\u001b[39;00m(msg) \u001b[38;5;28;01mfrom\u001b[39;00m\u001b[38;5;250m \u001b[39m\u001b[38;5;28;01mNone\u001b[39;00m\n\u001b[32m   1326\u001b[39m \u001b[38;5;28;01mexcept\u001b[39;00m \u001b[38;5;167;01mException\u001b[39;00m:\n\u001b[32m   1327\u001b[39m     \u001b[38;5;28mself\u001b[39m.log.warning(\u001b[33m\"\u001b[39m\u001b[33mInvalid Message:\u001b[39m\u001b[33m\"\u001b[39m, exc_info=\u001b[38;5;28;01mTrue\u001b[39;00m)\n",
      "\u001b[31mKeyboardInterrupt\u001b[39m: Interrupted by user"
     ]
    }
   ],
   "source": [
    "#STEP 1: definimos la función\n",
    "def fragmentar_DNI(DNI):\n",
    "    caracteres = [] # creo una lista vacía para añadir los caracteres del DNI que me va a introducir\n",
    "    for numero_o_letra in DNI:\n",
    "        caracteres.append(numero_o_letra) # voy añadiendo esos caracteres del DNI en mi lista \"caracteres\"\n",
    "    return caracteres # si no pongo nada, se me imporime \"None\"\n",
    "\n",
    "#STEP 2: introducimos el DNI, me aseguro de que el usuario no deje por error espacios.\n",
    "DNI = input(\"Escribe tu DNI o permiso de residencia:\").strip().upper() # me aseguro que el individuo ha escrito su DNI en mayúsculas\n",
    "caracteres = fragmentar_DNI(DNI) #obtengo mi lista de caracteres al haber utilizado la función para fragmentarlo\n",
    "contaje_numeros = 0\n",
    "palabra='TRWAGMYFPDXBNJZSQVHLCKE'\n",
    "\n",
    "\n",
    "# OJO!!!!!!! MUY IMPORTANTE !!!!!!!\n",
    "# La variable \"caracteres\" de \"caracteres = fragmentar_DNI(DNI)\" NO ES LA MISMA que\n",
    "# la variable \"caracteres.append(numero_letra)\" dentro de la función.\n",
    "# Las he llamado igual para que sea más entendible el ejercicio pero son distintas puesto que una es una variable\n",
    "# de tipo local (la que se encuentra dentro de la función) y la segunda es de tipo global (está fuera de ella).\n",
    "# Por tanto, aunque se llamen igual no es la misma.\n",
    "\n",
    "#STEP 3: calculo si es válido o no\n",
    "\n",
    "if len(DNI) in [7, 8, 9]: # comprobamos si la longitud es de 7-8-9 caracteres (en este caso, empieza en 1 y no en 0 porque es len)\n",
    "                          # tendrá 9 caracteres si es 45116609Q\n",
    "                          # tendrá 8 caracteres numéricos si es 45116609 \n",
    "                          # tendrá 7 caracteres numéricos si es X1234567P\n",
    "    print(\"La longitud del DNI es correcta. Tiene\", len(caracteres), \"caracteres.\")\n",
    "    \n",
    "    for c in caracteres:\n",
    "        if c.isdigit(): # verifica si todos los caracteres en la cadena c son dígitos (0-9)\n",
    "            contaje_numeros += 1 # significa que suma 1 al valor actual, es lo mismo que contaje_numeros = contaje_numeros + 1\n",
    "        \n",
    "    #--- CASO 1: permiso de residencia ---\n",
    "    if contaje_numeros == 7 and len(DNI) == 7:\n",
    "        print(\"Su DNI es un permiso de residencia porque sólo tiene 7 caracteres.\")\n",
    "    \n",
    "    #--- CASO 2: DNI sin letra ---\n",
    "    elif contaje_numeros == 8 and len(DNI) == 8:\n",
    "        numero = int(DNI)\n",
    "        letra_correcta = palabra[numero % 23]\n",
    "        print(f\"La letra de su DNI {numero} es: {letra_correcta}\")\n",
    "\n",
    "    #--- CASO 3: 8 dígitos + 1 letra ---\n",
    "    elif contaje_numeros == 8 and len(DNI) == 9 and DNI[:-1].isdigit() and DNI[-1].isalpha(): #comprobamos que el último carácter sea una letra\n",
    "        numero = int(DNI[:-1])\n",
    "        letra_introducida = DNI[-1]\n",
    "        letra_correcta = palabra[numero % 23]\n",
    "\n",
    "        if letra_introducida == letra_correcta:\n",
    "            print(\"La letra del DNI es correcta.\")\n",
    "                        \n",
    "        else:\n",
    "            print(\"La letra del DNI es incorrecta. La letra correcta es:\", letra_correcta)\n",
    "        \n",
    "    else:\n",
    "        print(\"El DNI introducido está en un formato no válido.\\nVerifica que haya 8 números y una letra al final.\") \n",
    "\n",
    "else:\n",
    "    print(\"Longitud inválida. El DNI debe tener entre 7 y 9 caracteres.\")"
   ]
  }
 ],
 "metadata": {
  "colab": {
   "provenance": []
  },
  "kernelspec": {
   "display_name": "Python 3 (ipykernel)",
   "language": "python",
   "name": "python3"
  },
  "language_info": {
   "codemirror_mode": {
    "name": "ipython",
    "version": 3
   },
   "file_extension": ".py",
   "mimetype": "text/x-python",
   "name": "python",
   "nbconvert_exporter": "python",
   "pygments_lexer": "ipython3",
   "version": "3.13.3"
  }
 },
 "nbformat": 4,
 "nbformat_minor": 4
}

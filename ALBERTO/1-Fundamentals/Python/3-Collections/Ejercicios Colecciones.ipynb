{
 "cells": [
  {
   "cell_type": "markdown",
   "metadata": {},
   "source": [
    "![imagen](./img/ejercicios.png)"
   ]
  },
  {
   "cell_type": "markdown",
   "metadata": {},
   "source": [
    "## Ejercicio 1\n",
    "Dada la siguiente lista:\n",
    "> ```ejer_1 = [1,2,3,4,5]```\n",
    "\n",
    "Inviértela para que quede de la siguiente manera\n",
    "> ```ejer_1 = [5,4,3,2,1]```"
   ]
  },
  {
   "cell_type": "code",
   "execution_count": 3,
   "metadata": {},
   "outputs": [
    {
     "name": "stdout",
     "output_type": "stream",
     "text": [
      "[5, 4, 3, 2, 1]\n"
     ]
    }
   ],
   "source": [
    "ejer_1 = [1,2,3,4,5]\n",
    "print(ejer_1[::-1])"
   ]
  },
  {
   "cell_type": "markdown",
   "metadata": {},
   "source": [
    "## Ejercicio 2\n",
    "Eleva todos los elementos de la lista al cuadrado\n",
    "> ```ejer_2 = [1,2,3,4,5]```"
   ]
  },
  {
   "cell_type": "code",
   "execution_count": 4,
   "metadata": {},
   "outputs": [
    {
     "name": "stdout",
     "output_type": "stream",
     "text": [
      "[1, 4, 9, 16, 25]\n"
     ]
    }
   ],
   "source": [
    "ejer_2 = [1,2,3,4,5]\n",
    "cuadrado = []\n",
    "\n",
    "for i in ejer_2:\n",
    "    cuadrado.append(i**2)\n",
    "print(cuadrado)"
   ]
  },
  {
   "cell_type": "markdown",
   "metadata": {},
   "source": [
    "## Ejercicio 3\n",
    "Crea una lista nueva con todas las combinaciones de las siguientes dos listas:\n",
    "> ```ejer_3_1 = [\"Hola\", \"amigo\"]```\n",
    ">\n",
    "> ```ejer_3_2 = [\"Que\", \"tal\"]```\n",
    "\n",
    "Obten el siguiente output:\n",
    "\n",
    "['Hola Que', 'Hola tal', 'amigo Que', 'amigo tal']"
   ]
  },
  {
   "cell_type": "code",
   "execution_count": null,
   "metadata": {},
   "outputs": [
    {
     "name": "stdout",
     "output_type": "stream",
     "text": [
      "['Hola Que', 'Hola tal', 'amigo Que', 'amigo tal']\n"
     ]
    }
   ],
   "source": [
    "ejer_3_1 = [\"Hola\", \"amigo\"]\n",
    "ejer_3_2 = [\"Que\", \"tal\"]\n",
    "\n",
    "resultado = []\n",
    "\n",
    "for palabra1 in ejer_3_1:\n",
    "    for palabra2 in ejer_3_2:\n",
    "        resultado.append(f\"{palabra1} {palabra2}\") # ---> no estoy segura de esto\n",
    "\n",
    "print(resultado)"
   ]
  },
  {
   "cell_type": "markdown",
   "metadata": {},
   "source": [
    "## Ejercicio 4\n",
    "Dada la siguiente lista, encuentra el índice del valor 45 y sustitúyelo por el 0\n",
    "> ```ejer_4 = [20, 47, 19, 29, 45, 67, 78, 90]```"
   ]
  },
  {
   "cell_type": "code",
   "execution_count": null,
   "metadata": {},
   "outputs": [
    {
     "name": "stdout",
     "output_type": "stream",
     "text": [
      "[20, 47, 19, 29, 45, 67, 78, 90, 45]\n",
      "4\n",
      "[20, 47, 19, 29, 0, 67, 78, 90, 45]\n"
     ]
    }
   ],
   "source": [
    "ejer_4 = [20, 47, 19, 29, 45, 67, 78, 90,]\n",
    "print(ejer_4)\n",
    "\n",
    "indice = ejer_4.index(45)\n",
    "print(indice)\n",
    "\n",
    "for i in ejer_4:\n",
    "    ejer_4[indice] = 0\n",
    "print(ejer_4)"
   ]
  },
  {
   "attachments": {},
   "cell_type": "markdown",
   "metadata": {},
   "source": [
    "## Ejercicio 5\n",
    "Dada la siguiente lista, elimina todos los valores iguales a 3\n",
    "> ```ejer_5 = [3, 20, 3, 47, 19, 3, 29, 45, 67, 78, 90, 3, 3]```\n",
    "\n",
    "Consejo: No intentes eliminar elementos sobre la lista que estás iterando. Haz una copia con `ejer_5.copy()`."
   ]
  },
  {
   "cell_type": "code",
   "execution_count": 18,
   "metadata": {},
   "outputs": [
    {
     "name": "stdout",
     "output_type": "stream",
     "text": [
      "Primera forma:\n",
      " [20, 47, 19, 29, 45, 67, 78, 90]\n",
      "Segunda forma:\n",
      " [20, 47, 19, 29, 45, 67, 78, 90]\n"
     ]
    }
   ],
   "source": [
    "ejer_5 = [3, 20, 3, 47, 19, 3, 29, 45, 67, 78, 90, 3, 3]\n",
    "ejer_5_copia = ejer_5.copy()\n",
    "ejer_5_nuevo = []\n",
    "\n",
    "# PRIMERA FORMA\n",
    "for num in ejer_5:\n",
    "    if num != 3:\n",
    "        ejer_5_nuevo.append(num)\n",
    "print(\"Primera forma:\\n\", ejer_5_nuevo)\n",
    "\n",
    "\n",
    "# SEGUNDA FORMA\n",
    "for num in ejer_5:\n",
    "    if num == 3:\n",
    "        ejer_5_copia.remove(num)\n",
    "print(\"Segunda forma:\\n\", ejer_5_copia)"
   ]
  },
  {
   "cell_type": "markdown",
   "metadata": {},
   "source": [
    "## Ejercicio 6\n",
    "1. Crea una tupla con 3 elementos\n",
    "2. Crea otra tupla con un elemento y comprueba su tipo\n",
    "3. Crea una tupla con elementos de diferentes tipos\n",
    "4. Imprime por pantalla el primer y ultimo elemento de la tupla del apartado 3. Usa `len` para el ultimo\n",
    "5. Añade un elemento a la tupla del apartado 3.\n",
    "6. Eliminar un elemento de la tupla del apartado 5, que se encuentre más o menos en la mitad.\n",
    "7. Convierte la tupla del apartado 5 en una lista"
   ]
  },
  {
   "cell_type": "code",
   "execution_count": 60,
   "metadata": {},
   "outputs": [
    {
     "name": "stdout",
     "output_type": "stream",
     "text": [
      "(1, 2, 3)\n",
      "(4,)\n",
      "<class 'tuple'>\n",
      "\n",
      "El primer y último elemento son: \n",
      "a\n",
      "7.0\n",
      "\n",
      "Añado otro elemento: \n",
      "('a', 5, True, 7.0, 8)\n",
      "<class 'tuple'>\n",
      "3\n",
      "('a', 5, True, 8)\n",
      "<class 'list'>\n"
     ]
    }
   ],
   "source": [
    "# 1. Crea una tupla con 3 elementos\n",
    "tupla1 = (1,2,3)\n",
    "print(tupla1)\n",
    "\n",
    "# 2. Crea otra tupla con un elemento y comprueba su tipo\n",
    "tupla2 = (4,)\n",
    "print(tupla2)\n",
    "print(type(tupla2))\n",
    "\n",
    "# 3. Crea una tupla con elementos de diferentes tipos\n",
    "tupla3 = ('a', 5, True, 7.0)\n",
    "\n",
    "# 4. Imprime por pantalla el primer y ultimo elemento de la tupla del apartado 3. Usa `len` para el ultimo\n",
    "longitud_tupla3 = len(tupla3)\n",
    "print(\"\\nEl primer y último elemento son: \")\n",
    "print(tupla3[0])\n",
    "print(tupla3[longitud_tupla3-1])\n",
    "\n",
    "# 5. Añade un elemento a la tupla del apartado 3.\n",
    "# para añadir un elemento a una tupla, primero la paso a lista y creo una nueva tupla\n",
    "print(\"\\nAñado otro elemento: \")\n",
    "lista_tupla3 = list(tupla3)\n",
    "lista_tupla3.append(8)\n",
    "\n",
    "lista_convertida = tuple(lista_tupla3)\n",
    "print(lista_convertida)\n",
    "print(type(lista_convertida))\n",
    "\n",
    "# 6. Eliminar un elemento de la tupla del apartado 5, que se encuentre más o menos en la mitad.\n",
    "import math\n",
    "longitud_lista_convertida = len(lista_convertida)\n",
    "mitad = math.ceil(longitud_lista_convertida / 2)\n",
    "print(mitad)\n",
    "\n",
    "lista6 = list(lista_convertida)\n",
    "lista6.pop(mitad)\n",
    "\n",
    "lista6 = tuple(lista6)\n",
    "print(lista6)\n",
    "\n",
    "# 7. Convierte la tupla del apartado 5 en una lista\n",
    "lista6 = list(lista6)\n",
    "print(type(lista6))"
   ]
  },
  {
   "cell_type": "markdown",
   "metadata": {},
   "source": [
    "## Ejercicio 7\n",
    "Concatena todos los elementos de la tupla en un unico string. Para ello utiliza el metodo `.join()` de los Strings\n",
    "> ```ejer_7 = (\"cien\", \"cañones\", \"por\", \"banda\")```\n",
    "\n",
    "Resultado: `cien cañones por banda`"
   ]
  },
  {
   "cell_type": "code",
   "execution_count": 62,
   "metadata": {},
   "outputs": [
    {
     "name": "stdout",
     "output_type": "stream",
     "text": [
      "cien cañones por banda\n"
     ]
    }
   ],
   "source": [
    "ejer_7 = (\"cien\", \"cañones\", \"por\", \"banda\")\n",
    "\n",
    "cadena = \" \".join(ejer_7)\n",
    "print(cadena)"
   ]
  },
  {
   "cell_type": "markdown",
   "metadata": {},
   "source": [
    "## Ejercicio 8\n",
    "Obten el tercer elemento de la siguiente tupla, y el tercero empezando por la cola\n",
    "> ```ejer_8 = (3, 20, 3, 47, 19, 3, 29, 45, 67, 78, 90, 3, 3)```"
   ]
  },
  {
   "cell_type": "code",
   "execution_count": null,
   "metadata": {},
   "outputs": [
    {
     "name": "stdout",
     "output_type": "stream",
     "text": [
      "3 90\n"
     ]
    }
   ],
   "source": [
    "ejer_8 = (3, 20, 3, 47, 19, 3, 29, 45, 67, 78, 90, 3, 3)\n",
    "\n",
    "print(ejer_8[2], ejer_8[(len(ejer_8))-3]) # <---- parece un jaleo pero se entiende, es longitud -3"
   ]
  },
  {
   "cell_type": "markdown",
   "metadata": {},
   "source": [
    "## Ejercicio 9\n",
    "1. ¿Cuántas veces se repite el 3 en la siguiente tupla?\n",
    "2. Crea una tupla nueva con los elementos desde la posicion 5 a la 10.\n",
    "3. ¿Cuántos elementos tiene la tupla `ejer_9`?\n",
    "> ```ejer_9 = (3, 20, 3, 47, 19, 3, 29, 45, 67, 78, 90, 3, 3, 5, 2, 4, 7, 9, 4, 2, 4, 3, 3, 4, 6, 7)```"
   ]
  },
  {
   "cell_type": "code",
   "execution_count": 1,
   "metadata": {},
   "outputs": [
    {
     "name": "stdout",
     "output_type": "stream",
     "text": [
      "7\n"
     ]
    }
   ],
   "source": [
    "ejer_9 = (3, 20, 3, 47, 19, 3, 29, 45, 67, 78, 90, 3, 3, 5, 2, 4, 7, 9, 4, 2, 4, 3, 3, 4, 6, 7)\n",
    "\n",
    "repeticiones = 0\n",
    "\n",
    "for i in ejer_9:\n",
    "    if i == 3:\n",
    "        repeticiones = repeticiones + 1\n",
    "print(repeticiones)"
   ]
  },
  {
   "cell_type": "markdown",
   "metadata": {},
   "source": [
    "## Ejercicio 10\n",
    "Comprueba si el numero 60 esta en la tupla del ejercicio 9"
   ]
  },
  {
   "cell_type": "code",
   "execution_count": 11,
   "metadata": {},
   "outputs": [
    {
     "name": "stdout",
     "output_type": "stream",
     "text": [
      "False\n"
     ]
    }
   ],
   "source": [
    "ejer_9 = (3, 20, 3, 47, 19, 3, 29, 45, 67, 78, 90, 3, 3, 5, 2, 4, 7, 9, 4, 2, 4, 3, 3, 4, 6, 7)\n",
    "n = False\n",
    "\n",
    "for i in ejer_9:\n",
    "    if i == 60:\n",
    "        n = True\n",
    "\n",
    "print(n)"
   ]
  },
  {
   "cell_type": "markdown",
   "metadata": {},
   "source": [
    "## Ejercicio 11\n",
    "1. Convierte la tupla del apartado 10 en una lista\n",
    "2. Convierte la tupla del apartado 10 en un set\n",
    "3. Convierte la tupla del apartado 10 en un diccionario. Usa también los indices"
   ]
  },
  {
   "cell_type": "code",
   "execution_count": 21,
   "metadata": {},
   "outputs": [
    {
     "name": "stdout",
     "output_type": "stream",
     "text": [
      "<class 'tuple'>\n",
      "<class 'list'>\n",
      "<class 'set'>\n",
      "<class 'dict'>\n",
      "{0: 3, 1: 20, 2: 3, 3: 47, 4: 19, 5: 3, 6: 29, 7: 45, 8: 67, 9: 78, 10: 90, 11: 3, 12: 3, 13: 5, 14: 2, 15: 4, 16: 7, 17: 9, 18: 4, 19: 2, 20: 4, 21: 3, 22: 3, 23: 4, 24: 6, 25: 7}\n"
     ]
    }
   ],
   "source": [
    "ejer_9 = (3, 20, 3, 47, 19, 3, 29, 45, 67, 78, 90, 3, 3, 5, 2, 4, 7, 9, 4, 2, 4, 3, 3, 4, 6, 7)\n",
    "print(type(ejer_9))\n",
    "\n",
    "# 1. Convierte la tupla del apartado 10 en una lista\n",
    "ejer_9_lista = list(ejer_9)\n",
    "print(type(ejer_9_lista))\n",
    "\n",
    "# 2. Convierte la tupla del apartado 10 en un set\n",
    "ejer_9_set = set(ejer_9)\n",
    "print(type(ejer_9_set))\n",
    "\n",
    "# 3. Convierte la tupla del apartado 10 en un diccionario. Usa también los indices\n",
    "ejer_9_dict = {i: numero for i, numero in enumerate(ejer_9)}\n",
    "print(type(ejer_9_dict))\n",
    "print(ejer_9_dict)"
   ]
  },
  {
   "cell_type": "markdown",
   "metadata": {},
   "source": [
    "## Ejercicio 12\n",
    "Convierte la siguiente tupla en un diccionario\n",
    "> ```ejer_12 = [(\"x\", 1), (\"x\", 2), (\"x\", 3), (\"y\", 1), (\"y\", 2), (\"z\", 1)]```\n",
    "\n",
    "TIP: Puedes usar dos variables de control en un bucle `for`. Una por cada valor de las tuplas."
   ]
  },
  {
   "cell_type": "code",
   "execution_count": 27,
   "metadata": {},
   "outputs": [
    {
     "name": "stdout",
     "output_type": "stream",
     "text": [
      "<class 'list'>\n",
      "<class 'dict'>\n",
      "{0: ('x', 1), 1: ('x', 2), 2: ('x', 3), 3: ('y', 1), 4: ('y', 2), 5: ('z', 1)}\n",
      "{'x': 3, 'y': 2, 'z': 1}\n"
     ]
    }
   ],
   "source": [
    "ejer_12 = [(\"x\", 1), (\"x\", 2), (\"x\", 3), (\"y\", 1), (\"y\", 2), (\"z\", 1)]\n",
    "print(type(ejer_12))\n",
    "\n",
    "ejer_12 = {i: numero for i, numero in enumerate(ejer_12)}\n",
    "print(type(ejer_12))\n",
    "print(ejer_12)\n",
    "\n",
    "# otra forma:\n",
    "ejer_12 = [(\"x\", 1), (\"x\", 2), (\"x\", 3), (\"y\", 1), (\"y\", 2), (\"z\", 1)]\n",
    "ejer_12_dict = {}\n",
    "\n",
    "for clave, valor in ejer_12:\n",
    "    if clave in ejer_12_dict:\n",
    "        ejer_12_dict[clave] = ejer_12_dict[clave] + 1  # Sumar 1 si ya existe la clave\n",
    "    else:\n",
    "        ejer_12_dict[clave] = 1   # Inicializar en 1 si es la primera vez\n",
    "\n",
    "print(ejer_12_dict)"
   ]
  },
  {
   "cell_type": "markdown",
   "metadata": {},
   "source": [
    "## Ejercicio 13\n",
    "1. Crea una lista ordenada ascendente con las claves del diccionario\n",
    "2. Crea otra lista ordenada descendente con los valores\n",
    "3. Añade una nueva clave/valor\n",
    "4. Busca la clave 2 dentro del diccionario\n",
    "5. Itera la clave y el valor del diccionario con un unico for\n",
    "> ```ejer_13 = {4:78, 2:98, 8:234, 5:29}```"
   ]
  },
  {
   "cell_type": "code",
   "execution_count": null,
   "metadata": {},
   "outputs": [
    {
     "name": "stdout",
     "output_type": "stream",
     "text": [
      "Claves ordenadas ascendentemente: [2, 4, 5, 8]\n",
      "Valores ordenados descendentemente: [234, 98, 78, 29]\n",
      "Diccionario actualizado: {4: 78, 2: 98, 8: 234, 5: 29, 10: 100}\n",
      "La clave 2 está en el diccionario con el valor: 98\n",
      "Clave: 4, Valor: 78\n",
      "Clave: 2, Valor: 98\n",
      "Clave: 8, Valor: 234\n",
      "Clave: 5, Valor: 29\n",
      "Clave: 10, Valor: 100\n"
     ]
    }
   ],
   "source": [
    "# ========  NO PUDE HACERLO POR FALTA DE TIEMPO :( , USÉ CHAT GPT ==============\n",
    "\n",
    "ejer_13 = {4:78, 2:98, 8:234, 5:29}\n",
    "\n",
    "# 1. Crea una lista ordenada ascendente con las claves del diccionario\n",
    "claves_ordenadas = sorted(ejer_13.keys())\n",
    "print(\"Claves ordenadas ascendentemente:\", claves_ordenadas)\n",
    "\n",
    "# 2. Crea otra lista ordenada descendente con los valores\n",
    "valores_ordenados = sorted(ejer_13.values(), reverse=True)\n",
    "print(\"Valores ordenados descendentemente:\", valores_ordenados)\n",
    "\n",
    "# 3. Añade una nueva clave/valor\n",
    "ejer_13[10] = 100\n",
    "print(\"Diccionario actualizado:\", ejer_13)\n",
    "\n",
    "# 4. Busca la clave 2 dentro del diccionario\n",
    "if 2 in ejer_13:\n",
    "    print(\"La clave 2 está en el diccionario con el valor:\", ejer_13[2])\n",
    "else:\n",
    "    print(\"La clave 2 no está en el diccionario.\")\n",
    "\n",
    "# 5. Itera la clave y el valor del diccionario con un unico for\n",
    "for clave, valor in ejer_13.items():\n",
    "    print(f\"Clave: {clave}, Valor: {valor}\")"
   ]
  },
  {
   "cell_type": "code",
   "execution_count": null,
   "metadata": {},
   "outputs": [
    {
     "name": "stdout",
     "output_type": "stream",
     "text": [
      "[2, 4, 5, 8]\n",
      "[234, 98, 78, 29]\n",
      "{4: 78, 2: 98, 8: 234, 5: 29, 9: 65}\n",
      "True\n",
      "Clave: 4, Valor -> 78\n",
      "Clave: 2, Valor -> 98\n",
      "Clave: 8, Valor -> 234\n",
      "Clave: 5, Valor -> 29\n",
      "Clave: 9, Valor -> 65\n"
     ]
    }
   ],
   "source": []
  },
  {
   "cell_type": "markdown",
   "metadata": {},
   "source": [
    "## Ejercicio 14\n",
    "Junta ambos diccionarios. Para ello, utiliza `update`\n",
    "> ```ejer_14_1 = {1: 11, 2: 22}```\n",
    ">\n",
    "> ```ejer_14_2 = {3: 33, 4: 44}```"
   ]
  },
  {
   "cell_type": "code",
   "execution_count": null,
   "metadata": {},
   "outputs": [
    {
     "name": "stdout",
     "output_type": "stream",
     "text": [
      "{1: 11, 2: 22, 3: 33, 4: 44}\n"
     ]
    }
   ],
   "source": [
    "ejer_14_1 = {1: 11, 2: 22}\n",
    "ejer_14_2 = {3: 33, 4: 44}\n",
    "\n",
    "ejer_14_1.update(ejer_14_2)  # agrego el diccionario 2 al 1 \n",
    "print(ejer_14_1)\n"
   ]
  },
  {
   "cell_type": "markdown",
   "metadata": {},
   "source": [
    "## Ejercicio 15\n",
    "Suma todos los valores del dicionario\n",
    "> ```ejer_15 = {1: 11, 2: 22, 3: 33, 4: 44, 5: 55}```"
   ]
  },
  {
   "cell_type": "code",
   "execution_count": 28,
   "metadata": {},
   "outputs": [
    {
     "name": "stdout",
     "output_type": "stream",
     "text": [
      "165\n"
     ]
    }
   ],
   "source": [
    "ejer_15 = {1: 11, 2: 22, 3: 33, 4: 44, 5: 55}\n",
    "\n",
    "suma_dict = sum(ejer_15.values())\n",
    "print(suma_dict)  "
   ]
  },
  {
   "cell_type": "markdown",
   "metadata": {},
   "source": [
    "## Ejercicio 16\n",
    "Multiplica todos los valores del diccionario\n",
    "> ```ejer_16 = {1: 11, 2: 22, 3: 33, 4: 44, 5: 55}```"
   ]
  },
  {
   "cell_type": "code",
   "execution_count": 40,
   "metadata": {},
   "outputs": [
    {
     "name": "stdout",
     "output_type": "stream",
     "text": [
      "19326120\n"
     ]
    }
   ],
   "source": [
    "ejer_16 = {1: 11, 2: 22, 3: 33, 4: 44, 5: 55}\n",
    "\n",
    "import math\n",
    "resultado = math.prod(ejer_16.values())\n",
    "print(resultado) "
   ]
  },
  {
   "cell_type": "markdown",
   "metadata": {},
   "source": [
    "## Ejercicio 17\n",
    "1. Crea un set de tres elementos\n",
    "2. Añade un cuarto\n",
    "3. Elimina el utlimo elemento añadido\n",
    "4. Elimina el elemento 10, si está presente. Usa `discard()`"
   ]
  },
  {
   "cell_type": "code",
   "execution_count": 37,
   "metadata": {},
   "outputs": [
    {
     "name": "stdout",
     "output_type": "stream",
     "text": [
      "{8, 2, 5}\n",
      "{8, 2, 5, 6}\n",
      "\n",
      "Primera forma:\n",
      "4\n",
      "{8, 2, 5}\n",
      "\n",
      "Segunda forma:\n",
      "{8, 2, 5, 6}\n",
      "{8, 2, 5}\n"
     ]
    }
   ],
   "source": [
    "set_17 = {8, 2, 5}\n",
    "print(set_17)\n",
    "\n",
    "set_17.add(6)\n",
    "print(set_17)\n",
    "\n",
    "# PRIMERA FORMA\n",
    "print(\"\\nPrimera forma:\")\n",
    "\n",
    "longitud_set_17 = len(set_17)\n",
    "print(longitud_set_17)\n",
    "\n",
    "set_17.remove(6) # si uso \"mi_set.pop()\" elimina un elemento arbitrario ya que NO ESTÁ ORDENADO\n",
    "print(set_17)\n",
    "\n",
    "# SEGUNDA FORMA\n",
    "print(\"\\nSegunda forma:\") # vuelvo a añadir el último elemento para hacer el segundo ejemplo\n",
    "set_17.add(6)\n",
    "print(set_17)\n",
    "\n",
    "ultimo = list(set_17)[-1]  # cojo el último elemento al imprimir\n",
    "set_17.remove(ultimo)      # lo elimino del set original\n",
    "print(set_17)"
   ]
  }
 ],
 "metadata": {
  "kernelspec": {
   "display_name": "Python 3",
   "language": "python",
   "name": "python3"
  },
  "language_info": {
   "codemirror_mode": {
    "name": "ipython",
    "version": 3
   },
   "file_extension": ".py",
   "mimetype": "text/x-python",
   "name": "python",
   "nbconvert_exporter": "python",
   "pygments_lexer": "ipython3",
   "version": "3.13.3"
  }
 },
 "nbformat": 4,
 "nbformat_minor": 4
}

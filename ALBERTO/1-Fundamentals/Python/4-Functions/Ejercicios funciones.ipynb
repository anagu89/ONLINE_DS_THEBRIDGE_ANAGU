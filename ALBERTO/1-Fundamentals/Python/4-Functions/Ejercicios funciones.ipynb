{
 "cells": [
  {
   "cell_type": "markdown",
   "metadata": {},
   "source": [
    "![imagen](./img/ejercicios.png)"
   ]
  },
  {
   "cell_type": "markdown",
   "metadata": {},
   "source": [
    "# Ejercicios funciones\n",
    "## Ejercicio 1\n",
    "Escribe una función que convierta números del 1 al 7 en nombres de los dias de la semana. La función constará de un único argumento numérico y una salida de tipo string"
   ]
  },
  {
   "cell_type": "code",
   "execution_count": 13,
   "metadata": {},
   "outputs": [
    {
     "data": {
      "text/plain": [
       "'lunes'"
      ]
     },
     "execution_count": 13,
     "metadata": {},
     "output_type": "execute_result"
    }
   ],
   "source": [
    "def semana (numero: int) -> str:\n",
    "    if 1 <= numero <=7:\n",
    "        dias = [\"lunes\", \"martes\", \"miercoles\", \"jueves\", \"viernes\", \"sabado,\", \"domingo\"]\n",
    "        for i in dias:\n",
    "            if (numero -1) == dias.index(i):\n",
    "                return i\n",
    "    else:\n",
    "        print(\"Introduce un número del 1 al 7.\")\n",
    "\n",
    "semana(1)"
   ]
  },
  {
   "cell_type": "markdown",
   "metadata": {},
   "source": [
    "## Ejercicio 2\n",
    "En el ejercicio 8 de bucles, creábamos una pirámide invertida, cuyo número de pisos venía determinado por un input del usuario. Crear una función que replique el comportamiento de la pirámide, y utiliza un único parámetro de entrada de la función para determinar el número de filas de la pirámide, es decir, elimina la sentencia input."
   ]
  },
  {
   "cell_type": "code",
   "execution_count": 15,
   "metadata": {},
   "outputs": [
    {
     "name": "stdout",
     "output_type": "stream",
     "text": [
      "1 2 3 4 5 \n",
      "1 2 3 4 \n",
      "1 2 3 \n",
      "1 2 \n",
      "1 \n",
      "1 2 3 4 5 6 7 8 \n",
      "1 2 3 4 5 6 7 \n",
      "1 2 3 4 5 6 \n",
      "1 2 3 4 5 \n",
      "1 2 3 4 \n",
      "1 2 3 \n",
      "1 2 \n",
      "1 \n"
     ]
    }
   ],
   "source": [
    "# de mayor a menor empezando en 1\n",
    "\n",
    "def piramide(n):\n",
    "    for i in range(n,0,-1):\n",
    "        for j in range(1,i+1,1):\n",
    "            print(j, end=\" \")\n",
    "        print() \n",
    "\n",
    "piramide(5)\n",
    "piramide(8)"
   ]
  },
  {
   "cell_type": "markdown",
   "metadata": {},
   "source": [
    "## Ejercicio 3\n",
    "Escibe una función que compare dos números. La función tiene dos argumentos y hay tres salidas posibles: que sean iguales, que el primero se  mayor que el segundo, o que el segundo sea mayor que el primero"
   ]
  },
  {
   "cell_type": "code",
   "execution_count": 31,
   "metadata": {},
   "outputs": [
    {
     "name": "stdout",
     "output_type": "stream",
     "text": [
      "Primera forma:\n",
      "Los números 2 y 2 son iguales.\n",
      "El número 3 es mayor que 2.\n",
      "El número 3 es menor que 7.\n",
      "\n",
      "Segunda forma:\n",
      "Los números 4 y 4 son iguales.\n",
      "El número 7 es mayor que 5.\n",
      "El número 7 es menor que 10.\n"
     ]
    }
   ],
   "source": [
    "# PRIMERA FORMA\n",
    "print(\"Primera forma:\")\n",
    "\n",
    "def comparar (a, b):\n",
    "    if a == b:\n",
    "        #print(\"Los números\", a, \"y\", b, \"son iguales.\")\n",
    "        return print(f\"Los números {a} y {b} son iguales.\")\n",
    "    \n",
    "    elif a > b:\n",
    "        return print(f\"El número {a} es mayor que {b}.\")\n",
    "    \n",
    "    else:\n",
    "        return print(f\"El número {a} es menor que {b}.\")\n",
    "\n",
    "(comparar(2,2))\n",
    "(comparar(3,2))\n",
    "(comparar(3,7))\n",
    "\n",
    "# SEGUNDA FORMA\n",
    "print(\"\\nSegunda forma:\")\n",
    "\n",
    "def comparar (a, b):\n",
    "    if a == b:\n",
    "        #print(\"Los números\", a, \"y\", b, \"son iguales.\")\n",
    "        resultado = print(f\"Los números {a} y {b} son iguales.\")\n",
    "    \n",
    "    elif a > b:\n",
    "        resultado = print(f\"El número {a} es mayor que {b}.\")\n",
    "    \n",
    "    else:\n",
    "        resultado = print(f\"El número {a} es menor que {b}.\")\n",
    "    \n",
    "    return resultado\n",
    "\n",
    "(comparar(4,4))\n",
    "(comparar(7,5))\n",
    "(comparar(7,10))"
   ]
  },
  {
   "cell_type": "markdown",
   "metadata": {},
   "source": [
    "## Ejercicio 4\n",
    "Escribe una función que sea un contador de letras. En el primer argumento tienes que introducir un texto, y el segundo que sea la letra a contar. La función tiene que devolver un entero con el número de veces que aparece esa letra, tanto mayuscula, como minúscula"
   ]
  },
  {
   "cell_type": "code",
   "execution_count": 41,
   "metadata": {},
   "outputs": [
    {
     "name": "stdout",
     "output_type": "stream",
     "text": [
      "6\n"
     ]
    }
   ],
   "source": [
    "def contador (texto, letra):\n",
    "    numero = 0\n",
    "    texto_mayuscula = texto.upper()\n",
    "    letra_mayuscula = letra.upper()\n",
    "\n",
    "    for i in texto_mayuscula:\n",
    "        if i == letra_mayuscula:\n",
    "            numero = numero + 1\n",
    "    if numero == 0:\n",
    "        resultado = print(\"No contiene esa letra.\")\n",
    "    else:\n",
    "        resultado = print(numero)\n",
    "    \n",
    "    return resultado\n",
    "\n",
    "contador(\"HholAAaaaa\", \"a\")"
   ]
  },
  {
   "cell_type": "code",
   "execution_count": null,
   "metadata": {},
   "outputs": [
    {
     "name": "stdout",
     "output_type": "stream",
     "text": [
      "1 4\n"
     ]
    }
   ],
   "source": [
    "# CONTAR MAYÚSCULAS Y MINÚSCULAS\n",
    "\n",
    "mayusculas = 0\n",
    "minusculas = 0\n",
    "palabra = \"Hhola\"\n",
    "\n",
    "for caracter in palabra:\n",
    "    if caracter.isupper():\n",
    "        mayusculas += 1\n",
    "    elif caracter.islower():\n",
    "        minusculas += 1\n",
    "\n",
    "print(mayusculas, minusculas)"
   ]
  },
  {
   "cell_type": "markdown",
   "metadata": {},
   "source": [
    "## Ejercicio 5\n",
    "Escribe una función que tenga un único argumento, un string. La salida de la función tiene que ser un diccionario con el conteo de todas las letras de ese string."
   ]
  },
  {
   "cell_type": "code",
   "execution_count": 10,
   "metadata": {},
   "outputs": [
    {
     "name": "stdout",
     "output_type": "stream",
     "text": [
      "HHOLAAAAAAL\n",
      "L\n",
      "2\n",
      "[2, 2, 1, 2, 6, 6, 6, 6, 6, 6, 2]\n"
     ]
    }
   ],
   "source": [
    "texto = \"HholAAaaaaL\"\n",
    "texto_mayuscula = texto.upper()\n",
    "lista = []\n",
    "\n",
    "print(texto_mayuscula)\n",
    "\n",
    "for i in texto_mayuscula:\n",
    "    cantidad = texto_mayuscula.count(i)\n",
    "    if cantidad != 0:\n",
    "        lista.append(cantidad)\n",
    "\n",
    "print(i)\n",
    "print(cantidad)\n",
    "print(lista)"
   ]
  },
  {
   "cell_type": "code",
   "execution_count": 16,
   "metadata": {},
   "outputs": [
    {
     "data": {
      "text/plain": [
       "{'e': 5,\n",
       " 'n': 3,\n",
       " ' ': 5,\n",
       " 's': 3,\n",
       " 't': 2,\n",
       " 'a': 3,\n",
       " 'c': 2,\n",
       " 'l': 1,\n",
       " 'p': 2,\n",
       " 'r': 1,\n",
       " 'd': 1,\n",
       " 'm': 2,\n",
       " 'o': 3,\n",
       " 'u': 1,\n",
       " 'h': 2,\n",
       " 'y': 1}"
      ]
     },
     "execution_count": 16,
     "metadata": {},
     "output_type": "execute_result"
    }
   ],
   "source": []
  },
  {
   "cell_type": "code",
   "execution_count": 17,
   "metadata": {},
   "outputs": [
    {
     "data": {
      "text/plain": [
       "{'h': 2, 'o': 2, 'l': 2, 'a': 2}"
      ]
     },
     "execution_count": 17,
     "metadata": {},
     "output_type": "execute_result"
    }
   ],
   "source": []
  },
  {
   "cell_type": "markdown",
   "metadata": {},
   "source": [
    "## Ejercicio 6\n",
    "Escribir una función que añada o elimine elementos en una lista. La función necesita los siguientes argumentos:\n",
    "* lista: la lista donde se añadirán o eliminarán los elementos\n",
    "* comando: \"add\" o \"remove\"\n",
    "* elemento: Por defecto es None."
   ]
  },
  {
   "cell_type": "code",
   "execution_count": 2,
   "metadata": {},
   "outputs": [
    {
     "name": "stdout",
     "output_type": "stream",
     "text": [
      "[1, 2, 3, 9]\n",
      "Añadido el 9999 porque no se introdujo valor en el argumento elemento\n",
      "[1, 2, 3, 9999]\n",
      "[1, 3]\n",
      "No ha introducido el elemento\n",
      "[1, 2, 3]\n",
      "El elemento 10 no existe en la lista\n",
      "[1, 2, 3]\n",
      "error\n",
      "[1, 2, 3]\n"
     ]
    }
   ],
   "source": []
  },
  {
   "cell_type": "markdown",
   "metadata": {},
   "source": [
    "## Ejercicio 7\n",
    "Crea una función que reciba un número arbitrario de palabras, y devuelva una frase completa, separando las palabras con espacios."
   ]
  },
  {
   "cell_type": "code",
   "execution_count": 3,
   "metadata": {},
   "outputs": [
    {
     "data": {
      "text/plain": [
       "'Hola me llamo Alberto'"
      ]
     },
     "execution_count": 3,
     "metadata": {},
     "output_type": "execute_result"
    }
   ],
   "source": [
    "\n"
   ]
  },
  {
   "cell_type": "markdown",
   "metadata": {},
   "source": [
    "## Ejercicio 8\n",
    "Escribe un programa que obtenga el enésimo número de la [serie de Fibonacci](https://es.wikipedia.org/wiki/Sucesi%C3%B3n_de_Fibonacci). Tienes que crear una función recursiva con un único argumento.\n",
    "\n",
    "```Python\n",
    "fibonacci(2) = 1\n",
    "fibonacci(4) = 3\n",
    "fibonacci(5) = 5\n",
    "fibonacci(8) = 21\n",
    "```"
   ]
  },
  {
   "cell_type": "code",
   "execution_count": 4,
   "metadata": {},
   "outputs": [
    {
     "name": "stdout",
     "output_type": "stream",
     "text": [
      "1\n",
      "1\n",
      "3\n",
      "5\n",
      "21\n"
     ]
    }
   ],
   "source": []
  },
  {
   "cell_type": "markdown",
   "metadata": {},
   "source": [
    "## Ejercicio 9\n",
    "Define en una única celda las siguientes funciones:\n",
    "* Función que calcule el área de un cuadrado\n",
    "* Función que calcule el area de un triángulo\n",
    "* Función que calcule el área de un círculo\n",
    "\n",
    "En otra celda, calcular el area de:\n",
    "* Dos círculos de radio 10 + un triángulo de base 3 y altura 7\n",
    "* Un cuadrado de lado = 10 + 3 círculos (uno de radio = 4 y los otros dos de radio = 6) + 5 triángulos de base = 2 + altura = 4"
   ]
  },
  {
   "cell_type": "code",
   "execution_count": 7,
   "metadata": {},
   "outputs": [],
   "source": []
  },
  {
   "cell_type": "code",
   "execution_count": 9,
   "metadata": {},
   "outputs": [
    {
     "name": "stdout",
     "output_type": "stream",
     "text": [
      "638.8185307179587\n",
      "396.46015351590177\n"
     ]
    }
   ],
   "source": [
    "\n"
   ]
  }
 ],
 "metadata": {
  "kernelspec": {
   "display_name": "Python 3",
   "language": "python",
   "name": "python3"
  },
  "language_info": {
   "codemirror_mode": {
    "name": "ipython",
    "version": 3
   },
   "file_extension": ".py",
   "mimetype": "text/x-python",
   "name": "python",
   "nbconvert_exporter": "python",
   "pygments_lexer": "ipython3",
   "version": "3.13.3"
  }
 },
 "nbformat": 4,
 "nbformat_minor": 4
}

{
 "cells": [
  {
   "cell_type": "markdown",
   "metadata": {},
   "source": [
    "![imagen](./img/ejercicios.png)"
   ]
  },
  {
   "cell_type": "markdown",
   "metadata": {},
   "source": [
    "# Ejercicios funciones\n",
    "## Ejercicio 1\n",
    "Escribe una función que convierta números del 1 al 7 en nombres de los dias de la semana. La función constará de un único argumento numérico y una salida de tipo string"
   ]
  },
  {
   "cell_type": "code",
   "execution_count": 13,
   "metadata": {},
   "outputs": [
    {
     "data": {
      "text/plain": [
       "'lunes'"
      ]
     },
     "execution_count": 13,
     "metadata": {},
     "output_type": "execute_result"
    }
   ],
   "source": [
    "def semana (numero: int) -> str:\n",
    "    if 1 <= numero <=7:\n",
    "        dias = [\"lunes\", \"martes\", \"miercoles\", \"jueves\", \"viernes\", \"sabado,\", \"domingo\"]\n",
    "        for i in dias:\n",
    "            if (numero -1) == dias.index(i):\n",
    "                return i\n",
    "    else:\n",
    "        print(\"Introduce un número del 1 al 7.\")\n",
    "\n",
    "semana(1)"
   ]
  },
  {
   "cell_type": "markdown",
   "metadata": {},
   "source": [
    "## Ejercicio 2\n",
    "En el ejercicio 8 de bucles, creábamos una pirámide invertida, cuyo número de pisos venía determinado por un input del usuario. Crear una función que replique el comportamiento de la pirámide, y utiliza un único parámetro de entrada de la función para determinar el número de filas de la pirámide, es decir, elimina la sentencia input."
   ]
  },
  {
   "cell_type": "code",
   "execution_count": 15,
   "metadata": {},
   "outputs": [
    {
     "name": "stdout",
     "output_type": "stream",
     "text": [
      "1 2 3 4 5 \n",
      "1 2 3 4 \n",
      "1 2 3 \n",
      "1 2 \n",
      "1 \n",
      "1 2 3 4 5 6 7 8 \n",
      "1 2 3 4 5 6 7 \n",
      "1 2 3 4 5 6 \n",
      "1 2 3 4 5 \n",
      "1 2 3 4 \n",
      "1 2 3 \n",
      "1 2 \n",
      "1 \n"
     ]
    }
   ],
   "source": [
    "# de mayor a menor empezando en 1\n",
    "\n",
    "def piramide(n):\n",
    "    for i in range(n,0,-1):\n",
    "        for j in range(1,i+1,1):\n",
    "            print(j, end=\" \")\n",
    "        print() \n",
    "\n",
    "piramide(5)\n",
    "piramide(8)"
   ]
  },
  {
   "cell_type": "markdown",
   "metadata": {},
   "source": [
    "## Ejercicio 3\n",
    "Escibe una función que compare dos números. La función tiene dos argumentos y hay tres salidas posibles: que sean iguales, que el primero se  mayor que el segundo, o que el segundo sea mayor que el primero"
   ]
  },
  {
   "cell_type": "code",
   "execution_count": 31,
   "metadata": {},
   "outputs": [
    {
     "name": "stdout",
     "output_type": "stream",
     "text": [
      "Primera forma:\n",
      "Los números 2 y 2 son iguales.\n",
      "El número 3 es mayor que 2.\n",
      "El número 3 es menor que 7.\n",
      "\n",
      "Segunda forma:\n",
      "Los números 4 y 4 son iguales.\n",
      "El número 7 es mayor que 5.\n",
      "El número 7 es menor que 10.\n"
     ]
    }
   ],
   "source": [
    "# PRIMERA FORMA\n",
    "print(\"Primera forma:\")\n",
    "\n",
    "def comparar (a, b):\n",
    "    if a == b:\n",
    "        #print(\"Los números\", a, \"y\", b, \"son iguales.\")\n",
    "        return print(f\"Los números {a} y {b} son iguales.\")\n",
    "    \n",
    "    elif a > b:\n",
    "        return print(f\"El número {a} es mayor que {b}.\")\n",
    "    \n",
    "    else:\n",
    "        return print(f\"El número {a} es menor que {b}.\")\n",
    "\n",
    "(comparar(2,2))\n",
    "(comparar(3,2))\n",
    "(comparar(3,7))\n",
    "\n",
    "# SEGUNDA FORMA\n",
    "print(\"\\nSegunda forma:\")\n",
    "\n",
    "def comparar (a, b):\n",
    "    if a == b:\n",
    "        #print(\"Los números\", a, \"y\", b, \"son iguales.\")\n",
    "        resultado = print(f\"Los números {a} y {b} son iguales.\")\n",
    "    \n",
    "    elif a > b:\n",
    "        resultado = print(f\"El número {a} es mayor que {b}.\")\n",
    "    \n",
    "    else:\n",
    "        resultado = print(f\"El número {a} es menor que {b}.\")\n",
    "    \n",
    "    return resultado\n",
    "\n",
    "(comparar(4,4))\n",
    "(comparar(7,5))\n",
    "(comparar(7,10))"
   ]
  },
  {
   "cell_type": "markdown",
   "metadata": {},
   "source": [
    "## Ejercicio 4\n",
    "Escribe una función que sea un contador de letras. En el primer argumento tienes que introducir un texto, y el segundo que sea la letra a contar. La función tiene que devolver un entero con el número de veces que aparece esa letra, tanto mayuscula, como minúscula"
   ]
  },
  {
   "cell_type": "code",
   "execution_count": 41,
   "metadata": {},
   "outputs": [
    {
     "name": "stdout",
     "output_type": "stream",
     "text": [
      "6\n"
     ]
    }
   ],
   "source": [
    "def contador (texto, letra):\n",
    "    numero = 0\n",
    "    texto_mayuscula = texto.upper()\n",
    "    letra_mayuscula = letra.upper()\n",
    "\n",
    "    for i in texto_mayuscula:\n",
    "        if i == letra_mayuscula:\n",
    "            numero = numero + 1\n",
    "    if numero == 0:\n",
    "        resultado = print(\"No contiene esa letra.\")\n",
    "    else:\n",
    "        resultado = print(numero)\n",
    "    \n",
    "    return resultado\n",
    "\n",
    "contador(\"HholAAaaaa\", \"a\")"
   ]
  },
  {
   "cell_type": "code",
   "execution_count": null,
   "metadata": {},
   "outputs": [
    {
     "name": "stdout",
     "output_type": "stream",
     "text": [
      "1 4\n"
     ]
    }
   ],
   "source": [
    "# CONTAR MAYÚSCULAS Y MINÚSCULAS\n",
    "\n",
    "mayusculas = 0\n",
    "minusculas = 0\n",
    "palabra = \"Hhola\"\n",
    "\n",
    "for caracter in palabra:\n",
    "    if caracter.isupper():\n",
    "        mayusculas += 1\n",
    "    elif caracter.islower():\n",
    "        minusculas += 1\n",
    "\n",
    "print(mayusculas, minusculas)"
   ]
  },
  {
   "cell_type": "markdown",
   "metadata": {},
   "source": [
    "## Ejercicio 5\n",
    "Escribe una función que tenga un único argumento, un string. La salida de la función tiene que ser un diccionario con el conteo de todas las letras de ese string."
   ]
  },
  {
   "cell_type": "code",
   "execution_count": 12,
   "metadata": {},
   "outputs": [
    {
     "data": {
      "text/plain": [
       "{'H': 2, 'O': 3, 'L': 1, 'A': 5}"
      ]
     },
     "execution_count": 12,
     "metadata": {},
     "output_type": "execute_result"
    }
   ],
   "source": [
    "# PRIMERA FORMA\n",
    "# si el contaje no distingue entre mayúsculas y minúsculas\n",
    "\n",
    "def letras_frase (texto: str):\n",
    "    texto_mayuscula = texto.upper()\n",
    "    diccionario = {}\n",
    "\n",
    "    for i in texto_mayuscula:\n",
    "        cantidad = texto_mayuscula.count(i)\n",
    "        if cantidad != 0:\n",
    "            diccionario[i] = cantidad\n",
    "    return diccionario\n",
    "\n",
    "letras_frase(\"HhoooLAAaaa\")"
   ]
  },
  {
   "cell_type": "code",
   "execution_count": 13,
   "metadata": {},
   "outputs": [
    {
     "data": {
      "text/plain": [
       "{'H': 1, 'h': 1, 'o': 3, 'L': 1, 'A': 2, 'a': 3}"
      ]
     },
     "execution_count": 13,
     "metadata": {},
     "output_type": "execute_result"
    }
   ],
   "source": [
    "# SEGUNDA FORMA\n",
    "# si el contaje distingue entre mayúsculas y minúsculas\n",
    "\n",
    "def letras_frase (texto: str):\n",
    "    diccionario = {}\n",
    "\n",
    "    for i in texto:\n",
    "        cantidad = texto.count(i)\n",
    "        if cantidad != 0:\n",
    "            diccionario[i] = cantidad\n",
    "    return diccionario\n",
    "\n",
    "letras_frase(\"HhoooLAAaaa\")  "
   ]
  },
  {
   "cell_type": "markdown",
   "metadata": {},
   "source": [
    "## Ejercicio 6\n",
    "Escribir una función que añada o elimine elementos en una lista. La función necesita los siguientes argumentos:\n",
    "* lista: la lista donde se añadirán o eliminarán los elementos\n",
    "* comando: \"add\" o \"remove\"\n",
    "* elemento: Por defecto es None."
   ]
  },
  {
   "cell_type": "code",
   "execution_count": 15,
   "metadata": {},
   "outputs": [
    {
     "name": "stdout",
     "output_type": "stream",
     "text": [
      "['limón', 'fresa', 'piña', 'pera']\n",
      "['limón', 'fresa', 'piña', 'pera', 'melocotón']\n",
      "['limón', 'fresa', 'piña', 'melocotón']\n"
     ]
    }
   ],
   "source": [
    "# añadir elementos\n",
    "# eliminar elementos: pop(indice) o remove\n",
    "\n",
    "frutas = [\"limón\", \"fresa\", \"piña\"]\n",
    "\n",
    "def modificar (lista, comando, elemento = None):\n",
    "    if comando == \"add\" and elemento != None:\n",
    "        lista.append(elemento)\n",
    "        \n",
    "    elif comando == \"remove\" and (elemento in lista):\n",
    "        lista.remove(elemento)\n",
    "    \n",
    "    else:\n",
    "        print(f\"El elemento '{elemento}' no está en la lista.\")\n",
    "    \n",
    "    return lista\n",
    "\n",
    "modificar (frutas, \"add\", \"pera\")\n",
    "print(frutas)\n",
    "\n",
    "modificar (frutas, \"add\", \"melocotón\")\n",
    "print(frutas)\n",
    "\n",
    "modificar (frutas, \"remove\", \"pera\")\n",
    "print(frutas)"
   ]
  },
  {
   "cell_type": "code",
   "execution_count": null,
   "metadata": {},
   "outputs": [
    {
     "name": "stdout",
     "output_type": "stream",
     "text": [
      "[1, 2, 3, 9]\n",
      "Añadido el 9999 porque no se introdujo valor en el argumento elemento\n",
      "[1, 2, 3, 9999]\n",
      "[1, 3]\n",
      "No ha introducido el elemento\n",
      "[1, 2, 3]\n",
      "El elemento 10 no existe en la lista\n",
      "[1, 2, 3]\n",
      "error\n",
      "[1, 2, 3]\n"
     ]
    }
   ],
   "source": []
  },
  {
   "cell_type": "markdown",
   "metadata": {},
   "source": [
    "## Ejercicio 7\n",
    "Crea una función que reciba un número arbitrario de palabras, y devuelva una frase completa, separando las palabras con espacios."
   ]
  },
  {
   "cell_type": "code",
   "execution_count": 7,
   "metadata": {},
   "outputs": [
    {
     "name": "stdout",
     "output_type": "stream",
     "text": [
      "Hola hermoso huevo "
     ]
    }
   ],
   "source": [
    "def frase (*palabras):\n",
    "    lista = []\n",
    "    for i in palabras:\n",
    "        print(i, end=\" \")\n",
    "\n",
    "frase(\"Hola\", \"hermoso\", \"huevo\")"
   ]
  },
  {
   "cell_type": "markdown",
   "metadata": {},
   "source": [
    "## Ejercicio 8\n",
    "Escribe un programa que obtenga el enésimo número de la [serie de Fibonacci](https://es.wikipedia.org/wiki/Sucesi%C3%B3n_de_Fibonacci). Tienes que crear una función recursiva con un único argumento.\n",
    "\n",
    "```Python\n",
    "fibonacci(2) = 1\n",
    "fibonacci(4) = 3\n",
    "fibonacci(5) = 5\n",
    "fibonacci(8) = 21\n",
    "```"
   ]
  },
  {
   "cell_type": "code",
   "execution_count": 4,
   "metadata": {},
   "outputs": [
    {
     "name": "stdout",
     "output_type": "stream",
     "text": [
      "1\n",
      "1\n",
      "3\n",
      "5\n",
      "21\n"
     ]
    }
   ],
   "source": []
  },
  {
   "cell_type": "markdown",
   "metadata": {},
   "source": [
    "## Ejercicio 9\n",
    "Define en una única celda las siguientes funciones:\n",
    "* Función que calcule el área de un cuadrado\n",
    "* Función que calcule el area de un triángulo\n",
    "* Función que calcule el área de un círculo\n",
    "\n",
    "En otra celda, calcular el area de:\n",
    "* Dos círculos de radio 10 + un triángulo de base 3 y altura 7\n",
    "* Un cuadrado de lado = 10 + 3 círculos (uno de radio = 4 y los otros dos de radio = 6) + 5 triángulos de base = 2 + altura = 4"
   ]
  },
  {
   "cell_type": "code",
   "execution_count": 26,
   "metadata": {},
   "outputs": [],
   "source": [
    "def cuadrado (lado):\n",
    "    #resultado = print(\"El área del cuadrado es: \", lado * lado)\n",
    "    resultado = lado * lado\n",
    "    return resultado\n",
    "\n",
    "def triangulo (base, altura):\n",
    "    #resultado = print(\"El área de un triángulo es: \", (base * altura / 2))\n",
    "    resultado = base * altura / 2\n",
    "    return resultado\n",
    "\n",
    "def circulo (radio):\n",
    "    import math\n",
    "    #resultado = print(\"El área del círculo es: \", (math.pi * radio**2))\n",
    "    resultado = math.pi * radio**2\n",
    "    return resultado   "
   ]
  },
  {
   "cell_type": "code",
   "execution_count": 19,
   "metadata": {},
   "outputs": [
    {
     "name": "stdout",
     "output_type": "stream",
     "text": [
      "El área del cuadrado es:  16\n",
      "None\n",
      "El área de un triángulo es:  3.0\n",
      "None\n",
      "El área del círculo es:  78.53981633974483\n",
      "None\n"
     ]
    }
   ],
   "source": [
    "print(cuadrado(4))\n",
    "print(triangulo(2,3))\n",
    "print(circulo(5))\n",
    "\n",
    "# ------> ¿POR QUÉ ME DEVUELVE NONE????"
   ]
  },
  {
   "cell_type": "code",
   "execution_count": 32,
   "metadata": {},
   "outputs": [
    {
     "name": "stdout",
     "output_type": "stream",
     "text": [
      "638.8185307179587\n",
      "396.46015351590177\n"
     ]
    }
   ],
   "source": [
    "# Dos círculos de radio 10 + un triángulo de base 3 y altura 7\n",
    "a = circulo(10)\n",
    "b = triangulo(3,7)\n",
    "\n",
    "print(a * 2 + b)\n",
    "\n",
    "# Un cuadrado de lado = 10 \n",
    "# + 3 círculos (uno de radio = 4 y los otros dos de radio = 6) \n",
    "# + 5 triángulos de base = 2 + altura = 4\n",
    "c = cuadrado(10)\n",
    "d = circulo(4)\n",
    "e = circulo(6)\n",
    "f = triangulo(2,4)\n",
    "\n",
    "print(c + d + e*2 + f*5)"
   ]
  }
 ],
 "metadata": {
  "kernelspec": {
   "display_name": "Python 3",
   "language": "python",
   "name": "python3"
  },
  "language_info": {
   "codemirror_mode": {
    "name": "ipython",
    "version": 3
   },
   "file_extension": ".py",
   "mimetype": "text/x-python",
   "name": "python",
   "nbconvert_exporter": "python",
   "pygments_lexer": "ipython3",
   "version": "3.13.3"
  }
 },
 "nbformat": 4,
 "nbformat_minor": 4
}

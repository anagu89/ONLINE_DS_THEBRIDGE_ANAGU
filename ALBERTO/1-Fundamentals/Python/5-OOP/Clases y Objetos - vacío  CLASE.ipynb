{
 "cells": [
  {
   "cell_type": "markdown",
   "metadata": {},
   "source": [
    "![imagen](./img/python.jpg)"
   ]
  },
  {
   "cell_type": "markdown",
   "metadata": {},
   "source": [
    "# Clases y Objetos en Python\n",
    "\n",
    "\n",
    "Como sabes, Python es un lenguaje de programación orientado a objetos. ¿Esto qué es? El código se organiza en elementos denominados objetos, que vienen definidos por clases. Es una manera de expresar en lenguaje máquina cosas de la vida real.\n",
    "\n",
    "1. [Clases](#1.-Clases)\n",
    "1. [Atributos](#2.-Atributos)\n",
    "3. [Constructor](#3.-Constructor)\n",
    "4. [Métodos](#4.-Métodos)\n",
    "5. [Documentación](#5.-Documentación)\n",
    "6. [Resumen](#6.-Resumen)"
   ]
  },
  {
   "cell_type": "markdown",
   "metadata": {},
   "source": [
    "## 1. Clases\n",
    "Las clases son la manera que tenemos de describir los objetos. Hasta ahora hemos visto clases básicas que vienen incluidas en Python como *int*, *str* o clases algo más complejas como los *dict*. Pero, **¿y si queremos crear nuestros propios objetos?** En los lenguajes orientados a objetos tenemos la posibilidad de definir nuevos objetos que se asemejen más a nuestros casos de uso y hagan la programación más sencilla de desarrollar y entender.\n",
    "\n",
    "**Un número entero es un objeto de la clase *int* que posee unas características diferentes a un texto**, que es de la clase *str*. Por ejemplo, **¿cómo sabemos que un coche es un coche?** ¿qué características tiene? Los coches tienen una marca, una cantidad de caballos, hay unos automáticos, otros no… De esta manera traducimos a lenguaje de maquina, a programación, un concepto que tenemos nosotros muy claro e interiorizado.\n",
    " \n",
    "Hasta ahora, hemos visto varias clases, por ejemplo la clase *str*. Cuando veiamos el tipo de dato, Python imprimía por pantalla `str`. Y al ser `str`, tenía unas propiedades que no tenían otros objetos, como las funciones .upper() o .lower().\n",
    "\n",
    "La sintaxis para crear una clase es:\n",
    "```Python\n",
    "class NombreClase:\n",
    "    # Cosas de la clase\n",
    "```\n",
    "\n",
    "Normalmente para el nombre de la clase se usa *CamelCase*, que quiere decir que se define en minúscila, sin espacios ni guiones, y jugando con las mayúsculas para diferenciar palabras.\n",
    "\n",
    "Mira cómo es la [clase *built_in* de *String*](https://docs.python.org/3/library/stdtypes.html#str)"
   ]
  },
  {
   "cell_type": "markdown",
   "metadata": {},
   "source": [
    "La sentencia `pass` se usa para forzar el fin de la clase *Coche*. La hemos declarado, pero no lleva nada. Python demanda una definición de la clase y podemos ignorar esa demanda mediante la sentencia `pass`."
   ]
  },
  {
   "cell_type": "code",
   "execution_count": 3,
   "metadata": {},
   "outputs": [],
   "source": [
    "class Coche:\n",
    "    pass\n",
    "\n",
    "# ya tengo creada mi clase Coche. Debe estar la primera letra en mayúscula por convenio.\n",
    "# la guía de estilo de buenas prácticas es PEP8\n",
    "# pongo el PASS porque no he rellenado lo que va dentro de la clase de coche, lo pondré después"
   ]
  },
  {
   "cell_type": "code",
   "execution_count": 4,
   "metadata": {},
   "outputs": [
    {
     "data": {
      "text/plain": [
       "__main__.Coche"
      ]
     },
     "execution_count": 4,
     "metadata": {},
     "output_type": "execute_result"
    }
   ],
   "source": [
    "Coche"
   ]
  },
  {
   "cell_type": "code",
   "execution_count": 5,
   "metadata": {},
   "outputs": [
    {
     "data": {
      "text/plain": [
       "type"
      ]
     },
     "execution_count": 5,
     "metadata": {},
     "output_type": "execute_result"
    }
   ],
   "source": [
    "type(Coche)"
   ]
  },
  {
   "cell_type": "code",
   "execution_count": 7,
   "metadata": {},
   "outputs": [
    {
     "name": "stdout",
     "output_type": "stream",
     "text": [
      "<class 'type'>\n",
      "<class 'type'>\n"
     ]
    }
   ],
   "source": [
    "print(type(Coche))\n",
    "print(type(str))"
   ]
  },
  {
   "cell_type": "markdown",
   "metadata": {},
   "source": [
    "Bien, coche es de tipo `type`, claro porque **no es un objeto con tal**, sino que es una clase. Cuando creemos coches, estos serán de clase *Coche*, es decir, de tipo *Coche*, por lo que tiene sentido que *Coche* sea de tipo `type`."
   ]
  },
  {
   "cell_type": "markdown",
   "metadata": {},
   "source": [
    "### Clase vs Objeto\n",
    "**La clase se usa para definir algo**. Al igual que con las funciones. Creamos el esqueleto de lo que será un objeto de esa clase. Por tanto, **una vez tengamos la clase definida, instanciaremos un objeto de esa clase**.  Es como crear el concepto de coche, con todas sus características y funcionalidades. Después, a lo largo del programa, podremos crear objetos de tipo coche, que se ajusten a lo definido en la clase coche. Cada coche tendrá una marca, una potencia, etc…"
   ]
  },
  {
   "cell_type": "code",
   "execution_count": 14,
   "metadata": {},
   "outputs": [
    {
     "name": "stdout",
     "output_type": "stream",
     "text": [
      "<__main__.Coche object at 0x00000257ADB820B0>\n",
      "<class '__main__.Coche'>\n"
     ]
    }
   ],
   "source": []
  },
  {
   "cell_type": "code",
   "execution_count": 12,
   "metadata": {},
   "outputs": [
    {
     "name": "stdout",
     "output_type": "stream",
     "text": [
      "<__main__.Coche object at 0x000001AE636035C0>\n"
     ]
    }
   ],
   "source": [
    "ferrari = Coche()\n",
    "print(ferrari)"
   ]
  },
  {
   "cell_type": "code",
   "execution_count": 10,
   "metadata": {},
   "outputs": [
    {
     "name": "stdout",
     "output_type": "stream",
     "text": [
      "<__main__.Coche object at 0x000001AE63C70190>\n"
     ]
    }
   ],
   "source": [
    "toyota = Coche()\n",
    "print(toyota)"
   ]
  },
  {
   "cell_type": "code",
   "execution_count": 13,
   "metadata": {},
   "outputs": [
    {
     "data": {
      "text/plain": [
       "False"
      ]
     },
     "execution_count": 13,
     "metadata": {},
     "output_type": "execute_result"
    }
   ],
   "source": [
    "ferrari == toyota"
   ]
  },
  {
   "cell_type": "code",
   "execution_count": 16,
   "metadata": {},
   "outputs": [
    {
     "ename": "NameError",
     "evalue": "name 'ferrari__equals__' is not defined",
     "output_type": "error",
     "traceback": [
      "\u001b[31m---------------------------------------------------------------------------\u001b[39m",
      "\u001b[31mNameError\u001b[39m                                 Traceback (most recent call last)",
      "\u001b[36mCell\u001b[39m\u001b[36m \u001b[39m\u001b[32mIn[16]\u001b[39m\u001b[32m, line 1\u001b[39m\n\u001b[32m----> \u001b[39m\u001b[32m1\u001b[39m \u001b[43mferrari__equals__\u001b[49m(toyota)\n",
      "\u001b[31mNameError\u001b[39m: name 'ferrari__equals__' is not defined"
     ]
    }
   ],
   "source": [
    "ferrari__equals__(toyota)"
   ]
  },
  {
   "cell_type": "markdown",
   "metadata": {},
   "source": [
    "Ahora sí tenemos un objeto de tipo Coche, que se llama `primer_coche`. Cuando imprimimos su tipo, vemos que es de tipo Coche, y cuando lo imprimes el objeto por pantalla, simplemente nos dice su tipo y un identificador.\n",
    "\n",
    "Podremos crear todos los coches que queramos"
   ]
  },
  {
   "cell_type": "code",
   "execution_count": 17,
   "metadata": {},
   "outputs": [
    {
     "name": "stdout",
     "output_type": "stream",
     "text": [
      "<__main__.Coche object at 0x00000257AC4CAB00>\n",
      "<__main__.Coche object at 0x00000257AC4C8040>\n",
      "<__main__.Coche object at 0x00000257AC4CAB00>\n",
      "<__main__.Coche object at 0x00000257AC4C8040>\n"
     ]
    },
    {
     "data": {
      "text/plain": [
       "False"
      ]
     },
     "execution_count": 17,
     "metadata": {},
     "output_type": "execute_result"
    }
   ],
   "source": []
  },
  {
   "cell_type": "markdown",
   "metadata": {},
   "source": [
    "De momento todos nuestros coches son iguales, no hemos definido bien la clase, por lo que va a ser difícil diferenciar un coche de otro. Vamos a ver cómo lograr esa diferenciación."
   ]
  },
  {
   "cell_type": "markdown",
   "metadata": {},
   "source": [
    "![imagen](./img/dogs.jpg)"
   ]
  },
  {
   "cell_type": "markdown",
   "metadata": {},
   "source": [
    "## 2. Atributos\n",
    "Son las **características que definen a los objetos de una clase**. La marca, el color, potencia del coche. Estos son atributos, que se definen de manera genérica en la clase y luego cada objeto *Coche* tendrá un valor para cada uno de sus atributos.\n",
    "\n",
    "Los atributos los definimos tras la declaración de la clase. Y luego se accede a ellos mediante la sintaxis `objeto.atributo`\n",
    "\n",
    "Vamos a empezar a definir atributos en los coches."
   ]
  },
  {
   "cell_type": "code",
   "execution_count": 23,
   "metadata": {},
   "outputs": [
    {
     "data": {
      "text/plain": [
       "'blanco'"
      ]
     },
     "execution_count": 23,
     "metadata": {},
     "output_type": "execute_result"
    }
   ],
   "source": [
    "\"\"\"\n",
    "Hemos creado ahora una clase nueva que se llama igual que la anterior \"Coche\",\n",
    "por lo que la que antes existía ya la he olvidado y perdido. \n",
    "Ahora es una clase nueva con nuevos atributos.\n",
    "\"\"\"\n",
    "\n",
    "class Coche: \n",
    "    color = \"blanco\"\n",
    "    ruedas = 4\n",
    "\n",
    "seat = Coche()\n",
    "\n",
    "seat.color"
   ]
  },
  {
   "cell_type": "code",
   "execution_count": 24,
   "metadata": {},
   "outputs": [
    {
     "data": {
      "text/plain": [
       "4"
      ]
     },
     "execution_count": 24,
     "metadata": {},
     "output_type": "execute_result"
    }
   ],
   "source": [
    "seat.ruedas"
   ]
  },
  {
   "cell_type": "code",
   "execution_count": null,
   "metadata": {},
   "outputs": [
    {
     "data": {
      "text/plain": [
       "5"
      ]
     },
     "execution_count": 26,
     "metadata": {},
     "output_type": "execute_result"
    }
   ],
   "source": [
    "# puedo modificar directamente las características de los elementos\n",
    "# los atributos de la clase Coche son: color y ruedas\n",
    "\n",
    "seat.ruedas = 5 # <--- \"ruedas\" es distinta a \"ruedas\" de \"Coche.ruedas\"\n",
    "seat.ruedas"
   ]
  },
  {
   "cell_type": "code",
   "execution_count": 29,
   "metadata": {},
   "outputs": [
    {
     "data": {
      "text/plain": [
       "4"
      ]
     },
     "execution_count": 29,
     "metadata": {},
     "output_type": "execute_result"
    }
   ],
   "source": [
    "Coche.ruedas"
   ]
  },
  {
   "cell_type": "markdown",
   "metadata": {},
   "source": [
    "Ahora todos los coches que creamos, tendrán 4 puertas y 4 ruedas."
   ]
  },
  {
   "cell_type": "code",
   "execution_count": 21,
   "metadata": {},
   "outputs": [
    {
     "name": "stdout",
     "output_type": "stream",
     "text": [
      "citroen\n",
      "numero de puertas : 4\n",
      "numero de ruedas : 4 \n",
      "\n",
      "seat\n",
      "numero de puertas : 4\n",
      "numero de ruedas : 4\n"
     ]
    }
   ],
   "source": []
  },
  {
   "cell_type": "markdown",
   "metadata": {},
   "source": [
    "También podemos modificar los atributos. Esto Python lo hace muy sencillo, los cambiamos directamente reasignando valores. En otros lenguajes de programación hay que implementar esto mediante métodos  denominados `getters` y `setters`."
   ]
  },
  {
   "cell_type": "code",
   "execution_count": 6,
   "metadata": {},
   "outputs": [
    {
     "name": "stdout",
     "output_type": "stream",
     "text": [
      "<__main__.Coche object at 0x00000188A1DAD088>\n",
      "2\n"
     ]
    }
   ],
   "source": []
  },
  {
   "cell_type": "markdown",
   "metadata": {},
   "source": [
    "<table align=\"left\">\n",
    " <tr><td width=\"80\"><img src=\"./img/error.png\" style=\"width:auto;height:auto\"></td>\n",
    "     <td style=\"text-align:left\">\n",
    "         <h3>ERRORES atributos que no existen</h3>\n",
    "         \n",
    " </td></tr>\n",
    "</table>"
   ]
  },
  {
   "cell_type": "code",
   "execution_count": 22,
   "metadata": {},
   "outputs": [
    {
     "name": "stdout",
     "output_type": "stream",
     "text": [
      "<__main__.Coche object at 0x00000257AC4C89A0>\n"
     ]
    },
    {
     "ename": "AttributeError",
     "evalue": "'Coche' object has no attribute 'motor'",
     "output_type": "error",
     "traceback": [
      "\u001b[1;31m---------------------------------------------------------------------------\u001b[0m",
      "\u001b[1;31mAttributeError\u001b[0m                            Traceback (most recent call last)",
      "Cell \u001b[1;32mIn[22], line 4\u001b[0m\n\u001b[0;32m      1\u001b[0m seat \u001b[38;5;241m=\u001b[39m Coche()\n\u001b[0;32m      3\u001b[0m \u001b[38;5;28mprint\u001b[39m(seat)\n\u001b[1;32m----> 4\u001b[0m \u001b[38;5;28mprint\u001b[39m(\u001b[43mseat\u001b[49m\u001b[38;5;241;43m.\u001b[39;49m\u001b[43mmotor\u001b[49m)\n",
      "\u001b[1;31mAttributeError\u001b[0m: 'Coche' object has no attribute 'motor'"
     ]
    }
   ],
   "source": [
    "seat = Coche()\n",
    "\n",
    "print(seat)\n",
    "print(seat.motor)"
   ]
  },
  {
   "cell_type": "markdown",
   "metadata": {},
   "source": [
    "Seguimos sin poder diferenciar claramente un coche de otro, pero ya vamos definiendo sus características, que será posible ir modificándolas tanto en la inicialización del objeto, como después. De momento, tenemos características comunes a todos los coches... o no, ¿todos los coches tienen 4 puertas?"
   ]
  },
  {
   "cell_type": "markdown",
   "metadata": {},
   "source": [
    "## 3. Constructor\n",
    "Cuando creamos un objeto de la clase *Coche*, tenemos que definirlo bien para diferenciarlo de otros coches. Esa definición inicial se realiza en el constructor de la clase. Son unos argumentos de entrada que nos pide el objeto, para definir esa instancia de otras instancias de la misma clase.\n",
    "\n",
    "**¿Cómo definimos esto?** Mediante la sentencia `__init__`, dentro de la clase."
   ]
  },
  {
   "cell_type": "code",
   "execution_count": 25,
   "metadata": {},
   "outputs": [],
   "source": []
  },
  {
   "cell_type": "code",
   "execution_count": 27,
   "metadata": {},
   "outputs": [
    {
     "name": "stdout",
     "output_type": "stream",
     "text": [
      "Tenis\n",
      "Tenis\n",
      "has impresoTenis\n"
     ]
    }
   ],
   "source": [
    "class Deporte:\n",
    "    num_jugadores = 11\n",
    "    \n",
    "    def __init__(self, nombre = \"Tenis\"):\n",
    "        self.nombre = nombre\n",
    "        \n",
    "    def imprime_nombre(self):\n",
    "        print(self.nombre)\n",
    "        return \"has impreso\" + self.nombre\n",
    "        \n",
    "futbol = Deporte()\n",
    "print(futbol.nombre)\n",
    "nombre_retornado = futbol.imprime_nombre()\n",
    "print(nombre_retornado)\n",
    "\n",
    "# objeto.atributo"
   ]
  },
  {
   "cell_type": "markdown",
   "metadata": {},
   "source": [
    "En la declaración del constructor hemos metido la palabra `self`. **Lo tendremos que poner siempre**. Hace referencia a la propia instancia de coche, es decir, a cuando creemos coches nuevos.\n",
    "\n",
    "En este caso estamos diferenciando los atributos comunes de la clase *Coche*, de los atributos particulares de los coches, como por ejemplo, la marca. Por eso la marca va junto con `self`, porque no hace referencia a la clase genércia de coche, sino a cada coche que creemos."
   ]
  },
  {
   "cell_type": "code",
   "execution_count": 11,
   "metadata": {},
   "outputs": [
    {
     "name": "stdout",
     "output_type": "stream",
     "text": [
      "<__main__.Coche object at 0x00000188A1DD5EC8>\n",
      "4\n",
      "4\n",
      "Citroen\n"
     ]
    }
   ],
   "source": [
    "citroen = Coche(\"Citroen\")\n",
    "\n",
    "print(citroen)\n",
    "print(citroen.puertas)\n",
    "print(citroen.ruedas)\n",
    "print(citroen.marca)"
   ]
  },
  {
   "cell_type": "markdown",
   "metadata": {},
   "source": [
    "Ahora ya podemos diferenciar los coches por su marca. Para acceder al atributo de la marca, lo hacemos igual que con los anteriores."
   ]
  },
  {
   "cell_type": "code",
   "execution_count": 28,
   "metadata": {},
   "outputs": [
    {
     "name": "stdout",
     "output_type": "stream",
     "text": [
      "Citroen\n",
      "Seat\n",
      "Renault\n"
     ]
    }
   ],
   "source": [
    "citroen = Coche(\"Citroen\")\n",
    "seat = Coche(\"Seat\")\n",
    "renault = Coche(\"Renault\")\n",
    "\n",
    "print(citroen.marca)\n",
    "print(seat.marca)\n",
    "print(renault.marca)"
   ]
  },
  {
   "cell_type": "markdown",
   "metadata": {},
   "source": [
    "Ya podemos solucionar el tema de que no todos los coches tienen 4 puertas"
   ]
  },
  {
   "cell_type": "code",
   "execution_count": 29,
   "metadata": {},
   "outputs": [],
   "source": [
    "class Coche:\n",
    "    ruedas = 4\n",
    "\n",
    "    def __init__(self, marca_coche, num_puertas):\n",
    "        self.marca = marca_coche\n",
    "        self.num_puertas = num_puertas\n",
    "        \n",
    "\n",
    "citroen = Coche(\"citroen\",3)"
   ]
  },
  {
   "cell_type": "code",
   "execution_count": 31,
   "metadata": {},
   "outputs": [
    {
     "data": {
      "text/plain": [
       "{'marca': 'citroen', 'num_puertas': 3}"
      ]
     },
     "execution_count": 31,
     "metadata": {},
     "output_type": "execute_result"
    }
   ],
   "source": [
    "citroen.__dict__"
   ]
  },
  {
   "cell_type": "code",
   "execution_count": 32,
   "metadata": {},
   "outputs": [
    {
     "name": "stdout",
     "output_type": "stream",
     "text": [
      "Help on class Coche in module __main__:\n",
      "\n",
      "class Coche(builtins.object)\n",
      " |  Coche(marca_coche, num_puertas)\n",
      " |  \n",
      " |  Methods defined here:\n",
      " |  \n",
      " |  __init__(self, marca_coche, num_puertas)\n",
      " |      Initialize self.  See help(type(self)) for accurate signature.\n",
      " |  \n",
      " |  ----------------------------------------------------------------------\n",
      " |  Data descriptors defined here:\n",
      " |  \n",
      " |  __dict__\n",
      " |      dictionary for instance variables (if defined)\n",
      " |  \n",
      " |  __weakref__\n",
      " |      list of weak references to the object (if defined)\n",
      " |  \n",
      " |  ----------------------------------------------------------------------\n",
      " |  Data and other attributes defined here:\n",
      " |  \n",
      " |  ruedas = 4\n",
      "\n"
     ]
    }
   ],
   "source": [
    "help(Coche)"
   ]
  },
  {
   "cell_type": "markdown",
   "metadata": {},
   "source": [
    "<table align=\"left\">\n",
    " <tr><td width=\"80\"><img src=\"./img/ejercicio.png\" style=\"width:auto;height:auto\"></td>\n",
    "     <td style=\"text-align:left\">\n",
    "         <h3>Ejercicio. Crea tu clase coche</h3>\n",
    "\n",
    "Crea tu propia clase coche a partir de la que acabamos de ver. La clase coche tiene que llevar un par de atributos comunes a todos los coches, y otros tres que los introduciremos mediante el constructor.\n",
    "         \n",
    " </td></tr>\n",
    "</table>"
   ]
  },
  {
   "cell_type": "code",
   "execution_count": 33,
   "metadata": {},
   "outputs": [],
   "source": []
  },
  {
   "cell_type": "markdown",
   "metadata": {},
   "source": [
    "## 4. Métodos\n",
    "Son funciones que podemos definir dentro de las clases. Estas funciones cambiarán el estado de algún atributo o realizarán calculos que nos sirvan de output. Un ejemplo sencillo puede ser, un método de la clase coche que saque la potencia en kilovatios, en vez de en caballos. O si tiene un estado de mantenimiento (ITV pasada o no), que modifique ese estado.\n",
    "\n",
    "El constructor es un tipo de método. La diferencia con el resto de métodos radica en su nombre, `__init__`. La sintaxis para definir los métodos es como si fuese una función. Y luego para llamar al método se utiliza `objeto.metodo(argumentos_metodo)`. Esto ya lo hemos usado anteriormente, cuando haciamos un `string.lower()`, simplemente llamábamos al método `lower()`, que no requería de argumentos, de la clase *string*."
   ]
  },
  {
   "cell_type": "code",
   "execution_count": 35,
   "metadata": {},
   "outputs": [],
   "source": [
    "class Coche:\n",
    "    ruedas = 4\n",
    "\n",
    "    def __init__(self, marca_coche, num_puertas):\n",
    "        self.marca_coche = marca_coche\n",
    "        self.num_puertas = num_puertas\n",
    "\n",
    "    def caracteristicas(self):\n",
    "        return \"Marca: \" + self.marca_coche + \". Num Puertas: \" + str(self.num_puertas) + \". Num Ruedas: \" + str(self.ruedas)"
   ]
  },
  {
   "cell_type": "code",
   "execution_count": 36,
   "metadata": {},
   "outputs": [
    {
     "name": "stdout",
     "output_type": "stream",
     "text": [
      "Marca: Volvo. Num Puertas: 4. Num Ruedas: 4\n"
     ]
    }
   ],
   "source": [
    "mi_coche = Coche(\"Volvo\",4)\n",
    "print(mi_coche.caracteristicas())"
   ]
  },
  {
   "cell_type": "markdown",
   "metadata": {},
   "source": [
    "Fíjate que para llamar a las ruedas se usa `self`, a pesar de que no lo habíamos metido en el constructor. Así evitamos llamar a otra variable del programa que se llame *ruedas*. Nos aseguramos que son las ruedas de ese coche con el `self`."
   ]
  },
  {
   "cell_type": "markdown",
   "metadata": {},
   "source": [
    "<table align=\"left\">\n",
    " <tr><td width=\"80\"><img src=\"./img/ejercicio.png\" style=\"width:auto;height:auto\"></td>\n",
    "     <td style=\"text-align:left\">\n",
    "         <h3>Ejercicio. Crea nuevos métodos</h3>\n",
    "\n",
    "Crea dos métodos nuevos en la clase coche.\n",
    "<ol>\n",
    "    <li>Introduce dos atributos nuevos en el constructor: Años desde su compra, y precio de compra.</li>\n",
    "    <li>Crea un método nuevo que calcule su precio actual. Si el coche tiene 5 años o menos, su precio será del 50% del precio de compra, en caso de que sean más años, será de un 30%</li>\n",
    "\n",
    "</ol>\n",
    " \n",
    " </td></tr>\n",
    "</table>"
   ]
  },
  {
   "cell_type": "code",
   "execution_count": 18,
   "metadata": {},
   "outputs": [],
   "source": [
    "\n",
    "\n"
   ]
  },
  {
   "cell_type": "code",
   "execution_count": 19,
   "metadata": {},
   "outputs": [
    {
     "name": "stdout",
     "output_type": "stream",
     "text": [
      "500.0\n",
      "300.0\n"
     ]
    },
    {
     "data": {
      "text/plain": [
       "4"
      ]
     },
     "execution_count": 19,
     "metadata": {},
     "output_type": "execute_result"
    }
   ],
   "source": []
  },
  {
   "cell_type": "markdown",
   "metadata": {},
   "source": [
    "## 5. Documentación\n",
    "Al igual que con las funciones, en las clases también podemos documentar con el método *built-in* `__doc__`. Es un método de `class`. Por tanto, podremos poner al principio de la clase una documentación con todo lo que hace esta clase. Ocurre lo mismo con los métodos de la clase. Se recomienda dar una breve definición de las funcionalidades de las clases/métodos y describir cómo son las entradas y salidas de los métodos. Qué espera recibir y de qué tipo."
   ]
  },
  {
   "cell_type": "code",
   "execution_count": 37,
   "metadata": {},
   "outputs": [
    {
     "name": "stdout",
     "output_type": "stream",
     "text": [
      "Help on built-in function print in module builtins:\n",
      "\n",
      "print(...)\n",
      "    print(value, ..., sep=' ', end='\\n', file=sys.stdout, flush=False)\n",
      "    \n",
      "    Prints the values to a stream, or to sys.stdout by default.\n",
      "    Optional keyword arguments:\n",
      "    file:  a file-like object (stream); defaults to the current sys.stdout.\n",
      "    sep:   string inserted between values, default a space.\n",
      "    end:   string appended after the last value, default a newline.\n",
      "    flush: whether to forcibly flush the stream.\n",
      "\n"
     ]
    }
   ],
   "source": [
    "help(print)"
   ]
  },
  {
   "cell_type": "markdown",
   "metadata": {},
   "source": [
    "## 6. Resumen"
   ]
  },
  {
   "cell_type": "code",
   "execution_count": 1,
   "metadata": {},
   "outputs": [
    {
     "name": "stdout",
     "output_type": "stream",
     "text": [
      "4\n",
      "Audi\n",
      "2\n",
      "Marca: Audi. Num Puertas: 2. Num Ruedas: 4\n"
     ]
    }
   ],
   "source": [
    "# Las clases se declaran con la siguiente sintaxis\n",
    "class Coche:\n",
    "    # Estos son los atributos comunes a los objetos de esta clase\n",
    "    ruedas = 4\n",
    "    \n",
    "    # Constructor de la clase\n",
    "    def __init__(self, marca_coche, num_puertas):\n",
    "        # Atributos particulares de cada instancia\n",
    "        self.marca_coche = marca_coche\n",
    "        self.num_puertas = num_puertas\n",
    "    \n",
    "    # Metodo propio de esta clase\n",
    "    def caracteristicas(self):\n",
    "        return \"Marca: \" + self.marca_coche + \". Num Puertas: \" + str(self.num_puertas) + \". Num Ruedas: \" + str(self.ruedas)\n",
    "\n",
    "audi = Coche(\"Audi\", 2)\n",
    "print(audi.ruedas)\n",
    "print(audi.marca_coche)\n",
    "print(audi.num_puertas)\n",
    "print(audi.caracteristicas())"
   ]
  },
  {
   "cell_type": "code",
   "execution_count": 2,
   "metadata": {},
   "outputs": [
    {
     "name": "stdout",
     "output_type": "stream",
     "text": [
      "La peli Gladiator con género romana tiene de reparto ['Russel Crowe', 'Joaquin Phoenix']\n",
      "La peli El nuevo Gladiador 2 con género romana tiene de reparto ['Russel Crowe', 'Joaquin Phoenix']\n"
     ]
    }
   ],
   "source": [
    "class Pelicula:\n",
    "    pais = \"Americanas\" # <---- esto son atributos DE LA CLASE\n",
    "    idioma = [\"Inglés\", \"Español\"]\n",
    "\n",
    "# MUY IMPORTANTE EL __init__ !!!\n",
    "\n",
    "    def __init__(self, titulo, genero, reparto): # el SELF no es una palabra reservada, puedo llamarla como quiera\n",
    "        self.titulo = titulo # son atributos de INSTANCIA\n",
    "        self.genero = genero\n",
    "        self.reparto = reparto\n",
    "\n",
    "    def dame_info(self):\n",
    "        print(\"La peli\", self.titulo, \n",
    "              \"con género\", self.genero, \n",
    "              \"tiene de reparto\", self.reparto)\n",
    "\n",
    "    def cambia_titulo(self, titulo_nuevo):\n",
    "        self.titulo = titulo_nuevo\n",
    "        self.dame_info()\n",
    "        return\n",
    "\n",
    "peli1 = Pelicula(\"Gladiator\", \"romana\", [\"Russel Crowe\", \"Joaquin Phoenix\"]) # <----hay que poner los paréntesis\n",
    "# podría haber puesto: peli1 = Pelicula(titulo = \"Gladiator\", genero = \"romana\", reparto = [\"Russel Crowe\", \"Joaquin Phoenix\"])\n",
    "peli1.__dict__\n",
    "peli1.dame_info()\n",
    "peli1.cambia_titulo(\"El nuevo Gladiador 2\")"
   ]
  },
  {
   "cell_type": "code",
   "execution_count": 3,
   "metadata": {},
   "outputs": [],
   "source": [
    "class Arbol:\n",
    "    def __init__(self, hojas = 2, \n",
    "                 madera = \"robusta\", \n",
    "                 nombre = \"roble\", \n",
    "                 frutal = False):\n",
    "        self.hojas = hojas\n",
    "        self.madera = madera\n",
    "        self.nombre = nombre\n",
    "        self.frutal = frutal\n",
    "    \n",
    "    def cambia_hojas(self, hojas_nuevas = 0): # <--- SIEMPRE se pone el SELF\n",
    "        self.hojas = hojas_nuevas\n",
    "    \n",
    "    def cambia_nombre(self, nombre_nuevo = \"abedul\"):\n",
    "        self.nombre = nombre_nuevo\n",
    "    \n",
    "    def cambia_hojas_nombre(self, hojas_nuevas, nombre_nuevo):\n",
    "        self.cambia_hojas(hojas_nuevas)\n",
    "        self.cambia_hojas_nombre(nombre_nuevo)"
   ]
  },
  {
   "cell_type": "code",
   "execution_count": 6,
   "metadata": {},
   "outputs": [],
   "source": [
    "class Avion:\n",
    "    color = \"blanco\"\n",
    "    aeropuertos = [\"Madrid\", \"París\", \"Marruecos\"]\n",
    "\n",
    "    def __init__(self, compania, marca):\n",
    "        self.compania = compania\n",
    "        self.marca = marca\n",
    "\n",
    "    def cambia_marca1(self):\n",
    "        self.marca = \"ALBERTO\"\n",
    "\n",
    "    def cambia_marca2(self):\n",
    "        marca_nueva = input (\"Introduzca la marca nueva: \")\n",
    "        self.marca = marca_nueva\n",
    "    \n",
    "    #@class_method\n",
    "    #def cambia_color(cls, color):\n",
    "    #   cls.color = color\n",
    "\n",
    "avion1 = Avion(\"Ryanair\", \"Boeing\")\n",
    "avion1.marca\n",
    "avion1.cambia_marca1()\n",
    "avion1.cambia_marca2()"
   ]
  },
  {
   "cell_type": "code",
   "execution_count": null,
   "metadata": {},
   "outputs": [],
   "source": []
  },
  {
   "cell_type": "code",
   "execution_count": null,
   "metadata": {},
   "outputs": [
    {
     "name": "stdout",
     "output_type": "stream",
     "text": [
      "¡Persona inicializada!\n"
     ]
    }
   ],
   "source": [
    "class Persona:\n",
    "\n",
    "    def __init__(self, \n",
    "                 cabeza = True, \n",
    "                 altura = 180, \n",
    "                 peso = [0, 100], \n",
    "                 ojos = \"marron\"):\n",
    "        self.cabeza = cabeza\n",
    "        self.altura = altura\n",
    "        self.peso = peso\n",
    "        self.ojos = ojos\n",
    "        print(\"¡Persona inicializada!\")\n",
    "    \n",
    "    def cortar_cabeza(self):\n",
    "        self.cabeza = False\n",
    "\n",
    "persona1 = Persona()"
   ]
  },
  {
   "cell_type": "code",
   "execution_count": 51,
   "metadata": {},
   "outputs": [
    {
     "data": {
      "text/plain": [
       "{'cabeza': True, 'altura': 180, 'peso': [0, 100], 'ojos': 'marron'}"
      ]
     },
     "execution_count": 51,
     "metadata": {},
     "output_type": "execute_result"
    }
   ],
   "source": [
    "persona1.__dict__"
   ]
  },
  {
   "cell_type": "code",
   "execution_count": 12,
   "metadata": {},
   "outputs": [],
   "source": [
    "class Jugador:\n",
    "    online = True # este True NO SE PUEDE MODIFICAR, pero sí en particular de cada uno\n",
    "    lista_medallas =[]\n",
    "\n",
    "    def __init__(self, nombre, edad, experiencia, lista_equipos, pais):\n",
    "        self.atributo_instancia_nombre = nombre\n",
    "        self.atributo_instancia_edad = edad\n",
    "        self.atributo_instancia_experiencia = experiencia\n",
    "        self.atributo_instancia_lista_equipos = lista_equipos\n",
    "        self.atributo_instancia_pais = pais\n",
    "\n",
    "    @classmethod\n",
    "    def cambia_online(cls, online):\n",
    "        cls.online = online\n",
    "    \n",
    "    @staticmethod\n",
    "    def suma (m , n):\n",
    "        print(m + n)\n",
    "    \n",
    "    def __str__(self):\n",
    "        return \"la edad es \" + str(self.atributo_instancia_edad)\n",
    "    \n",
    "    def __add__(self, other):\n",
    "        return self.atributo_instancia_edad + other.atributo_instancia_edad\n",
    "    \n",
    "    def __eq__(self, other):\n",
    "        return self.atributo_instancia_experiencia\n",
    "\n",
    "    def __call__(self):\n",
    "        print(\"Voy a añadir un año al jugador\", self.atributo_instancia_nombre)\n",
    "        self.atributo_instancia_edad = self.atributo_instancia_edad + 1\n",
    "    \n",
    "jugador1 = Jugador(\"Alberto\", \n",
    "                   42, \n",
    "                   \"diamante\", \n",
    "                   [\"Madrid\", \n",
    "                    \"Bridge\"],\n",
    "                    \"España\")\n",
    "\n",
    "jugador1.lista_medallas.append(\"hola\")\n",
    "jugador1.online = False\n",
    "\n",
    "jugador2 = Jugador(\"Hugo\", \n",
    "                   3000,\n",
    "                   \"platino\",\n",
    "                   [\"bridge\"],\n",
    "                   \"España\")"
   ]
  },
  {
   "cell_type": "code",
   "execution_count": 9,
   "metadata": {},
   "outputs": [
    {
     "name": "stdout",
     "output_type": "stream",
     "text": [
      "Alberto\n",
      "['hola']\n",
      "False\n",
      "True\n"
     ]
    }
   ],
   "source": [
    "print(jugador1.atributo_instancia_nombre)\n",
    "print(jugador2.lista_medallas)\n",
    "print(jugador1.online)\n",
    "print(jugador2.online)"
   ]
  },
  {
   "cell_type": "code",
   "execution_count": null,
   "metadata": {},
   "outputs": [
    {
     "name": "stdout",
     "output_type": "stream",
     "text": [
      "la edad es 42\n",
      "diamante\n"
     ]
    },
    {
     "data": {
      "text/plain": [
       "'3042'"
      ]
     },
     "execution_count": 9,
     "metadata": {},
     "output_type": "execute_result"
    }
   ],
   "source": [
    "print(str(jugador1))\n",
    "print(jugador1 == jugador2)\n",
    "\n",
    "str(jugador1 + jugador2) "
   ]
  },
  {
   "cell_type": "code",
   "execution_count": 15,
   "metadata": {},
   "outputs": [
    {
     "name": "stdout",
     "output_type": "stream",
     "text": [
      "Voy a añadir un año al jugador Alberto\n"
     ]
    }
   ],
   "source": [
    "jugador1()"
   ]
  },
  {
   "cell_type": "code",
   "execution_count": 16,
   "metadata": {},
   "outputs": [
    {
     "data": {
      "text/plain": [
       "'la edad es 44'"
      ]
     },
     "execution_count": 16,
     "metadata": {},
     "output_type": "execute_result"
    }
   ],
   "source": [
    "str(jugador1)"
   ]
  },
  {
   "cell_type": "code",
   "execution_count": 21,
   "metadata": {},
   "outputs": [
    {
     "name": "stdout",
     "output_type": "stream",
     "text": [
      "False\n",
      "3.6\n",
      "<class '__main__.Jugador'>\n",
      "el pais es España\n"
     ]
    }
   ],
   "source": [
    "print(str(False))\n",
    "print(str(3.6))\n",
    "print(str(Jugador))\n",
    "\n",
    "# como vemos, los dos primero sí lo pasa a str pero el último no porque es una clase\n",
    "# por eso tengo que definir el \"def __str__(self)\" para así modificar la clase y poder devolver un str\n",
    "print(str(jugador1))\n"
   ]
  },
  {
   "cell_type": "code",
   "execution_count": 3,
   "metadata": {},
   "outputs": [
    {
     "name": "stdout",
     "output_type": "stream",
     "text": [
      "['hola', 'hola']\n",
      "['hola', 'hola']\n",
      "['hola', 'hola']\n"
     ]
    }
   ],
   "source": [
    "Jugador.lista_medallas.append(\"hola\")\n",
    "\n",
    "print(Jugador.lista_medallas)\n",
    "print(jugador1.lista_medallas)\n",
    "print(jugador2.lista_medallas)"
   ]
  },
  {
   "cell_type": "code",
   "execution_count": 3,
   "metadata": {},
   "outputs": [
    {
     "data": {
      "text/plain": [
       "True"
      ]
     },
     "execution_count": 3,
     "metadata": {},
     "output_type": "execute_result"
    }
   ],
   "source": [
    "Jugador.online #el de la clase en GENERAL"
   ]
  },
  {
   "cell_type": "code",
   "execution_count": 4,
   "metadata": {},
   "outputs": [
    {
     "data": {
      "text/plain": [
       "True"
      ]
     },
     "execution_count": 4,
     "metadata": {},
     "output_type": "execute_result"
    }
   ],
   "source": [
    "jugador1.online # el del jugador1 en PARTICULAR"
   ]
  }
 ],
 "metadata": {
  "kernelspec": {
   "display_name": "Python 3",
   "language": "python",
   "name": "python3"
  },
  "language_info": {
   "codemirror_mode": {
    "name": "ipython",
    "version": 3
   },
   "file_extension": ".py",
   "mimetype": "text/x-python",
   "name": "python",
   "nbconvert_exporter": "python",
   "pygments_lexer": "ipython3",
   "version": "3.13.3"
  }
 },
 "nbformat": 4,
 "nbformat_minor": 4
}

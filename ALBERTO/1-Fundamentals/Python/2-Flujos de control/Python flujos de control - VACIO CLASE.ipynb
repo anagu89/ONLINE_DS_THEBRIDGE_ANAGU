{
 "cells": [
  {
   "attachments": {},
   "cell_type": "markdown",
   "metadata": {},
   "source": [
    "![imagen](./img/python.jpg)"
   ]
  },
  {
   "attachments": {},
   "cell_type": "markdown",
   "metadata": {},
   "source": [
    "# Python Flujos de Control\n",
    "\n",
    "\n",
    "Hasta ahora hemos visto cómo ejecutar un programa secuencialmente, empieza en la primera línea y acaba en la última. Pero ¿y si queremos que cambien los outputs del programa en función de ciertas condiciones, o si queremos que tome otros caminos en caso de encontrar errores?. Todo esto lo podremos hacer con los flujos de control. Sentencias que encontrarás en todos los lenguajes de programación.\n",
    "\n",
    "1. [Sintaxis de línea](#1.-Sintaxis-de-línea)\n",
    "1. [if/elif/else](#2.-if/elif/else)\n",
    "2. [Bucle for](#3.-Bucle-for)\n",
    "3. [Bucle while](#4.-Bucle-while)\n",
    "4. [Break/continue](#5.-Break/continue)\n",
    "5. [Try/except](#6.-Try/except)\n",
    "10. [Resumen](#7.-Resumen)"
   ]
  },
  {
   "attachments": {},
   "cell_type": "markdown",
   "metadata": {},
   "source": [
    "## 1. Sintaxis de línea\n",
    "La manera en la que Python encapsula todo el código que va dentro de un flujo de control como `if` o `for` es diferente a como se suele hacer en otros lenguajes, en los que se rodea de llaves `{}` o paréntesis `()` todo el contenido del flujo. Con Python no. En Python simplemente hay que añadir una tabulación a cada línea de código que vaya dentro del flujo de control.\n",
    "\n",
    "; semicolon  \n",
    ": colon  \n",
    "... ellipsis  \n",
    "() round brackets  \n",
    "[] brackets  \n",
    "{} curly brackets  \n",
    "\n",
    "> ```Python\n",
    "> for condiciones:\n",
    ">     Código dentro de este bucle\n",
    "> ```\n",
    "\n",
    "\n",
    "Si lo dejamos fuera, este código se ejecutará secuencialmente después de que corra el for\n",
    "\n",
    "> ```Python\n",
    "> for condiciones:\n",
    ">\n",
    "> Código fuera de este bucle\n",
    "> ```\n",
    "\n",
    "Veamos un ejemplo. Tenemos una lista de numeros, y queremos ver cuáles son enteros. Para ello los recorremos con un `for` (vermos más en profundiad en este notebook). Vamos iternando uno a uno cada elemento. Luego mediante un `if` comprobamos si es entero. Fíjate que todo lo que va dentro del `for` lleva una tabulación y lo que va dentro del `if` lleva dos tabulaciones, puesto que sus sentencias van tanto dentro del `if`, como dentro del `for`."
   ]
  },
  {
   "cell_type": "code",
   "execution_count": 1,
   "metadata": {},
   "outputs": [
    {
     "name": "stdout",
     "output_type": "stream",
     "text": [
      "El número 4  es un entero.\n",
      "El número 6  es un entero.\n"
     ]
    }
   ],
   "source": [
    "numeros = [4, 6, 4.0, 3.0]\n",
    "\n",
    "for num in numeros:\n",
    "    if type (num) == int:\n",
    "        print(\"El número\", num, \" es un entero.\")"
   ]
  },
  {
   "cell_type": "code",
   "execution_count": null,
   "metadata": {},
   "outputs": [
    {
     "name": "stdout",
     "output_type": "stream",
     "text": [
      "Tengo la lista: []\n",
      "Otro error cualquiera\n"
     ]
    }
   ],
   "source": [
    "try:\n",
    "    lista = [] # tengo una lista vacía\n",
    "    print(\"Tengo la lista:\", lista)\n",
    "    print(lista[2]) # le estoy pidiendo que me diga el elemento\n",
    "\n",
    "except (ZeroDivisionError, SyntaxError): # es una tupla\n",
    "    print(\"No es posible.\")\n",
    "\n",
    "except:\n",
    "    print(\"Otro error cualquiera\")"
   ]
  },
  {
   "cell_type": "code",
   "execution_count": null,
   "metadata": {},
   "outputs": [
    {
     "name": "stdout",
     "output_type": "stream",
     "text": [
      "1\n",
      "<class 'list'>\n"
     ]
    }
   ],
   "source": [
    "# Si tengo una coma, sólo es un elemento. Serán varios si pongo \"\" o \" \".\n",
    "\n",
    "lista2 = [7,]\n",
    "print(len(lista2))\n",
    "print(type(lista2))"
   ]
  },
  {
   "cell_type": "code",
   "execution_count": null,
   "metadata": {},
   "outputs": [
    {
     "data": {
      "text/plain": [
       "tuple"
      ]
     },
     "execution_count": 24,
     "metadata": {},
     "output_type": "execute_result"
    }
   ],
   "source": [
    "cosa = 1,2,3       # es una TUPLA porque no ha necesitado que yo le ponga los ( )\n",
    "lista3 = [cosa]\n",
    "type(lista3[0])"
   ]
  },
  {
   "cell_type": "code",
   "execution_count": null,
   "metadata": {},
   "outputs": [
    {
     "data": {
      "text/plain": [
       "()"
      ]
     },
     "execution_count": 25,
     "metadata": {},
     "output_type": "execute_result"
    }
   ],
   "source": [
    "cosa = 1,2,3\n",
    "lista3 = [cosa]\n",
    "\n",
    "# SLICING\n",
    "lista3 [0][-4::-1]\n",
    "\n",
    "# un trozo de lista siempre es una lista\n",
    "# un trozo de tupla siempre una tupla"
   ]
  },
  {
   "cell_type": "code",
   "execution_count": 27,
   "metadata": {},
   "outputs": [
    {
     "data": {
      "text/plain": [
       "'la'"
      ]
     },
     "execution_count": 27,
     "metadata": {},
     "output_type": "execute_result"
    }
   ],
   "source": [
    "\"hola\"[2:] # accede desde el elemento 8 al adelante"
   ]
  },
  {
   "cell_type": "code",
   "execution_count": 28,
   "metadata": {},
   "outputs": [
    {
     "data": {
      "text/plain": [
       "''"
      ]
     },
     "execution_count": 28,
     "metadata": {},
     "output_type": "execute_result"
    }
   ],
   "source": [
    "\"hola\"[2:2] # coge del 2 en adelante pero no llegues al 2"
   ]
  },
  {
   "cell_type": "code",
   "execution_count": 30,
   "metadata": {},
   "outputs": [
    {
     "data": {
      "text/plain": [
       "'laquetalcomoestasbienyt'"
      ]
     },
     "execution_count": 30,
     "metadata": {},
     "output_type": "execute_result"
    }
   ],
   "source": [
    "# cógeme desde la posición 2 hasta la 25 de 1 en uno\n",
    "\"holaquetalcomoestasbienytu\"[2:25:1] # star: stop: step"
   ]
  },
  {
   "cell_type": "code",
   "execution_count": 31,
   "metadata": {},
   "outputs": [
    {
     "data": {
      "text/plain": [
       "'a'"
      ]
     },
     "execution_count": 31,
     "metadata": {},
     "output_type": "execute_result"
    }
   ],
   "source": [
    "\"hola\"[5:1:-2] # star: stop: step"
   ]
  },
  {
   "attachments": {},
   "cell_type": "markdown",
   "metadata": {},
   "source": [
    "<table align=\"left\">\n",
    " <tr><td width=\"80\"><img src=\"./img/error.png\" style=\"width:auto;height:auto\"></td>\n",
    "     <td style=\"text-align:left\">\n",
    "         <h3>ERRORES ¿Qué ocurre si nos olvidamos de tabular?</h3>\n",
    "         \n",
    " </td></tr>\n",
    "</table>"
   ]
  },
  {
   "cell_type": "code",
   "execution_count": 35,
   "metadata": {},
   "outputs": [
    {
     "name": "stdout",
     "output_type": "stream",
     "text": [
      "hola\n"
     ]
    }
   ],
   "source": [
    "n = False\n",
    "\n",
    "if not n:\n",
    "    print(\"hola\")"
   ]
  },
  {
   "cell_type": "code",
   "execution_count": null,
   "metadata": {},
   "outputs": [],
   "source": [
    "if 1==1:\n",
    "    pass\n",
    "\n",
    "# le pongo un pass por poner algo y que no me de error, para completarlo después\n",
    "\n",
    "# El BREAK es sólamente y UNICAMENTE en los bucles, que son WHILE y FOR,\n",
    "# sirven para salir inmediatamente del bucle.\n",
    "# El PASS lo uso cuando no es bucle, como en el IF."
   ]
  },
  {
   "cell_type": "code",
   "execution_count": null,
   "metadata": {},
   "outputs": [
    {
     "name": "stdout",
     "output_type": "stream",
     "text": [
      "hola8\n",
      "hola9\n"
     ]
    }
   ],
   "source": [
    "if []: # una lista vacía en booleano es False\n",
    "    print(\"hola1\")\n",
    "if \"\": # un str vacío en booleano es False\n",
    "    print(\"hola2\")\n",
    "if 0: # un 0 en booleano es False\n",
    "    print(\"hola3\")\n",
    "if set(): # un set vacío en booleano es False\n",
    "    print(\"hola4\")\n",
    "if {}: # en booleano es False\n",
    "    print(\"hola5\")\n",
    "if tuple(): # una tupla vacía en booleano es False\n",
    "    print(\"hola6\")\n",
    "if None:  # un None en booleano es False\n",
    "    print(\"hola7\")\n",
    "if 123: # es distinto de 0, por lo que es True\n",
    "    print(\"hola8\")\n",
    "if [[]]: # es True porque su valor es 1\n",
    "    print(\"hola9\")"
   ]
  },
  {
   "attachments": {},
   "cell_type": "markdown",
   "metadata": {},
   "source": [
    "Ojo, el error no ha dado en el `if`, sino en el `for`. Te señala lo que hay inmediatamente despues de los dos puntos del `for`, ya que considera que ahí debería haber una tabulación. No la hay, y por eso salta el error."
   ]
  },
  {
   "attachments": {},
   "cell_type": "markdown",
   "metadata": {},
   "source": [
    "### Sintaxis\n",
    "Por tanto, toda sentencia `if`, `for`, `while`, `try`, declaración de funciones, de clases, llevan dos puntos. Y después de los dos puntos, tabulado, va todo el contenido de ese bloque. **Siempre**.\n",
    "\n",
    "Si pones los dos puntos y le das a enter, Python automáticamente te tabula todo lo que vayas a escribir a continuación."
   ]
  },
  {
   "cell_type": "code",
   "execution_count": null,
   "metadata": {},
   "outputs": [
    {
     "name": "stdout",
     "output_type": "stream",
     "text": [
      "5\n",
      "2\n",
      "8\n",
      "8\n",
      "No se ha llegado a ejecutar el while.\n",
      "Fin\n"
     ]
    }
   ],
   "source": [
    "numero = int(input(\"Introduce un numero: \"))\n",
    "\n",
    "while numero != 0:\n",
    "    print(numero)\n",
    "    numero = int(input(\"Introduce un numero: \"))\n",
    "\n",
    "else:\n",
    "    print(\"No se ha llegado a ejecutar el while.\")\n",
    "\n",
    "print(\"Fin\")"
   ]
  },
  {
   "cell_type": "code",
   "execution_count": null,
   "metadata": {},
   "outputs": [
    {
     "name": "stdout",
     "output_type": "stream",
     "text": [
      "hola\n"
     ]
    },
    {
     "data": {
      "text/plain": [
       "4"
      ]
     },
     "execution_count": 56,
     "metadata": {},
     "output_type": "execute_result"
    }
   ],
   "source": [
    "# las variables sólo pueden tener 3 SCOPES: global, local y nonlocal\n",
    "\n",
    "def suma (a,b,c,d):\n",
    "    global variable_e\n",
    "    variable_e = \"hola\"\n",
    "\n",
    "    def suma2 (a,b,c):\n",
    "        \n",
    "        def suma3 (a,b):\n",
    "            return a + b\n",
    "    \n",
    "        return c + suma3(a,b)\n",
    "    \n",
    "    return d + suma2(a,b,c)\n",
    "\n",
    "suma(1,1,1,1)\n",
    "print(variable_e)\n"
   ]
  },
  {
   "attachments": {},
   "cell_type": "markdown",
   "metadata": {},
   "source": [
    "### ¿Tabulaciones o espacios?\n",
    "Cuidado con las tabulaciones ya que cuando pasamos de un editor de Python a otro, o cuando ejecutamos un corrector de estilo sobre nuestro código, hay veces que las tabulaciones dan problemas. Es por ello que muchos programadores en vez de usar tabulaciones, los sustituyen por 4 espacios. \n",
    "\n",
    "Este es el problema cuando no se normaliza o estandariza algo. Que cada progrmador usa lo que considera y después hay conflictos cuando pasamos de un IDE a otro. Este asunto lleva años sobre la mesa por lo que ahora la mayordía de IDEs no suelen tener problemas.\n",
    "\n",
    "Entonces, ¿qué usamos? Lo más cómo es añadir una tabulación, pero lo más correcto son espacios. En Jupyter esto es bastante transparente para nosotros ya que cuando añadimos una tabulación, realmente Jupyter lo traduce a 4 espacios, por lo que no debería ser un tema preocupante\n",
    "\n",
    "Es tal la discusión que hasta le [han dedicado una escena en la serie Silicon Valley](https://www.youtube.com/watch?v=ussOk-ilK_8)"
   ]
  },
  {
   "attachments": {},
   "cell_type": "markdown",
   "metadata": {},
   "source": [
    "## 2. if/elif/else\n",
    "En función de lo que valgan unas condiciones booleanas, ejecutaremos unas líneas de código, u otras. La sintaxis es muy sencilla:\n",
    "\n",
    "\n",
    "> ```Python\n",
    "> if condiciones:\n",
    ">     Si se cumplen las condiciones, ejecuta este código\n",
    "> else:\n",
    ">     Si no, ejecutas estre otro código\n",
    "> ```\n",
    "    \n",
    "Veamos un ejemplo"
   ]
  },
  {
   "cell_type": "code",
   "execution_count": 60,
   "metadata": {},
   "outputs": [
    {
     "name": "stdout",
     "output_type": "stream",
     "text": [
      "bien\n"
     ]
    }
   ],
   "source": [
    "nota = 6\n",
    "\n",
    "if nota < 5:\n",
    "    print(\"suspenso\")\n",
    "\n",
    "elif nota < 6:\n",
    "    print(\"suficiente\")\n",
    "\n",
    "elif nota < 7:\n",
    "    print(\"bien\")\n",
    "\n",
    "elif nota < 8:\n",
    "    print(\"notable\")\n",
    "\n",
    "else:\n",
    "    print(\"sobresaliente\")"
   ]
  },
  {
   "attachments": {},
   "cell_type": "markdown",
   "metadata": {},
   "source": [
    "Únicamente se ejecuta la parte de código que consigue un `True` en la condición. `print(\"Aprobado!\")` sólo se imprimirá por pantalla si la nota es mayor o igual a 5.\n",
    "\n",
    "Vamos a ver otro ejemplo. Ahora quiero un poco más de granularidad en la nota, con bienes, notables y tal"
   ]
  },
  {
   "cell_type": "code",
   "execution_count": 12,
   "metadata": {},
   "outputs": [
    {
     "name": "stdout",
     "output_type": "stream",
     "text": [
      "Notable\n"
     ]
    }
   ],
   "source": []
  },
  {
   "cell_type": "code",
   "execution_count": 11,
   "metadata": {},
   "outputs": [
    {
     "name": "stdout",
     "output_type": "stream",
     "text": [
      "toma agua\n",
      "2\n"
     ]
    }
   ],
   "source": []
  },
  {
   "attachments": {},
   "cell_type": "markdown",
   "metadata": {},
   "source": [
    "**IMPORTANTE**. Todos los `ifs` se ejecutan secuencialmente. Por eso, en este caso no es necesario acotar tanto la nota:\n",
    "\n",
    "* Primero comprueba si es menor de 5, de ser así, suspenso.\n",
    "* Ya sabemos que es mayor o igual a 5\n",
    "* En la siguiente condición comprueba si es menor que 6, es decir, entre 5 y 6. Si es `False`, seguimos a la siguiente condición. Ahora bien, si es `True`, ejecutamos únicamente ese código y nos olvidamos de todo lo demás. Ya puede haber 150 condiciones, que si la primera es `True`, el resto es como si no existiese.\n",
    "\n",
    "Fíjate que la sintaxis es bastante intuitiva. `if` una condición, dos puntos y me ejecutas todo lo que hay aqui dentro, `elif` (acorta el `else if`), si se cumple esta otra condición, se ejecuta este otro código. Y si no se cumple ninguna de estas, ejecuta lo que haya en el `else`."
   ]
  },
  {
   "attachments": {},
   "cell_type": "markdown",
   "metadata": {},
   "source": [
    "¿Recuerdas lo que viste con el *Algebra de Boole*? Este es el momento de utilizarlo. Cuando acudimos a varias condiciones dentro de un mismo `if`, tenemos que tener muy claras las operaciones binarias que estamos realizando."
   ]
  },
  {
   "cell_type": "code",
   "execution_count": null,
   "metadata": {},
   "outputs": [
    {
     "name": "stdout",
     "output_type": "stream",
     "text": [
      "Ave\n"
     ]
    }
   ],
   "source": [
    "pico = True\n",
    "alas = True\n",
    "sonido = \"Piar\"\n",
    "patas = 2\n",
    "\n",
    "if pico or alas:\n",
    "    print(\"Ave\")\n",
    "elif patas == 4 and sonido == \"Ladrar\":\n",
    "    print(\"Perro\")\n",
    "else:\n",
    "    print(\"Otro animal\")"
   ]
  },
  {
   "attachments": {},
   "cell_type": "markdown",
   "metadata": {},
   "source": [
    "<table align=\"left\">\n",
    " <tr><td width=\"80\"><img src=\"./img/ejercicio.png\" style=\"width:auto;height:auto\"></td>\n",
    "     <td style=\"text-align:left\">\n",
    "         <h3>Ejercicio if/else</h3>\n",
    "\n",
    "El ejemplo de las notas está muy bien, pero demasiado sencillo. ¿Qué pasa si la nota es mayor de 10 o menor que 0? No parece una nota correcta. En programación hay que anticiparse a los errores. Reescribe el código para tener en cuenta esos casos, cuya nota tendrás que catalogarla como \"Nota errónea\"\n",
    "         \n",
    " </td></tr>\n",
    "</table>"
   ]
  },
  {
   "cell_type": "code",
   "execution_count": 13,
   "metadata": {},
   "outputs": [
    {
     "name": "stdout",
     "output_type": "stream",
     "text": [
      "Nota Erronea\n"
     ]
    }
   ],
   "source": []
  },
  {
   "attachments": {},
   "cell_type": "markdown",
   "metadata": {},
   "source": [
    "## 3. Bucle for\n",
    "Gracias a los bucles podemos ejecutar código repetitivo, de manera bastante automática. Son muy útiles para que nuestro código no sea redundante, y también para aplicar operaciones cuando manejamos iterables. Un iterable no es más que una colección de objetos (una lista es un iterable) que podremos ir recorriendo uno a uno con el bucle `for`, y aplicar operaciones a cada elemento.\n",
    "\n",
    "La sintaxis de los bucles `for` es la siguiente:\n",
    "\n",
    "> `for var_ejecucion in limites ejecución:`\n",
    "> \n",
    ">           codigo del for...\n",
    "    \n",
    "    \n",
    "* **Límites de ejecución**: La cantidad de veces que queremos que se ejecute un `for`. Esto es así porque si no se ejecutarían hasta el infinito. Y además, tienen una variable de ejecución que se va actualizando. Por ejemplo del 1 al 10. Primero valdría 1, luego 2...así hasta 10.\n",
    "\n",
    "\n",
    "* **Variable de ejecución**: dentro del for habrá una variable que se irá actualizando con cada ejecución. Si se ejecuta 10 veces, primero la variable valdrá 1, luego 2, y así hasta 10.\n",
    "\n",
    "![imagen](./img/for-loop-python.jpg)"
   ]
  },
  {
   "attachments": {},
   "cell_type": "markdown",
   "metadata": {},
   "source": [
    "Mejor vemos un ejemplo para entenderlo. Tienes las notas de tres alumnos en una lista, y quieres imprimir por pantalla las notas"
   ]
  },
  {
   "cell_type": "code",
   "execution_count": 14,
   "metadata": {},
   "outputs": [
    {
     "name": "stdout",
     "output_type": "stream",
     "text": [
      "3\n",
      "4\n",
      "4\n"
     ]
    }
   ],
   "source": [
    "notas = [3, 4, 4]\n",
    "\n",
    "print(notas[0])\n",
    "print(notas[1])\n",
    "print(notas[2])"
   ]
  },
  {
   "attachments": {},
   "cell_type": "markdown",
   "metadata": {},
   "source": [
    "Genial, pero qué ocurre si ahora tienes 30 notas, o simplemente quieres que tu programa no dependa de cuantas notas tienes, unas veces son 30, otras 20..."
   ]
  },
  {
   "cell_type": "code",
   "execution_count": null,
   "metadata": {},
   "outputs": [
    {
     "name": "stdout",
     "output_type": "stream",
     "text": [
      "4\n",
      "5\n",
      "7\n",
      "3\n",
      "4\n",
      "6\n",
      "5\n",
      "5\n",
      "4\n",
      "5\n",
      "5\n",
      "6\n",
      "Me guardo la última nota:  6\n"
     ]
    }
   ],
   "source": [
    "# objetos ITERABLES: set, str, tuplas, diccionarios, listas, range.\n",
    "\n",
    "notas_clase = [4,5,7,3,4,6,5,5,4,5,5,6]\n",
    "\n",
    "for nota in notas_clase:\n",
    "    print(nota)\n",
    "\n",
    "print(\"Me guardo la última nota: \", nota)"
   ]
  },
  {
   "cell_type": "code",
   "execution_count": 16,
   "metadata": {},
   "outputs": [
    {
     "name": "stdout",
     "output_type": "stream",
     "text": [
      "4\n",
      "5\n",
      "7\n",
      "3\n",
      "4\n",
      "6\n",
      "5\n",
      "5\n",
      "4\n",
      "5\n",
      "6\n",
      "7\n",
      "8\n",
      "7\n",
      "6\n",
      "4\n",
      "6\n",
      "5\n",
      "5\n",
      "4\n",
      "5\n",
      "6\n"
     ]
    }
   ],
   "source": [
    "# Si me cambia el numero de alumnos, el for de antes me vale igual\n",
    "notas_clase = [4,5,7,3,4,6,5,5,4,5,6,7,8,7,6,4,6,5,5,4,5,6,]\n",
    "for nota in notas_clase:\n",
    "    print(nota)\n",
    "\n"
   ]
  },
  {
   "cell_type": "code",
   "execution_count": 17,
   "metadata": {},
   "outputs": [
    {
     "name": "stdout",
     "output_type": "stream",
     "text": [
      "Lunes\n",
      "Martes\n",
      "Miércoles\n",
      "Jueves\n",
      "Viernes\n",
      "Sábado\n",
      "Domingo\n"
     ]
    }
   ],
   "source": [
    "# Si en vez de numeros, tenemos texto, también nos vale\n",
    "dias_semana = [\"Lunes\", \"Martes\", \"Miércoles\", \"Jueves\", \"Viernes\", \"Sábado\", \"Domingo\"]\n",
    "for dia in dias_semana:\n",
    "    print(dia)"
   ]
  },
  {
   "attachments": {},
   "cell_type": "markdown",
   "metadata": {},
   "source": [
    "Todo objeto que sea **iterable**, lo podrás recorrer en un `for`. Veremos los iterables más en detalle en las colecciones."
   ]
  },
  {
   "cell_type": "code",
   "execution_count": 18,
   "metadata": {},
   "outputs": [
    {
     "name": "stdout",
     "output_type": "stream",
     "text": [
      "P\n",
      "y\n",
      "t\n",
      "h\n",
      "o\n",
      "n\n"
     ]
    }
   ],
   "source": [
    "# Fijate que un String también es un iterable\n",
    "for letra in \"Python\":\n",
    "    print(letra)"
   ]
  },
  {
   "attachments": {},
   "cell_type": "markdown",
   "metadata": {},
   "source": [
    "El bucle for resulta de gran utilidad para **aplicar operaciones a cada elemento**. Hasta ahora solo hemos impreso items por pantalla, pero ¿y si queremos subir la nota de todos los alumnos un punto extra? No puedo hacer `lista + 1`. Tendré que iterar/recorrer cada elemento y aplicarle la operación."
   ]
  },
  {
   "cell_type": "code",
   "execution_count": 19,
   "metadata": {},
   "outputs": [
    {
     "name": "stdout",
     "output_type": "stream",
     "text": [
      "5\n",
      "6\n",
      "8\n",
      "4\n",
      "5\n",
      "7\n",
      "6\n",
      "6\n",
      "5\n",
      "6\n",
      "6\n",
      "7\n"
     ]
    }
   ],
   "source": [
    "notas_clase = [4,5,7,3,4,6,5,5,4,5,5,6]\n",
    "\n",
    "\n",
    "for nota in notas_clase:\n",
    "    print(nota + 1)\n",
    "    \n"
   ]
  },
  {
   "attachments": {},
   "cell_type": "markdown",
   "metadata": {},
   "source": [
    "Dentro de un bucle `for`, podremos anidar más bucles. Esto resulta útil si queremos calcular combinaciones de iterables, por ejemplo, si quiero imprimir por pantalla todas las coordenadas de un tablero de 4x4."
   ]
  },
  {
   "attachments": {},
   "cell_type": "markdown",
   "metadata": {},
   "source": [
    "<table align=\"left\">\n",
    " <tr><td width=\"80\"><img src=\"./img/error.png\" style=\"width:auto;height:auto\"></td>\n",
    "     <td style=\"text-align:left\">\n",
    "         <h3>ERRORES concatenado str + num</h3>\n",
    "         \n",
    " </td></tr>\n",
    "</table>"
   ]
  },
  {
   "attachments": {},
   "cell_type": "markdown",
   "metadata": {},
   "source": [
    "Cuidado cuando estemos recorriendo una lista de numeros y en el print interno intentemos imprimir por pantalla su concatenado. ¡Hay que pasar el numero a string! o emplear otro método en el `print`."
   ]
  },
  {
   "cell_type": "code",
   "execution_count": 20,
   "metadata": {},
   "outputs": [
    {
     "ename": "TypeError",
     "evalue": "can only concatenate str (not \"int\") to str",
     "output_type": "error",
     "traceback": [
      "\u001b[1;31m---------------------------------------------------------------------------\u001b[0m",
      "\u001b[1;31mTypeError\u001b[0m                                 Traceback (most recent call last)",
      "Cell \u001b[1;32mIn[20], line 2\u001b[0m\n\u001b[0;32m      1\u001b[0m \u001b[39mfor\u001b[39;00m i \u001b[39min\u001b[39;00m [\u001b[39m1\u001b[39m,\u001b[39m2\u001b[39m,\u001b[39m3\u001b[39m,\u001b[39m4\u001b[39m]:\n\u001b[1;32m----> 2\u001b[0m     \u001b[39mprint\u001b[39m(\u001b[39m\"\u001b[39;49m\u001b[39mNumero: \u001b[39;49m\u001b[39m\"\u001b[39;49m \u001b[39m+\u001b[39;49m i)\n",
      "\u001b[1;31mTypeError\u001b[0m: can only concatenate str (not \"int\") to str"
     ]
    }
   ],
   "source": [
    "for i in [1,2,3,4]:\n",
    "    print(\"Numero: \" + i)"
   ]
  },
  {
   "attachments": {},
   "cell_type": "markdown",
   "metadata": {},
   "source": [
    "### Función range\n",
    "Es muy común usar la función `range()` en las condiciones de un bucle. Esta función puede funcionar con un único argumento numérico y su output es un **iterable**, comprendido entre el 0 y el número introducido como argumento.\n",
    "\n",
    "Verás en [la documentación](https://www.w3schools.com/python/ref_func_range.asp) que `range()` tiene más posibilidades, combinando sus argumentos."
   ]
  },
  {
   "cell_type": "code",
   "execution_count": 64,
   "metadata": {},
   "outputs": [
    {
     "data": {
      "text/plain": [
       "[1, 3]"
      ]
     },
     "execution_count": 64,
     "metadata": {},
     "output_type": "execute_result"
    }
   ],
   "source": [
    "# range es un objeto \n",
    "\n",
    "list(range(1, 5, 2)) #start, stop, step"
   ]
  },
  {
   "cell_type": "code",
   "execution_count": null,
   "metadata": {},
   "outputs": [
    {
     "name": "stdout",
     "output_type": "stream",
     "text": [
      "Coordenada:  0 , 0\n",
      "Coordenada:  0 , 1\n",
      "Coordenada:  0 , 2\n",
      "Coordenada:  0 , 3\n",
      "Coordenada:  0 , 4\n",
      "Coordenada:  1 , 0\n",
      "Coordenada:  1 , 1\n",
      "Coordenada:  1 , 2\n",
      "Coordenada:  1 , 3\n",
      "Coordenada:  1 , 4\n",
      "Coordenada:  2 , 0\n",
      "Coordenada:  2 , 1\n",
      "Coordenada:  2 , 2\n",
      "Coordenada:  2 , 3\n",
      "Coordenada:  2 , 4\n",
      "Coordenada:  3 , 0\n",
      "Coordenada:  3 , 1\n",
      "Coordenada:  3 , 2\n",
      "Coordenada:  3 , 3\n",
      "Coordenada:  3 , 4\n",
      "Coordenada:  4 , 0\n",
      "Coordenada:  4 , 1\n",
      "Coordenada:  4 , 2\n",
      "Coordenada:  4 , 3\n",
      "Coordenada:  4 , 4\n"
     ]
    }
   ],
   "source": [
    "for x in range (5): # 0,1,2,3,4\n",
    "    for y in range (5): # 0,1,2,3,4\n",
    "        print(\"Coordenada: \", x, \",\", y)"
   ]
  },
  {
   "cell_type": "code",
   "execution_count": null,
   "metadata": {},
   "outputs": [
    {
     "name": "stdout",
     "output_type": "stream",
     "text": [
      "0\n",
      "1\n",
      "2\n",
      "3\n",
      "4\n"
     ]
    }
   ],
   "source": [
    "#                           indices: 0,1,2,3,4\n",
    "for x in range (5): # es decir range(0,5,1) --> star, stop, step: empieza, NO puedes llegar a, de cuánto\n",
    "    print(x)"
   ]
  },
  {
   "cell_type": "code",
   "execution_count": 73,
   "metadata": {},
   "outputs": [
    {
     "name": "stdout",
     "output_type": "stream",
     "text": [
      "10\n",
      "7\n",
      "4\n",
      "1\n"
     ]
    }
   ],
   "source": [
    "for x in range (10,-2,-3): # --> star, stop, step: empieza, NO puedes llegar a, de cuánto\n",
    "    print(x)"
   ]
  },
  {
   "cell_type": "code",
   "execution_count": 75,
   "metadata": {},
   "outputs": [
    {
     "data": {
      "text/plain": [
       "[]"
      ]
     },
     "execution_count": 75,
     "metadata": {},
     "output_type": "execute_result"
    }
   ],
   "source": [
    "for x in range (10,-4,3): # --> star, stop, step: empieza, NO puedes llegar a, de cuánto\n",
    "    print(x)\n",
    "\n",
    "# no da nada porque no llega a ningún lado. Si lo paso a lista sería una lista vacía\n",
    "list(range (10,-4,3))"
   ]
  },
  {
   "cell_type": "code",
   "execution_count": 26,
   "metadata": {},
   "outputs": [
    {
     "name": "stdout",
     "output_type": "stream",
     "text": [
      "5\n",
      "3\n",
      "1\n",
      "-1\n"
     ]
    }
   ],
   "source": [
    "for x in range(5,-3,-2):\n",
    "    print(x)"
   ]
  },
  {
   "cell_type": "code",
   "execution_count": null,
   "metadata": {},
   "outputs": [
    {
     "name": "stdout",
     "output_type": "stream",
     "text": [
      "3\n",
      "6\n",
      "8\n"
     ]
    }
   ],
   "source": [
    "#indices: 0 1 2\n",
    "for x in [3,6,8]:\n",
    "    print(x)"
   ]
  },
  {
   "cell_type": "code",
   "execution_count": 31,
   "metadata": {},
   "outputs": [
    {
     "data": {
      "text/plain": [
       "'lkjihgfe'"
      ]
     },
     "execution_count": 31,
     "metadata": {},
     "output_type": "execute_result"
    }
   ],
   "source": [
    "\"abcdefghijkl\"[-1:3:-1]"
   ]
  },
  {
   "attachments": {},
   "cell_type": "markdown",
   "metadata": {},
   "source": [
    "En ocasiones nos interesa iterar sobre la posición que tiene cada elemento dentro de un iterable. Para ello podemos combinar `range` con `len` dentro de las condiciones del bucle"
   ]
  },
  {
   "cell_type": "code",
   "execution_count": 22,
   "metadata": {},
   "outputs": [
    {
     "name": "stdout",
     "output_type": "stream",
     "text": [
      "rojo\n",
      "0\n",
      "verde\n",
      "1\n",
      "azul\n",
      "2\n"
     ]
    }
   ],
   "source": [
    "colores = [\"rojo\", \"verde\", \"azul\"]\n",
    "\n",
    "for i in range(len(colores)):\n",
    "    print(colores[i])\n",
    "    print(i)"
   ]
  },
  {
   "attachments": {},
   "cell_type": "markdown",
   "metadata": {},
   "source": [
    "### Función enumerate\n",
    "¿Y si dentro del bucle necesitamos tanto el elemento del iterable, como su índice? En [la documentación](https://www.w3schools.com/python/ref_func_enumerate.asp) verás que puedes elegir desde qué elemento de la lista quieres empezar."
   ]
  },
  {
   "cell_type": "code",
   "execution_count": 33,
   "metadata": {},
   "outputs": [
    {
     "name": "stdout",
     "output_type": "stream",
     "text": [
      "Nombre 0: Pedro\n",
      "Nombre 1: Mariano\n",
      "Nombre 2: Jose Luis\n"
     ]
    }
   ],
   "source": []
  },
  {
   "cell_type": "code",
   "execution_count": 35,
   "metadata": {},
   "outputs": [
    {
     "name": "stdout",
     "output_type": "stream",
     "text": [
      "(0, 'Pedro')\n",
      "(1, 'Mariano')\n",
      "(2, 'Jose Luis')\n"
     ]
    }
   ],
   "source": []
  },
  {
   "attachments": {},
   "cell_type": "markdown",
   "metadata": {},
   "source": [
    "<table align=\"left\">\n",
    " <tr><td width=\"80\"><img src=\"./img/error.png\" style=\"width:auto;height:auto\"></td>\n",
    "     <td style=\"text-align:left\">\n",
    "         <h3>ERRORES en los rangos</h3>\n",
    "         \n",
    " </td></tr>\n",
    "</table>"
   ]
  },
  {
   "attachments": {},
   "cell_type": "markdown",
   "metadata": {},
   "source": [
    "Mucho cuidado al escribir las condiciones del bucle. Lo primero, porque podríamos tener condiciones infinitas de ejecución que ni nosotros, ni nuestro ordenador lo deseamos. Y lo segundo porque si intentamos acceder a un índice de nuestro iterable que no existe, saltará un error. Veamos ejemplo"
   ]
  },
  {
   "cell_type": "code",
   "execution_count": 24,
   "metadata": {},
   "outputs": [
    {
     "name": "stdout",
     "output_type": "stream",
     "text": [
      "Nombre: Pedro\n",
      "Nombre: Mariano\n",
      "Nombre: Jose Luis\n"
     ]
    },
    {
     "ename": "IndexError",
     "evalue": "list index out of range",
     "output_type": "error",
     "traceback": [
      "\u001b[1;31m---------------------------------------------------------------------------\u001b[0m",
      "\u001b[1;31mIndexError\u001b[0m                                Traceback (most recent call last)",
      "\u001b[1;32m~\\AppData\\Local\\Temp/ipykernel_20108/3155973365.py\u001b[0m in \u001b[0;36m<module>\u001b[1;34m\u001b[0m\n\u001b[0;32m      2\u001b[0m \u001b[1;33m\u001b[0m\u001b[0m\n\u001b[0;32m      3\u001b[0m \u001b[1;32mfor\u001b[0m \u001b[0mi\u001b[0m \u001b[1;32min\u001b[0m \u001b[0mrange\u001b[0m\u001b[1;33m(\u001b[0m\u001b[1;36m4\u001b[0m\u001b[1;33m)\u001b[0m\u001b[1;33m:\u001b[0m\u001b[1;33m\u001b[0m\u001b[1;33m\u001b[0m\u001b[0m\n\u001b[1;32m----> 4\u001b[1;33m     \u001b[0mprint\u001b[0m\u001b[1;33m(\u001b[0m\u001b[1;34m\"Nombre:\"\u001b[0m\u001b[1;33m,\u001b[0m \u001b[0mnames\u001b[0m\u001b[1;33m[\u001b[0m\u001b[0mi\u001b[0m\u001b[1;33m]\u001b[0m\u001b[1;33m)\u001b[0m\u001b[1;33m\u001b[0m\u001b[1;33m\u001b[0m\u001b[0m\n\u001b[0m",
      "\u001b[1;31mIndexError\u001b[0m: list index out of range"
     ]
    }
   ],
   "source": []
  },
  {
   "attachments": {},
   "cell_type": "markdown",
   "metadata": {},
   "source": [
    "Es por ello que se recomienda dejar el código lo más \"en automático\" posible. Poner en el range la longitud del iterable no es una buena práctica, ¿Y si mañana el iterable tiene menos nombres? saltará error. ¿Y si tiene más? No los tendremos en cuenta en el for. Por ello es mejor usar `len`."
   ]
  },
  {
   "attachments": {},
   "cell_type": "markdown",
   "metadata": {},
   "source": [
    "<table align=\"left\">\n",
    " <tr><td width=\"80\"><img src=\"./img/ejercicio.png\" style=\"width:auto;height:auto\"></td>\n",
    "     <td style=\"text-align:left\">\n",
    "         <h3>Ejercicio bucle for</h3>\n",
    "\n",
    "Recorre la siguiente lista con un for, imprime únicamente los elementos múltiplos de 3, así como el índice que tengan dentro de la lista\n",
    "         \n",
    " </td></tr>\n",
    "</table>"
   ]
  },
  {
   "cell_type": "code",
   "execution_count": 26,
   "metadata": {},
   "outputs": [
    {
     "name": "stdout",
     "output_type": "stream",
     "text": [
      "3\n",
      "2\n",
      "6\n",
      "7\n",
      "6\n",
      "10\n",
      "3\n",
      "11\n",
      "9\n",
      "13\n"
     ]
    }
   ],
   "source": [
    "nums_bucle = [5, 7, 3, 4, 2, 4, 7, 6, 10, 1, 6, 3, 5, 9]\n"
   ]
  },
  {
   "attachments": {},
   "cell_type": "markdown",
   "metadata": {},
   "source": [
    "## 4. Bucle while\n",
    "Se trata de otra manera de implementar un bucle en programación. Los bucles tienen que ir siempre limitados. En el caso del `for`, le poníamos un número concreto de ejecuciones, según el iterable que estuviésemos recorriendo. Para el `while` es algo diferente. Tiene una **condición de ejecución**, que mientras que se cumpla (`True`), seguirá ejecutando una y otra vez. Por otro lado, el bucle tiene una **variable de ejecucón**, al igual que en el `for`, que se irá actualizando con cada vuelta, y es esa variable la que determina cuándo acaba el bucle.\n",
    "\n",
    "![imagen](./img/while-loop.png)"
   ]
  },
  {
   "attachments": {},
   "cell_type": "markdown",
   "metadata": {},
   "source": [
    "**Cuidado** con estos bucles ya que es muy fácil olvidarnos de actualiza la variable de ejecución, o equivocarnos en la condición de ejecución. Si esto ocurre el código se quedará corriendo hasta que detengamos el kernel (botón *interrupt the kernel*, arriba al lado del Run)\n",
    "\n",
    "Veamos un ejemplo."
   ]
  },
  {
   "cell_type": "code",
   "execution_count": 27,
   "metadata": {},
   "outputs": [
    {
     "name": "stdout",
     "output_type": "stream",
     "text": [
      "0\n",
      "1\n",
      "2\n",
      "3\n",
      "4\n"
     ]
    }
   ],
   "source": []
  },
  {
   "attachments": {},
   "cell_type": "markdown",
   "metadata": {},
   "source": [
    "La manera más habitual de implementar estos bucles es:\n",
    "1. Declaro la **variable de ejecución fuera del bucle**\n",
    "2. Establezco una **condición de ejecución** para determinar cuándo queremos que se pare el bucle.\n",
    "3. **Actualizo la variable de ejecución** en cada iteración del bucle.\n"
   ]
  },
  {
   "cell_type": "code",
   "execution_count": null,
   "metadata": {},
   "outputs": [],
   "source": [
    "# i = i + 1   i += 1\n",
    "# i %=5   i = i % 5\n",
    "# i -= 3\n",
    "\n",
    "i = 13\n",
    "i %= 5  # i = i % 5   --> 13 % 5  --> i = 3\n",
    "i //=5  # i = i // 5"
   ]
  },
  {
   "attachments": {},
   "cell_type": "markdown",
   "metadata": {},
   "source": [
    "## 5. Break/continue\n",
    "Son dos sentencias que podemo usar dentro de los bucles para evitar ejecutar código de más.\n",
    "\n",
    "### Break\n",
    "Se usa cuando queremos salir del bucle forzadamente. Imagina que eres una tienda y estás buscando con un for si al menos uno de los pedidos era un abrigo. Si has tenido 1000 pedidos, vas a tener que iterar sobre todos y mediante un `if`, comprobar si es un abrigo. Ahora bien, si el abrigo es el primer elemento de la lista, el `for` va a recorrer igualmente los otros 999 elementos, cuando no es necesario. Con un `break` podremos salirnos del bucle y continuar con el programa.\n",
    "\n",
    "![imagen](./img/break.jpg)"
   ]
  },
  {
   "cell_type": "code",
   "execution_count": 36,
   "metadata": {},
   "outputs": [
    {
     "name": "stdout",
     "output_type": "stream",
     "text": [
      "s\n",
      "t\n",
      "r\n",
      "Fin\n"
     ]
    }
   ],
   "source": []
  },
  {
   "attachments": {},
   "cell_type": "markdown",
   "metadata": {},
   "source": [
    "### Continue\n",
    "Esta sentencia se usa dentro de un bucle para indicarle que continue con el siguiente elemento del iterable. Al igual que con el `break`, nos sirve para evitar que se ejecute código de más. Volviendo al ejemplo anterior, si después de comprobar que tenemos un abrigo, hay 200 líneas más de código que se utiliza en otros casos, con un `continue` evitamos que se ejecute todo eso, hacemos lo que tengamos que hacer con el abrigo, y le decimos al bucle que pase al siguiente elemento, e ignore el resto del código.\n",
    "\n",
    "![imagen](./img/continue.jpg)"
   ]
  },
  {
   "cell_type": "code",
   "execution_count": 37,
   "metadata": {},
   "outputs": [
    {
     "name": "stdout",
     "output_type": "stream",
     "text": [
      "s\n",
      "t\n",
      "r\n",
      "n\n",
      "g\n",
      "Fin\n"
     ]
    }
   ],
   "source": []
  },
  {
   "attachments": {},
   "cell_type": "markdown",
   "metadata": {},
   "source": [
    "**Los bucles `for` y `while`, así como `break` y `continue`, son sentencias complicadas de entender, y si es la primera vez que programas te va a suponer un cambio en la manera de pensar y de solucionar problemas, por ello te recomiendo que cojas papel y boli y hagas los primeros ejercicios de bucles viendo las iteraciones una a una y calculando manualmente todas las opeaciones de dentro del bucle.**"
   ]
  },
  {
   "attachments": {},
   "cell_type": "markdown",
   "metadata": {},
   "source": [
    "## 6. Try/except\n",
    "¿Qué ocurre cuando hay un error en nuestro código? Se para toda la ejecución. Por muy buenos programadores que seamos, hay que contar siempre con que puede haber errores. Podemos llegar a controlarlos con sentencias `if/else`, por ejemplo si no sabemos muy bien los tipos de los datos, `if type(data) == float:` haces algo con floats, `else` haces otra cosa con otro tipo de datos, pero lo mejor es usar `try/except`.\n",
    "\n",
    "Ahora bien, si intuimos que el comportamiento de nuestro código puede ser algo impredecible, en programación podemos usar las sentencias `try/except` para capturar ese error, tomar decisiones, y que el código pueda continuar ejecutándose.\n",
    "\n",
    "La sintaxis es la siguiente:\n",
    "\n",
    "> ```Python\n",
    "> try:\n",
    ">     Código que puede contener errores\n",
    "> except:\n",
    ">     Qué hacer si nos encontramos con un error\n",
    "> ```"
   ]
  },
  {
   "cell_type": "code",
   "execution_count": 39,
   "metadata": {},
   "outputs": [
    {
     "ename": "NameError",
     "evalue": "name 'variable_' is not defined",
     "output_type": "error",
     "traceback": [
      "\u001b[1;31m---------------------------------------------------------------------------\u001b[0m",
      "\u001b[1;31mNameError\u001b[0m                                 Traceback (most recent call last)",
      "Cell \u001b[1;32mIn[39], line 1\u001b[0m\n\u001b[1;32m----> 1\u001b[0m \u001b[39mprint\u001b[39m(variable_)\n",
      "\u001b[1;31mNameError\u001b[0m: name 'variable_' is not defined"
     ]
    }
   ],
   "source": [
    "print(variable_)"
   ]
  },
  {
   "cell_type": "code",
   "execution_count": 40,
   "metadata": {},
   "outputs": [
    {
     "name": "stdout",
     "output_type": "stream",
     "text": [
      "El codigo tiene errores porque la variable 'variable_' no existe\n",
      "Continuo con el programa\n"
     ]
    }
   ],
   "source": [
    "try:\n",
    "  print(variable_)\n",
    "except:\n",
    "  print(\"El codigo tiene errores porque la variable 'variable_' no existe\")\n",
    "\n",
    "print(\"Continuo con el programa\")"
   ]
  },
  {
   "cell_type": "code",
   "execution_count": 42,
   "metadata": {},
   "outputs": [
    {
     "name": "stdout",
     "output_type": "stream",
     "text": [
      "otro\n"
     ]
    }
   ],
   "source": [
    "try:\n",
    "    lista = []\n",
    "    lista[0]\n",
    "except (ZeroDivisionError, NameError):\n",
    "    print(\"hola\")\n",
    "except:\n",
    "    print(\"otro\")"
   ]
  },
  {
   "attachments": {},
   "cell_type": "markdown",
   "metadata": {},
   "source": [
    "Hay un error en el código, pero no para el programa.\n",
    "\n",
    "Podemos ser un poco más específicos con los errores, y en función del tipo de error que nos de, tomaremos diferentes caminos"
   ]
  },
  {
   "cell_type": "code",
   "execution_count": 32,
   "metadata": {},
   "outputs": [
    {
     "name": "stdout",
     "output_type": "stream",
     "text": [
      "El codigo tiene errores porque la variable 'variable_' no existe\n",
      "<class 'NameError'>\n",
      "Parece ser que ha sido otro tipo de error\n"
     ]
    }
   ],
   "source": [
    "try:\n",
    "  print(variable_)\n",
    "except NameError:\n",
    "    print(\"El codigo tiene errores porque la variable 'variable_' no existe\")\n",
    "    print(NameError) # Tendremos tambien disponible el error, por si queremos manipularlo\n",
    "except:\n",
    "  print(\"Parece ser que ha sido otro tipo de error\")\n",
    "\n",
    "lista_ = [1,2,3]\n",
    "try:\n",
    "  print(lista_[5])\n",
    "except NameError:\n",
    "  print(\"El codigo tiene errores porque la variable 'variable_' no existe\")\n",
    "except:\n",
    "  print(\"Parece ser que ha sido otro tipo de error\")"
   ]
  },
  {
   "cell_type": "code",
   "execution_count": null,
   "metadata": {},
   "outputs": [],
   "source": [
    "texto = \"hola\"\n",
    "if len(texto) > 4:\n",
    "    print(\"son más de cuatro\")\n",
    " "
   ]
  },
  {
   "attachments": {},
   "cell_type": "markdown",
   "metadata": {},
   "source": [
    "## 7. Resumen"
   ]
  },
  {
   "cell_type": "code",
   "execution_count": null,
   "metadata": {},
   "outputs": [],
   "source": [
    "# If/elif/else\n",
    "mi_nota_de_examen = 7\n",
    "\n",
    "if mi_nota_de_examen < 5 :\n",
    "    print(\"A septiembre :(\")\n",
    "\n",
    "elif mi_nota_de_examen < 6 :\n",
    "    print(\"Suficiente\")\n",
    "    \n",
    "elif mi_nota_de_examen < 7 :\n",
    "    print(\"Bien\")\n",
    "    \n",
    "elif mi_nota_de_examen < 9 :\n",
    "    print(\"Notable\")\n",
    "    \n",
    "else:\n",
    "    print(\"Sobresaliente\")\n",
    "    \n",
    "    \n",
    "# Bucle for\n",
    "dias_semana = [\"Lunes\", \"Martes\", \"Miércoles\", \"Jueves\", \"Viernes\", \"Sábado\", \"Domingo\"]\n",
    "\n",
    "for dia in dias_semana:\n",
    "    print(dia)\n",
    "    \n",
    "    \n",
    "# Bucle while\n",
    "i = 0\n",
    "\n",
    "while(i < 5):\n",
    "    print(i)\n",
    "    i = i + 1\n",
    "    \n",
    "    \n",
    "# Break y continue\n",
    "for val in \"string\":\n",
    "    if val == \"i\":\n",
    "        break\n",
    "    print(val)\n",
    "\n",
    "print(\"Fin\")\n",
    "\n",
    "\n",
    "# Try/except\n",
    "try:\n",
    "  print(variable_)\n",
    "except:\n",
    "  print(\"El codigo tiene errores porque la variable 'variable_' no existe\")\n",
    "\n",
    "print(\"Continuo con el programa\")"
   ]
  },
  {
   "cell_type": "code",
   "execution_count": null,
   "metadata": {},
   "outputs": [],
   "source": [
    "# adivinar un número entre 1 y 10\n",
    "\n",
    "solucion = 3\n",
    "mensaje = \"adivina un número. Se sale con un 0: \"\n",
    "num_resp = int(input(mensaje))\n",
    "\n",
    "while(num_resp !=0):\n",
    "    if num_resp == solucion:\n",
    "        print(\"felicidades\")\n",
    "        break\n",
    "    num_resp = int(input(mensaje))\n",
    "\n",
    "print(\"adiós\")\n"
   ]
  },
  {
   "cell_type": "code",
   "execution_count": 1,
   "metadata": {},
   "outputs": [
    {
     "name": "stdout",
     "output_type": "stream",
     "text": [
      "hola\n",
      "hola\n",
      "hola\n",
      "hola\n",
      "hola\n"
     ]
    }
   ],
   "source": [
    "\n",
    "contador = 0\n",
    "while(contador < 5):\n",
    "    print(\"hola\")\n",
    "    contador = contador + 1\n"
   ]
  },
  {
   "cell_type": "code",
   "execution_count": null,
   "metadata": {},
   "outputs": [
    {
     "name": "stdout",
     "output_type": "stream",
     "text": [
      "0 1 2 \n",
      "0 1 2 \n",
      "0 1 2 \n"
     ]
    }
   ],
   "source": [
    "for a in range(3): # 0, 1, 2\n",
    "    for b in range(3): # 0, 1, 2\n",
    "        print(b, end= \" \")\n",
    "    print()"
   ]
  }
 ],
 "metadata": {
  "kernelspec": {
   "display_name": "Python 3",
   "language": "python",
   "name": "python3"
  },
  "language_info": {
   "codemirror_mode": {
    "name": "ipython",
    "version": 3
   },
   "file_extension": ".py",
   "mimetype": "text/x-python",
   "name": "python",
   "nbconvert_exporter": "python",
   "pygments_lexer": "ipython3",
   "version": "3.13.3"
  }
 },
 "nbformat": 4,
 "nbformat_minor": 4
}

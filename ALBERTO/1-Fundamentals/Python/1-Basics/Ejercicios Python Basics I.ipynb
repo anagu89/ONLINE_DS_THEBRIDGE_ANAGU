{
 "cells": [
  {
   "cell_type": "markdown",
   "metadata": {},
   "source": [
    "![imagen](./img/ejercicios.png)"
   ]
  },
  {
   "cell_type": "markdown",
   "metadata": {},
   "source": [
    "# Ejercicios Python Basics I"
   ]
  },
  {
   "cell_type": "markdown",
   "metadata": {},
   "source": [
    "## Ejercicio 1\n",
    "Imprime por pantalla esta cita con el siguiente formato\n",
    "\n",
    "![imagen](./img/frase_Einstein.PNG)"
   ]
  },
  {
   "cell_type": "code",
   "execution_count": 3,
   "metadata": {},
   "outputs": [
    {
     "name": "stdout",
     "output_type": "stream",
     "text": [
      "¿Por qué esta magnífica tecnología científica,\n",
      "\tque ahorra trabajo y nos hace la vida mas fácil,\n",
      "\t\tnos aporta tan poca felicidad?\n",
      "\t\t\tLa repuesta es está, simplemente: porque aún no hemos aprendido a usarla con tino.\n",
      " \"Albert Einstein\" \n"
     ]
    }
   ],
   "source": [
    "cita = \"¿Por qué esta magnífica tecnología científica,\\n\\tque ahorra trabajo y nos hace la vida mas fácil,\\n\\t\\tnos aporta tan poca felicidad?\\n\\t\\t\\tLa repuesta es está, simplemente: porque aún no hemos aprendido a usarla con tino.\\n \\\"Albert Einstein\\\" \"\n",
    "print(cita)\n"
   ]
  },
  {
   "cell_type": "code",
   "execution_count": 2,
   "metadata": {},
   "outputs": [
    {
     "name": "stdout",
     "output_type": "stream",
     "text": [
      "¿Por qué esta magnífica tecnología científica,\n",
      "\tque ahorra trabajo y nos hace la vida mas fácil,\n",
      "\t\tnos aporta tan poca felicidad?\n",
      "\t\t\tLa repuesta es está, simplemente: porque aún no hemos aprendido a usarla con tino.\n",
      " \"Albert Einstein\" \n"
     ]
    }
   ],
   "source": [
    "cita2 = \"\"\"¿Por qué esta magnífica tecnología científica,\n",
    "\tque ahorra trabajo y nos hace la vida mas fácil,\n",
    "\t\tnos aporta tan poca felicidad?\n",
    "\t\t\tLa repuesta es está, simplemente: porque aún no hemos aprendido a usarla con tino.\n",
    " \"Albert Einstein\" \"\"\"\n",
    "\n",
    "print(cita2)"
   ]
  },
  {
   "cell_type": "markdown",
   "metadata": {},
   "source": [
    "## Ejercicio 2\n",
    "1. Escribe el nombre de la calle de tu domicilio\n",
    "2. Escribe el numero de la calle en otra\n",
    "3. Población en una tercera\n",
    "4. Codigo postal en la cuarta variable\n",
    "5. Crea una quinta variable que concatene todas ellas\n",
    "6. Imprimela por pantalla"
   ]
  },
  {
   "cell_type": "code",
   "execution_count": 7,
   "metadata": {},
   "outputs": [
    {
     "name": "stdout",
     "output_type": "stream",
     "text": [
      "Fernández 1 Ceuta 51001\n"
     ]
    }
   ],
   "source": [
    "# Los espacios en la concatenación de cadenas cómo se muestran en pantalla\n",
    "\n",
    "calle = \"Fernández\"\n",
    "numero = \"1\"\n",
    "poblacion = \"Ceuta\"\n",
    "codigo = \"51001\"\n",
    "\n",
    "direccion = calle + \" \" + numero + \" \" + poblacion + \" \" + codigo\n",
    "print(direccion)"
   ]
  },
  {
   "cell_type": "markdown",
   "metadata": {},
   "source": [
    "## Ejercicio 3\n",
    "Replica el output del ejercicio dos, pero está vez sin usar una variable intermedia que concatene todas las demas. Realiza este ejercicio en una línea, con un  único `print`"
   ]
  },
  {
   "cell_type": "code",
   "execution_count": 8,
   "metadata": {},
   "outputs": [
    {
     "name": "stdout",
     "output_type": "stream",
     "text": [
      "Fernández 1 Ceuta 51001\n"
     ]
    }
   ],
   "source": [
    "calle = \"Fernández\"\n",
    "numero = \"1\"\n",
    "poblacion = \"Ceuta\"\n",
    "codigo = \"51001\"\n",
    "\n",
    "print(f\"{calle} {numero} {poblacion} {codigo}\")"
   ]
  },
  {
   "cell_type": "markdown",
   "metadata": {},
   "source": [
    "## Ejercicio 4\n",
    "¿Qué variables están mal escritas y por qué? Realiza primero tu hipótesis y luego ejecuta las variables para comprobarlo. En ese orden :)\n",
    "\n",
    "\n",
    "1. mi_variable = \"Economía\"\n",
    "2. otra_var = \"Ejercicio\n",
    "3. True = \"Ejercicio\"\n",
    "4. mi variab1e = \"Alpha\"\n",
    "5. exec = True\n",
    "6. import = 40\n",
    "7. 81mi_variable = \"Agua\"\n",
    "8. mi_variable10 = 6\n"
   ]
  },
  {
   "cell_type": "code",
   "execution_count": 10,
   "metadata": {},
   "outputs": [],
   "source": [
    "mi_variable = \"Economía\""
   ]
  },
  {
   "cell_type": "code",
   "execution_count": 11,
   "metadata": {},
   "outputs": [
    {
     "ename": "SyntaxError",
     "evalue": "unterminated string literal (detected at line 1) (2321243332.py, line 1)",
     "output_type": "error",
     "traceback": [
      "  \u001b[36mCell\u001b[39m\u001b[36m \u001b[39m\u001b[32mIn[11]\u001b[39m\u001b[32m, line 1\u001b[39m\n\u001b[31m    \u001b[39m\u001b[31motra_var = \"Ejercicio\u001b[39m\n               ^\n\u001b[31mSyntaxError\u001b[39m\u001b[31m:\u001b[39m unterminated string literal (detected at line 1)\n"
     ]
    }
   ],
   "source": [
    "otra_var = \"Ejercicio \n",
    "# falta comillas dobles al final de la cadena\""
   ]
  },
  {
   "cell_type": "code",
   "execution_count": 14,
   "metadata": {},
   "outputs": [
    {
     "ename": "SyntaxError",
     "evalue": "cannot assign to True (872465193.py, line 1)",
     "output_type": "error",
     "traceback": [
      "  \u001b[36mCell\u001b[39m\u001b[36m \u001b[39m\u001b[32mIn[14]\u001b[39m\u001b[32m, line 1\u001b[39m\n\u001b[31m    \u001b[39m\u001b[31mTrue = \"Ejercicio\"\u001b[39m\n    ^\n\u001b[31mSyntaxError\u001b[39m\u001b[31m:\u001b[39m cannot assign to True\n"
     ]
    }
   ],
   "source": [
    "True = \"Ejercicio\"\n",
    "# True no puede ser usado como nombre de variable"
   ]
  },
  {
   "cell_type": "code",
   "execution_count": 15,
   "metadata": {},
   "outputs": [
    {
     "ename": "SyntaxError",
     "evalue": "invalid syntax (2979346373.py, line 1)",
     "output_type": "error",
     "traceback": [
      "  \u001b[36mCell\u001b[39m\u001b[36m \u001b[39m\u001b[32mIn[15]\u001b[39m\u001b[32m, line 1\u001b[39m\n\u001b[31m    \u001b[39m\u001b[31mmi variab1e = \"Alpha\"\u001b[39m\n       ^\n\u001b[31mSyntaxError\u001b[39m\u001b[31m:\u001b[39m invalid syntax\n"
     ]
    }
   ],
   "source": [
    "mi variab1e = \"Alpha\"\n",
    "# no es válida porque tiene espacios"
   ]
  },
  {
   "cell_type": "code",
   "execution_count": 16,
   "metadata": {},
   "outputs": [],
   "source": [
    "exec = True"
   ]
  },
  {
   "cell_type": "code",
   "execution_count": 17,
   "metadata": {},
   "outputs": [
    {
     "ename": "SyntaxError",
     "evalue": "invalid syntax (359741767.py, line 1)",
     "output_type": "error",
     "traceback": [
      "  \u001b[36mCell\u001b[39m\u001b[36m \u001b[39m\u001b[32mIn[17]\u001b[39m\u001b[32m, line 1\u001b[39m\n\u001b[31m    \u001b[39m\u001b[31mimport = 40\u001b[39m\n           ^\n\u001b[31mSyntaxError\u001b[39m\u001b[31m:\u001b[39m invalid syntax\n"
     ]
    }
   ],
   "source": [
    "import = 40\n",
    "# import es una palabra reservada"
   ]
  },
  {
   "cell_type": "code",
   "execution_count": 18,
   "metadata": {},
   "outputs": [
    {
     "ename": "SyntaxError",
     "evalue": "invalid decimal literal (346739435.py, line 1)",
     "output_type": "error",
     "traceback": [
      "  \u001b[36mCell\u001b[39m\u001b[36m \u001b[39m\u001b[32mIn[18]\u001b[39m\u001b[32m, line 1\u001b[39m\n\u001b[31m    \u001b[39m\u001b[31m81mi_variable = \"Agua\"\u001b[39m\n     ^\n\u001b[31mSyntaxError\u001b[39m\u001b[31m:\u001b[39m invalid decimal literal\n"
     ]
    }
   ],
   "source": [
    "81mi_variable = \"Agua\"\n",
    "# no es válido porque empieza con un número"
   ]
  },
  {
   "cell_type": "code",
   "execution_count": 19,
   "metadata": {},
   "outputs": [],
   "source": [
    "mi_variable10 = 6"
   ]
  },
  {
   "cell_type": "markdown",
   "metadata": {},
   "source": [
    "## Ejercicio 5\n",
    "Realiza un conversor de grados Celsius a Fahrenheit. El conversor tiene que recibir el input del usuario y devolver la conversión.\n",
    "\n",
    "La conversión de grados sigue la siguiente fórmula: F = (C × 9 / 5) + 32 "
   ]
  },
  {
   "cell_type": "code",
   "execution_count": 21,
   "metadata": {},
   "outputs": [
    {
     "name": "stdout",
     "output_type": "stream",
     "text": [
      "23.0 grados Celsius son 73.4 grados Fahrenheit\n"
     ]
    }
   ],
   "source": [
    "grados = input(\"Introduce los grados Celsius: \")\n",
    "# como lo que le introduzo es un str, debo pasarlo a float para hacer la operación\n",
    "grados = float(grados)\n",
    "farenheit = (grados * 9 / 5) + 32\n",
    "print(f\"{grados} grados Celsius son {farenheit} grados Fahrenheit\")"
   ]
  },
  {
   "cell_type": "markdown",
   "metadata": {},
   "source": [
    "## Ejercicio 6\n",
    "Comenta en la medida de lo posible el Ejercicio 5. Será suficiente con poner al menos un comentario de línea, y otro multilínea"
   ]
  },
  {
   "cell_type": "code",
   "execution_count": 22,
   "metadata": {},
   "outputs": [
    {
     "data": {
      "text/plain": [
       "'Con este programa\\nvamos a convertir los grados,\\nteniendo en cuenta que introducimos str\\ny debo pasarlo a float.'"
      ]
     },
     "execution_count": 22,
     "metadata": {},
     "output_type": "execute_result"
    }
   ],
   "source": [
    "# Convesor de grados a farenheit\n",
    "'''Con este programa\n",
    "vamos a convertir los grados,\n",
    "teniendo en cuenta que introducimos str\n",
    "y debo pasarlo a float.'''"
   ]
  }
 ],
 "metadata": {
  "kernelspec": {
   "display_name": "Python 3",
   "language": "python",
   "name": "python3"
  },
  "language_info": {
   "codemirror_mode": {
    "name": "ipython",
    "version": 3
   },
   "file_extension": ".py",
   "mimetype": "text/x-python",
   "name": "python",
   "nbconvert_exporter": "python",
   "pygments_lexer": "ipython3",
   "version": "3.13.3"
  }
 },
 "nbformat": 4,
 "nbformat_minor": 4
}

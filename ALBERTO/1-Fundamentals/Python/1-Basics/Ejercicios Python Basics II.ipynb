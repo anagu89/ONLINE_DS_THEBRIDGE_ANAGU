{
 "cells": [
  {
   "attachments": {},
   "cell_type": "markdown",
   "metadata": {},
   "source": [
    "![imagen](./img/ejercicios.png)"
   ]
  },
  {
   "attachments": {},
   "cell_type": "markdown",
   "metadata": {},
   "source": [
    "# Ejercicios Python Basics II"
   ]
  },
  {
   "attachments": {},
   "cell_type": "markdown",
   "metadata": {},
   "source": [
    "## Ejercicio 1\n",
    "* Crea dos variables numericas: un `int` y un `float`\n",
    "* Comprueba sus tipos\n",
    "* Sumalas en otra nueva\n",
    "* ¿De qué tipo es la nueva variable?\n",
    "* Elimina las dos primeras variables creadas"
   ]
  },
  {
   "cell_type": "code",
   "execution_count": 3,
   "metadata": {},
   "outputs": [
    {
     "name": "stdout",
     "output_type": "stream",
     "text": [
      "2\n",
      "<class 'int'>\n",
      "4.3\n",
      "<class 'float'>\n",
      "6.3\n",
      "<class 'float'>\n"
     ]
    }
   ],
   "source": [
    "numero_entero = 2\n",
    "numero_float = 4.3\n",
    "\n",
    "print(numero_entero)\n",
    "print(type(numero_entero))\n",
    "\n",
    "print(numero_float)\n",
    "print(type(numero_float))\n",
    "\n",
    "suma_numeros = numero_entero + numero_float\n",
    "print(suma_numeros)\n",
    "print(type(suma_numeros))\n",
    "\n",
    "del numero_entero\n",
    "del numero_float"
   ]
  },
  {
   "attachments": {},
   "cell_type": "markdown",
   "metadata": {},
   "source": [
    "## Ejercicio 2\n",
    "Escribe un programa para pasar de grados a radianes. Hay que usar `input`. Recuerda que la conversión se realiza mediante\n",
    "\n",
    "radianes = grados*(pi/180)"
   ]
  },
  {
   "cell_type": "code",
   "execution_count": 3,
   "metadata": {},
   "outputs": [
    {
     "name": "stdout",
     "output_type": "stream",
     "text": [
      "23.0 grados son 0.4014257279586958 radianes\n"
     ]
    }
   ],
   "source": [
    "grados = input(\"Introduce los grados a convertir a radianes: \")\n",
    "\n",
    "# CONVERTIMOS EL STR A FLOAT!!\n",
    "grados = float(grados)\n",
    "import math\n",
    "numero_pi = math.pi\n",
    "\n",
    "radianes = grados * (numero_pi / 180)\n",
    "print(f\"{grados} grados son {radianes} radianes\")"
   ]
  },
  {
   "attachments": {},
   "cell_type": "markdown",
   "metadata": {},
   "source": [
    "## Ejercicio 3\n",
    "Escribe un programa que calcule el area de un paralelogramo (base x altura). También con `input`"
   ]
  },
  {
   "cell_type": "code",
   "execution_count": 5,
   "metadata": {},
   "outputs": [
    {
     "name": "stdout",
     "output_type": "stream",
     "text": [
      "El área del triángulo con base 4.0 y 6.0 es: 12.0\n"
     ]
    }
   ],
   "source": [
    "base = input(\"base: \")\n",
    "base = float(base)\n",
    "\n",
    "altura = input(\"altura: \")\n",
    "altura = float(altura)\n",
    "\n",
    "area = (base * altura) / 2\n",
    "print(f\"El área del triángulo con base {base} y {altura} es: {area}\")"
   ]
  },
  {
   "attachments": {},
   "cell_type": "markdown",
   "metadata": {},
   "source": [
    "## Ejercicio 4\n",
    "Tenemos las siguientes variables:\n",
    "\n",
    "```Python\n",
    "A = 4\n",
    "B = \"Text\"\n",
    "C = 4.1\n",
    "```\n",
    "\n",
    "Comprueba:\n",
    "1. Si A y B son equivalentes\n",
    "2. Si A y C NO son equivalentes\n",
    "3. Si A es mayor que C \n",
    "4. Si C es menor o igual que A\n",
    "5. Si B NO es equivalente a C"
   ]
  },
  {
   "cell_type": "code",
   "execution_count": 9,
   "metadata": {},
   "outputs": [
    {
     "name": "stdout",
     "output_type": "stream",
     "text": [
      "False\n",
      "True\n",
      "False\n",
      "False\n",
      "True\n"
     ]
    }
   ],
   "source": [
    "A = 4\n",
    "B = \"Text\"\n",
    "C = 4.1\n",
    "\n",
    "test1 = (A == B)\n",
    "test2 = (A != C)\n",
    "test3 = (A > C)\n",
    "test4 = (C <= A)\n",
    "test5 = (B != C)\n",
    "\n",
    "print(test1)\n",
    "print(test2)\n",
    "print(test3)\n",
    "print(test4)\n",
    "print(test5)"
   ]
  },
  {
   "attachments": {},
   "cell_type": "markdown",
   "metadata": {},
   "source": [
    "## Ejercicio 5\n",
    "Crea un programa donde se recojan dos inputs del usuario, y el output del programa sea si esos inputs son iguales o no"
   ]
  },
  {
   "cell_type": "code",
   "execution_count": null,
   "metadata": {},
   "outputs": [
    {
     "name": "stdout",
     "output_type": "stream",
     "text": [
      "False\n"
     ]
    }
   ],
   "source": [
    "# normalmente siempre pasos los INPUTS DE STR A FLOAT porque pido números pero en este caso no lo necesito\n",
    "\n",
    "entrada1 = input(\"entrada 1: \")\n",
    "entrada2 = input(\"entrada 2: \")\n",
    "\n",
    "solucion = (entrada1 == entrada2)\n",
    "print(solucion)"
   ]
  },
  {
   "attachments": {},
   "cell_type": "markdown",
   "metadata": {},
   "source": [
    "## Ejercicio 6\n",
    "Mismo programa que en 5, pero en esta ocasión tienen que ser tres inputs y dos salidas. Una de las salidas que nos indique si todos son iguales, y la otra si al menos dos inputs sí que lo son"
   ]
  },
  {
   "cell_type": "code",
   "execution_count": null,
   "metadata": {},
   "outputs": [
    {
     "name": "stdout",
     "output_type": "stream",
     "text": [
      "False\n",
      "False\n"
     ]
    }
   ],
   "source": [
    "# normalmente siempre pasos los INPUTS DE STR A FLOAT porque pido números pero en este caso no lo necesito\n",
    "\n",
    "entrada1 = input(\"entrada 1: \")\n",
    "entrada2 = input(\"entrada 2: \")\n",
    "entrada3 = input(\"entrada 3: \")\n",
    "\n",
    "solucion1 = (entrada1 == entrada2 == entrada3)\n",
    "solucion2 = (entrada1 == entrada2) or (entrada2 == entrada3) or (entrada1 == entrada3)\n",
    "\n",
    "print(solucion1)\n",
    "print(solucion2)"
   ]
  },
  {
   "attachments": {},
   "cell_type": "markdown",
   "metadata": {},
   "source": [
    "## Ejercicio 7\n",
    "Crea un programa que recoja dos inputs. Tiene que comprobar si su suma es igual, superior o inferior a 10"
   ]
  },
  {
   "cell_type": "code",
   "execution_count": 18,
   "metadata": {},
   "outputs": [
    {
     "name": "stdout",
     "output_type": "stream",
     "text": [
      "La suma de 4.0 y 5.0 es: 9.0, menor que 10\n"
     ]
    }
   ],
   "source": [
    "# NO OLVIDAR PASAR DE STR A FLOAT CUANDO PIDA NUMEROS!!\n",
    "\n",
    "numero1 = input(\"numero 1: \")\n",
    "numero2 = input(\"numero 2: \")\n",
    "\n",
    "numero1 = float(numero1)\n",
    "numero2 = float(numero2)\n",
    "\n",
    "suma = numero1 + numero2\n",
    "\n",
    "if suma > 10:\n",
    "    print(f\"La suma de {numero1} y {numero2} es: {suma}, mayor que 10\")\n",
    "elif suma < 10:\n",
    "    print(f\"La suma de {numero1} y {numero2} es: {suma}, menor que 10\")\n",
    "else:\n",
    "    print(f\"La suma de {numero1} y {numero2} es: {suma}, igual a 10\")"
   ]
  },
  {
   "attachments": {},
   "cell_type": "markdown",
   "metadata": {},
   "source": [
    "## Ejercicio 8\n",
    "Razona sin ejecutar código el output que obtendremos de las siguientes sentencias\n",
    "1. True and True and False\n",
    "2. not ((True or False) and (True or False))\n",
    "3. (False or False or False or True) and False\n",
    "4. not False and True and not True"
   ]
  },
  {
   "cell_type": "code",
   "execution_count": 23,
   "metadata": {},
   "outputs": [
    {
     "name": "stdout",
     "output_type": "stream",
     "text": [
      "False\n",
      "False\n",
      "False\n",
      "False\n"
     ]
    }
   ],
   "source": [
    "# 1. True and True and False \n",
    "test1 = True and True and False\n",
    "print(test1)\n",
    "\n",
    "# 2. not ((True or False) and (True or False)) = not (T and T) =  F\n",
    "test2 = not ((True or False) and (True or False))\n",
    "print(test2)\n",
    "\n",
    "# 3. (False or False or False or True) and False = T and F = F\n",
    "test3 = (False or False or False or True) and False\n",
    "print(test3)\n",
    "\n",
    "# 4. not False and True and not True\n",
    "test4 = not False and True and not True\n",
    "print(test4)"
   ]
  },
  {
   "attachments": {},
   "cell_type": "markdown",
   "metadata": {},
   "source": [
    "## Ejercicio 9\n",
    "Para este ejercicio vamos a poner en práctica [las funciones built in](https://docs.python.org/3/library/functions.html).\n",
    "\n",
    "1. Calcula el máximo de la lista: [4, 6, 8, -1]\n",
    "2. Suma todos los elementos de la lista anterior\n",
    "3. Redondea este float a 3 dígitos decimales: 63.451256965\n",
    "4. Valor absoluto de: -74"
   ]
  },
  {
   "cell_type": "code",
   "execution_count": null,
   "metadata": {},
   "outputs": [
    {
     "name": "stdout",
     "output_type": "stream",
     "text": [
      "Mi lista tiene 4 elementos\n",
      "La suma de los elementos de la lista es: 17\n",
      "63.451\n",
      "74\n"
     ]
    }
   ],
   "source": [
    "lista = [4, 6, 8, -1]\n",
    "suma = 0\n",
    "\n",
    "len(lista)  # Devuelve la longitud de la lista\n",
    "print(\"Mi lista tiene\", len(lista), \"elementos\")\n",
    "\n",
    "for numero in lista:\n",
    "    suma = suma + numero\n",
    "\n",
    "print(\"La suma de los elementos de la lista es:\", suma)\n",
    "# este print lo pongo fuera del FOR para que no me lo esté imprimiendo en cada iteración\n",
    "\n",
    "numero_float = 63.451256965\n",
    "print(round(numero_float, 3))  # Redondea a 3 decimales\n",
    "\n",
    "numero_absoluto = -74\n",
    "print(abs(numero_absoluto))  # Devuelve el valor absoluto del número"
   ]
  },
  {
   "attachments": {},
   "cell_type": "markdown",
   "metadata": {},
   "source": [
    "## Ejercicio 10\n",
    "Para el siguiente string se pide imprimir por pantalla los siguientes casos\n",
    "\n",
    "    \"En un lugar de la Mancha, de cuyo nombre no quiero acordarme.\"\n",
    "\n",
    "1. Pásalo todo a mayúsculas\n",
    "2. Pásalo todo a minúsculas\n",
    "3. Solo la primera letra de cada palabra en mayúscula, el resto en minúscula\n",
    "4. Crea una lista dividiéndolo por sus espacios\n",
    "5. Sustituye las comas `,` por puntos y comas `;`\n",
    "6. Elimina las `a` minúsculas"
   ]
  },
  {
   "cell_type": "code",
   "execution_count": 9,
   "metadata": {},
   "outputs": [
    {
     "name": "stdout",
     "output_type": "stream",
     "text": [
      "EN UN LUGAR DE LA MANCHA, DE CUYO NOMBRE NO QUIERO ACORDARME.\n",
      "en un lugar de la mancha, de cuyo nombre no quiero acordarme.\n",
      "En Un Lugar De La Mancha, De Cuyo Nombre No Quiero Acordarme.\n",
      "['En', 'un', 'lugar', 'de', 'la', 'Mancha,', 'de', 'cuyo', 'nombre', 'no', 'quiero', 'acordarme.']\n",
      "En un lugar de la Mancha; de cuyo nombre no quiero acordarme.\n",
      "En un lugr de l Mnch, de cuyo nombre no quiero cordrme.\n"
     ]
    }
   ],
   "source": []
  },
  {
   "cell_type": "code",
   "execution_count": 18,
   "metadata": {},
   "outputs": [
    {
     "name": "stdout",
     "output_type": "stream",
     "text": [
      "EN UN LUGAR DE LA MANCHA, DE CUYO NOMBRE NO QUIERO ACORDARME.\n",
      "en un lugar de la mancha, de cuyo nombre no quiero acordarme.\n",
      "En Un Lugar De La Mancha, De Cuyo Nombre No Quiero Acordarme.\n",
      "['En', 'un', 'lugar', 'de', 'la', 'Mancha,', 'de', 'cuyo', 'nombre', 'no', 'quiero', 'acordarme.']\n",
      "En un lugar de la Mancha; de cuyo nombre no quiero acordarme.\n",
      "En un lugr de l Mnch, de cuyo nombre no quiero cordrme.\n"
     ]
    }
   ],
   "source": [
    "quijote = \"En un lugar de la Mancha, de cuyo nombre no quiero acordarme.\"\n",
    "\n",
    "# 1. Pásalo todo a mayúsculas\n",
    "mayusculas = quijote.upper()\n",
    "print(mayusculas)\n",
    "\n",
    "# 2. Pásalo todo a minúsculas\n",
    "minusculas = quijote.lower()\n",
    "print(minusculas)\n",
    "\n",
    "# 3. Solo la primera letra de cada palabra en mayúscula, el resto en minúscula\n",
    "letras = quijote.title()\n",
    "print(letras)\n",
    "\n",
    "# 4. Crea una lista dividiéndolo por sus espacios\n",
    "separar = quijote.split(\" \")\n",
    "print(separar)\n",
    "\n",
    "# 5. Sustituye las comas `,` por puntos y comas `;`\n",
    "sustituir = quijote.replace(\",\",\";\")\n",
    "print(sustituir)\n",
    "\n",
    "# 6. Elimina las `a` minúsculas\n",
    "eliminar = quijote.replace(\"a\",\"\")\n",
    "print(eliminar)"
   ]
  },
  {
   "attachments": {},
   "cell_type": "markdown",
   "metadata": {},
   "source": [
    "## Ejercicio 11\n",
    "1. Crea una lista con 3 elementos numéricos\n",
    "2. Añade un cuarto elemento\n",
    "3. Calcula la suma de todos\n",
    "4. Elimina el segundo elemento de la lista\n",
    "5. Añade otro elemento en la posicion 3 de la lista\n",
    "6. Crea otra lista con 4 elementos y concaténala a la que ya tenías."
   ]
  },
  {
   "cell_type": "code",
   "execution_count": 10,
   "metadata": {},
   "outputs": [
    {
     "name": "stdout",
     "output_type": "stream",
     "text": [
      "10\n",
      "[2, 3, 4]\n",
      "[2, 3, 5, 4]\n",
      "[2, 3, 5, 4, 6, 7, 8, 9]\n"
     ]
    }
   ],
   "source": []
  },
  {
   "cell_type": "code",
   "execution_count": 23,
   "metadata": {},
   "outputs": [
    {
     "name": "stdout",
     "output_type": "stream",
     "text": [
      "[1, 2, 3]\n",
      "[1, 2, 3, 4]\n",
      "10\n",
      "[1, 3, 4]\n",
      "[1, 3, 37, 4]\n",
      "[1, 3, 37, 4, 10, 20, 30, 40]\n"
     ]
    }
   ],
   "source": [
    "# 1. Crea una lista con 3 elementos numéricos\n",
    "lista = [1, 2, 3]\n",
    "print(lista)\n",
    "\n",
    "# 2. Añade un cuarto elemento\n",
    "lista.append(4)\n",
    "print(lista)\n",
    "\n",
    "# 3. Calcula la suma de todos\n",
    "suma = 0\n",
    "for numero in lista:\n",
    "    suma = suma + numero\n",
    "print(suma)\n",
    "\n",
    "# 4. Elimina el segundo elemento de la lista\n",
    "# con POP para decir el índice, si uso REMOVE será el primero que se encuentre\n",
    "lista.pop(1)\n",
    "print(lista)\n",
    "\n",
    "# 5. Añade otro elemento en la posicion 3 de la lista\n",
    "# con APPEND se pone al final y con INSERT donde yo quiera\n",
    "lista.insert(2, 37)\n",
    "print(lista)\n",
    "\n",
    "# 6. Crea otra lista con 4 elementos y concaténala a la que ya tenías.\n",
    "lista2 = [10, 20, 30, 40]\n",
    "lista_final = lista + lista2\n",
    "print(lista_final)"
   ]
  }
 ],
 "metadata": {
  "kernelspec": {
   "display_name": "Python 3",
   "language": "python",
   "name": "python3"
  },
  "language_info": {
   "codemirror_mode": {
    "name": "ipython",
    "version": 3
   },
   "file_extension": ".py",
   "mimetype": "text/x-python",
   "name": "python",
   "nbconvert_exporter": "python",
   "pygments_lexer": "ipython3",
   "version": "3.13.3"
  }
 },
 "nbformat": 4,
 "nbformat_minor": 4
}

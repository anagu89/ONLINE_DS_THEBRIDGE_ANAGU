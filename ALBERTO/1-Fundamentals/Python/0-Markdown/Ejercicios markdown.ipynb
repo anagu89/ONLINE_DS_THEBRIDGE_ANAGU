{
 "cells": [
  {
   "attachments": {},
   "cell_type": "markdown",
   "metadata": {},
   "source": [
    "## Ejercicio\n",
    "Para este ejercicio vas a crear dos nuevos elementos que no hemos visto en la teoría: una tabla y una fórmula. Busca en la web la sintaxis y replica ambos elementos. Ojo con los espacios en blanco entre la tabla y la fórmula"
   ]
  },
  {
   "attachments": {},
   "cell_type": "markdown",
   "metadata": {},
   "source": [
    "<div style=\"text-align:center\"><img src=\"./img/md_ejercicio2_vsc.png\" /></div>"
   ]
  },
  {
   "cell_type": "markdown",
   "metadata": {},
   "source": [
    "Para centrarla lo meto en un bloque DIV y uso el align usando html.\n",
    "Las líneas de división puedo hacerlas poniendo varios guiones (--) o (:--)\n",
    "y no hace falta que esté perfecta, él solo la pone alineada.\n",
    "\n",
    "<div align = \"center\">\n",
    "\n",
    "| Ramp Up     | Data Analysis | Machine Learning | Data & Business  |\n",
    "|-------------|---------------|------------------|------------------|\n",
    "| Python      | EDA           | Supervised       | Productivización |\n",
    "| Estadística | R             | Nun supervised   | Storytelling     |\n",
    "| SQL         | Feat. Eng.    | Deep Learning    | API              |\n",
    "\n",
    "</div>\n",
    "\n",
    "<br>\n",
    "<br>\n",
    "\n",
    "$$\\sqrt{3x-1}+(1+x)^2$$\n",
    "\n",
    "El dólar es para poner la fórmula. Si pongo dos, se pone centrado.\n",
    "\n"
   ]
  }
 ],
 "metadata": {
  "kernelspec": {
   "display_name": "Python 3",
   "language": "python",
   "name": "python3"
  },
  "language_info": {
   "codemirror_mode": {
    "name": "ipython",
    "version": 3
   },
   "file_extension": ".py",
   "mimetype": "text/x-python",
   "name": "python",
   "nbconvert_exporter": "python",
   "pygments_lexer": "ipython3",
   "version": "3.13.3"
  },
  "vscode": {
   "interpreter": {
    "hash": "252189e587d1e2aeba4a06e91fa71896c7a7f6e22e918b9407c7cde4ef2d5985"
   }
  }
 },
 "nbformat": 4,
 "nbformat_minor": 4
}

{
 "cells": [
  {
   "cell_type": "code",
   "execution_count": null,
   "id": "9c483760",
   "metadata": {},
   "outputs": [
    {
     "data": {
      "text/plain": [
       "0    34\n",
       "1    36\n",
       "2    40\n",
       "3    92\n",
       "4    97\n",
       "dtype: int64"
      ]
     },
     "execution_count": 1,
     "metadata": {},
     "output_type": "execute_result"
    }
   ],
   "source": [
    "import numpy as np\n",
    "import pandas as pd\n",
    "\n",
    "edad = pd.Series([34, 36, 37, 92, 97])\n",
    "edad"
   ]
  },
  {
   "cell_type": "code",
   "execution_count": 2,
   "id": "1104296d",
   "metadata": {},
   "outputs": [
    {
     "data": {
      "text/plain": [
       "RangeIndex(start=0, stop=5, step=1)"
      ]
     },
     "execution_count": 2,
     "metadata": {},
     "output_type": "execute_result"
    }
   ],
   "source": [
    "edad.index"
   ]
  },
  {
   "cell_type": "code",
   "execution_count": 3,
   "id": "9d5cee9e",
   "metadata": {},
   "outputs": [
    {
     "data": {
      "text/plain": [
       "np.int64(70)"
      ]
     },
     "execution_count": 3,
     "metadata": {},
     "output_type": "execute_result"
    }
   ],
   "source": [
    "edad[0] + edad[1]"
   ]
  },
  {
   "cell_type": "code",
   "execution_count": null,
   "id": "7911f128",
   "metadata": {},
   "outputs": [
    {
     "name": "stdout",
     "output_type": "stream",
     "text": [
      "7    34\n",
      "3    36\n",
      "5    40\n",
      "6    92\n",
      "2    97\n",
      "dtype: int64\n",
      "--------------------\n",
      "0    34\n",
      "1    36\n",
      "2    40\n",
      "3    92\n",
      "4    97\n",
      "dtype: int64\n"
     ]
    }
   ],
   "source": [
    "edad = pd.Series([34, 36, 37, 92, 97], index = [7,3,5,6,2])\n",
    "print(edad)\n",
    "print(\"-\"*20)\n",
    "edad = pd.Series([34, 36, 37, 92, 97]) # index por defecto\n",
    "print(edad)"
   ]
  },
  {
   "cell_type": "code",
   "execution_count": 9,
   "id": "ea13054d",
   "metadata": {},
   "outputs": [
    {
     "name": "stdout",
     "output_type": "stream",
     "text": [
      "Lucía      34\n",
      "Ana        36\n",
      "Alberto    37\n",
      "Ángeles    92\n",
      "Andrés     97\n",
      "dtype: int64\n"
     ]
    }
   ],
   "source": [
    "edad = pd.Series([34, 36, 37, 92, 97], index = ['Lucía', 'Ana', 'Alberto', 'Ángeles', 'Andrés'])\n",
    "print(edad)"
   ]
  },
  {
   "cell_type": "code",
   "execution_count": 11,
   "id": "ba4f18ed",
   "metadata": {},
   "outputs": [
    {
     "data": {
      "text/plain": [
       "np.int64(36)"
      ]
     },
     "execution_count": 11,
     "metadata": {},
     "output_type": "execute_result"
    }
   ],
   "source": [
    "edad['Ana']"
   ]
  },
  {
   "cell_type": "code",
   "execution_count": null,
   "id": "3ac4436e",
   "metadata": {},
   "outputs": [
    {
     "data": {
      "text/plain": [
       "Ana        36\n",
       "Alberto    37\n",
       "dtype: int64"
      ]
     },
     "execution_count": 13,
     "metadata": {},
     "output_type": "execute_result"
    }
   ],
   "source": [
    "edad[['Ana', 'Alberto']] # accesing, DOS CORCHETES"
   ]
  },
  {
   "cell_type": "code",
   "execution_count": null,
   "id": "c676403c",
   "metadata": {},
   "outputs": [
    {
     "data": {
      "text/plain": [
       "Lucía      34\n",
       "Alberto    37\n",
       "Andrés     97\n",
       "dtype: int64"
      ]
     },
     "execution_count": 17,
     "metadata": {},
     "output_type": "execute_result"
    }
   ],
   "source": [
    "edad['Lucía':  : 2] # slicing, UN CORCHETE"
   ]
  },
  {
   "cell_type": "code",
   "execution_count": 18,
   "id": "f5c5f910",
   "metadata": {},
   "outputs": [
    {
     "data": {
      "text/plain": [
       "np.int64(37)"
      ]
     },
     "execution_count": 18,
     "metadata": {},
     "output_type": "execute_result"
    }
   ],
   "source": [
    "edad.loc[\"Alberto\"] # loc de localizar"
   ]
  },
  {
   "cell_type": "code",
   "execution_count": 19,
   "id": "bde999d6",
   "metadata": {},
   "outputs": [
    {
     "data": {
      "text/plain": [
       "Lucía      34\n",
       "Alberto    37\n",
       "Andrés     97\n",
       "dtype: int64"
      ]
     },
     "execution_count": 19,
     "metadata": {},
     "output_type": "execute_result"
    }
   ],
   "source": [
    "edad.loc['Lucía':  : 2]"
   ]
  },
  {
   "cell_type": "code",
   "execution_count": 20,
   "id": "b2b088f6",
   "metadata": {},
   "outputs": [
    {
     "data": {
      "text/plain": [
       "Alberto    37\n",
       "Andrés     97\n",
       "dtype: int64"
      ]
     },
     "execution_count": 20,
     "metadata": {},
     "output_type": "execute_result"
    }
   ],
   "source": [
    "# el iloc es contanto, mientras que el loc es por valor\n",
    "\n",
    "edad.iloc[2::2]"
   ]
  }
 ],
 "metadata": {
  "kernelspec": {
   "display_name": "Python 3",
   "language": "python",
   "name": "python3"
  },
  "language_info": {
   "codemirror_mode": {
    "name": "ipython",
    "version": 3
   },
   "file_extension": ".py",
   "mimetype": "text/x-python",
   "name": "python",
   "nbconvert_exporter": "python",
   "pygments_lexer": "ipython3",
   "version": "3.13.3"
  }
 },
 "nbformat": 4,
 "nbformat_minor": 5
}
